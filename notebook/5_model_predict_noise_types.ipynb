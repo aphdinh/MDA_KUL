{
 "cells": [
  {
   "cell_type": "code",
   "execution_count": null,
   "metadata": {},
   "outputs": [],
   "source": [
    "import pandas as pd\n",
    "import datetime as dt\n",
    "import numpy as np\n",
    "\n",
    "import seaborn as sns\n",
    "import matplotlib.pyplot as plt\n",
    "\n",
    "from sklearn.linear_model import PoissonRegressor\n",
    "from sklearn.compose import ColumnTransformer\n",
    "from sklearn.preprocessing import OneHotEncoder\n",
    "from sklearn.preprocessing import StandardScaler\n",
    "from sklearn.model_selection import KFold, GridSearchCV, RandomizedSearchCV\n",
    "from sklearn.metrics import mean_absolute_error, mean_squared_error\n",
    "\n",
    "import xgboost\n",
    "import os.path\n",
    "import pickle\n",
    "from scipy.stats import randint, uniform\n",
    "\n",
    "import random"
   ]
  },
  {
   "cell_type": "markdown",
   "metadata": {},
   "source": [
    "## Data Processing"
   ]
  },
  {
   "cell_type": "code",
   "execution_count": null,
   "metadata": {},
   "outputs": [],
   "source": [
    "### Merge data sets into one feature matrix\n",
    "\n",
    "air_data = pd.read_csv(\"../data/processed_air_quality_data.csv\")\n",
    "weather_data = pd.read_csv(\"../data/processed_weather_data_leuven.csv\")\n",
    "noise_file40 = pd.read_csv(\"../data/processed_file40_data.csv\")\n",
    "noise_file41 = pd.read_csv(\"../data/processed_file41_data.csv\")\n",
    "\n",
    "# Dropping unncessary index columns and location (object id = location)\n",
    "weather_data = weather_data.drop(\"Unnamed: 0\", axis=1)\n",
    "air_data = air_data.drop(\"Unnamed: 0\", axis=1)\n",
    "noise_file40 = noise_file40.drop([\"Unnamed: 0\", \"location\", \"result_timestamp\"], axis=1)\n",
    "noise_file41 = noise_file41.drop([\"Unnamed: 0\"], axis=1)\n",
    "\n",
    "full_df = weather_data.merge(air_data, on=[\"date\", \"hour\", \"month\", \"weekday\"])\n",
    "full_df = full_df.merge(noise_file40, on=[\"date\", \"hour\", \"month\", \"weekday\"])\n",
    "\n",
    "# Merge on object_id is important\n",
    "full_df = full_df.merge(\n",
    "    noise_file41, on=[\"date\", \"hour\", \"month\", \"weekday\", \"object_id\"]\n",
    ")"
   ]
  },
  {
   "cell_type": "code",
   "execution_count": null,
   "metadata": {},
   "outputs": [],
   "source": [
    "### Splitting into target_matrix and feature_matrix, train_set and test_set\n",
    "from sklearn.model_selection import train_test_split\n",
    "\n",
    "# Selecting targets, dropping laf_features\n",
    "target_list = [\n",
    "    \"Human voice - Shouting\",\n",
    "    \"Human voice - Singing\",\n",
    "    \"Music non-amplified\",\n",
    "    \"Nature elements - Wind\",\n",
    "    \"Transport road - Passenger car\",\n",
    "    \"Transport road - Siren\",\n",
    "]\n",
    "laf_features = [\n",
    "    \"laf005_per_hour\",\n",
    "    \"laf01_per_hour\",\n",
    "    \"laf05_per_hour\",\n",
    "    \"laf10_per_hour\",\n",
    "    \"laf25_per_hour\",\n",
    "    \"laf50_per_hour\",\n",
    "    \"laf75_per_hour\",\n",
    "    \"laf90_per_hour\",\n",
    "    \"laf95_per_hour\",\n",
    "    \"laf98_per_hour\",\n",
    "    \"laf99_per_hour\",\n",
    "    \"laf995_per_hour\",\n",
    "]\n",
    "feature_list = [\n",
    "    feature\n",
    "    for feature in full_df.columns\n",
    "    if feature not in target_list and feature not in laf_features\n",
    "]\n",
    "\n",
    "# Dropping date features\n",
    "date_features = [\"time\", \"date\", \"dt\", \"weathercode\"]\n",
    "for feature in date_features:\n",
    "    feature_list.remove(feature)\n",
    "\n",
    "# Splitting in train/test\n",
    "train_features, test_features, train_targets, test_targets = train_test_split(\n",
    "    full_df[feature_list], full_df[target_list], test_size=0.2, random_state=1337\n",
    ")"
   ]
  },
  {
   "cell_type": "markdown",
   "metadata": {},
   "source": [
    "## Pipeline "
   ]
  },
  {
   "cell_type": "code",
   "execution_count": null,
   "metadata": {},
   "outputs": [],
   "source": [
    "# Split in one_hot_var and numerical_var\n",
    "# Need to add winddirection transformation\n",
    "one_hot_var = [\"hour\", \"month\", \"weekday\", \"object_id\"]\n",
    "numerical_var = [col for col in train_features.columns if col not in one_hot_var]"
   ]
  },
  {
   "cell_type": "code",
   "execution_count": null,
   "metadata": {},
   "outputs": [],
   "source": [
    "t = ColumnTransformer(\n",
    "    transformers=[\n",
    "        (\"OneHot\", OneHotEncoder(handle_unknown=\"ignore\"), one_hot_var),\n",
    "        (\"StandardScaler\", StandardScaler(), numerical_var),\n",
    "    ]\n",
    ")\n",
    "\n",
    "# fit the encoder\n",
    "t.fit(train_features, train_targets)"
   ]
  },
  {
   "cell_type": "code",
   "execution_count": null,
   "metadata": {},
   "outputs": [],
   "source": [
    "# create pandas DataFrame from dense matrix\n",
    "# To array because we may run into version troubles otherwise\n",
    "X_train = pd.DataFrame(t.transform(train_features), columns=t.get_feature_names_out())\n",
    "\n",
    "X_val = pd.DataFrame(t.transform(test_features), columns=t.get_feature_names_out())"
   ]
  },
  {
   "cell_type": "markdown",
   "metadata": {},
   "source": [
    "## Model"
   ]
  },
  {
   "cell_type": "markdown",
   "metadata": {},
   "source": [
    "### XGB "
   ]
  },
  {
   "cell_type": "code",
   "execution_count": null,
   "metadata": {},
   "outputs": [],
   "source": [
    "if os.path.isfile(\"model/noise_types/XGB_dict\"):\n",
    "    print(\"Loaded old dictionary in model/noise_types/XGB_dict\")\n",
    "    params_dict = pickle.load(open(\"model/noise_types/XGB_dict\", \"rb\"))\n",
    "else:\n",
    "    model_params = {\n",
    "        \"xgboost\": {\n",
    "            \"model\": xgboost.XGBRegressor(),\n",
    "            \"params\": {\n",
    "                \"n_estimators\": randint(50, 100),\n",
    "                \"learning_rate\": uniform(0.01, 0.5),\n",
    "                \"max_depth\": randint(1, 10),\n",
    "                \"min_child_weight\": randint(1, 10),\n",
    "                \"gamma\": uniform(0, 1),\n",
    "                \"reg_alpha\": uniform(0, 1),\n",
    "                \"reg_lambda\": uniform(0, 1),\n",
    "            },\n",
    "        }\n",
    "    }\n",
    "    params_dict = {}\n",
    "    # Loop through each model in model_params and run RandomizedSearchCV\n",
    "    for model_name, model_info in model_params.items():\n",
    "        print(\"Running RandomizedSearchCV for {}...\".format(model_name))\n",
    "\n",
    "        # Create a RandomizedSearchCV object for the current model\n",
    "        model = model_info[\"model\"]\n",
    "        param_dist = model_info[\"params\"]\n",
    "        random_search = RandomizedSearchCV(\n",
    "            model,\n",
    "            param_distributions=param_dist,\n",
    "            n_iter=10,\n",
    "            cv=5,\n",
    "            n_jobs=1,\n",
    "            random_state=7,\n",
    "        )\n",
    "\n",
    "        # Fit the RandomizedSearchCV object to the data\n",
    "        random_search.fit(X_train, train_targets)\n",
    "\n",
    "        params_dict[model_name] = random_search.best_params_\n",
    "        print(\"Best parameters for {}: \".format(model_name), random_search.best_params_)\n",
    "        print(\"Best score for {}: \".format(model_name), random_search.best_score_)\n",
    "        print(\"\\n\")\n",
    "    pickle.dump(params_dict, open(\"model/noise_types/XGB_dict\", \"wb\"))"
   ]
  },
  {
   "cell_type": "code",
   "execution_count": null,
   "metadata": {},
   "outputs": [],
   "source": [
    "xgb_params = params_dict[\"xgboost\"]\n",
    "xgb = xgboost.XGBRegressor(**xgb_params, random_state=7)\n",
    "\n",
    "xgb.fit(X_train, train_targets)\n",
    "predict_val = xgb.predict(X_val)"
   ]
  },
  {
   "cell_type": "code",
   "execution_count": null,
   "metadata": {},
   "outputs": [],
   "source": [
    "round_predict = np.round(predict_val, 0)"
   ]
  },
  {
   "cell_type": "code",
   "execution_count": null,
   "metadata": {},
   "outputs": [],
   "source": [
    "fig, axs = plt.subplots(nrows=2, ncols=3, figsize=(12, 5))\n",
    "for col in range(0, 6):\n",
    "    if col in (0, 1, 2):\n",
    "        row = 0\n",
    "        i = col\n",
    "    else:\n",
    "        row = 1\n",
    "        i = col - 3\n",
    "    sns.scatterplot(\n",
    "        x=predict_val[:, col], y=test_targets.iloc[:, col], label=None, ax=axs[row, i]\n",
    "    )\n",
    "    axs[row, i].set_title(test_targets.columns[col])\n",
    "    axs[row, i].set_xlabel(\"Predictions\")\n",
    "    axs[row, i].set_ylabel(\"Observed\")\n",
    "# Formating\n",
    "fig.suptitle(\"Predict vs actual target by column\")\n",
    "\n",
    "plt.tight_layout()\n",
    "plt.show()"
   ]
  },
  {
   "cell_type": "markdown",
   "metadata": {},
   "source": [
    "## Poisson Regression"
   ]
  },
  {
   "cell_type": "code",
   "execution_count": null,
   "metadata": {},
   "outputs": [],
   "source": [
    "poisson_reg = PoissonRegressor(solver=\"newton-cholesky\", alpha=3)\n",
    "poisson_reg.fit(X_train, train_targets[\"Transport road - Passenger car\"])"
   ]
  },
  {
   "cell_type": "code",
   "execution_count": null,
   "metadata": {},
   "outputs": [],
   "source": [
    "model = PoissonRegressor()\n",
    "param_dist = {\"alpha\": randint(0, 50)}\n",
    "random_search = RandomizedSearchCV(\n",
    "    model, param_distributions=param_dist, n_iter=21, cv=5, n_jobs=1, random_state=7\n",
    ")\n",
    "random_search.fit(X_train, train_targets[\"Transport road - Passenger car\"])\n",
    "random_search.best_params_"
   ]
  },
  {
   "cell_type": "code",
   "execution_count": null,
   "metadata": {},
   "outputs": [],
   "source": [
    "train_preds = poisson_reg.predict(X_train)\n",
    "val_preds = poisson_reg.predict(X_val)\n",
    "train_val = xgb.predict(X_train)"
   ]
  },
  {
   "cell_type": "code",
   "execution_count": null,
   "metadata": {},
   "outputs": [],
   "source": [
    "# xgb MAE\n",
    "from sklearn.metrics import mean_absolute_error, mean_squared_error\n",
    "\n",
    "print(\n",
    "    \"Train RMSE:\",\n",
    "    np.sqrt(\n",
    "        mean_squared_error(\n",
    "            train_val[:, 4], train_targets[\"Transport road - Passenger car\"]\n",
    "        )\n",
    "    ),\n",
    ")\n",
    "print(\n",
    "    \"Val RMSE:\",\n",
    "    np.sqrt(\n",
    "        mean_squared_error(\n",
    "            predict_val[:, 4], test_targets[\"Transport road - Passenger car\"]\n",
    "        )\n",
    "    ),\n",
    ")\n",
    "print(\n",
    "    \"Train MAE:\",\n",
    "    mean_absolute_error(\n",
    "        train_val[:, 4], train_targets[\"Transport road - Passenger car\"]\n",
    "    ),\n",
    ")\n",
    "print(\n",
    "    \"Val MAE:\",\n",
    "    mean_absolute_error(\n",
    "        predict_val[:, 4], test_targets[\"Transport road - Passenger car\"]\n",
    "    ),\n",
    ")"
   ]
  },
  {
   "cell_type": "code",
   "execution_count": null,
   "metadata": {},
   "outputs": [],
   "source": [
    "print(\n",
    "    \"Train RMSE:\",\n",
    "    np.sqrt(\n",
    "        mean_squared_error(train_preds, train_targets[\"Transport road - Passenger car\"])\n",
    "    ),\n",
    ")\n",
    "print(\n",
    "    \"Val RMSE:\",\n",
    "    np.sqrt(\n",
    "        mean_squared_error(val_preds, test_targets[\"Transport road - Passenger car\"])\n",
    "    ),\n",
    ")\n",
    "print(\n",
    "    \"Train MAE:\",\n",
    "    mean_absolute_error(train_preds, train_targets[\"Transport road - Passenger car\"]),\n",
    ")\n",
    "print(\n",
    "    \"Val MAE:\",\n",
    "    mean_absolute_error(val_preds, test_targets[\"Transport road - Passenger car\"]),\n",
    ")"
   ]
  },
  {
   "cell_type": "code",
   "execution_count": null,
   "metadata": {},
   "outputs": [],
   "source": [
    "import matplotlib.pyplot as plt\n",
    "\n",
    "plt.scatter(val_preds, test_targets[\"Transport road - Passenger car\"])\n",
    "plt.xlabel(\"y pred\")\n",
    "plt.ylabel(\"y val\")"
   ]
  }
 ],
 "metadata": {
  "kernelspec": {
   "display_name": "Python 3 (ipykernel)",
   "language": "python",
   "name": "python3"
  },
  "language_info": {
   "codemirror_mode": {
    "name": "ipython",
    "version": 3
   },
   "file_extension": ".py",
   "mimetype": "text/x-python",
   "name": "python",
   "nbconvert_exporter": "python",
   "pygments_lexer": "ipython3",
   "version": "3.10.11"
  }
 },
 "nbformat": 4,
 "nbformat_minor": 2
}
