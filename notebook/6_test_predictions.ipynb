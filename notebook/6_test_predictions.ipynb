{
 "cells": [
  {
   "cell_type": "code",
   "execution_count": 1,
   "metadata": {},
   "outputs": [],
   "source": [
    "import json\n",
    "import requests\n",
    "from datetime import datetime, timedelta\n",
    "import pickle\n",
    "import xgboost\n",
    "import pandas as pd"
   ]
  },
  {
   "cell_type": "code",
   "execution_count": 2,
   "metadata": {},
   "outputs": [],
   "source": [
    "object_id_dict = {\n",
    "    255439: \"MP 01: Naamsestraat 35 Maxim\",\n",
    "    255440: \"MP 02: Naamsestraat 57 Xior\",\n",
    "    255441: \"MP 03: Naamsestraat 62 Taste\",\n",
    "    255442: \"MP 05: Calvariekapel KU Leuven\",\n",
    "    255443: \"MP 06: Parkstraat 2 La Filosovia\",\n",
    "    255444: \"MP 07: Naamsestraat 81\",\n",
    "    280324: \"MP08bis - Vrijthof\",\n",
    "}"
   ]
  },
  {
   "cell_type": "code",
   "execution_count": 3,
   "metadata": {},
   "outputs": [],
   "source": [
    "def get_forecast_hourly_weather():\n",
    "    url = \"https://api.open-meteo.com/v1/forecast?latitude=50.88&longitude=4.70&hourly=temperature_2m,relativehumidity_2m,dewpoint_2m,apparent_temperature,rain,showers,snowfall,weathercode,pressure_msl,surface_pressure,cloudcover,cloudcover_low,cloudcover_mid,cloudcover_high,evapotranspiration,et0_fao_evapotranspiration,vapor_pressure_deficit,windspeed_10m,winddirection_10m,windgusts_10m,shortwave_radiation,direct_radiation,diffuse_radiation,direct_normal_irradiance&models=best_match&timezone=Europe%2FBerlin\"\n",
    "    resp = requests.get(url)\n",
    "    data = resp.json()\n",
    "    df = pd.DataFrame(data[\"hourly\"])\n",
    "    return df\n",
    "\n",
    "\n",
    "def get_forecast_hourly_air():\n",
    "    url = \"https://air-quality-api.open-meteo.com/v1/air-quality?latitude=50.88&longitude=4.70&hourly=pm10,pm2_5,carbon_monoxide,nitrogen_dioxide,sulphur_dioxide,ozone,ammonia&timezone=Europe%2FBerlin\"\n",
    "    resp = requests.get(url)\n",
    "    data = resp.json()\n",
    "    df = pd.DataFrame(data[\"hourly\"])\n",
    "    return df"
   ]
  },
  {
   "cell_type": "code",
   "execution_count": 4,
   "metadata": {},
   "outputs": [],
   "source": [
    "# Get 4 days\n",
    "today = datetime.now().date()\n",
    "next_4_days = [today + timedelta(days=i) for i in range(4)]"
   ]
  },
  {
   "cell_type": "code",
   "execution_count": 5,
   "metadata": {},
   "outputs": [
    {
     "data": {
      "text/html": [
       "<div>\n",
       "<style scoped>\n",
       "    .dataframe tbody tr th:only-of-type {\n",
       "        vertical-align: middle;\n",
       "    }\n",
       "\n",
       "    .dataframe tbody tr th {\n",
       "        vertical-align: top;\n",
       "    }\n",
       "\n",
       "    .dataframe thead th {\n",
       "        text-align: right;\n",
       "    }\n",
       "</style>\n",
       "<table border=\"1\" class=\"dataframe\">\n",
       "  <thead>\n",
       "    <tr style=\"text-align: right;\">\n",
       "      <th></th>\n",
       "      <th>temperature_2m</th>\n",
       "      <th>relativehumidity_2m</th>\n",
       "      <th>dewpoint_2m</th>\n",
       "      <th>apparent_temperature</th>\n",
       "      <th>rain</th>\n",
       "      <th>snowfall</th>\n",
       "      <th>weathercode</th>\n",
       "      <th>pressure_msl</th>\n",
       "      <th>surface_pressure</th>\n",
       "      <th>cloudcover</th>\n",
       "      <th>...</th>\n",
       "      <th>pm2_5</th>\n",
       "      <th>co</th>\n",
       "      <th>no2</th>\n",
       "      <th>so2</th>\n",
       "      <th>o3</th>\n",
       "      <th>nh3</th>\n",
       "      <th>date</th>\n",
       "      <th>hour</th>\n",
       "      <th>month</th>\n",
       "      <th>weekday</th>\n",
       "    </tr>\n",
       "  </thead>\n",
       "  <tbody>\n",
       "    <tr>\n",
       "      <th>0</th>\n",
       "      <td>13.6</td>\n",
       "      <td>69</td>\n",
       "      <td>8.0</td>\n",
       "      <td>12.1</td>\n",
       "      <td>0.0</td>\n",
       "      <td>0.0</td>\n",
       "      <td>1</td>\n",
       "      <td>1020.7</td>\n",
       "      <td>1017.5</td>\n",
       "      <td>40</td>\n",
       "      <td>...</td>\n",
       "      <td>7.8</td>\n",
       "      <td>135.0</td>\n",
       "      <td>12.1</td>\n",
       "      <td>1.2</td>\n",
       "      <td>62.0</td>\n",
       "      <td>4.7</td>\n",
       "      <td>2023-06-03</td>\n",
       "      <td>0</td>\n",
       "      <td>6</td>\n",
       "      <td>Sat</td>\n",
       "    </tr>\n",
       "    <tr>\n",
       "      <th>1</th>\n",
       "      <td>12.8</td>\n",
       "      <td>74</td>\n",
       "      <td>8.3</td>\n",
       "      <td>11.4</td>\n",
       "      <td>0.0</td>\n",
       "      <td>0.0</td>\n",
       "      <td>2</td>\n",
       "      <td>1020.6</td>\n",
       "      <td>1017.4</td>\n",
       "      <td>44</td>\n",
       "      <td>...</td>\n",
       "      <td>8.6</td>\n",
       "      <td>140.0</td>\n",
       "      <td>15.4</td>\n",
       "      <td>0.9</td>\n",
       "      <td>54.0</td>\n",
       "      <td>5.7</td>\n",
       "      <td>2023-06-03</td>\n",
       "      <td>1</td>\n",
       "      <td>6</td>\n",
       "      <td>Sat</td>\n",
       "    </tr>\n",
       "    <tr>\n",
       "      <th>2</th>\n",
       "      <td>12.0</td>\n",
       "      <td>82</td>\n",
       "      <td>9.0</td>\n",
       "      <td>10.8</td>\n",
       "      <td>0.0</td>\n",
       "      <td>0.0</td>\n",
       "      <td>0</td>\n",
       "      <td>1020.9</td>\n",
       "      <td>1017.7</td>\n",
       "      <td>48</td>\n",
       "      <td>...</td>\n",
       "      <td>10.2</td>\n",
       "      <td>149.0</td>\n",
       "      <td>14.0</td>\n",
       "      <td>0.7</td>\n",
       "      <td>47.0</td>\n",
       "      <td>6.2</td>\n",
       "      <td>2023-06-03</td>\n",
       "      <td>2</td>\n",
       "      <td>6</td>\n",
       "      <td>Sat</td>\n",
       "    </tr>\n",
       "  </tbody>\n",
       "</table>\n",
       "<p>3 rows × 32 columns</p>\n",
       "</div>"
      ],
      "text/plain": [
       "   temperature_2m  relativehumidity_2m  dewpoint_2m  apparent_temperature  \\\n",
       "0            13.6                   69          8.0                  12.1   \n",
       "1            12.8                   74          8.3                  11.4   \n",
       "2            12.0                   82          9.0                  10.8   \n",
       "\n",
       "   rain  snowfall  weathercode  pressure_msl  surface_pressure  cloudcover  \\\n",
       "0   0.0       0.0            1        1020.7            1017.5          40   \n",
       "1   0.0       0.0            2        1020.6            1017.4          44   \n",
       "2   0.0       0.0            0        1020.9            1017.7          48   \n",
       "\n",
       "   ...  pm2_5     co   no2  so2    o3  nh3        date  hour  month  weekday  \n",
       "0  ...    7.8  135.0  12.1  1.2  62.0  4.7  2023-06-03     0      6      Sat  \n",
       "1  ...    8.6  140.0  15.4  0.9  54.0  5.7  2023-06-03     1      6      Sat  \n",
       "2  ...   10.2  149.0  14.0  0.7  47.0  6.2  2023-06-03     2      6      Sat  \n",
       "\n",
       "[3 rows x 32 columns]"
      ]
     },
     "execution_count": 5,
     "metadata": {},
     "output_type": "execute_result"
    }
   ],
   "source": [
    "# Get weather\n",
    "hourly_weather = get_forecast_hourly_weather()\n",
    "hourly_weather[\"time\"] = pd.to_datetime(hourly_weather[\"time\"])\n",
    "hourly_weather = hourly_weather[hourly_weather[\"time\"].dt.date.isin(next_4_days)]\n",
    "# selected_hourly_weather = hourly_weather[hourly_weather[\"time\"].dt.date == selected_date]\n",
    "hourly_weather[\"precipitation\"] = (\n",
    "    hourly_weather[\"rain\"] + hourly_weather[\"showers\"] + hourly_weather[\"snowfall\"]\n",
    ")\n",
    "hourly_weather.drop(\n",
    "    [\n",
    "        \"showers\",\n",
    "        \"et0_fao_evapotranspiration\",\n",
    "        \"evapotranspiration\",\n",
    "        \"vapor_pressure_deficit\",\n",
    "    ],\n",
    "    axis=1,\n",
    "    inplace=True,\n",
    ")\n",
    "\n",
    "# Get air\n",
    "hourly_air = get_forecast_hourly_air()\n",
    "hourly_air[\"time\"] = pd.to_datetime(hourly_air[\"time\"])\n",
    "hourly_air = hourly_air[hourly_air[\"time\"].dt.date.isin(next_4_days)]\n",
    "# selected_hourly_air = hourly_air[hourly_air[\"time\"].dt.date == selected_date]\n",
    "hourly_air.rename(\n",
    "    columns={\n",
    "        \"carbon_monoxide\": \"co\",\n",
    "        \"nitrogen_dioxide\": \"no2\",\n",
    "        \"sulphur_dioxide\": \"so2\",\n",
    "        \"ozone\": \"o3\",\n",
    "        \"ammonia\": \"nh3\",\n",
    "    },\n",
    "    inplace=True,\n",
    ")\n",
    "\n",
    "\n",
    "# Merge\n",
    "hourly_df = pd.merge(hourly_weather, hourly_air, on=\"time\")\n",
    "hourly_df[\"date\"] = hourly_df[\"time\"].dt.date\n",
    "hourly_df[\"hour\"] = hourly_df[\"time\"].dt.hour\n",
    "hourly_df[\"month\"] = hourly_df[\"time\"].dt.month\n",
    "hourly_df[\"weekday\"] = hourly_df[\"time\"].dt.strftime(\"%a\")\n",
    "hourly_df.drop([\"time\"], axis=1, inplace=True)\n",
    "hourly_df.head(3)"
   ]
  },
  {
   "cell_type": "code",
   "execution_count": 6,
   "metadata": {},
   "outputs": [],
   "source": [
    "def add_object_id(hourly_df, object_ids):\n",
    "    dfs = []\n",
    "    for id in object_ids:\n",
    "        new_df = hourly_df.copy()\n",
    "        new_df[\"object_id\"] = id\n",
    "        dfs.append(new_df)\n",
    "\n",
    "    combined_df = pd.concat(dfs)\n",
    "    combined_df.reset_index(drop=True, inplace=True)\n",
    "    return combined_df"
   ]
  },
  {
   "cell_type": "code",
   "execution_count": 7,
   "metadata": {},
   "outputs": [],
   "source": [
    "with open(\"../model/model_noise_level_file42/encoder_model_file42.pkl\", \"rb\") as file:\n",
    "    encoder = pickle.load(file)"
   ]
  },
  {
   "cell_type": "code",
   "execution_count": 8,
   "metadata": {},
   "outputs": [
    {
     "name": "stdout",
     "output_type": "stream",
     "text": [
      "[22:03:17] WARNING: C:\\Users\\dev-admin\\croot2\\xgboost-split_1675461376218\\work\\src\\learner.cc:553: \n",
      "  If you are loading a serialized model (like pickle in Python, RDS in R) generated by\n",
      "  older XGBoost, please export the model by calling `Booster.save_model` from that version\n",
      "  first, then load it back in current version. See:\n",
      "\n",
      "    https://xgboost.readthedocs.io/en/latest/tutorials/saving_model.html\n",
      "\n",
      "  for more details about differences between saving model and serializing.\n",
      "\n"
     ]
    }
   ],
   "source": [
    "with open(\"../model/model_noise_level_file42/xgb_laeq.pkl\", \"rb\") as file:\n",
    "    laeq_model = pickle.load(file)"
   ]
  },
  {
   "cell_type": "code",
   "execution_count": 9,
   "metadata": {},
   "outputs": [],
   "source": [
    "object_ids = list(object_id_dict.keys())\n",
    "df = add_object_id(hourly_df, object_ids)\n",
    "transformed_df = encoder.transform(df)\n",
    "laeq_pred = laeq_model.predict(transformed_df)"
   ]
  },
  {
   "cell_type": "code",
   "execution_count": 10,
   "metadata": {},
   "outputs": [
    {
     "data": {
      "text/plain": [
       "array([51.32492 , 51.464172, 41.475246, 46.360638, 46.48347 , 46.164146,\n",
       "       43.95164 , 46.30882 , 50.368435, 51.257973], dtype=float32)"
      ]
     },
     "execution_count": 10,
     "metadata": {},
     "output_type": "execute_result"
    }
   ],
   "source": [
    "laeq_pred[:10]"
   ]
  }
 ],
 "metadata": {
  "kernelspec": {
   "display_name": "Python 3 (ipykernel)",
   "language": "python",
   "name": "python3"
  },
  "language_info": {
   "codemirror_mode": {
    "name": "ipython",
    "version": 3
   },
   "file_extension": ".py",
   "mimetype": "text/x-python",
   "name": "python",
   "nbconvert_exporter": "python",
   "pygments_lexer": "ipython3",
   "version": "3.10.11"
  }
 },
 "nbformat": 4,
 "nbformat_minor": 2
}
