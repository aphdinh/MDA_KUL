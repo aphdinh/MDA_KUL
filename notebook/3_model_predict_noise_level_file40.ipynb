{
 "cells": [
  {
   "cell_type": "code",
   "execution_count": 1,
   "metadata": {
    "executionInfo": {
     "elapsed": 13745,
     "status": "ok",
     "timestamp": 1684700463677,
     "user": {
      "displayName": "Ken Le",
      "userId": "02524318770864979503"
     },
     "user_tz": -120
    },
    "id": "eAPbqH26tpK0"
   },
   "outputs": [],
   "source": [
    "import pandas as pd\n",
    "import matplotlib.pyplot as plt\n",
    "import numpy as np\n",
    "import os\n",
    "import xgboost\n",
    "import pickle\n",
    "\n",
    "from sklearn.compose import ColumnTransformer\n",
    "from sklearn.model_selection import train_test_split, cross_validate\n",
    "from sklearn.preprocessing import FunctionTransformer, OneHotEncoder, StandardScaler, LabelEncoder\n",
    "from sklearn.pipeline import Pipeline\n",
    "from sklearn.impute import SimpleImputer\n",
    "from sklearn.preprocessing import StandardScaler\n",
    "from sklearn.linear_model import Ridge, Lasso, ElasticNet\n",
    "from sklearn.metrics import mean_squared_error, r2_score, mean_absolute_error\n",
    "from sklearn.ensemble import ExtraTreesClassifier\n",
    "from sklearn.model_selection import KFold, GridSearchCV, RandomizedSearchCV\n",
    "from sklearn.feature_selection import SelectFromModel\n",
    "from sklearn.ensemble import (\n",
    "    RandomForestRegressor,\n",
    "    GradientBoostingRegressor,\n",
    "    ExtraTreesClassifier,\n",
    ")\n",
    "from scipy.stats import randint, uniform"
   ]
  },
  {
   "cell_type": "markdown",
   "metadata": {
    "id": "ckCWUmAjuj0d"
   },
   "source": [
    "## Process weather data"
   ]
  },
  {
   "cell_type": "code",
   "execution_count": 2,
   "metadata": {
    "executionInfo": {
     "elapsed": 256,
     "status": "ok",
     "timestamp": 1684696498505,
     "user": {
      "displayName": "Ken Le",
      "userId": "02524318770864979503"
     },
     "user_tz": -120
    },
    "id": "IgjHSUdquWT5"
   },
   "outputs": [],
   "source": [
    "weather_data = pd.read_csv(\"../data/processed_weather_data_leuven.csv\")"
   ]
  },
  {
   "cell_type": "code",
   "execution_count": 3,
   "metadata": {},
   "outputs": [],
   "source": [
    "# Dropping index csv column\n",
    "weather_data.drop([\"Unnamed: 0\"], inplace=True, axis=1)"
   ]
  },
  {
   "cell_type": "code",
   "execution_count": 4,
   "metadata": {},
   "outputs": [],
   "source": [
    "# Format time stamp\n",
    "weather_data[\"time\"] = pd.to_datetime(weather_data[\"time\"])\n",
    "weather_data[\"date\"] = weather_data[\"time\"].dt.date\n",
    "weather_data[\"hour\"] = weather_data[\"time\"].dt.hour\n",
    "weather_data[\"month\"] = weather_data[\"time\"].dt.month\n",
    "weather_data[\"weekday\"] = weather_data[\"time\"].dt.strftime(\"%a\")"
   ]
  },
  {
   "cell_type": "code",
   "execution_count": 5,
   "metadata": {
    "colab": {
     "base_uri": "https://localhost:8080/"
    },
    "executionInfo": {
     "elapsed": 9,
     "status": "ok",
     "timestamp": 1684697984611,
     "user": {
      "displayName": "Ken Le",
      "userId": "02524318770864979503"
     },
     "user_tz": -120
    },
    "id": "8t-kbfPg0Z5E",
    "outputId": "27d84206-c5f7-4f75-f27a-a7d6c74bd2d9"
   },
   "outputs": [
    {
     "name": "stderr",
     "output_type": "stream",
     "text": [
      "C:\\Users\\jef-w\\AppData\\Local\\Temp\\ipykernel_16608\\1371198228.py:2: FutureWarning: The default value of numeric_only in DataFrameGroupBy.mean is deprecated. In a future version, numeric_only will default to False. Either specify numeric_only or select only columns which should be valid for the function.\n",
      "  weather_data.groupby([\"date\", \"hour\", \"month\", \"weekday\"]).mean().reset_index()\n"
     ]
    }
   ],
   "source": [
    "weather_data = (\n",
    "    weather_data.groupby([\"date\", \"hour\", \"month\", \"weekday\"]).mean().reset_index()\n",
    ")"
   ]
  },
  {
   "cell_type": "code",
   "execution_count": 6,
   "metadata": {},
   "outputs": [],
   "source": [
    "# Dropping weathercode because signal should be contained in other data + excessive amount of dummies + unseen values\n",
    "weather_data = weather_data.drop(\"weathercode\", axis=1)"
   ]
  },
  {
   "cell_type": "markdown",
   "metadata": {
    "id": "gI0hUzyA1CXN"
   },
   "source": [
    "## Process airquality data\n",
    "\n"
   ]
  },
  {
   "cell_type": "code",
   "execution_count": 7,
   "metadata": {
    "executionInfo": {
     "elapsed": 226,
     "status": "ok",
     "timestamp": 1684698293536,
     "user": {
      "displayName": "Ken Le",
      "userId": "02524318770864979503"
     },
     "user_tz": -120
    },
    "id": "4_cj6BEN1ByI"
   },
   "outputs": [],
   "source": [
    "air_quality_data = pd.read_csv(\"../data/processed_air_quality_data.csv\")"
   ]
  },
  {
   "cell_type": "code",
   "execution_count": 8,
   "metadata": {
    "executionInfo": {
     "elapsed": 288,
     "status": "ok",
     "timestamp": 1684698304748,
     "user": {
      "displayName": "Ken Le",
      "userId": "02524318770864979503"
     },
     "user_tz": -120
    },
    "id": "ZCWbLqLr1d0c"
   },
   "outputs": [],
   "source": [
    "# Dropping index csv column\n",
    "air_quality_data.drop([\"Unnamed: 0\"], inplace=True, axis=1)"
   ]
  },
  {
   "cell_type": "code",
   "execution_count": 9,
   "metadata": {
    "colab": {
     "base_uri": "https://localhost:8080/",
     "height": 206
    },
    "executionInfo": {
     "elapsed": 229,
     "status": "ok",
     "timestamp": 1684698313269,
     "user": {
      "displayName": "Ken Le",
      "userId": "02524318770864979503"
     },
     "user_tz": -120
    },
    "id": "O_1Z9NBi1qk9",
    "outputId": "2a493110-b9c5-48ba-910c-ab23933da94f"
   },
   "outputs": [],
   "source": [
    "# extract from timestamp\n",
    "air_quality_data[\"dt\"] = pd.to_datetime(air_quality_data[\"dt\"])\n",
    "air_quality_data[\"date\"] = air_quality_data[\"dt\"].dt.date\n",
    "air_quality_data[\"hour\"] = air_quality_data[\"dt\"].dt.hour\n",
    "air_quality_data[\"month\"] = air_quality_data[\"dt\"].dt.month\n",
    "air_quality_data[\"weekday\"] = air_quality_data[\"dt\"].dt.strftime(\"%a\")"
   ]
  },
  {
   "cell_type": "code",
   "execution_count": 10,
   "metadata": {
    "colab": {
     "base_uri": "https://localhost:8080/"
    },
    "executionInfo": {
     "elapsed": 222,
     "status": "ok",
     "timestamp": 1684698339552,
     "user": {
      "displayName": "Ken Le",
      "userId": "02524318770864979503"
     },
     "user_tz": -120
    },
    "id": "_f5L1-PW2Fno",
    "outputId": "fb8100d6-1344-4642-d7b9-ffc6be121854"
   },
   "outputs": [
    {
     "name": "stderr",
     "output_type": "stream",
     "text": [
      "C:\\Users\\jef-w\\AppData\\Local\\Temp\\ipykernel_16608\\3314303586.py:2: FutureWarning: The default value of numeric_only in DataFrameGroupBy.mean is deprecated. In a future version, numeric_only will default to False. Either specify numeric_only or select only columns which should be valid for the function.\n",
      "  air_quality_data.groupby([\"date\", \"hour\", \"month\", \"weekday\"]).mean().reset_index()\n"
     ]
    }
   ],
   "source": [
    "air_quality_data = (\n",
    "    air_quality_data.groupby([\"date\", \"hour\", \"month\", \"weekday\"]).mean().reset_index()\n",
    ")"
   ]
  },
  {
   "cell_type": "markdown",
   "metadata": {
    "id": "HzSo9TRT5wqJ"
   },
   "source": [
    "## Processing file 40 data, merge all files"
   ]
  },
  {
   "cell_type": "code",
   "execution_count": 11,
   "metadata": {
    "executionInfo": {
     "elapsed": 717,
     "status": "ok",
     "timestamp": 1684699576375,
     "user": {
      "displayName": "Ken Le",
      "userId": "02524318770864979503"
     },
     "user_tz": -120
    },
    "id": "2DCe2abO53C3"
   },
   "outputs": [],
   "source": [
    "# Noise data\n",
    "file40 = pd.read_csv(\"../data/processed_file40_data.csv\")"
   ]
  },
  {
   "cell_type": "code",
   "execution_count": 12,
   "metadata": {},
   "outputs": [],
   "source": [
    "# Dropping index csv column\n",
    "file40.drop([\"Unnamed: 0\"], inplace=True, axis=1)"
   ]
  },
  {
   "cell_type": "code",
   "execution_count": 13,
   "metadata": {
    "colab": {
     "base_uri": "https://localhost:8080/",
     "height": 377
    },
    "executionInfo": {
     "elapsed": 6223,
     "status": "ok",
     "timestamp": 1684699591961,
     "user": {
      "displayName": "Ken Le",
      "userId": "02524318770864979503"
     },
     "user_tz": -120
    },
    "id": "O4C8E1cU6IbZ",
    "outputId": "225874dd-e72b-4662-c9b8-497427558f9d"
   },
   "outputs": [],
   "source": [
    "# Convert the 'result_timestamp' column to a datetime data type\n",
    "file40[\"result_timestamp\"] = pd.to_datetime(file40[\"result_timestamp\"])\n",
    "file40[\"date\"] = file40[\"result_timestamp\"].dt.date\n",
    "file40[\"hour\"] = file40[\"result_timestamp\"].dt.hour\n",
    "file40[\"month\"] = file40[\"result_timestamp\"].dt.month\n",
    "file40[\"weekday\"] = file40[\"result_timestamp\"].dt.strftime(\"%a\")"
   ]
  },
  {
   "cell_type": "code",
   "execution_count": 14,
   "metadata": {
    "colab": {
     "base_uri": "https://localhost:8080/",
     "height": 392
    },
    "executionInfo": {
     "elapsed": 280,
     "status": "ok",
     "timestamp": 1684699643696,
     "user": {
      "displayName": "Ken Le",
      "userId": "02524318770864979503"
     },
     "user_tz": -120
    },
    "id": "sOO0laUQ7FC6",
    "outputId": "2de39ef0-2b88-4fb2-89c5-3c66d914d730"
   },
   "outputs": [
    {
     "name": "stderr",
     "output_type": "stream",
     "text": [
      "C:\\Users\\jef-w\\AppData\\Local\\Temp\\ipykernel_16608\\3127493086.py:3: FutureWarning: The default value of numeric_only in DataFrameGroupBy.mean is deprecated. In a future version, numeric_only will default to False. Either specify numeric_only or select only columns which should be valid for the function.\n",
      "  .mean()\n"
     ]
    }
   ],
   "source": [
    "file40 = (\n",
    "    file40.groupby([\"object_id\", \"date\", \"hour\", \"month\", \"weekday\"])\n",
    "    .mean()\n",
    "    .reset_index()\n",
    ")"
   ]
  },
  {
   "cell_type": "code",
   "execution_count": 15,
   "metadata": {
    "executionInfo": {
     "elapsed": 298,
     "status": "ok",
     "timestamp": 1684699780525,
     "user": {
      "displayName": "Ken Le",
      "userId": "02524318770864979503"
     },
     "user_tz": -120
    },
    "id": "9KAbyltX7TEx"
   },
   "outputs": [],
   "source": [
    "data_model_v2 = file40.merge(\n",
    "    air_quality_data,\n",
    "    how=\"inner\",\n",
    "    left_on=[\"date\", \"hour\", \"month\", \"weekday\"],\n",
    "    right_on=[\"date\", \"hour\", \"month\", \"weekday\"],\n",
    ")"
   ]
  },
  {
   "cell_type": "code",
   "execution_count": 16,
   "metadata": {
    "executionInfo": {
     "elapsed": 409,
     "status": "ok",
     "timestamp": 1684699897132,
     "user": {
      "displayName": "Ken Le",
      "userId": "02524318770864979503"
     },
     "user_tz": -120
    },
    "id": "HGCy1fEY74Ee"
   },
   "outputs": [],
   "source": [
    "data_model_v2 = data_model_v2.merge(\n",
    "    weather_data,\n",
    "    how=\"inner\",\n",
    "    left_on=[\"date\", \"hour\", \"month\", \"weekday\"],\n",
    "    right_on=[\"date\", \"hour\", \"month\", \"weekday\"],\n",
    ")"
   ]
  },
  {
   "cell_type": "code",
   "execution_count": 17,
   "metadata": {
    "executionInfo": {
     "elapsed": 2,
     "status": "ok",
     "timestamp": 1684700172143,
     "user": {
      "displayName": "Ken Le",
      "userId": "02524318770864979503"
     },
     "user_tz": -120
    },
    "id": "h10tVN6p8_Xu"
   },
   "outputs": [],
   "source": [
    "## split train, test data\n",
    "train_df, val_df = train_test_split(data_model_v2, test_size=0.2, random_state=7)"
   ]
  },
  {
   "cell_type": "code",
   "execution_count": 18,
   "metadata": {},
   "outputs": [
    {
     "data": {
      "text/html": [
       "<div>\n",
       "<style scoped>\n",
       "    .dataframe tbody tr th:only-of-type {\n",
       "        vertical-align: middle;\n",
       "    }\n",
       "\n",
       "    .dataframe tbody tr th {\n",
       "        vertical-align: top;\n",
       "    }\n",
       "\n",
       "    .dataframe thead th {\n",
       "        text-align: right;\n",
       "    }\n",
       "</style>\n",
       "<table border=\"1\" class=\"dataframe\">\n",
       "  <thead>\n",
       "    <tr style=\"text-align: right;\">\n",
       "      <th></th>\n",
       "      <th>object_id</th>\n",
       "      <th>date</th>\n",
       "      <th>hour</th>\n",
       "      <th>month</th>\n",
       "      <th>weekday</th>\n",
       "      <th>laf005_per_hour</th>\n",
       "      <th>laf01_per_hour</th>\n",
       "      <th>laf05_per_hour</th>\n",
       "      <th>laf10_per_hour</th>\n",
       "      <th>laf25_per_hour</th>\n",
       "      <th>...</th>\n",
       "      <th>cloudcover_low</th>\n",
       "      <th>cloudcover_mid</th>\n",
       "      <th>cloudcover_high</th>\n",
       "      <th>shortwave_radiation</th>\n",
       "      <th>direct_radiation</th>\n",
       "      <th>diffuse_radiation</th>\n",
       "      <th>direct_normal_irradiance</th>\n",
       "      <th>windspeed_10m</th>\n",
       "      <th>winddirection_10m</th>\n",
       "      <th>windgusts_10m</th>\n",
       "    </tr>\n",
       "  </thead>\n",
       "  <tbody>\n",
       "    <tr>\n",
       "      <th>0</th>\n",
       "      <td>255439</td>\n",
       "      <td>2022-01-04</td>\n",
       "      <td>0</td>\n",
       "      <td>1</td>\n",
       "      <td>Tue</td>\n",
       "      <td>77.2</td>\n",
       "      <td>75.4</td>\n",
       "      <td>70.8</td>\n",
       "      <td>68.9</td>\n",
       "      <td>66.0</td>\n",
       "      <td>...</td>\n",
       "      <td>7.0</td>\n",
       "      <td>100.0</td>\n",
       "      <td>100.0</td>\n",
       "      <td>0.0</td>\n",
       "      <td>0.0</td>\n",
       "      <td>0.0</td>\n",
       "      <td>0.0</td>\n",
       "      <td>17.8</td>\n",
       "      <td>238.0</td>\n",
       "      <td>26.3</td>\n",
       "    </tr>\n",
       "    <tr>\n",
       "      <th>1</th>\n",
       "      <td>255440</td>\n",
       "      <td>2022-01-04</td>\n",
       "      <td>0</td>\n",
       "      <td>1</td>\n",
       "      <td>Tue</td>\n",
       "      <td>77.8</td>\n",
       "      <td>75.3</td>\n",
       "      <td>67.9</td>\n",
       "      <td>64.8</td>\n",
       "      <td>60.1</td>\n",
       "      <td>...</td>\n",
       "      <td>7.0</td>\n",
       "      <td>100.0</td>\n",
       "      <td>100.0</td>\n",
       "      <td>0.0</td>\n",
       "      <td>0.0</td>\n",
       "      <td>0.0</td>\n",
       "      <td>0.0</td>\n",
       "      <td>17.8</td>\n",
       "      <td>238.0</td>\n",
       "      <td>26.3</td>\n",
       "    </tr>\n",
       "    <tr>\n",
       "      <th>2</th>\n",
       "      <td>255441</td>\n",
       "      <td>2022-01-04</td>\n",
       "      <td>0</td>\n",
       "      <td>1</td>\n",
       "      <td>Tue</td>\n",
       "      <td>76.8</td>\n",
       "      <td>73.0</td>\n",
       "      <td>66.6</td>\n",
       "      <td>63.7</td>\n",
       "      <td>59.6</td>\n",
       "      <td>...</td>\n",
       "      <td>7.0</td>\n",
       "      <td>100.0</td>\n",
       "      <td>100.0</td>\n",
       "      <td>0.0</td>\n",
       "      <td>0.0</td>\n",
       "      <td>0.0</td>\n",
       "      <td>0.0</td>\n",
       "      <td>17.8</td>\n",
       "      <td>238.0</td>\n",
       "      <td>26.3</td>\n",
       "    </tr>\n",
       "    <tr>\n",
       "      <th>3</th>\n",
       "      <td>255442</td>\n",
       "      <td>2022-01-04</td>\n",
       "      <td>0</td>\n",
       "      <td>1</td>\n",
       "      <td>Tue</td>\n",
       "      <td>82.5</td>\n",
       "      <td>78.0</td>\n",
       "      <td>67.6</td>\n",
       "      <td>64.3</td>\n",
       "      <td>59.0</td>\n",
       "      <td>...</td>\n",
       "      <td>7.0</td>\n",
       "      <td>100.0</td>\n",
       "      <td>100.0</td>\n",
       "      <td>0.0</td>\n",
       "      <td>0.0</td>\n",
       "      <td>0.0</td>\n",
       "      <td>0.0</td>\n",
       "      <td>17.8</td>\n",
       "      <td>238.0</td>\n",
       "      <td>26.3</td>\n",
       "    </tr>\n",
       "    <tr>\n",
       "      <th>4</th>\n",
       "      <td>255443</td>\n",
       "      <td>2022-01-04</td>\n",
       "      <td>0</td>\n",
       "      <td>1</td>\n",
       "      <td>Tue</td>\n",
       "      <td>78.6</td>\n",
       "      <td>74.9</td>\n",
       "      <td>67.2</td>\n",
       "      <td>64.1</td>\n",
       "      <td>59.4</td>\n",
       "      <td>...</td>\n",
       "      <td>7.0</td>\n",
       "      <td>100.0</td>\n",
       "      <td>100.0</td>\n",
       "      <td>0.0</td>\n",
       "      <td>0.0</td>\n",
       "      <td>0.0</td>\n",
       "      <td>0.0</td>\n",
       "      <td>17.8</td>\n",
       "      <td>238.0</td>\n",
       "      <td>26.3</td>\n",
       "    </tr>\n",
       "    <tr>\n",
       "      <th>...</th>\n",
       "      <td>...</td>\n",
       "      <td>...</td>\n",
       "      <td>...</td>\n",
       "      <td>...</td>\n",
       "      <td>...</td>\n",
       "      <td>...</td>\n",
       "      <td>...</td>\n",
       "      <td>...</td>\n",
       "      <td>...</td>\n",
       "      <td>...</td>\n",
       "      <td>...</td>\n",
       "      <td>...</td>\n",
       "      <td>...</td>\n",
       "      <td>...</td>\n",
       "      <td>...</td>\n",
       "      <td>...</td>\n",
       "      <td>...</td>\n",
       "      <td>...</td>\n",
       "      <td>...</td>\n",
       "      <td>...</td>\n",
       "      <td>...</td>\n",
       "    </tr>\n",
       "    <tr>\n",
       "      <th>49446</th>\n",
       "      <td>255442</td>\n",
       "      <td>2022-12-31</td>\n",
       "      <td>23</td>\n",
       "      <td>12</td>\n",
       "      <td>Sat</td>\n",
       "      <td>77.7</td>\n",
       "      <td>74.7</td>\n",
       "      <td>67.2</td>\n",
       "      <td>64.6</td>\n",
       "      <td>60.4</td>\n",
       "      <td>...</td>\n",
       "      <td>2.0</td>\n",
       "      <td>1.0</td>\n",
       "      <td>90.0</td>\n",
       "      <td>0.0</td>\n",
       "      <td>0.0</td>\n",
       "      <td>0.0</td>\n",
       "      <td>0.0</td>\n",
       "      <td>38.8</td>\n",
       "      <td>217.0</td>\n",
       "      <td>71.6</td>\n",
       "    </tr>\n",
       "    <tr>\n",
       "      <th>49447</th>\n",
       "      <td>255443</td>\n",
       "      <td>2022-12-31</td>\n",
       "      <td>23</td>\n",
       "      <td>12</td>\n",
       "      <td>Sat</td>\n",
       "      <td>73.6</td>\n",
       "      <td>71.1</td>\n",
       "      <td>65.4</td>\n",
       "      <td>63.0</td>\n",
       "      <td>59.1</td>\n",
       "      <td>...</td>\n",
       "      <td>2.0</td>\n",
       "      <td>1.0</td>\n",
       "      <td>90.0</td>\n",
       "      <td>0.0</td>\n",
       "      <td>0.0</td>\n",
       "      <td>0.0</td>\n",
       "      <td>0.0</td>\n",
       "      <td>38.8</td>\n",
       "      <td>217.0</td>\n",
       "      <td>71.6</td>\n",
       "    </tr>\n",
       "    <tr>\n",
       "      <th>49448</th>\n",
       "      <td>255444</td>\n",
       "      <td>2022-12-31</td>\n",
       "      <td>23</td>\n",
       "      <td>12</td>\n",
       "      <td>Sat</td>\n",
       "      <td>71.3</td>\n",
       "      <td>69.2</td>\n",
       "      <td>64.1</td>\n",
       "      <td>61.7</td>\n",
       "      <td>57.4</td>\n",
       "      <td>...</td>\n",
       "      <td>2.0</td>\n",
       "      <td>1.0</td>\n",
       "      <td>90.0</td>\n",
       "      <td>0.0</td>\n",
       "      <td>0.0</td>\n",
       "      <td>0.0</td>\n",
       "      <td>0.0</td>\n",
       "      <td>38.8</td>\n",
       "      <td>217.0</td>\n",
       "      <td>71.6</td>\n",
       "    </tr>\n",
       "    <tr>\n",
       "      <th>49449</th>\n",
       "      <td>280324</td>\n",
       "      <td>2022-12-31</td>\n",
       "      <td>23</td>\n",
       "      <td>12</td>\n",
       "      <td>Sat</td>\n",
       "      <td>70.7</td>\n",
       "      <td>68.5</td>\n",
       "      <td>63.9</td>\n",
       "      <td>62.1</td>\n",
       "      <td>59.6</td>\n",
       "      <td>...</td>\n",
       "      <td>2.0</td>\n",
       "      <td>1.0</td>\n",
       "      <td>90.0</td>\n",
       "      <td>0.0</td>\n",
       "      <td>0.0</td>\n",
       "      <td>0.0</td>\n",
       "      <td>0.0</td>\n",
       "      <td>38.8</td>\n",
       "      <td>217.0</td>\n",
       "      <td>71.6</td>\n",
       "    </tr>\n",
       "    <tr>\n",
       "      <th>49450</th>\n",
       "      <td>303910</td>\n",
       "      <td>2022-12-31</td>\n",
       "      <td>23</td>\n",
       "      <td>12</td>\n",
       "      <td>Sat</td>\n",
       "      <td>78.3</td>\n",
       "      <td>74.5</td>\n",
       "      <td>68.0</td>\n",
       "      <td>65.6</td>\n",
       "      <td>62.1</td>\n",
       "      <td>...</td>\n",
       "      <td>2.0</td>\n",
       "      <td>1.0</td>\n",
       "      <td>90.0</td>\n",
       "      <td>0.0</td>\n",
       "      <td>0.0</td>\n",
       "      <td>0.0</td>\n",
       "      <td>0.0</td>\n",
       "      <td>38.8</td>\n",
       "      <td>217.0</td>\n",
       "      <td>71.6</td>\n",
       "    </tr>\n",
       "  </tbody>\n",
       "</table>\n",
       "<p>49451 rows × 44 columns</p>\n",
       "</div>"
      ],
      "text/plain": [
       "       object_id        date  hour  month weekday  laf005_per_hour  \\\n",
       "0         255439  2022-01-04     0      1     Tue             77.2   \n",
       "1         255440  2022-01-04     0      1     Tue             77.8   \n",
       "2         255441  2022-01-04     0      1     Tue             76.8   \n",
       "3         255442  2022-01-04     0      1     Tue             82.5   \n",
       "4         255443  2022-01-04     0      1     Tue             78.6   \n",
       "...          ...         ...   ...    ...     ...              ...   \n",
       "49446     255442  2022-12-31    23     12     Sat             77.7   \n",
       "49447     255443  2022-12-31    23     12     Sat             73.6   \n",
       "49448     255444  2022-12-31    23     12     Sat             71.3   \n",
       "49449     280324  2022-12-31    23     12     Sat             70.7   \n",
       "49450     303910  2022-12-31    23     12     Sat             78.3   \n",
       "\n",
       "       laf01_per_hour  laf05_per_hour  laf10_per_hour  laf25_per_hour  ...  \\\n",
       "0                75.4            70.8            68.9            66.0  ...   \n",
       "1                75.3            67.9            64.8            60.1  ...   \n",
       "2                73.0            66.6            63.7            59.6  ...   \n",
       "3                78.0            67.6            64.3            59.0  ...   \n",
       "4                74.9            67.2            64.1            59.4  ...   \n",
       "...               ...             ...             ...             ...  ...   \n",
       "49446            74.7            67.2            64.6            60.4  ...   \n",
       "49447            71.1            65.4            63.0            59.1  ...   \n",
       "49448            69.2            64.1            61.7            57.4  ...   \n",
       "49449            68.5            63.9            62.1            59.6  ...   \n",
       "49450            74.5            68.0            65.6            62.1  ...   \n",
       "\n",
       "       cloudcover_low  cloudcover_mid  cloudcover_high  shortwave_radiation  \\\n",
       "0                 7.0           100.0            100.0                  0.0   \n",
       "1                 7.0           100.0            100.0                  0.0   \n",
       "2                 7.0           100.0            100.0                  0.0   \n",
       "3                 7.0           100.0            100.0                  0.0   \n",
       "4                 7.0           100.0            100.0                  0.0   \n",
       "...               ...             ...              ...                  ...   \n",
       "49446             2.0             1.0             90.0                  0.0   \n",
       "49447             2.0             1.0             90.0                  0.0   \n",
       "49448             2.0             1.0             90.0                  0.0   \n",
       "49449             2.0             1.0             90.0                  0.0   \n",
       "49450             2.0             1.0             90.0                  0.0   \n",
       "\n",
       "       direct_radiation  diffuse_radiation  direct_normal_irradiance  \\\n",
       "0                   0.0                0.0                       0.0   \n",
       "1                   0.0                0.0                       0.0   \n",
       "2                   0.0                0.0                       0.0   \n",
       "3                   0.0                0.0                       0.0   \n",
       "4                   0.0                0.0                       0.0   \n",
       "...                 ...                ...                       ...   \n",
       "49446               0.0                0.0                       0.0   \n",
       "49447               0.0                0.0                       0.0   \n",
       "49448               0.0                0.0                       0.0   \n",
       "49449               0.0                0.0                       0.0   \n",
       "49450               0.0                0.0                       0.0   \n",
       "\n",
       "       windspeed_10m  winddirection_10m  windgusts_10m  \n",
       "0               17.8              238.0           26.3  \n",
       "1               17.8              238.0           26.3  \n",
       "2               17.8              238.0           26.3  \n",
       "3               17.8              238.0           26.3  \n",
       "4               17.8              238.0           26.3  \n",
       "...              ...                ...            ...  \n",
       "49446           38.8              217.0           71.6  \n",
       "49447           38.8              217.0           71.6  \n",
       "49448           38.8              217.0           71.6  \n",
       "49449           38.8              217.0           71.6  \n",
       "49450           38.8              217.0           71.6  \n",
       "\n",
       "[49451 rows x 44 columns]"
      ]
     },
     "execution_count": 18,
     "metadata": {},
     "output_type": "execute_result"
    }
   ],
   "source": [
    "data_model_v2"
   ]
  },
  {
   "cell_type": "markdown",
   "metadata": {
    "id": "_GUycKj99N_3"
   },
   "source": [
    "## Process independent variables and apply column transformer"
   ]
  },
  {
   "cell_type": "code",
   "execution_count": 19,
   "metadata": {
    "colab": {
     "base_uri": "https://localhost:8080/"
    },
    "executionInfo": {
     "elapsed": 281,
     "status": "ok",
     "timestamp": 1684700226127,
     "user": {
      "displayName": "Ken Le",
      "userId": "02524318770864979503"
     },
     "user_tz": -120
    },
    "id": "l_GKOAPn9Jdz",
    "outputId": "181d4fd7-49a3-4b01-d575-ec9014625a83"
   },
   "outputs": [
    {
     "data": {
      "text/plain": [
       "['laf005_per_hour',\n",
       " 'laf01_per_hour',\n",
       " 'laf05_per_hour',\n",
       " 'laf10_per_hour',\n",
       " 'laf25_per_hour',\n",
       " 'laf50_per_hour',\n",
       " 'laf75_per_hour',\n",
       " 'laf90_per_hour',\n",
       " 'laf95_per_hour',\n",
       " 'laf98_per_hour',\n",
       " 'laf99_per_hour',\n",
       " 'laf995_per_hour']"
      ]
     },
     "execution_count": 19,
     "metadata": {},
     "output_type": "execute_result"
    }
   ],
   "source": [
    "target_variable = [col for col in train_df.columns if col.startswith(\"laf\")]\n",
    "target_variable"
   ]
  },
  {
   "cell_type": "code",
   "execution_count": 20,
   "metadata": {
    "colab": {
     "base_uri": "https://localhost:8080/",
     "height": 176
    },
    "executionInfo": {
     "elapsed": 222,
     "status": "ok",
     "timestamp": 1684700229915,
     "user": {
      "displayName": "Ken Le",
      "userId": "02524318770864979503"
     },
     "user_tz": -120
    },
    "id": "Cl0qsxaI9UNa",
    "outputId": "83248fe4-050f-4247-fa2d-9e7834efd041"
   },
   "outputs": [],
   "source": [
    "y_train = train_df[target_variable]\n",
    "y_val = val_df[target_variable]\n",
    "\n",
    "X_train = train_df.drop(target_variable + [\"date\"], axis=1)\n",
    "X_val = val_df.drop(target_variable + [\"date\"], axis=1)"
   ]
  },
  {
   "cell_type": "code",
   "execution_count": 21,
   "metadata": {
    "executionInfo": {
     "elapsed": 209,
     "status": "ok",
     "timestamp": 1684703866553,
     "user": {
      "displayName": "Ken Le",
      "userId": "02524318770864979503"
     },
     "user_tz": -120
    },
    "id": "wruUoGhY9pJ3"
   },
   "outputs": [],
   "source": [
    "one_hot_var = [\"hour\", \"month\", \"weekday\", \"object_id\"]\n",
    "numerical_var = [col for col in X_train.columns if col not in one_hot_var]"
   ]
  },
  {
   "cell_type": "code",
   "execution_count": 22,
   "metadata": {
    "colab": {
     "base_uri": "https://localhost:8080/",
     "height": 117
    },
    "executionInfo": {
     "elapsed": 247,
     "status": "ok",
     "timestamp": 1684703869315,
     "user": {
      "displayName": "Ken Le",
      "userId": "02524318770864979503"
     },
     "user_tz": -120
    },
    "id": "jN_TfTZ29uS3",
    "outputId": "5acda449-3047-426f-f27c-0652ed1d0252"
   },
   "outputs": [
    {
     "data": {
      "text/html": [
       "<style>#sk-container-id-1 {color: black;background-color: white;}#sk-container-id-1 pre{padding: 0;}#sk-container-id-1 div.sk-toggleable {background-color: white;}#sk-container-id-1 label.sk-toggleable__label {cursor: pointer;display: block;width: 100%;margin-bottom: 0;padding: 0.3em;box-sizing: border-box;text-align: center;}#sk-container-id-1 label.sk-toggleable__label-arrow:before {content: \"▸\";float: left;margin-right: 0.25em;color: #696969;}#sk-container-id-1 label.sk-toggleable__label-arrow:hover:before {color: black;}#sk-container-id-1 div.sk-estimator:hover label.sk-toggleable__label-arrow:before {color: black;}#sk-container-id-1 div.sk-toggleable__content {max-height: 0;max-width: 0;overflow: hidden;text-align: left;background-color: #f0f8ff;}#sk-container-id-1 div.sk-toggleable__content pre {margin: 0.2em;color: black;border-radius: 0.25em;background-color: #f0f8ff;}#sk-container-id-1 input.sk-toggleable__control:checked~div.sk-toggleable__content {max-height: 200px;max-width: 100%;overflow: auto;}#sk-container-id-1 input.sk-toggleable__control:checked~label.sk-toggleable__label-arrow:before {content: \"▾\";}#sk-container-id-1 div.sk-estimator input.sk-toggleable__control:checked~label.sk-toggleable__label {background-color: #d4ebff;}#sk-container-id-1 div.sk-label input.sk-toggleable__control:checked~label.sk-toggleable__label {background-color: #d4ebff;}#sk-container-id-1 input.sk-hidden--visually {border: 0;clip: rect(1px 1px 1px 1px);clip: rect(1px, 1px, 1px, 1px);height: 1px;margin: -1px;overflow: hidden;padding: 0;position: absolute;width: 1px;}#sk-container-id-1 div.sk-estimator {font-family: monospace;background-color: #f0f8ff;border: 1px dotted black;border-radius: 0.25em;box-sizing: border-box;margin-bottom: 0.5em;}#sk-container-id-1 div.sk-estimator:hover {background-color: #d4ebff;}#sk-container-id-1 div.sk-parallel-item::after {content: \"\";width: 100%;border-bottom: 1px solid gray;flex-grow: 1;}#sk-container-id-1 div.sk-label:hover label.sk-toggleable__label {background-color: #d4ebff;}#sk-container-id-1 div.sk-serial::before {content: \"\";position: absolute;border-left: 1px solid gray;box-sizing: border-box;top: 0;bottom: 0;left: 50%;z-index: 0;}#sk-container-id-1 div.sk-serial {display: flex;flex-direction: column;align-items: center;background-color: white;padding-right: 0.2em;padding-left: 0.2em;position: relative;}#sk-container-id-1 div.sk-item {position: relative;z-index: 1;}#sk-container-id-1 div.sk-parallel {display: flex;align-items: stretch;justify-content: center;background-color: white;position: relative;}#sk-container-id-1 div.sk-item::before, #sk-container-id-1 div.sk-parallel-item::before {content: \"\";position: absolute;border-left: 1px solid gray;box-sizing: border-box;top: 0;bottom: 0;left: 50%;z-index: -1;}#sk-container-id-1 div.sk-parallel-item {display: flex;flex-direction: column;z-index: 1;position: relative;background-color: white;}#sk-container-id-1 div.sk-parallel-item:first-child::after {align-self: flex-end;width: 50%;}#sk-container-id-1 div.sk-parallel-item:last-child::after {align-self: flex-start;width: 50%;}#sk-container-id-1 div.sk-parallel-item:only-child::after {width: 0;}#sk-container-id-1 div.sk-dashed-wrapped {border: 1px dashed gray;margin: 0 0.4em 0.5em 0.4em;box-sizing: border-box;padding-bottom: 0.4em;background-color: white;}#sk-container-id-1 div.sk-label label {font-family: monospace;font-weight: bold;display: inline-block;line-height: 1.2em;}#sk-container-id-1 div.sk-label-container {text-align: center;}#sk-container-id-1 div.sk-container {/* jupyter's `normalize.less` sets `[hidden] { display: none; }` but bootstrap.min.css set `[hidden] { display: none !important; }` so we also need the `!important` here to be able to override the default hidden behavior on the sphinx rendered scikit-learn.org. See: https://github.com/scikit-learn/scikit-learn/issues/21755 */display: inline-block !important;position: relative;}#sk-container-id-1 div.sk-text-repr-fallback {display: none;}</style><div id=\"sk-container-id-1\" class=\"sk-top-container\"><div class=\"sk-text-repr-fallback\"><pre>ColumnTransformer(transformers=[(&#x27;OneHot&#x27;,\n",
       "                                 OneHotEncoder(handle_unknown=&#x27;ignore&#x27;),\n",
       "                                 [&#x27;hour&#x27;, &#x27;month&#x27;, &#x27;weekday&#x27;, &#x27;object_id&#x27;]),\n",
       "                                (&#x27;StandardScaler&#x27;, StandardScaler(),\n",
       "                                 [&#x27;pm2_5&#x27;, &#x27;pm10&#x27;, &#x27;co&#x27;, &#x27;no2&#x27;, &#x27;o3&#x27;, &#x27;so2&#x27;,\n",
       "                                  &#x27;nh3&#x27;, &#x27;temperature_2m&#x27;,\n",
       "                                  &#x27;relativehumidity_2m&#x27;, &#x27;dewpoint_2m&#x27;,\n",
       "                                  &#x27;apparent_temperature&#x27;, &#x27;pressure_msl&#x27;,\n",
       "                                  &#x27;surface_pressure&#x27;, &#x27;precipitation&#x27;, &#x27;rain&#x27;,\n",
       "                                  &#x27;snowfall&#x27;, &#x27;cloudcover&#x27;, &#x27;cloudcover_low&#x27;,\n",
       "                                  &#x27;cloudcover_mid&#x27;, &#x27;cloudcover_high&#x27;,\n",
       "                                  &#x27;shortwave_radiation&#x27;, &#x27;direct_radiation&#x27;,\n",
       "                                  &#x27;diffuse_radiation&#x27;,\n",
       "                                  &#x27;direct_normal_irradiance&#x27;, &#x27;windspeed_10m&#x27;,\n",
       "                                  &#x27;winddirection_10m&#x27;, &#x27;windgusts_10m&#x27;])])</pre><b>In a Jupyter environment, please rerun this cell to show the HTML representation or trust the notebook. <br />On GitHub, the HTML representation is unable to render, please try loading this page with nbviewer.org.</b></div><div class=\"sk-container\" hidden><div class=\"sk-item sk-dashed-wrapped\"><div class=\"sk-label-container\"><div class=\"sk-label sk-toggleable\"><input class=\"sk-toggleable__control sk-hidden--visually\" id=\"sk-estimator-id-1\" type=\"checkbox\" ><label for=\"sk-estimator-id-1\" class=\"sk-toggleable__label sk-toggleable__label-arrow\">ColumnTransformer</label><div class=\"sk-toggleable__content\"><pre>ColumnTransformer(transformers=[(&#x27;OneHot&#x27;,\n",
       "                                 OneHotEncoder(handle_unknown=&#x27;ignore&#x27;),\n",
       "                                 [&#x27;hour&#x27;, &#x27;month&#x27;, &#x27;weekday&#x27;, &#x27;object_id&#x27;]),\n",
       "                                (&#x27;StandardScaler&#x27;, StandardScaler(),\n",
       "                                 [&#x27;pm2_5&#x27;, &#x27;pm10&#x27;, &#x27;co&#x27;, &#x27;no2&#x27;, &#x27;o3&#x27;, &#x27;so2&#x27;,\n",
       "                                  &#x27;nh3&#x27;, &#x27;temperature_2m&#x27;,\n",
       "                                  &#x27;relativehumidity_2m&#x27;, &#x27;dewpoint_2m&#x27;,\n",
       "                                  &#x27;apparent_temperature&#x27;, &#x27;pressure_msl&#x27;,\n",
       "                                  &#x27;surface_pressure&#x27;, &#x27;precipitation&#x27;, &#x27;rain&#x27;,\n",
       "                                  &#x27;snowfall&#x27;, &#x27;cloudcover&#x27;, &#x27;cloudcover_low&#x27;,\n",
       "                                  &#x27;cloudcover_mid&#x27;, &#x27;cloudcover_high&#x27;,\n",
       "                                  &#x27;shortwave_radiation&#x27;, &#x27;direct_radiation&#x27;,\n",
       "                                  &#x27;diffuse_radiation&#x27;,\n",
       "                                  &#x27;direct_normal_irradiance&#x27;, &#x27;windspeed_10m&#x27;,\n",
       "                                  &#x27;winddirection_10m&#x27;, &#x27;windgusts_10m&#x27;])])</pre></div></div></div><div class=\"sk-parallel\"><div class=\"sk-parallel-item\"><div class=\"sk-item\"><div class=\"sk-label-container\"><div class=\"sk-label sk-toggleable\"><input class=\"sk-toggleable__control sk-hidden--visually\" id=\"sk-estimator-id-2\" type=\"checkbox\" ><label for=\"sk-estimator-id-2\" class=\"sk-toggleable__label sk-toggleable__label-arrow\">OneHot</label><div class=\"sk-toggleable__content\"><pre>[&#x27;hour&#x27;, &#x27;month&#x27;, &#x27;weekday&#x27;, &#x27;object_id&#x27;]</pre></div></div></div><div class=\"sk-serial\"><div class=\"sk-item\"><div class=\"sk-estimator sk-toggleable\"><input class=\"sk-toggleable__control sk-hidden--visually\" id=\"sk-estimator-id-3\" type=\"checkbox\" ><label for=\"sk-estimator-id-3\" class=\"sk-toggleable__label sk-toggleable__label-arrow\">OneHotEncoder</label><div class=\"sk-toggleable__content\"><pre>OneHotEncoder(handle_unknown=&#x27;ignore&#x27;)</pre></div></div></div></div></div></div><div class=\"sk-parallel-item\"><div class=\"sk-item\"><div class=\"sk-label-container\"><div class=\"sk-label sk-toggleable\"><input class=\"sk-toggleable__control sk-hidden--visually\" id=\"sk-estimator-id-4\" type=\"checkbox\" ><label for=\"sk-estimator-id-4\" class=\"sk-toggleable__label sk-toggleable__label-arrow\">StandardScaler</label><div class=\"sk-toggleable__content\"><pre>[&#x27;pm2_5&#x27;, &#x27;pm10&#x27;, &#x27;co&#x27;, &#x27;no2&#x27;, &#x27;o3&#x27;, &#x27;so2&#x27;, &#x27;nh3&#x27;, &#x27;temperature_2m&#x27;, &#x27;relativehumidity_2m&#x27;, &#x27;dewpoint_2m&#x27;, &#x27;apparent_temperature&#x27;, &#x27;pressure_msl&#x27;, &#x27;surface_pressure&#x27;, &#x27;precipitation&#x27;, &#x27;rain&#x27;, &#x27;snowfall&#x27;, &#x27;cloudcover&#x27;, &#x27;cloudcover_low&#x27;, &#x27;cloudcover_mid&#x27;, &#x27;cloudcover_high&#x27;, &#x27;shortwave_radiation&#x27;, &#x27;direct_radiation&#x27;, &#x27;diffuse_radiation&#x27;, &#x27;direct_normal_irradiance&#x27;, &#x27;windspeed_10m&#x27;, &#x27;winddirection_10m&#x27;, &#x27;windgusts_10m&#x27;]</pre></div></div></div><div class=\"sk-serial\"><div class=\"sk-item\"><div class=\"sk-estimator sk-toggleable\"><input class=\"sk-toggleable__control sk-hidden--visually\" id=\"sk-estimator-id-5\" type=\"checkbox\" ><label for=\"sk-estimator-id-5\" class=\"sk-toggleable__label sk-toggleable__label-arrow\">StandardScaler</label><div class=\"sk-toggleable__content\"><pre>StandardScaler()</pre></div></div></div></div></div></div></div></div></div></div>"
      ],
      "text/plain": [
       "ColumnTransformer(transformers=[('OneHot',\n",
       "                                 OneHotEncoder(handle_unknown='ignore'),\n",
       "                                 ['hour', 'month', 'weekday', 'object_id']),\n",
       "                                ('StandardScaler', StandardScaler(),\n",
       "                                 ['pm2_5', 'pm10', 'co', 'no2', 'o3', 'so2',\n",
       "                                  'nh3', 'temperature_2m',\n",
       "                                  'relativehumidity_2m', 'dewpoint_2m',\n",
       "                                  'apparent_temperature', 'pressure_msl',\n",
       "                                  'surface_pressure', 'precipitation', 'rain',\n",
       "                                  'snowfall', 'cloudcover', 'cloudcover_low',\n",
       "                                  'cloudcover_mid', 'cloudcover_high',\n",
       "                                  'shortwave_radiation', 'direct_radiation',\n",
       "                                  'diffuse_radiation',\n",
       "                                  'direct_normal_irradiance', 'windspeed_10m',\n",
       "                                  'winddirection_10m', 'windgusts_10m'])])"
      ]
     },
     "execution_count": 22,
     "metadata": {},
     "output_type": "execute_result"
    }
   ],
   "source": [
    "t = ColumnTransformer(\n",
    "    transformers=[\n",
    "        (\"OneHot\", OneHotEncoder(handle_unknown=\"ignore\"), one_hot_var),\n",
    "        (\"StandardScaler\", StandardScaler(), numerical_var),\n",
    "    ]\n",
    ")\n",
    "\n",
    "# fit the encoder\n",
    "t.fit(X_train, y_train)"
   ]
  },
  {
   "cell_type": "code",
   "execution_count": 23,
   "metadata": {},
   "outputs": [],
   "source": [
    "# Save encoder\n",
    "pickle.dump(t, open(\"../model/model_noise_level_file40/encoder.pkl\", \"wb\"))"
   ]
  },
  {
   "cell_type": "code",
   "execution_count": 24,
   "metadata": {
    "executionInfo": {
     "elapsed": 5,
     "status": "ok",
     "timestamp": 1684703879767,
     "user": {
      "displayName": "Ken Le",
      "userId": "02524318770864979503"
     },
     "user_tz": -120
    },
    "id": "dYCwEhSx9v9P"
   },
   "outputs": [],
   "source": [
    "# create pandas DataFrame from dense matrix\n",
    "X_train = pd.DataFrame(t.fit_transform(X_train), columns=t.get_feature_names_out())\n",
    "X_val = pd.DataFrame(t.transform(X_val), columns=t.get_feature_names_out())"
   ]
  },
  {
   "cell_type": "markdown",
   "metadata": {
    "id": "irLjEttq97oS"
   },
   "source": [
    "## Predict laf50"
   ]
  },
  {
   "cell_type": "markdown",
   "metadata": {},
   "source": [
    "Here we predict the 50th percentile LAF level per hour. We use RandomizedSearchCV to find the optimal hyperparameters for RandomForest, GardientBoosting, and XGB. </br>\n",
    "The same methodology is later applied to find models for the 25th and 75th percentile LAF. </br>\n",
    "As so often, XGB performs best in both train and validation sets, and is therefore our model of choice."
   ]
  },
  {
   "cell_type": "code",
   "execution_count": 25,
   "metadata": {
    "colab": {
     "base_uri": "https://localhost:8080/"
    },
    "executionInfo": {
     "elapsed": 2934027,
     "status": "ok",
     "timestamp": 1684703432834,
     "user": {
      "displayName": "Ken Le",
      "userId": "02524318770864979503"
     },
     "user_tz": -120
    },
    "id": "6rXj_i3y99Ze",
    "outputId": "167377fe-3a99-4916-ad4c-60ad8ea54203"
   },
   "outputs": [
    {
     "name": "stdout",
     "output_type": "stream",
     "text": [
      "Params have already been searched and saved, so instead we just load the file\n"
     ]
    }
   ],
   "source": [
    "if os.path.isfile(\"../model/model_noise_level_file40/laf50_per_hour_dict\"):\n",
    "    model_params = {\n",
    "        \"random_forest\": {\n",
    "            \"model\": RandomForestRegressor(),\n",
    "            \"params\": {\n",
    "                \"n_estimators\": randint(50, 100),\n",
    "                \"max_depth\": randint(3, 50),\n",
    "                \"max_features\": [\"auto\", \"sqrt\"],\n",
    "                \"min_samples_split\": randint(2, 20),\n",
    "                \"min_samples_leaf\": randint(1, 10),\n",
    "                \"bootstrap\": [True, False],\n",
    "            },\n",
    "        },\n",
    "        \"gradient_boosting\": {\n",
    "            \"model\": GradientBoostingRegressor(),\n",
    "            \"params\": {\n",
    "                \"n_estimators\": randint(50, 100),\n",
    "                \"learning_rate\": uniform(0.01, 0.5),\n",
    "                \"max_depth\": randint(1, 10),\n",
    "                \"min_samples_split\": randint(2, 20),\n",
    "                \"min_samples_leaf\": randint(1, 10),\n",
    "            },\n",
    "        },\n",
    "        \"xgboost\": {\n",
    "            \"model\": xgboost.XGBRegressor(),\n",
    "            \"params\": {\n",
    "                \"n_estimators\": randint(50, 100),\n",
    "                \"learning_rate\": uniform(0.01, 0.5),\n",
    "                \"max_depth\": randint(1, 10),\n",
    "                \"min_child_weight\": randint(1, 10),\n",
    "                \"gamma\": uniform(0, 1),\n",
    "                \"reg_alpha\": uniform(0, 1),\n",
    "                \"reg_lambda\": uniform(0, 1),\n",
    "            },\n",
    "        },\n",
    "    }\n",
    "\n",
    "# Using RandomizedSearch CV to tune hyperparams, if tuning was done in the past results are loaded from .pckl file\n",
    "if os.path.isfile(\"../model/model_noise_level_file40/laf50_per_hour_dict.pkl\"):\n",
    "    print(\n",
    "        \"Params have already been searched and saved, so instead we just load the file\"\n",
    "    )\n",
    "    params_dict = pickle.load(\n",
    "        open(\"../model/model_noise_level_file40/laf50_per_hour_dict.pkl\", \"rb\")\n",
    "    )\n",
    "else:\n",
    "    # Define the model parameters\n",
    "    params_dict = {}\n",
    "\n",
    "    # Loop through each model in model_params and run RandomizedSearchCV\n",
    "    for model_name, model_info in model_params.items():\n",
    "        print(\"Running RandomizedSearchCV for {}...\".format(model_name))\n",
    "\n",
    "        # Create a RandomizedSearchCV object for the current model\n",
    "        model = model_info[\"model\"]\n",
    "        param_dist = model_info[\"params\"]\n",
    "        random_search = RandomizedSearchCV(\n",
    "            model,\n",
    "            param_distributions=param_dist,\n",
    "            n_iter=10,\n",
    "            cv=5,\n",
    "            n_jobs=1,\n",
    "            random_state=7,\n",
    "        )\n",
    "\n",
    "        # Fit the RandomizedSearchCV object to the data\n",
    "        random_search.fit(X_train, y_train[\"laf50_per_hour\"])\n",
    "        params_dict[model_name] = random_search.best_params_\n",
    "\n",
    "        # Print the best parameters and score\n",
    "        for model_name, model_info in model_params.items():\n",
    "            print(\"Best parameters for {}: \".format(model_name), random_search.best_params_)\n",
    "            print(\"Best score for {}: \".format(model_name), random_search.best_score_)\n",
    "            print(\"\\n\")"
   ]
  },
  {
   "cell_type": "code",
   "execution_count": 26,
   "metadata": {},
   "outputs": [],
   "source": [
    "# Save optimal param dictionary\n",
    "pickle.dump(\n",
    "    params_dict, open(\"../model/model_noise_level_file40/laf50_per_hour_dict.pkl\", \"wb\")\n",
    ")"
   ]
  },
  {
   "cell_type": "code",
   "execution_count": 27,
   "metadata": {
    "colab": {
     "base_uri": "https://localhost:8080/"
    },
    "executionInfo": {
     "elapsed": 69174,
     "status": "ok",
     "timestamp": 1684704022668,
     "user": {
      "displayName": "Ken Le",
      "userId": "02524318770864979503"
     },
     "user_tz": -120
    },
    "id": "cNzGJHuUKIoW",
    "outputId": "d8c3e6db-d0dd-43ee-9d05-2e9e79464d57"
   },
   "outputs": [
    {
     "name": "stdout",
     "output_type": "stream",
     "text": [
      "Train RMSE: 1.5910264458354786\n",
      "Val RMSE: 2.4345394590473357\n",
      "Train MAE: 1.1122357742340818\n",
      "Val MAE: 1.6399656640092948\n"
     ]
    }
   ],
   "source": [
    "gb_params = params_dict[\"gradient_boosting\"]\n",
    "\n",
    "gb = GradientBoostingRegressor(**gb_params, random_state=7)\n",
    "\n",
    "gb.fit(X_train, y_train[\"laf50_per_hour\"])\n",
    "\n",
    "train_preds = gb.predict(X_train)\n",
    "val_preds = gb.predict(X_val)\n",
    "\n",
    "print(\n",
    "    \"Train RMSE:\", np.sqrt(mean_squared_error(train_preds, y_train[\"laf50_per_hour\"]))\n",
    ")\n",
    "print(\"Val RMSE:\", np.sqrt(mean_squared_error(val_preds, y_val[\"laf50_per_hour\"])))\n",
    "print(\"Train MAE:\", mean_absolute_error(train_preds, y_train[\"laf50_per_hour\"]))\n",
    "print(\"Val MAE:\", mean_absolute_error(val_preds, y_val[\"laf50_per_hour\"]))"
   ]
  },
  {
   "cell_type": "code",
   "execution_count": 28,
   "metadata": {
    "colab": {
     "base_uri": "https://localhost:8080/"
    },
    "executionInfo": {
     "elapsed": 8109,
     "status": "ok",
     "timestamp": 1684704030764,
     "user": {
      "displayName": "Ken Le",
      "userId": "02524318770864979503"
     },
     "user_tz": -120
    },
    "id": "E-BLw107KY0c",
    "outputId": "37dbd3fe-a7da-4ff4-9d14-4ad7ed1f2e0e"
   },
   "outputs": [
    {
     "name": "stdout",
     "output_type": "stream",
     "text": [
      "Train RMSE: 1.2752919994675074\n",
      "Val RMSE: 2.5218920672648397\n",
      "Train MAE: 0.8410768935471777\n",
      "Val MAE: 1.6529127253665743\n"
     ]
    }
   ],
   "source": [
    "rf_params = params_dict[\"random_forest\"]\n",
    "\n",
    "rf = RandomForestRegressor(**rf_params, random_state=7)\n",
    "\n",
    "rf.fit(X_train, y_train[\"laf50_per_hour\"])\n",
    "\n",
    "train_preds = rf.predict(X_train)\n",
    "val_preds = rf.predict(X_val)\n",
    "\n",
    "print(\"Train RMSE:\", np.sqrt(mean_squared_error(train_preds, y_train[\"laf50_per_hour\"])))\n",
    "print(\"Val RMSE:\", np.sqrt(mean_squared_error(val_preds, y_val[\"laf50_per_hour\"])))\n",
    "print(\"Train MAE:\", mean_absolute_error(train_preds, y_train[\"laf50_per_hour\"]))\n",
    "print(\"Val MAE:\", mean_absolute_error(val_preds, y_val[\"laf50_per_hour\"]))"
   ]
  },
  {
   "cell_type": "code",
   "execution_count": 29,
   "metadata": {
    "colab": {
     "base_uri": "https://localhost:8080/"
    },
    "executionInfo": {
     "elapsed": 18886,
     "status": "ok",
     "timestamp": 1684704049637,
     "user": {
      "displayName": "Ken Le",
      "userId": "02524318770864979503"
     },
     "user_tz": -120
    },
    "id": "ogHkWY5yKf1a",
    "outputId": "11550677-7f68-4741-f643-4575e8568af5"
   },
   "outputs": [
    {
     "name": "stdout",
     "output_type": "stream",
     "text": [
      "Train RMSE: 1.18945351883048\n",
      "Val RMSE: 2.2361555984891868\n",
      "Train MAE: 0.8379353141784668\n",
      "Val MAE: 1.484125030497523\n"
     ]
    }
   ],
   "source": [
    "\n",
    "xgb_params = params_dict[\"xgboost\"]\n",
    "\n",
    "xgb = xgboost.XGBRegressor(**xgb_params, random_state=7)\n",
    "\n",
    "xgb.fit(X_train, y_train[\"laf50_per_hour\"])\n",
    "\n",
    "train_preds = xgb.predict(X_train)\n",
    "val_preds = xgb.predict(X_val)\n",
    "\n",
    "\n",
    "print(\"Train RMSE:\", np.sqrt(mean_squared_error(train_preds, y_train[\"laf50_per_hour\"])))\n",
    "print(\"Val RMSE:\", np.sqrt(mean_squared_error(val_preds, y_val[\"laf50_per_hour\"])))\n",
    "print(\"Train MAE:\", mean_absolute_error(train_preds, y_train[\"laf50_per_hour\"]))\n",
    "print(\"Val MAE:\", mean_absolute_error(val_preds, y_val[\"laf50_per_hour\"]))"
   ]
  },
  {
   "cell_type": "code",
   "execution_count": 30,
   "metadata": {
    "colab": {
     "base_uri": "https://localhost:8080/",
     "height": 467
    },
    "executionInfo": {
     "elapsed": 750,
     "status": "ok",
     "timestamp": 1684704118535,
     "user": {
      "displayName": "Ken Le",
      "userId": "02524318770864979503"
     },
     "user_tz": -120
    },
    "id": "r50NdVlYKbiN",
    "outputId": "772ff71c-7b33-4413-aedb-32cdc1d4b8fe"
   },
   "outputs": [
    {
     "data": {
      "text/plain": [
       "Text(0, 0.5, 'y val')"
      ]
     },
     "execution_count": 30,
     "metadata": {},
     "output_type": "execute_result"
    },
    {
     "data": {
      "image/png": "[encoded data removed]",
      "text/plain": [
       "<Figure size 640x480 with 1 Axes>"
      ]
     },
     "metadata": {},
     "output_type": "display_data"
    }
   ],
   "source": [
    "plt.scatter(val_preds, y_val[\"laf50_per_hour\"])\n",
    "plt.xlabel(\"y pred\")\n",
    "plt.ylabel(\"y val\")"
   ]
  },
  {
   "cell_type": "code",
   "execution_count": 31,
   "metadata": {
    "colab": {
     "base_uri": "https://localhost:8080/"
    },
    "executionInfo": {
     "elapsed": 222,
     "status": "ok",
     "timestamp": 1684704122603,
     "user": {
      "displayName": "Ken Le",
      "userId": "02524318770864979503"
     },
     "user_tz": -120
    },
    "id": "j5y9j8gkLbRO",
    "outputId": "65fec1c9-a515-44ed-e733-e197df620fb0"
   },
   "outputs": [
    {
     "data": {
      "text/plain": [
       "0.8650905000296837"
      ]
     },
     "execution_count": 31,
     "metadata": {},
     "output_type": "execute_result"
    }
   ],
   "source": [
    "r2_score(val_preds, y_val[\"laf50_per_hour\"])"
   ]
  },
  {
   "cell_type": "code",
   "execution_count": 32,
   "metadata": {
    "colab": {
     "base_uri": "https://localhost:8080/",
     "height": 448
    },
    "executionInfo": {
     "elapsed": 1877,
     "status": "ok",
     "timestamp": 1684704314314,
     "user": {
      "displayName": "Ken Le",
      "userId": "02524318770864979503"
     },
     "user_tz": -120
    },
    "id": "u7Mrg_oXMwk0",
    "outputId": "1c3374d8-58d5-4820-c762-d4c5a976540f"
   },
   "outputs": [
    {
     "data": {
      "text/plain": [
       "<BarContainer object of 15 artists>"
      ]
     },
     "execution_count": 32,
     "metadata": {},
     "output_type": "execute_result"
    },
    {
     "data": {
      "image/png": "[encoded data removed]",
      "text/plain": [
       "<Figure size 640x480 with 1 Axes>"
      ]
     },
     "metadata": {},
     "output_type": "display_data"
    }
   ],
   "source": [
    "feature_importances = xgb.feature_importances_\n",
    "sorted_idx = feature_importances.argsort()[::-1]\n",
    "sorted_importances = feature_importances[sorted_idx[0:15]]\n",
    "sorted_columns = list(X_train.columns[sorted_idx[0:15]])\n",
    "plt.barh(sorted_columns, sorted_importances)"
   ]
  },
  {
   "cell_type": "code",
   "execution_count": 33,
   "metadata": {},
   "outputs": [
    {
     "data": {
      "text/plain": [
       "0.7373472917824984"
      ]
     },
     "execution_count": 33,
     "metadata": {},
     "output_type": "execute_result"
    }
   ],
   "source": [
    "sum(sorted_importances)"
   ]
  },
  {
   "cell_type": "code",
   "execution_count": 34,
   "metadata": {},
   "outputs": [],
   "source": [
    "# Saving best model\n",
    "pickle.dump(xgb, open(\"../model/model_noise_level_file40/xgb_laf50_per_hour.pkl\", \"wb\"))"
   ]
  },
  {
   "cell_type": "markdown",
   "metadata": {},
   "source": [
    "## Predict Laf 25/75"
   ]
  },
  {
   "cell_type": "code",
   "execution_count": 35,
   "metadata": {},
   "outputs": [
    {
     "name": "stdout",
     "output_type": "stream",
     "text": [
      "Params have already been searched and saved, so instead we just load the file\n",
      "Params have already been searched and saved, so instead we just load the file\n"
     ]
    }
   ],
   "source": [
    "targets = [\"laf25_per_hour\", \"laf75_per_hour\"]\n",
    "model_params_dict = {}\n",
    "for target in targets:\n",
    "    if os.path.isfile(f\"../model//model_noise_level_file40/{target}_dict.pkl\"):\n",
    "        print(\n",
    "            \"Params have already been searched and saved, so instead we just load the file\"\n",
    "        )\n",
    "        model_params_dict[target] = pickle.load(\n",
    "            open(f\"../model/model_noise_level_file40/{target}_dict.pkl\", \"rb\")\n",
    "        )\n",
    "    else:\n",
    "        # Define the model parameters\n",
    "        model_params = {\n",
    "            \"random_forest\": {\n",
    "                \"model\": RandomForestRegressor(),\n",
    "                \"params\": {\n",
    "                    \"n_estimators\": randint(50, 100),\n",
    "                    \"max_depth\": randint(3, 50),\n",
    "                    \"max_features\": [\"auto\", \"sqrt\"],\n",
    "                    \"min_samples_split\": randint(2, 20),\n",
    "                    \"min_samples_leaf\": randint(1, 10),\n",
    "                    \"bootstrap\": [True, False],\n",
    "                },\n",
    "            },\n",
    "            \"gradient_boosting\": {\n",
    "                \"model\": GradientBoostingRegressor(),\n",
    "                \"params\": {\n",
    "                    \"n_estimators\": randint(50, 100),\n",
    "                    \"learning_rate\": uniform(0.01, 0.5),\n",
    "                    \"max_depth\": randint(1, 10),\n",
    "                    \"min_samples_split\": randint(2, 20),\n",
    "                    \"min_samples_leaf\": randint(1, 10),\n",
    "                },\n",
    "            },\n",
    "            \"xgboost\": {\n",
    "                \"model\": xgboost.XGBRegressor(),\n",
    "                \"params\": {\n",
    "                    \"n_estimators\": randint(50, 100),\n",
    "                    \"learning_rate\": uniform(0.01, 0.5),\n",
    "                    \"max_depth\": randint(1, 10),\n",
    "                    \"min_child_weight\": randint(1, 10),\n",
    "                    \"gamma\": uniform(0, 1),\n",
    "                    \"reg_alpha\": uniform(0, 1),\n",
    "                    \"reg_lambda\": uniform(0, 1),\n",
    "                },\n",
    "            },\n",
    "        }\n",
    "\n",
    "        params_dict = {}\n",
    "\n",
    "        # Loop through each model in model_params and run RandomizedSearchCV\n",
    "        for model_name, model_info in model_params.items():\n",
    "            print(\"Running RandomizedSearchCV for {}...\".format(model_name))\n",
    "\n",
    "            # Create a RandomizedSearchCV object for the current model\n",
    "            model = model_info[\"model\"]\n",
    "            param_dist = model_info[\"params\"]\n",
    "            random_search = RandomizedSearchCV(\n",
    "                model,\n",
    "                param_distributions=param_dist,\n",
    "                n_iter=10,\n",
    "                cv=5,\n",
    "                n_jobs=1,\n",
    "                random_state=7,\n",
    "            )\n",
    "\n",
    "            # Fit the RandomizedSearchCV object to the data\n",
    "            random_search.fit(X_train, y_train[target])\n",
    "\n",
    "            # Print the best parameters and score\n",
    "            params_dict[model_name] = random_search.best_params_\n",
    "            print(\n",
    "                \"Best parameters for {}: \".format(model_name),\n",
    "                random_search.best_params_,\n",
    "            )\n",
    "            print(\"Best score for {}: \".format(model_name), random_search.best_score_)\n",
    "            print(\"\\n\")\n",
    "\n",
    "        model_params_dict[target] = params_dict\n",
    "        pickle.dump(\n",
    "            params_dict, open(f\"../model/model_noise_level_file40/{target}_dict.pkl\", \"wb\")\n",
    "        )"
   ]
  },
  {
   "cell_type": "markdown",
   "metadata": {},
   "source": [
    "### Running gb, rf, xgb for laf25/laf75 including RMSE/MAE scorings"
   ]
  },
  {
   "cell_type": "code",
   "execution_count": 36,
   "metadata": {},
   "outputs": [
    {
     "name": "stdout",
     "output_type": "stream",
     "text": [
      "Train RMSE of model laf25_per_hour: 1.6464051304378413\n",
      "Val RMSE of model laf25_per_hour: 2.5301549636041663\n",
      "Train MAE of model laf25_per_hour: 1.1424637667217936\n",
      "Val MAE of model laf25_per_hour: 1.6732161142674475\n",
      "Train RMSE of model laf75_per_hour: 1.515076174432507\n",
      "Val RMSE of model laf75_per_hour: 2.2952170205463416\n",
      "Train MAE of model laf75_per_hour: 1.0643538094293763\n",
      "Val MAE of model laf75_per_hour: 1.5380855104541549\n"
     ]
    }
   ],
   "source": [
    "gb_models = {}\n",
    "for target in targets:\n",
    "    gb_params = model_params_dict[target][\"gradient_boosting\"]\n",
    "\n",
    "    gb = GradientBoostingRegressor(**gb_params, random_state=7)\n",
    "\n",
    "    gb.fit(X_train, y_train[target])\n",
    "\n",
    "    train_preds = gb.predict(X_train)\n",
    "    val_preds = gb.predict(X_val)\n",
    "\n",
    "    print(\n",
    "        f\"Train RMSE of model {target}:\",\n",
    "        np.sqrt(mean_squared_error(train_preds, y_train[target])),\n",
    "    )\n",
    "    print(\n",
    "        f\"Val RMSE of model {target}:\",\n",
    "        np.sqrt(mean_squared_error(val_preds, y_val[target])),\n",
    "    )\n",
    "    print(\n",
    "        f\"Train MAE of model {target}:\",\n",
    "        mean_absolute_error(train_preds, y_train[target]),\n",
    "    )\n",
    "    print(f\"Val MAE of model {target}:\", mean_absolute_error(val_preds, y_val[target]))\n",
    "    gb_models[target] = gb"
   ]
  },
  {
   "cell_type": "code",
   "execution_count": 37,
   "metadata": {},
   "outputs": [
    {
     "name": "stdout",
     "output_type": "stream",
     "text": [
      "Train RMSE of model laf25_per_hour: 1.3343436082200673\n",
      "Val RMSE of model laf25_per_hour: 2.614682575605048\n",
      "Train MAE of model laf25_per_hour: 0.8595036569176765\n",
      "Val MAE of model laf25_per_hour: 1.6890048416060537\n",
      "Train RMSE of model laf75_per_hour: 1.1939518835962668\n",
      "Val RMSE of model laf75_per_hour: 2.4149456025382845\n",
      "Train MAE of model laf75_per_hour: 0.792195278854871\n",
      "Val MAE of model laf75_per_hour: 1.5974126272406886\n"
     ]
    }
   ],
   "source": [
    "rf_models = {}\n",
    "for target in targets:\n",
    "\n",
    "    rf_params = model_params_dict[target][\"random_forest\"]\n",
    "\n",
    "    rf = RandomForestRegressor(**rf_params, random_state=7)\n",
    "\n",
    "    rf.fit(X_train, y_train[target])\n",
    "\n",
    "    train_preds = rf.predict(X_train)\n",
    "    val_preds = rf.predict(X_val)\n",
    "\n",
    "    print(\n",
    "        f\"Train RMSE of model {target}:\",\n",
    "        np.sqrt(mean_squared_error(train_preds, y_train[target])),\n",
    "    )\n",
    "    print(\n",
    "        f\"Val RMSE of model {target}:\",\n",
    "        np.sqrt(mean_squared_error(val_preds, y_val[target])),\n",
    "    )\n",
    "    print(\n",
    "        f\"Train MAE of model {target}:\",\n",
    "        mean_absolute_error(train_preds, y_train[target]),\n",
    "    )\n",
    "    print(f\"Val MAE of model {target}:\", mean_absolute_error(val_preds, y_val[target]))\n",
    "    rf_models[target] = rf"
   ]
  },
  {
   "cell_type": "code",
   "execution_count": 38,
   "metadata": {},
   "outputs": [
    {
     "name": "stdout",
     "output_type": "stream",
     "text": [
      "Train RMSE of model laf25_per_hour: 1.3132165034954806\n",
      "Val RMSE of model laf25_per_hour: 2.3784306800521966\n",
      "Train MAE of model laf25_per_hour: 0.9100933854861979\n",
      "Val MAE of model laf25_per_hour: 1.5573840484449442\n",
      "Train RMSE of model laf75_per_hour: 1.1277934455739353\n",
      "Val RMSE of model laf75_per_hour: 2.2013469117740856\n",
      "Train MAE of model laf75_per_hour: 0.7945391835385315\n",
      "Val MAE of model laf75_per_hour: 1.440866175373769\n"
     ]
    }
   ],
   "source": [
    "xgb_models = {}\n",
    "for target in targets:\n",
    "\n",
    "    xgb_params = model_params_dict[target][\"xgboost\"]\n",
    "\n",
    "    xgb = xgboost.XGBRegressor(**xgb_params, random_state=7)\n",
    "    xgb.fit(X_train, y_train[target])\n",
    "\n",
    "    train_preds = xgb.predict(X_train)\n",
    "    val_preds = xgb.predict(X_val)\n",
    "\n",
    "    print(\n",
    "        f\"Train RMSE of model {target}:\",\n",
    "        np.sqrt(mean_squared_error(train_preds, y_train[target])),\n",
    "    )\n",
    "    print(\n",
    "        f\"Val RMSE of model {target}:\",\n",
    "        np.sqrt(mean_squared_error(val_preds, y_val[target])),\n",
    "    )\n",
    "    print(\n",
    "        f\"Train MAE of model {target}:\",\n",
    "        mean_absolute_error(train_preds, y_train[target]),\n",
    "    )\n",
    "    print(f\"Val MAE of model {target}:\", mean_absolute_error(val_preds, y_val[target]))\n",
    "    xgb_models[target] = xgb"
   ]
  },
  {
   "cell_type": "code",
   "execution_count": 39,
   "metadata": {},
   "outputs": [],
   "source": [
    "# Saving best model (XGB)\n",
    "for target in targets:\n",
    "    pickle.dump(\n",
    "        xgb_models[target],\n",
    "        open(f\"../model/model_noise_level_file40/xgb_{target}.pkl\", \"wb\"),\n",
    "    )"
   ]
  },
  {
   "cell_type": "markdown",
   "metadata": {},
   "source": [
    "# Alternative feature Matricies Models"
   ]
  },
  {
   "cell_type": "markdown",
   "metadata": {},
   "source": [
    "## Changing features\n"
   ]
  },
  {
   "cell_type": "markdown",
   "metadata": {},
   "source": [
    "Here we decided to split up our old feature matrix into 3 new matricies, to evaluate performance on their own. </br>\n",
    "They are split into \"time\" (only hour, month, weekday dummies), \"weather\", and \"air-quality\" matricies. The \"object_id\" (location) feature has been left in models"
   ]
  },
  {
   "cell_type": "code",
   "execution_count": 40,
   "metadata": {},
   "outputs": [
    {
     "name": "stderr",
     "output_type": "stream",
     "text": [
      "C:\\Users\\jef-w\\AppData\\Local\\Temp\\ipykernel_16608\\1723593949.py:18: UserWarning: Pandas doesn't allow columns to be created via a new attribute name - see https://pandas.pydata.org/pandas-docs/stable/indexing.html#attribute-access\n",
      "  df.train, df.val = train_test_split(df, test_size=0.2, random_state=7)\n"
     ]
    }
   ],
   "source": [
    "# 3 different feature matrices based on the 3 different main data types (time, weather, air_quality)\n",
    "time_df = data_model_v2[['object_id', 'hour', 'month', 'weekday']]\n",
    "time_df.name = \"time_df\"\n",
    "weather_df = data_model_v2[['object_id','temperature_2m',\n",
    "       'relativehumidity_2m', 'dewpoint_2m', 'apparent_temperature',\n",
    "       'pressure_msl', 'surface_pressure', 'precipitation', 'rain', 'snowfall',\n",
    "       'cloudcover', 'cloudcover_low', 'cloudcover_mid', 'cloudcover_high',\n",
    "       'shortwave_radiation', 'direct_radiation', 'diffuse_radiation',\n",
    "       'direct_normal_irradiance', 'windspeed_10m', 'winddirection_10m',\n",
    "       'windgusts_10m']]\n",
    "weather_df.name = \"weather_df\"\n",
    "air_df = data_model_v2[['object_id','pm2_5', 'pm10','co', 'no2', 'o3', 'so2', 'nh3']]\n",
    "air_df.name = \"air_df\"\n",
    "feature_dfs = [time_df, air_df, weather_df]\n",
    "\n",
    "for df in feature_dfs:\n",
    "       # Using same split random state as before\n",
    "       df.train, df.val = train_test_split(df, test_size=0.2, random_state=7)\n"
   ]
  },
  {
   "cell_type": "code",
   "execution_count": 41,
   "metadata": {},
   "outputs": [],
   "source": [
    "# Building 3 different transformers for the feature matrices\n",
    "\n",
    "t_time = ColumnTransformer(\n",
    "    transformers=[\n",
    "        (\"OneHot\", OneHotEncoder(handle_unknown=\"ignore\"), time_df.columns)\n",
    "    ]\n",
    ")\n",
    "\n",
    "# fit the encoder\n",
    "t_time.fit(time_df.train, y_train)\n",
    "time_df.encoder= t_time\n",
    "\n",
    "t_air = ColumnTransformer(\n",
    "    transformers=[\n",
    "        (\"OneHot\", OneHotEncoder(handle_unknown=\"ignore\"), [\"object_id\"]),\n",
    "        (\"StandardScaler\", StandardScaler(), ['pm2_5', 'pm10','co', 'no2', 'o3', 'so2', 'nh3']),\n",
    "    ]\n",
    ")\n",
    "\n",
    "# fit the encoder\n",
    "t_air.fit(air_df.train, y_train)\n",
    "air_df.encoder = t_air\n",
    "\n",
    "t_weather = ColumnTransformer (\n",
    "    transformers=[\n",
    "        (\"OneHot\", OneHotEncoder(handle_unknown=\"ignore\"), [\"object_id\"]),\n",
    "        (\"StandardScaler\", StandardScaler(), ['temperature_2m',\n",
    "       'relativehumidity_2m', 'dewpoint_2m', 'apparent_temperature',\n",
    "       'pressure_msl', 'surface_pressure', 'precipitation', 'rain', 'snowfall',\n",
    "       'cloudcover', 'cloudcover_low', 'cloudcover_mid', 'cloudcover_high',\n",
    "       'shortwave_radiation', 'direct_radiation', 'diffuse_radiation',\n",
    "       'direct_normal_irradiance', 'windspeed_10m', 'winddirection_10m',\n",
    "       'windgusts_10m']),\n",
    "    ]\n",
    ")\n",
    "\n",
    "# fit the encoder\n",
    "t_weather.fit(weather_df.train, y_train)\n",
    "weather_df.encoder = t_weather"
   ]
  },
  {
   "cell_type": "code",
   "execution_count": 42,
   "metadata": {},
   "outputs": [],
   "source": [
    "# create pandas DataFrame from dense matrix\n",
    "\n",
    "time_df.train = pd.DataFrame((time_df.encoder.fit_transform(time_df.train)).toarray(), columns=time_df.encoder.get_feature_names_out())\n",
    "time_df.val = pd.DataFrame((time_df.encoder.fit_transform(time_df.val)).toarray(), columns=time_df.encoder.get_feature_names_out())\n",
    "\n",
    "air_df.train = pd.DataFrame((air_df.encoder.fit_transform(air_df.train)), columns=air_df.encoder.get_feature_names_out())\n",
    "air_df.val = pd.DataFrame((air_df.encoder.fit_transform(air_df.val)), columns=air_df.encoder.get_feature_names_out())\n",
    "\n",
    "weather_df.train = pd.DataFrame((weather_df.encoder.fit_transform(weather_df.train)), columns=weather_df.encoder.get_feature_names_out())\n",
    "weather_df.val = pd.DataFrame((weather_df.encoder.fit_transform(weather_df.val)), columns=weather_df.encoder.get_feature_names_out())\n"
   ]
  },
  {
   "cell_type": "markdown",
   "metadata": {},
   "source": [
    "### RF, GB, XGB"
   ]
  },
  {
   "cell_type": "code",
   "execution_count": 43,
   "metadata": {},
   "outputs": [
    {
     "name": "stdout",
     "output_type": "stream",
     "text": [
      "Params have already been searched and saved, so instead we just load the file\n"
     ]
    }
   ],
   "source": [
    "model_params_dict = {}\n",
    "\n",
    "# Checking if Search has been done previously\n",
    "if os.path.isfile(\"multiple_features_matrix.pkl\"):\n",
    "    print(\n",
    "        \"Params have already been searched and saved, so instead we just load the file\"\n",
    "    )\n",
    "    model_params_dict = pickle.load(\n",
    "        open(\"multiple_features_matrix.pkl\", \"rb\")\n",
    "    )\n",
    "else: \n",
    "    for df in feature_dfs:\n",
    "        # Define the model parameters\n",
    "        model_params = {\n",
    "            \"random_forest\": {\n",
    "                \"model\": RandomForestRegressor(),\n",
    "                \"params\": {\n",
    "                    \"n_estimators\": randint(50, 100),\n",
    "                    \"max_depth\": randint(3, 50),\n",
    "                    \"max_features\": [\"auto\", \"sqrt\"],\n",
    "                    \"min_samples_split\": randint(2, 20),\n",
    "                    \"min_samples_leaf\": randint(1, 10),\n",
    "                    \"bootstrap\": [True, False],\n",
    "                },\n",
    "            },\n",
    "            \"gradient_boosting\": {\n",
    "                \"model\": GradientBoostingRegressor(),\n",
    "                \"params\": {\n",
    "                    \"n_estimators\": randint(50, 100),\n",
    "                    \"learning_rate\": uniform(0.01, 0.5),\n",
    "                    \"max_depth\": randint(1, 10),\n",
    "                    \"min_samples_split\": randint(2, 20),\n",
    "                    \"min_samples_leaf\": randint(1, 10),\n",
    "                },\n",
    "            },\n",
    "            \"xgboost\": {\n",
    "                \"model\": xgboost.XGBRegressor(),\n",
    "                \"params\": {\n",
    "                    \"n_estimators\": randint(50, 100),\n",
    "                    \"learning_rate\": uniform(0.01, 0.5),\n",
    "                    \"max_depth\": randint(1, 10),\n",
    "                    \"min_child_weight\": randint(1, 10),\n",
    "                    \"gamma\": uniform(0, 1),\n",
    "                    \"reg_alpha\": uniform(0, 1),\n",
    "                    \"reg_lambda\": uniform(0, 1),\n",
    "                },\n",
    "            },\n",
    "        }\n",
    "\n",
    "        params_dict = {}\n",
    "\n",
    "        # Loop through each model in model_params and run RandomizedSearchCV\n",
    "        for model_name, model_info in model_params.items():\n",
    "            print(\"Running RandomizedSearchCV for {}...\".format(model_name))\n",
    "\n",
    "            # Create a RandomizedSearchCV object for the current model\n",
    "            model = model_info[\"model\"]\n",
    "            param_dist = model_info[\"params\"]\n",
    "            random_search = RandomizedSearchCV(\n",
    "                model,\n",
    "                param_distributions=param_dist,\n",
    "                n_iter=10,\n",
    "                cv=5,\n",
    "                n_jobs=1,\n",
    "                random_state=7,\n",
    "            )\n",
    "\n",
    "            # Fit the RandomizedSearchCV object to the data\n",
    "            random_search.fit(df.train, y_train[\"laf50_per_hour\"])\n",
    "\n",
    "            # Print the best parameters and score\n",
    "            params_dict[model_name] = random_search.best_params_\n",
    "            print(\n",
    "                \"Best parameters for {}: \".format(model_name),\n",
    "                random_search.best_params_,\n",
    "            )\n",
    "            print(\"Best score for {}: \".format(model_name), random_search.best_score_)\n",
    "            print(\"\\n\")\n",
    "\n",
    "        model_params_dict[df.name] = params_dict\n"
   ]
  },
  {
   "cell_type": "code",
   "execution_count": 44,
   "metadata": {},
   "outputs": [],
   "source": [
    "# Saving the optimal hyper params per model and df \n",
    "pickle.dump(\n",
    "    model_params_dict,\n",
    "    open(f\"multiple_features_matrix.pkl\", \"wb\"),\n",
    ")"
   ]
  },
  {
   "cell_type": "code",
   "execution_count": 45,
   "metadata": {},
   "outputs": [
    {
     "name": "stdout",
     "output_type": "stream",
     "text": [
      "time_df  random_forest model test R²: 0.7353128884386007\n",
      "time_df  random_forest model validation R²: 0.6873292886254072\n",
      "time_df  gradient_boosting model test R²: 0.7495409766966195\n",
      "time_df  gradient_boosting model validation R²: 0.7053143680125107\n",
      "time_df  xgboost model test R²: 0.7558687504785749\n",
      "time_df  xgboost model validation R²: 0.7057440903386165\n",
      "time_df  linear_model model test R²: 0.5824160033901952\n",
      "time_df  linear_model model validation R²: 0.5686824854507759\n",
      "air_df  random_forest model test R²: 0.969303152473037\n",
      "air_df  random_forest model validation R²: 0.6431075909121673\n",
      "air_df  gradient_boosting model test R²: 0.8556455750688481\n",
      "air_df  gradient_boosting model validation R²: 0.6136072600291391\n",
      "air_df  xgboost model test R²: 0.9072063798481554\n",
      "air_df  xgboost model validation R²: 0.6554381164338823\n",
      "air_df  linear_model model test R²: 0.1809044195404128\n",
      "air_df  linear_model model validation R²: 0.1747300662682454\n",
      "weather_df  random_forest model test R²: 0.9764216268109708\n",
      "weather_df  random_forest model validation R²: 0.8031536616375786\n",
      "weather_df  gradient_boosting model test R²: 0.8967067162865596\n",
      "weather_df  gradient_boosting model validation R²: 0.7632955331679112\n",
      "weather_df  xgboost model test R²: 0.9403814908006225\n",
      "weather_df  xgboost model validation R²: 0.7925048947235632\n",
      "weather_df  linear_model model test R²: 0.3149114021154493\n",
      "weather_df  linear_model model validation R²: 0.31118459815813804\n"
     ]
    }
   ],
   "source": [
    "from sklearn.linear_model import LinearRegression\n",
    "\n",
    "used_models = [\"random_forest\",\"gradient_boosting\",\"xgboost\", \"linear_model\"]\n",
    "global_model_dictionary = {}\n",
    "for df in feature_dfs:\n",
    "    local_model_dictionary = {}\n",
    "    for model in used_models: \n",
    "        if model != \"linear_model\":\n",
    "            model_hyper_params = model_params_dict[df.name][model]\n",
    "\n",
    "        if model == \"gradient_boosting\":\n",
    "            current_model = GradientBoostingRegressor(**model_hyper_params, random_state=7)\n",
    "        elif model == \"random_forest\": \n",
    "            current_model = RandomForestRegressor(**model_hyper_params, random_state=7)\n",
    "        elif model == \"linear_model\":\n",
    "            current_model = LinearRegression()\n",
    "        else:\n",
    "            current_model = xgboost.XGBRegressor(**model_hyper_params, random_state=7)\n",
    "        \n",
    "        # Fitting and saving model\n",
    "        current_model.fit(df.train, y_train[\"laf50_per_hour\"])\n",
    "        local_model_dictionary[model] = current_model\n",
    "        \n",
    "        # Predicting and calculating scores\n",
    "        train_preds = current_model.predict(df.train)\n",
    "        val_preds = current_model.predict(df.val)\n",
    "        test_r2= r2_score(y_train['laf50_per_hour'],train_preds)\n",
    "        val_r2 = r2_score(y_val['laf50_per_hour'],val_preds)\n",
    "        \n",
    "        # Saving and printing scores\n",
    "        local_model_dictionary[model,\"test_r2\"] = test_r2\n",
    "        local_model_dictionary[model,\"val_r2\"] = val_r2\n",
    "        \n",
    "        print(f\"{df.name}  {model} model test R²: {test_r2}\")\n",
    "        print(f\"{df.name}  {model} model validation R²: {val_r2}\")\n",
    "    # Adding all models to dictionary for respective df\n",
    "    global_model_dictionary[df.name] = local_model_dictionary"
   ]
  },
  {
   "cell_type": "markdown",
   "metadata": {},
   "source": [
    "### Basic linear model location model"
   ]
  },
  {
   "cell_type": "code",
   "execution_count": 46,
   "metadata": {},
   "outputs": [],
   "source": [
    "# Translating object_ids back into locations for readability\n",
    "object_id_dict = {\n",
    "    255439: \"MP 01: Naamsestraat 35 Maxim\",\n",
    "    255440: \"MP 02: Naamsestraat 57 Xior\",\n",
    "    255441: \"MP 03: Naamsestraat 62 Taste\",\n",
    "    303910: \"MP 04: His & Hears\",\n",
    "    255442: \"MP 05: Calvariekapel KU Leuven\",\n",
    "    255443: \"MP 06: Parkstraat 2 La Filosovia\",\n",
    "    255444: \"MP 07: Naamsestraat 81\",\n",
    "    280324: \"MP08bis - Vrijthof\",\n",
    "}\n",
    "location_only = data_model_v2[\"object_id\"].apply(lambda x: object_id_dict[x])\n",
    "location_train, location_val = train_test_split(location_only, test_size=0.2, random_state=7)"
   ]
  },
  {
   "cell_type": "code",
   "execution_count": 47,
   "metadata": {},
   "outputs": [
    {
     "name": "stdout",
     "output_type": "stream",
     "text": [
      "R2 coefficen val: 0.1220631668268346\n"
     ]
    }
   ],
   "source": [
    "from sklearn.linear_model import LinearRegression\n",
    "location_train = pd.get_dummies(location_train)\n",
    "location_val = pd.get_dummies(location_val)\n",
    "\n",
    "lm  = LinearRegression()\n",
    "lm.fit(location_train,y_train['laf50_per_hour'])\n",
    "val_pred = lm.predict(location_val)\n",
    "print(f\"R2 coefficen val: {r2_score(y_val['laf50_per_hour'],val_pred)}\")\n"
   ]
  },
  {
   "cell_type": "code",
   "execution_count": 48,
   "metadata": {},
   "outputs": [
    {
     "name": "stdout",
     "output_type": "stream",
     "text": [
      "R2 coefficen val: 0.5751351009288937\n"
     ]
    }
   ],
   "source": [
    "## Lm on full set\n",
    "\n",
    "lm = LinearRegression()\n",
    "lm.fit(X_train,y_train['laf50_per_hour'])\n",
    "val_pred = lm.predict(X_val)\n",
    "print(f\"R2 coefficen val: {r2_score(y_val['laf50_per_hour'],val_pred)}\")"
   ]
  },
  {
   "cell_type": "markdown",
   "metadata": {},
   "source": [
    "# Transforming targets"
   ]
  },
  {
   "cell_type": "code",
   "execution_count": 49,
   "metadata": {},
   "outputs": [
    {
     "name": "stderr",
     "output_type": "stream",
     "text": [
      "C:\\Users\\jef-w\\AppData\\Local\\Temp\\ipykernel_16608\\1259458630.py:2: FutureWarning: The default value of numeric_only in DataFrameGroupBy.mean is deprecated. In a future version, numeric_only will default to False. Either specify numeric_only or select only columns which should be valid for the function.\n",
      "  grouped_data = data_model_v2.groupby([\"hour\"], as_index=False).mean()\n"
     ]
    },
    {
     "data": {
      "image/png": "[encoded data removed]",
      "text/plain": [
       "<Figure size 640x480 with 1 Axes>"
      ]
     },
     "metadata": {},
     "output_type": "display_data"
    }
   ],
   "source": [
    "## Plotting old TS\n",
    "grouped_data = data_model_v2.groupby([\"hour\"], as_index=False).mean()\n",
    "plt.plot(grouped_data[\"hour\"],grouped_data[\"laf50_per_hour\"])\n",
    "plt.show()\n"
   ]
  },
  {
   "cell_type": "code",
   "execution_count": 50,
   "metadata": {},
   "outputs": [],
   "source": [
    "test_df  = data_model_v2.copy()\n",
    "for hour in range(0,24):\n",
    "    test_df[\"laf50_per_hour\"] = np.where(test_df[\"hour\"]==hour, test_df[\"laf50_per_hour\"]-data_model_v2.loc[data_model_v2[\"hour\"]==hour][\"laf50_per_hour\"].mean(),test_df[\"laf50_per_hour\"])"
   ]
  },
  {
   "cell_type": "code",
   "execution_count": 51,
   "metadata": {},
   "outputs": [
    {
     "name": "stderr",
     "output_type": "stream",
     "text": [
      "C:\\Users\\jef-w\\AppData\\Local\\Temp\\ipykernel_16608\\1572623187.py:2: FutureWarning: The default value of numeric_only in DataFrameGroupBy.mean is deprecated. In a future version, numeric_only will default to False. Either specify numeric_only or select only columns which should be valid for the function.\n",
      "  grouped_data = test_df.groupby([\"hour\"], as_index=False).mean()\n"
     ]
    },
    {
     "data": {
      "image/png": "[encoded data removed]",
      "text/plain": [
       "<Figure size 640x480 with 1 Axes>"
      ]
     },
     "metadata": {},
     "output_type": "display_data"
    }
   ],
   "source": [
    "## Plotting New TS\n",
    "grouped_data = test_df.groupby([\"hour\"], as_index=False).mean()\n",
    "plt.plot(grouped_data[\"hour\"],grouped_data[\"laf50_per_hour\"])\n",
    "plt.show()\n"
   ]
  },
  {
   "cell_type": "code",
   "execution_count": null,
   "metadata": {},
   "outputs": [],
   "source": []
  }
 ],
 "metadata": {
  "colab": {
   "authorship_tag": "ABX9TyOV38OW+fMi6VEPMT9Bnj+E",
   "provenance": []
  },
  "kernelspec": {
   "display_name": "Python 3 (ipykernel)",
   "language": "python",
   "name": "python3"
  },
  "language_info": {
   "codemirror_mode": {
    "name": "ipython",
    "version": 3
   },
   "file_extension": ".py",
   "mimetype": "text/x-python",
   "name": "python",
   "nbconvert_exporter": "python",
   "pygments_lexer": "ipython3",
   "version": "3.10.11"
  }
 },
 "nbformat": 4,
 "nbformat_minor": 1
}
