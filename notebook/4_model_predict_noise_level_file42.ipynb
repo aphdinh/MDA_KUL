{
 "cells": [
  {
   "cell_type": "code",
   "execution_count": null,
   "metadata": {
    "executionInfo": {
     "elapsed": 219,
     "status": "ok",
     "timestamp": 1685390353313,
     "user": {
      "displayName": "Ken Le",
      "userId": "02524318770864979503"
     },
     "user_tz": -120
    },
    "id": "BXDblghe14zU"
   },
   "outputs": [],
   "source": [
    "import pandas as pd\n",
    "import matplotlib.pyplot as plt\n",
    "import numpy as np\n",
    "import seaborn as sns\n",
    "import datetime as dt\n",
    "import xgboost \n",
    "import os\n",
    "import pickle\n",
    "\n",
    "from sklearn.compose import ColumnTransformer\n",
    "from sklearn.model_selection import train_test_split, cross_validate\n",
    "from sklearn.preprocessing import FunctionTransformer, OneHotEncoder, StandardScaler, LabelEncoder\n",
    "from sklearn.pipeline import Pipeline\n",
    "from sklearn.impute import SimpleImputer\n",
    "from sklearn.preprocessing import StandardScaler\n",
    "from sklearn.linear_model import Ridge, Lasso, ElasticNet\n",
    "from sklearn.metrics import mean_squared_error, r2_score, mean_absolute_error\n",
    "from sklearn.ensemble import ExtraTreesClassifier\n",
    "from sklearn.model_selection import KFold, GridSearchCV, RandomizedSearchCV\n",
    "from sklearn.feature_selection import SelectFromModel\n",
    "from sklearn.ensemble import (\n",
    "    RandomForestRegressor,\n",
    "    GradientBoostingRegressor,\n",
    "    ExtraTreesClassifier,\n",
    ")\n",
    "from sklearn.svm import SVR\n",
    "from scipy.stats import randint, uniform"
   ]
  },
  {
   "cell_type": "markdown",
   "metadata": {
    "id": "k3c0L4Vv2BrN"
   },
   "source": [

    "## Process Weather Data"

   ]
  },
  {
   "cell_type": "code",
   "execution_count": null,
   "metadata": {
    "executionInfo": {
     "elapsed": 1290,
     "status": "ok",
     "timestamp": 1685389693640,
     "user": {
      "displayName": "Ken Le",
      "userId": "02524318770864979503"
     },
     "user_tz": -120
    },
    "id": "YFqcMTOK2FqR"
   },
   "outputs": [],
   "source": [
    "weather_data = pd.read_csv(\"../data/processed_weather_data_leuven.csv\", index_col=0)\n"
   ]
  },
  {
   "cell_type": "code",
   "execution_count": null,
   "metadata": {
    "colab": {
     "base_uri": "https://localhost:8080/",
     "height": 355
    },
    "executionInfo": {
     "elapsed": 48,
     "status": "ok",
     "timestamp": 1685389693642,
     "user": {
      "displayName": "Ken Le",
      "userId": "02524318770864979503"
     },
     "user_tz": -120
    },
    "id": "N0Al397t2G9T",
    "outputId": "6176c763-9ee5-42b4-8066-667b30e19f3f"
   },
   "outputs": [],
   "source": [
    "weather_data.head(4)"
   ]
  },
  {
   "cell_type": "code",
   "execution_count": null,
   "metadata": {
    "colab": {
     "base_uri": "https://localhost:8080/"
    },
    "executionInfo": {
     "elapsed": 47,
     "status": "ok",
     "timestamp": 1685389693643,
     "user": {
      "displayName": "Ken Le",
      "userId": "02524318770864979503"
     },
     "user_tz": -120
    },
    "id": "GMmkKVh72HN2",
    "outputId": "aeb36ec3-eb45-4525-a24c-e3f77305a081"
   },
   "outputs": [],
   "source": [
    "weather_data.columns"
   ]
  },
  {
   "cell_type": "code",
   "execution_count": null,
   "metadata": {
    "colab": {
     "base_uri": "https://localhost:8080/"
    },
    "executionInfo": {
     "elapsed": 39,
     "status": "ok",
     "timestamp": 1685389693645,
     "user": {
      "displayName": "Ken Le",
      "userId": "02524318770864979503"
     },
     "user_tz": -120
    },
    "id": "QphMCHmY2L3u",
    "outputId": "2fa752eb-71ae-4142-ed9f-d53ca3005563"
   },
   "outputs": [],
   "source": [
    "weather_data.dtypes"
   ]
  },
  {
   "cell_type": "code",
   "execution_count": null,
   "metadata": {
    "colab": {
     "base_uri": "https://localhost:8080/"
    },
    "executionInfo": {
     "elapsed": 35,
     "status": "ok",
     "timestamp": 1685389693646,
     "user": {
      "displayName": "Ken Le",
      "userId": "02524318770864979503"
     },
     "user_tz": -120
    },
    "id": "TsY7RVHe2NCL",
    "outputId": "4b6d37b5-a753-4295-9232-85f2e5f9e180"
   },
   "outputs": [],
   "source": [
    "np.unique(weather_data.weathercode)"
   ]
  },
  {
   "cell_type": "code",
   "execution_count": null,
   "metadata": {
    "colab": {
     "base_uri": "https://localhost:8080/",
     "height": 473
    },
    "executionInfo": {
     "elapsed": 33,
     "status": "ok",
     "timestamp": 1685389693647,
     "user": {
      "displayName": "Ken Le",
      "userId": "02524318770864979503"
     },
     "user_tz": -120
    },
    "id": "FXlBhPfU2OJY",
    "outputId": "46311bc2-c99b-42e2-e715-faf0a10752a2"
   },
   "outputs": [],
   "source": [
    "# extract from timestamp\n",
    "weather_data[\"time\"] = pd.to_datetime(weather_data[\"time\"])\n",
    "weather_data[\"date\"] = weather_data[\"time\"].dt.date\n",
    "weather_data[\"hour\"] = weather_data[\"time\"].dt.hour\n",
    "weather_data[\"month\"] = weather_data[\"time\"].dt.month\n",
    "weather_data[\"weekday\"] = weather_data[\"time\"].dt.strftime(\"%a\")\n",
    "weather_data.head(5)"
   ]
  },
  {
   "cell_type": "code",
   "execution_count": null,
   "metadata": {
    "executionInfo": {
     "elapsed": 32,
     "status": "ok",
     "timestamp": 1685389693647,
     "user": {
      "displayName": "Ken Le",
      "userId": "02524318770864979503"
     },
     "user_tz": -120
    },
    "id": "-GezcIp82PpQ"
   },
   "outputs": [],
   "source": [
    "weather_data.drop(\"time\", axis=1, inplace=True)"
   ]
  },
  {
   "cell_type": "code",
   "execution_count": null,
   "metadata": {
    "colab": {
     "base_uri": "https://localhost:8080/"
    },
    "executionInfo": {
     "elapsed": 31,
     "status": "ok",
     "timestamp": 1685389693647,
     "user": {
      "displayName": "Ken Le",
      "userId": "02524318770864979503"
     },
     "user_tz": -120
    },
    "id": "mckLfzTt2RFv",
    "outputId": "24e8b036-e673-472b-b76e-239fa27776cc"
   },
   "outputs": [],
   "source": [
    "weather_data.shape"
   ]
  },
  {
   "cell_type": "code",
   "execution_count": null,
   "metadata": {
    "colab": {
     "base_uri": "https://localhost:8080/",
     "height": 289
    },
    "executionInfo": {
     "elapsed": 25,
     "status": "ok",
     "timestamp": 1685389693648,
     "user": {
      "displayName": "Ken Le",
      "userId": "02524318770864979503"
     },
     "user_tz": -120
    },
    "id": "jddBcP8C2SQc",
    "outputId": "24fb7625-b2ee-4129-84fe-a926752c097c"
   },
   "outputs": [],
   "source": [
    "weather_data.head(3)"
   ]
  },
  {
   "cell_type": "markdown",
   "metadata": {
    "id": "1j8Lggbd2T0L"
   },
   "source": [
    "## Process air quality data"
   ]
  },
  {
   "cell_type": "code",
   "execution_count": null,
   "metadata": {
    "executionInfo": {
     "elapsed": 687,
     "status": "ok",
     "timestamp": 1685389694311,
     "user": {
      "displayName": "Ken Le",
      "userId": "02524318770864979503"
     },
     "user_tz": -120
    },
    "id": "wPgBe7Xz2V0C"
   },
   "outputs": [],
   "source": [
    "air_quality_data = pd.read_csv(\"../data/processed_air_quality_data.csv\", index_col=0)\n"
   ]
  },
  {
   "cell_type": "code",
   "execution_count": null,
   "metadata": {
    "colab": {
     "base_uri": "https://localhost:8080/",
     "height": 143
    },
    "executionInfo": {
     "elapsed": 25,
     "status": "ok",
     "timestamp": 1685389694312,
     "user": {
      "displayName": "Ken Le",
      "userId": "02524318770864979503"
     },
     "user_tz": -120
    },
    "id": "bdixVvhI2W4p",
    "outputId": "b9cac263-a14e-452a-ac83-a99ba2dccba4"
   },
   "outputs": [],
   "source": [
    "air_quality_data.head(3)"
   ]
  },
  {
   "cell_type": "code",
   "execution_count": null,
   "metadata": {
    "colab": {
     "base_uri": "https://localhost:8080/"
    },
    "executionInfo": {
     "elapsed": 22,
     "status": "ok",
     "timestamp": 1685389694312,
     "user": {
      "displayName": "Ken Le",
      "userId": "02524318770864979503"
     },
     "user_tz": -120
    },
    "id": "Oh0WsQV02YBh",
    "outputId": "3ef933d4-dcf6-4c29-c716-e0038fa3796d"
   },
   "outputs": [],
   "source": [
    "air_quality_data.columns"
   ]
  },
  {
   "cell_type": "code",
   "execution_count": null,
   "metadata": {
    "colab": {
     "base_uri": "https://localhost:8080/",
     "height": 206
    },
    "executionInfo": {
     "elapsed": 19,
     "status": "ok",
     "timestamp": 1685389694314,
     "user": {
      "displayName": "Ken Le",
      "userId": "02524318770864979503"
     },
     "user_tz": -120
    },
    "id": "u_7uZsEb2dwO",
    "outputId": "0a42c2e9-f6bf-4a3e-d74a-6c7c88d19b56"
   },
   "outputs": [],
   "source": [
    "# extract from timestamp\n",
    "air_quality_data[\"date\"] = pd.to_datetime(air_quality_data[\"date\"]).dt.date\n",
    "air_quality_data.head(5)\n",
    "\n"
   ]
  },
  {
   "cell_type": "code",
   "execution_count": null,
   "metadata": {
    "colab": {
     "base_uri": "https://localhost:8080/"
    },
    "executionInfo": {
     "elapsed": 18,
     "status": "ok",
     "timestamp": 1685389694314,
     "user": {
      "displayName": "Ken Le",
      "userId": "02524318770864979503"
     },
     "user_tz": -120
    },
    "id": "8P4VoGRe2ffn",
    "outputId": "686ed24b-5d8f-4363-efe6-8f163a55c407"
   },
   "outputs": [],
   "source": [
    "air_quality_data = (\n",
    "    air_quality_data.groupby([\"date\", \"hour\", \"month\", \"weekday\"]).mean().reset_index()\n",
    ")"
   ]
  },
  {
   "cell_type": "code",
   "execution_count": null,
   "metadata": {
    "colab": {
     "base_uri": "https://localhost:8080/",
     "height": 423
    },
    "executionInfo": {
     "elapsed": 17,
     "status": "ok",
     "timestamp": 1685389694315,
     "user": {
      "displayName": "Ken Le",
      "userId": "02524318770864979503"
     },
     "user_tz": -120
    },
    "id": "zooVR52t2g7B",
    "outputId": "cfd260a5-127e-4011-fbc8-bd2887a0941f"
   },
   "outputs": [],
   "source": [
    "air_quality_data"
   ]
  },
  {
   "cell_type": "markdown",
   "metadata": {
    "id": "sd_KmiJO2kVi"
   },
   "source": [
    "## Process file42 data"
   ]
  },
  {
   "cell_type": "code",
   "execution_count": null,
   "metadata": {
    "executionInfo": {
     "elapsed": 255,
     "status": "ok",
     "timestamp": 1685389694555,
     "user": {
      "displayName": "Ken Le",
      "userId": "02524318770864979503"
     },
     "user_tz": -120
    },
    "id": "3Qqoc8rR2iBt"
   },
   "outputs": [],
   "source": [
    "file42 = pd.read_csv(\"../data/processed_file42_data.csv\", index_col=0)\n",
    "file42.dropna(inplace=True)\n",
    "file42.head(5)"
   ]
  },
  {
   "cell_type": "code",
   "execution_count": null,
   "metadata": {
    "colab": {
     "base_uri": "https://localhost:8080/"
    },
    "executionInfo": {
     "elapsed": 22,
     "status": "ok",
     "timestamp": 1685389694557,
     "user": {
      "displayName": "Ken Le",
      "userId": "02524318770864979503"
     },
     "user_tz": -120
    },
    "id": "iktns6zn2uaU",
    "outputId": "ceb6b8b8-e143-46f7-a439-c3d12c636b0d"
   },
   "outputs": [],
   "source": [
    "file42.columns"
   ]
  },
  {
   "cell_type": "code",
   "execution_count": null,
   "metadata": {
    "executionInfo": {
     "elapsed": 14,
     "status": "ok",
     "timestamp": 1685389694558,
     "user": {
      "displayName": "Ken Le",
      "userId": "02524318770864979503"
     },
     "user_tz": -120
    },
    "id": "Mqtq7cCE2wnX"
   },
   "outputs": [],
   "source": [
    "file42.rename(columns={\"#object_id\": \"object_id\"}, inplace=True)"
   ]
  },
  {
   "cell_type": "code",
   "execution_count": null,
   "metadata": {
    "executionInfo": {
     "elapsed": 13,
     "status": "ok",
     "timestamp": 1685389694558,
     "user": {
      "displayName": "Ken Le",
      "userId": "02524318770864979503"
     },
     "user_tz": -120
    },
    "id": "7WNy5K9t2x5d"
   },
   "outputs": [],
   "source": [
    "file42[\"object_id\"] = pd.to_numeric(file42[\"object_id\"]).astype(int)"
   ]
  },
  {
   "cell_type": "code",
   "execution_count": null,
   "metadata": {
    "colab": {
     "base_uri": "https://localhost:8080/",
     "height": 206
    },
    "executionInfo": {
     "elapsed": 14,
     "status": "ok",
     "timestamp": 1685389694559,
     "user": {
      "displayName": "Ken Le",
      "userId": "02524318770864979503"
     },
     "user_tz": -120
    },
    "id": "g17QtBNA2y2D",
    "outputId": "c1a32360-5569-4bef-9398-a74ef1c15e73"
   },
   "outputs": [],
   "source": [
    "file42.head(5)"
   ]
  },
  {
   "cell_type": "code",
   "execution_count": null,
   "metadata": {
    "colab": {
     "base_uri": "https://localhost:8080/",
     "height": 175
    },
    "executionInfo": {
     "elapsed": 780,
     "status": "ok",
     "timestamp": 1685389695326,
     "user": {
      "displayName": "Ken Le",
      "userId": "02524318770864979503"
     },
     "user_tz": -120
    },
    "id": "jNyiYLqw2zsK",
    "outputId": "eb1abbc2-0f8c-44fd-ee4b-257cfdc27fbf"
   },
   "outputs": [],
   "source": [
    "# Convert the 'result_timestamp' column to a datetime data type\n",
    "file42[\"result_timestamp\"] = pd.to_datetime(file42[\"result_timestamp\"])\n",
    "file42[\"date\"] = file42[\"result_timestamp\"].dt.date\n",
    "file42[\"hour\"] = file42[\"result_timestamp\"].dt.hour\n",
    "file42[\"month\"] = file42[\"result_timestamp\"].dt.month\n",
    "file42[\"weekday\"] = file42[\"result_timestamp\"].dt.strftime(\"%a\")\n",
    "file42.head(4)"
   ]
  },
  {
   "cell_type": "code",
   "execution_count": null,
   "metadata": {
    "colab": {
     "base_uri": "https://localhost:8080/",
     "height": 261
    },
    "executionInfo": {
     "elapsed": 21,
     "status": "ok",
     "timestamp": 1685389695327,
     "user": {
      "displayName": "Ken Le",
      "userId": "02524318770864979503"
     },
     "user_tz": -120
    },
    "id": "C9B_1ELv25Sr",
    "outputId": "9ea31736-d1d4-44a9-d07b-bbde41fec6de"
   },
   "outputs": [],
   "source": [
    "file42 = (\n",
    "    file42.groupby([\"object_id\", \"date\", \"hour\", \"month\", \"weekday\"])\n",
    "    .mean()\n",
    "    .reset_index()\n",
    ")\n",
    "file42.head(5)"
   ]
  },
  {
   "cell_type": "markdown",
   "metadata": {
    "id": "G9_SSI9L3EHg"
   },
   "source": [
    "## Merge data"
   ]
  },
  {
   "cell_type": "code",
   "execution_count": null,
   "metadata": {
    "executionInfo": {
     "elapsed": 15,
     "status": "ok",
     "timestamp": 1685389695328,
     "user": {
      "displayName": "Ken Le",
      "userId": "02524318770864979503"
     },
     "user_tz": -120
    },
    "id": "JmGb_nVL26uY"
   },
   "outputs": [],
   "source": [
    "data_model = file42.merge(\n",
    "    air_quality_data,\n",
    "    how=\"inner\",\n",
    "    left_on=[\"date\", \"hour\", \"month\", \"weekday\"],\n",
    "    right_on=[\"date\", \"hour\", \"month\", \"weekday\"],\n",
    ")"
   ]
  },
  {
   "cell_type": "code",
   "execution_count": null,
   "metadata": {
    "executionInfo": {
     "elapsed": 15,
     "status": "ok",
     "timestamp": 1685389695328,
     "user": {
      "displayName": "Ken Le",
      "userId": "02524318770864979503"
     },
     "user_tz": -120
    },
    "id": "oRYnIxEY3NNt"
   },
   "outputs": [],
   "source": [
    "data_model = data_model.merge(\n",
    "    weather_data,\n",
    "    how=\"inner\",\n",
    "    left_on=[\"date\", \"hour\", \"month\", \"weekday\"],\n",
    "    right_on=[\"date\", \"hour\", \"month\", \"weekday\"],\n",
    ")"
   ]
  },
  {
   "cell_type": "code",
   "execution_count": null,
   "metadata": {
    "colab": {
     "base_uri": "https://localhost:8080/"
    },
    "executionInfo": {
     "elapsed": 16,
     "status": "ok",
     "timestamp": 1685389695330,
     "user": {
      "displayName": "Ken Le",
      "userId": "02524318770864979503"
     },
     "user_tz": -120
    },
    "id": "q7lqe1PU3RNI",
    "outputId": "a1fb1c59-eb7f-4d38-87f0-0909fd4e070c"
   },
   "outputs": [],
   "source": [
    "data_model.shape"
   ]
  },
  {
   "cell_type": "code",
   "execution_count": null,
   "metadata": {
    "colab": {
     "base_uri": "https://localhost:8080/",
     "height": 386
    },
    "executionInfo": {
     "elapsed": 29,
     "status": "ok",
     "timestamp": 1685389696141,
     "user": {
      "displayName": "Ken Le",
      "userId": "02524318770864979503"
     },
     "user_tz": -120
    },
    "id": "f4gvoLjX3h4y",
    "outputId": "fe7136e0-7193-4a96-9275-13e14265a269"
   },
   "outputs": [],
   "source": [
    "data_model.head(5)"
   ]
  },
  {
   "cell_type": "code",
   "execution_count": null,
   "metadata": {
    "colab": {
     "base_uri": "https://localhost:8080/"
    },
    "executionInfo": {
     "elapsed": 29,
     "status": "ok",
     "timestamp": 1685389696142,
     "user": {
      "displayName": "Ken Le",
      "userId": "02524318770864979503"
     },
     "user_tz": -120
    },
    "id": "vPSNb3bU3nOY",
    "outputId": "9c88b823-2ba3-4137-f1b3-5e84f76e319e"
   },
   "outputs": [],
   "source": [
    "data_model.dtypes"
   ]
  },
  {
   "cell_type": "code",
   "execution_count": null,
   "metadata": {
    "executionInfo": {
     "elapsed": 22,
     "status": "ok",
     "timestamp": 1685389696142,
     "user": {
      "displayName": "Ken Le",
      "userId": "02524318770864979503"
     },
     "user_tz": -120
    },
    "id": "LkZ_T0hk4I7H"
   },
   "outputs": [],
   "source": [
    "## split train, test data\n",
    "train_df, val_df = train_test_split(data_model, test_size=0.2, random_state=7)"
   ]
  },
  {
   "cell_type": "markdown",
   "metadata": {
    "id": "3K-wo3o94MsJ"
   },
   "source": [
    "## Process dependent variables"
   ]
  },
  {
   "cell_type": "code",
   "execution_count": null,
   "metadata": {
    "executionInfo": {
     "elapsed": 22,
     "status": "ok",
     "timestamp": 1685389696143,
     "user": {
      "displayName": "Ken Le",
      "userId": "02524318770864979503"
     },
     "user_tz": -120
    },
    "id": "TVvupXo54Phz"
   },
   "outputs": [],
   "source": [
    "target_variable = [\"lamax\", \"laeq\", \"lceq\", \"lcpeak\"]"
   ]
  },
  {
   "cell_type": "code",
   "execution_count": null,
   "metadata": {
    "colab": {
     "base_uri": "https://localhost:8080/",
     "height": 112
    },
    "executionInfo": {
     "elapsed": 22,
     "status": "ok",
     "timestamp": 1685389696143,
     "user": {
      "displayName": "Ken Le",
      "userId": "02524318770864979503"
     },
     "user_tz": -120
    },
    "id": "hsxrVji24iNO",
    "outputId": "1be9f790-a8b0-4185-fbca-d1b52a1b86e5"
   },
   "outputs": [],
   "source": [
    "y_train = train_df[target_variable]\n",
    "y_train.head(2)"
   ]
  },
  {
   "cell_type": "code",
   "execution_count": null,
   "metadata": {
    "colab": {
     "base_uri": "https://localhost:8080/",
     "height": 112
    },
    "executionInfo": {
     "elapsed": 22,
     "status": "ok",
     "timestamp": 1685389696144,
     "user": {
      "displayName": "Ken Le",
      "userId": "02524318770864979503"
     },
     "user_tz": -120
    },
    "id": "90_K65vw4k6y",
    "outputId": "2b0c0192-533d-4ef5-ebc1-e67dc9f68fe1"
   },
   "outputs": [],
   "source": [
    "y_val = val_df[target_variable]\n",
    "y_val.head(2)"
   ]
  },
  {
   "cell_type": "markdown",
   "metadata": {
    "id": "gL5cYeWd4p6u"
   },
   "source": [
    "## Process independent variables"
   ]
  },
  {
   "cell_type": "code",
   "execution_count": null,
   "metadata": {
    "executionInfo": {
     "elapsed": 21,
     "status": "ok",
     "timestamp": 1685389696144,
     "user": {
      "displayName": "Ken Le",
      "userId": "02524318770864979503"
     },
     "user_tz": -120
    },
    "id": "dI3ZuwuB4z7y"
   },
   "outputs": [],
   "source": [
    "X_train = train_df.drop(target_variable + [\"date\"], axis=1)\n",
    "X_val = val_df.drop(target_variable + [\"date\"], axis=1)"
   ]
  },
  {
   "cell_type": "code",
   "execution_count": null,
   "metadata": {
    "colab": {
     "base_uri": "https://localhost:8080/"
    },
    "executionInfo": {
     "elapsed": 20,
     "status": "ok",
     "timestamp": 1685389696144,
     "user": {
      "displayName": "Ken Le",
      "userId": "02524318770864979503"
     },
     "user_tz": -120
    },
    "id": "pzstryQm43Zb",
    "outputId": "abca92b2-818c-442e-f399-fcafbec91718"
   },
   "outputs": [],
   "source": [
    "X_train.columns"
   ]
  },
  {
   "cell_type": "code",
   "execution_count": null,
   "metadata": {
    "executionInfo": {
     "elapsed": 17,
     "status": "ok",
     "timestamp": 1685389696144,
     "user": {
      "displayName": "Ken Le",
      "userId": "02524318770864979503"
     },
     "user_tz": -120
    },
    "id": "fjGteOqr47kY"
   },
   "outputs": [],
   "source": [
    "one_hot_var = [\"hour\", \"month\", \"weekday\", \"object_id\", \"weathercode\"]\n",
    "numerical_var = [col for col in X_train.columns if col not in one_hot_var]"
   ]
  },
  {
   "cell_type": "code",
   "execution_count": null,
   "metadata": {
    "colab": {
     "base_uri": "https://localhost:8080/",
     "height": 117
    },
    "executionInfo": {
     "elapsed": 18,
     "status": "ok",
     "timestamp": 1685389696145,
     "user": {
      "displayName": "Ken Le",
      "userId": "02524318770864979503"
     },
     "user_tz": -120
    },
    "id": "8j835FNN5AY2",
    "outputId": "6c50f351-80ce-4fed-e54d-797b15497a8c"
   },
   "outputs": [],
   "source": [
    "t = ColumnTransformer(\n",
    "    transformers=[\n",
    "        (\"OneHot\", OneHotEncoder(handle_unknown=\"ignore\"), one_hot_var),\n",
    "        (\"StandardScaler\", StandardScaler(), numerical_var),\n",
    "    ]\n",
    ")\n",
    "\n",
    "# fit the encoder\n",
    "t.fit(X_train)"
   ]
  },
  {
   "cell_type": "code",
   "execution_count": null,
   "metadata": {
    "executionInfo": {
     "elapsed": 17,
     "status": "ok",
     "timestamp": 1685389696145,
     "user": {
      "displayName": "Ken Le",
      "userId": "02524318770864979503"
     },
     "user_tz": -120
    },
    "id": "fXrIww_D5A0o"
   },
   "outputs": [],
   "source": [
    "## save columnstransformer\n",
    "\n",
    "with open(\"../model/model_noise_level_file42/encoder_model_file42.pkl\", \"wb\") as file:\n",
    "    pickle.dump(t, file)"
   ]
  },
  {
   "cell_type": "code",
   "execution_count": null,
   "metadata": {},
   "outputs": [],
   "source": [
    "# Load the pickle file\n",
    "with open(\"../model/model_noise_level_file42/encoder_model_file42.pkl\", \"rb\") as file:\n",
    "    t = pickle.load(file)"
   ]
  },
  {
   "cell_type": "code",
   "execution_count": null,
   "metadata": {
    "executionInfo": {
     "elapsed": 446,
     "status": "ok",
     "timestamp": 1685389696574,
     "user": {
      "displayName": "Ken Le",
      "userId": "02524318770864979503"
     },
     "user_tz": -120
    },
    "id": "MM52MVt25IRd"
   },
   "outputs": [],
   "source": [
    "# create pandas DataFrame from dense matrix\n",
    "X_train = pd.DataFrame(t.fit_transform(X_train), columns=t.get_feature_names_out())\n",
    "\n",
    "X_val = pd.DataFrame(t.transform(X_val), columns=t.get_feature_names_out())"
   ]
  },
  {
   "cell_type": "code",
   "execution_count": null,
   "metadata": {
    "colab": {
     "base_uri": "https://localhost:8080/"
    },
    "executionInfo": {
     "elapsed": 12,
     "status": "ok",
     "timestamp": 1685389696574,
     "user": {
      "displayName": "Ken Le",
      "userId": "02524318770864979503"
     },
     "user_tz": -120
    },
    "id": "_pnkFwTT5KQM",
    "outputId": "f643680c-102a-48c0-b718-6eb4e4719a6c"
   },
   "outputs": [],
   "source": [
    "X_train.columns"
   ]
  },
  {
   "cell_type": "code",
   "execution_count": null,
   "metadata": {
    "colab": {
     "base_uri": "https://localhost:8080/"
    },
    "executionInfo": {
     "elapsed": 11,
     "status": "ok",
     "timestamp": 1685389696574,
     "user": {
      "displayName": "Ken Le",
      "userId": "02524318770864979503"
     },
     "user_tz": -120
    },
    "id": "VEGbE9Jc6zYU",
    "outputId": "77dd3210-593e-48a6-834a-1199a5e0f102"
   },
   "outputs": [],
   "source": [
    "y_train.columns"
   ]
  },
  {
   "cell_type": "markdown",
   "metadata": {
    "id": "dx93wA4-62QC"
   },
   "source": [
    "## Predict lamax"
   ]
  },
  {
   "cell_type": "code",
   "execution_count": null,
   "metadata": {
    "colab": {
     "base_uri": "https://localhost:8080/"
    },
    "executionInfo": {
     "elapsed": 4183764,
     "status": "ok",
     "timestamp": 1685358216692,
     "user": {
      "displayName": "Ken Le",
      "userId": "02524318770864979503"
     },
     "user_tz": -120
    },
    "id": "GJGdrqzP63i1",
    "outputId": "013a520b-a546-4ae9-8f02-5bf5def0ccea"
   },
   "outputs": [],
   "source": [
    "# Define the model parameters\n",
    "model_params = {\n",
    "    \"random_forest\": {\n",
    "        \"model\": RandomForestRegressor(),\n",
    "        \"params\": {\n",
    "            \"n_estimators\": randint(50, 100),\n",
    "            \"max_depth\": randint(3, 50),\n",
    "            \"max_features\": [\"auto\", \"sqrt\"],\n",
    "            \"min_samples_split\": randint(2, 20),\n",
    "            \"min_samples_leaf\": randint(1, 10),\n",
    "            \"bootstrap\": [True, False],\n",
    "        },\n",
    "    },\n",
    "    \"gradient_boosting\": {\n",
    "        \"model\": GradientBoostingRegressor(),\n",
    "        \"params\": {\n",
    "            \"n_estimators\": randint(50, 100),\n",
    "            \"learning_rate\": uniform(0.01, 0.5),\n",
    "            \"max_depth\": randint(1, 10),\n",
    "            \"min_samples_split\": randint(2, 20),\n",
    "            \"min_samples_leaf\": randint(1, 10),\n",
    "        },\n",
    "    },\n",
    "    \"xgboost\": {\n",
    "        \"model\": xgboost.XGBRegressor(),\n",
    "        \"params\": {\n",
    "            \"n_estimators\": randint(50, 100),\n",
    "            \"learning_rate\": uniform(0.01, 0.5),\n",
    "            \"max_depth\": randint(1, 10),\n",
    "            \"min_child_weight\": randint(1, 10),\n",
    "            \"gamma\": uniform(0, 1),\n",
    "            \"reg_alpha\": uniform(0, 1),\n",
    "            \"reg_lambda\": uniform(0, 1),\n",
    "        },\n",
    "    },\n",
    "}\n",
    "\n",
    "params_dict = {}\n",
    "\n",
    "# Loop through each model in model_params and run RandomizedSearchCV\n",
    "for model_name, model_info in model_params.items():\n",
    "    print(\"Running RandomizedSearchCV for {}...\".format(model_name))\n",
    "\n",
    "    # Create a RandomizedSearchCV object for the current model\n",
    "    model = model_info[\"model\"]\n",
    "    param_dist = model_info[\"params\"]\n",
    "    random_search = RandomizedSearchCV(\n",
    "        model, param_distributions=param_dist, n_iter=10, cv=5, n_jobs=1, random_state=7\n",
    "    )\n",
    "\n",
    "    # Fit the RandomizedSearchCV object to the data\n",
    "    random_search.fit(X_train, y_train[\"lamax\"])\n",
    "\n",
    "    # Print the best parameters and score\n",
    "    params_dict[model_name] = random_search.best_params_\n",
    "    print(\"Best parameters for {}: \".format(model_name), random_search.best_params_)\n",
    "    print(\"Best score for {}: \".format(model_name), random_search.best_score_)\n",
    "    print(\"\\n\")\n"
   ]
  },
  {
   "cell_type": "code",
   "execution_count": null,
   "metadata": {
    "executionInfo": {
     "elapsed": 17,
     "status": "ok",
     "timestamp": 1685358216693,
     "user": {
      "displayName": "Ken Le",
      "userId": "02524318770864979503"
     },
     "user_tz": -120
    },
    "id": "ce6oMKkA7Eh_"
   },
   "outputs": [],
   "source": [
    "# Save optimal param dictionary\n",
    "pickle.dump(params_dict, open(\"../model/model_noise_level_file42/lamax_dict\", \"wb\"))"
   ]
  },
  {
   "cell_type": "code",
   "execution_count": null,
   "metadata": {
    "colab": {
     "base_uri": "https://localhost:8080/"
    },
    "executionInfo": {
     "elapsed": 224,
     "status": "ok",
     "timestamp": 1685390215257,
     "user": {
      "displayName": "Ken Le",
      "userId": "02524318770864979503"
     },
     "user_tz": -120
    },
    "id": "xlYDZT9wDiE7",
    "outputId": "b6f5abf8-7f15-470e-9f8d-a774d0b7d055"
   },
   "outputs": [],
   "source": [
    "# Load param dictionary\n",
    "lamax_dict = pickle.load(open(\"../model/model_noise_level_file42/lamax_dict\", \"rb\"))\n",
    "lamax_dict"
   ]
  },
  {
   "cell_type": "code",
   "execution_count": null,
   "metadata": {
    "colab": {
     "base_uri": "https://localhost:8080/"
    },
    "executionInfo": {
     "elapsed": 59955,
     "status": "ok",
     "timestamp": 1685390495566,
     "user": {
      "displayName": "Ken Le",
      "userId": "02524318770864979503"
     },
     "user_tz": -120
    },
    "id": "b7CZfwyXFbpb",
    "outputId": "d8bb90ae-6ccc-41ed-e5a7-62dcaa463e7c"
   },
   "outputs": [],
   "source": [
    "gb_params = lamax_dict[\"gradient_boosting\"]\n",
    "\n",
    "gb = GradientBoostingRegressor(**gb_params, random_state=7)\n",
    "\n",
    "gb.fit(X_train, y_train[\"lamax\"])\n",
    "\n",
    "train_preds = gb.predict(X_train)\n",
    "val_preds = gb.predict(X_val)\n",
    "\n",
    "print(\"Train RMSE:\", np.sqrt(mean_squared_error(train_preds, y_train[\"lamax\"])))\n",
    "print(\"Val RMSE:\", np.sqrt(mean_squared_error(val_preds, y_val[\"lamax\"])))\n",
    "print(\"Train MAE:\", mean_absolute_error(train_preds, y_train[\"lamax\"]))\n",
    "print(\"Val MAE:\", mean_absolute_error(val_preds, y_val[\"lamax\"]))"
   ]
  },
  {
   "cell_type": "code",
   "execution_count": null,
   "metadata": {
    "colab": {
     "base_uri": "https://localhost:8080/"
    },
    "executionInfo": {
     "elapsed": 21313,
     "status": "ok",
     "timestamp": 1685390571267,
     "user": {
      "displayName": "Ken Le",
      "userId": "02524318770864979503"
     },
     "user_tz": -120
    },
    "id": "pxe67scXGmhV",
    "outputId": "9fad093a-dd62-457e-d803-17115f5726c3"
   },
   "outputs": [],
   "source": [
    "rf_params = lamax_dict[\"random_forest\"]\n",
    "\n",
    "rf = RandomForestRegressor(**rf_params, random_state=7)\n",
    "\n",
    "rf.fit(X_train, y_train[\"lamax\"])\n",
    "\n",
    "train_preds = rf.predict(X_train)\n",
    "val_preds = rf.predict(X_val)\n",
    "\n",
    "print(\"Train RMSE:\", np.sqrt(mean_squared_error(train_preds, y_train[\"lamax\"])))\n",
    "print(\"Val RMSE:\", np.sqrt(mean_squared_error(val_preds, y_val[\"lamax\"])))\n",
    "print(\"Train MAE:\", mean_absolute_error(train_preds, y_train[\"lamax\"]))\n",
    "print(\"Val MAE:\", mean_absolute_error(val_preds, y_val[\"lamax\"]))"
   ]
  },
  {
   "cell_type": "code",
   "execution_count": null,
   "metadata": {
    "colab": {
     "base_uri": "https://localhost:8080/"
    },
    "executionInfo": {
     "elapsed": 38559,
     "status": "ok",
     "timestamp": 1685390653264,
     "user": {
      "displayName": "Ken Le",
      "userId": "02524318770864979503"
     },
     "user_tz": -120
    },
    "id": "DkgqUsBkGw3D",
    "outputId": "04d90fea-b560-47af-9db4-97476aaa11ce"
   },
   "outputs": [],
   "source": [
    "xgb_params = lamax_dict[\"xgboost\"]\n",
    "\n",
    "xgb = xgboost.XGBRegressor(**xgb_params, random_state=7)\n",
    "\n",
    "xgb.fit(X_train, y_train[\"lamax\"])\n",
    "\n",
    "train_preds = xgb.predict(X_train)\n",
    "val_preds = xgb.predict(X_val)\n",
    "\n",
    "\n",
    "print(\"Train RMSE:\", np.sqrt(mean_squared_error(train_preds, y_train[\"lamax\"])))\n",
    "print(\"Val RMSE:\", np.sqrt(mean_squared_error(val_preds, y_val[\"lamax\"])))\n",
    "print(\"Train MAE:\", mean_absolute_error(train_preds, y_train[\"lamax\"]))\n",
    "print(\"Val MAE:\", mean_absolute_error(val_preds, y_val[\"lamax\"]))\n"
   ]
  },
  {
   "cell_type": "code",
   "execution_count": null,
   "metadata": {
    "colab": {
     "base_uri": "https://localhost:8080/",
     "height": 467
    },
    "executionInfo": {
     "elapsed": 1469,
     "status": "ok",
     "timestamp": 1685390705899,
     "user": {
      "displayName": "Ken Le",
      "userId": "02524318770864979503"
     },
     "user_tz": -120
    },
    "id": "jKk2lzRSHNJV",
    "outputId": "671d129c-822f-4d66-d810-b063a09da79a"
   },
   "outputs": [],
   "source": [
    "plt.scatter(val_preds, y_val[\"lamax\"])\n",
    "plt.xlabel(\"y pred\")\n",
    "plt.ylabel(\"y val\")"
   ]
  },
  {
   "cell_type": "code",
   "execution_count": null,
   "metadata": {
    "colab": {
     "base_uri": "https://localhost:8080/"
    },
    "executionInfo": {
     "elapsed": 230,
     "status": "ok",
     "timestamp": 1685390708469,
     "user": {
      "displayName": "Ken Le",
      "userId": "02524318770864979503"
     },
     "user_tz": -120
    },
    "id": "IsV1ozjxHRzP",
    "outputId": "43a46e2a-1085-43c8-dc92-c0bf620570fc"
   },
   "outputs": [],
   "source": [
    "r2_score(val_preds, y_val[\"lamax\"])"
   ]
  },
  {
   "cell_type": "code",
   "execution_count": null,
   "metadata": {
    "executionInfo": {
     "elapsed": 224,
     "status": "ok",
     "timestamp": 1685390771057,
     "user": {
      "displayName": "Ken Le",
      "userId": "02524318770864979503"
     },
     "user_tz": -120
    },
    "id": "Fmb-i-Z_HXOJ"
   },
   "outputs": [],
   "source": [
    "## save model\n",
    "\n",
    "pickle.dump(xgb, open(\"../model/model_noise_level_file42/xgb_lamax.pkl\", \"wb\"))"
   ]
  },
  {
   "cell_type": "markdown",
   "metadata": {
    "id": "w_Udp6j9DikJ"
   },
   "source": [
    "## predict laeq"
   ]
  },
  {
   "cell_type": "code",
   "execution_count": null,
   "metadata": {
    "colab": {
     "base_uri": "https://localhost:8080/"
    },
    "executionInfo": {
     "elapsed": 4118883,
     "status": "ok",
     "timestamp": 1685363078499,
     "user": {
      "displayName": "Ken Le",
      "userId": "02524318770864979503"
     },
     "user_tz": -120
    },
    "id": "x2x8MgcnOETF",
    "outputId": "bafa6ace-693b-4317-b971-70effb28eaeb"
   },
   "outputs": [],
   "source": [
    "# Define the model parameters\n",
    "model_params = {\n",
    "    \"random_forest\": {\n",
    "        \"model\": RandomForestRegressor(),\n",
    "        \"params\": {\n",
    "            \"n_estimators\": randint(50, 100),\n",
    "            \"max_depth\": randint(3, 50),\n",
    "            \"max_features\": [\"auto\", \"sqrt\"],\n",
    "            \"min_samples_split\": randint(2, 20),\n",
    "            \"min_samples_leaf\": randint(1, 10),\n",
    "            \"bootstrap\": [True, False],\n",
    "        },\n",
    "    },\n",
    "    \"gradient_boosting\": {\n",
    "        \"model\": GradientBoostingRegressor(),\n",
    "        \"params\": {\n",
    "            \"n_estimators\": randint(50, 100),\n",
    "            \"learning_rate\": uniform(0.01, 0.5),\n",
    "            \"max_depth\": randint(1, 10),\n",
    "            \"min_samples_split\": randint(2, 20),\n",
    "            \"min_samples_leaf\": randint(1, 10),\n",
    "        },\n",
    "    },\n",
    "    \"xgboost\": {\n",
    "        \"model\": xgboost.XGBRegressor(),\n",
    "        \"params\": {\n",
    "            \"n_estimators\": randint(50, 100),\n",
    "            \"learning_rate\": uniform(0.01, 0.5),\n",
    "            \"max_depth\": randint(1, 10),\n",
    "            \"min_child_weight\": randint(1, 10),\n",
    "            \"gamma\": uniform(0, 1),\n",
    "            \"reg_alpha\": uniform(0, 1),\n",
    "            \"reg_lambda\": uniform(0, 1),\n",
    "        },\n",
    "    },\n",
    "}\n",
    "\n",
    "params_dict = {}\n",
    "\n",
    "# Loop through each model in model_params and run RandomizedSearchCV\n",
    "for model_name, model_info in model_params.items():\n",
    "    print(\"Running RandomizedSearchCV for {}...\".format(model_name))\n",
    "\n",
    "    # Create a RandomizedSearchCV object for the current model\n",
    "    model = model_info[\"model\"]\n",
    "    param_dist = model_info[\"params\"]\n",
    "    random_search = RandomizedSearchCV(\n",
    "        model, param_distributions=param_dist, n_iter=10, cv=5, n_jobs=1, random_state=7\n",
    "    )\n",
    "\n",
    "    # Fit the RandomizedSearchCV object to the data\n",
    "    random_search.fit(X_train, y_train[\"laeq\"])\n",
    "\n",
    "    # Print the best parameters and score\n",
    "    params_dict[model_name] = random_search.best_params_\n",
    "    print(\"Best parameters for {}: \".format(model_name), random_search.best_params_)\n",
    "    print(\"Best score for {}: \".format(model_name), random_search.best_score_)\n",
    "    print(\"\\n\")"
   ]
  },
  {
   "cell_type": "code",
   "execution_count": null,
   "metadata": {
    "executionInfo": {
     "elapsed": 63,
     "status": "ok",
     "timestamp": 1685363078500,
     "user": {
      "displayName": "Ken Le",
      "userId": "02524318770864979503"
     },
     "user_tz": -120
    },
    "id": "GAdshqpBOJB0"
   },
   "outputs": [],
   "source": [
    "# Save optimal param dictionary\n",
    "pickle.dump(params_dict, open(\"../model/model_noise_level_file42/laeq_dict\", \"wb\"))"
   ]
  },
  {
   "cell_type": "code",
   "execution_count": null,
   "metadata": {
    "colab": {
     "base_uri": "https://localhost:8080/"
    },
    "executionInfo": {
     "elapsed": 317,
     "status": "ok",
     "timestamp": 1685390837852,
     "user": {
      "displayName": "Ken Le",
      "userId": "02524318770864979503"
     },
     "user_tz": -120
    },
    "id": "gYY8zKNAHne4",
    "outputId": "7731eb04-1946-45c3-80b2-81b1fbe5f375"
   },
   "outputs": [],
   "source": [
    "# Load param dictionary\n",
    "laeq_dict = pickle.load(open(\"../model/model_noise_level_file42/laeq_dict\", \"rb\"))\n",
    "laeq_dict"
   ]
  },
  {
   "cell_type": "code",
   "execution_count": null,
   "metadata": {
    "colab": {
     "base_uri": "https://localhost:8080/"
    },
    "executionInfo": {
     "elapsed": 60183,
     "status": "ok",
     "timestamp": 1685390933821,
     "user": {
      "displayName": "Ken Le",
      "userId": "02524318770864979503"
     },
     "user_tz": -120
    },
    "id": "wMML3JkBHoFA",
    "outputId": "554bdbf9-71c8-44a8-a16b-d91f0f4fe9c1"
   },
   "outputs": [],
   "source": [
    "gb_params = laeq_dict[\"gradient_boosting\"]\n",
    "\n",
    "gb = GradientBoostingRegressor(**gb_params, random_state=7)\n",
    "\n",
    "gb.fit(X_train, y_train[\"laeq\"])\n",
    "\n",
    "train_preds = gb.predict(X_train)\n",
    "val_preds = gb.predict(X_val)\n",
    "\n",
    "print(\"Train RMSE:\", np.sqrt(mean_squared_error(train_preds, y_train[\"laeq\"])))\n",
    "print(\"Val RMSE:\", np.sqrt(mean_squared_error(val_preds, y_val[\"laeq\"])))\n",
    "print(\"Train MAE:\", mean_absolute_error(train_preds, y_train[\"laeq\"]))\n",
    "print(\"Val MAE:\", mean_absolute_error(val_preds, y_val[\"laeq\"]))"
   ]
  },
  {
   "cell_type": "code",
   "execution_count": null,
   "metadata": {
    "colab": {
     "base_uri": "https://localhost:8080/"
    },
    "executionInfo": {
     "elapsed": 25010,
     "status": "ok",
     "timestamp": 1685390988072,
     "user": {
      "displayName": "Ken Le",
      "userId": "02524318770864979503"
     },
     "user_tz": -120
    },
    "id": "A1OXwaycHoP9",
    "outputId": "8459e22b-1ba2-4927-bc58-13c8750ad99d"
   },
   "outputs": [],
   "source": [
    "rf_params = laeq_dict[\"random_forest\"]\n",
    "\n",
    "rf = RandomForestRegressor(**rf_params, random_state=7)\n",
    "\n",
    "rf.fit(X_train, y_train[\"laeq\"])\n",
    "\n",
    "train_preds = rf.predict(X_train)\n",
    "val_preds = rf.predict(X_val)\n",
    "\n",
    "print(\"Train RMSE:\", np.sqrt(mean_squared_error(train_preds, y_train[\"laeq\"])))\n",
    "print(\"Val RMSE:\", np.sqrt(mean_squared_error(val_preds, y_val[\"laeq\"])))\n",
    "print(\"Train MAE:\", mean_absolute_error(train_preds, y_train[\"laeq\"]))\n",
    "print(\"Val MAE:\", mean_absolute_error(val_preds, y_val[\"laeq\"]))"
   ]
  },
  {
   "cell_type": "code",
   "execution_count": null,
   "metadata": {
    "colab": {
     "base_uri": "https://localhost:8080/"
    },
    "executionInfo": {
     "elapsed": 39179,
     "status": "ok",
     "timestamp": 1685391027239,
     "user": {
      "displayName": "Ken Le",
      "userId": "02524318770864979503"
     },
     "user_tz": -120
    },
    "id": "sx5kz2v3HobT",
    "outputId": "9b3f4865-4a16-4626-f88f-f0db2b3cc5b1"
   },
   "outputs": [],
   "source": [
    "xgb_params = laeq_dict[\"xgboost\"]\n",
    "\n",
    "xgb = xgboost.XGBRegressor(**xgb_params, random_state=7)\n",
    "\n",
    "xgb.fit(X_train, y_train[\"laeq\"])\n",
    "\n",
    "train_preds = xgb.predict(X_train)\n",
    "val_preds = xgb.predict(X_val)\n",
    "\n",
    "\n",
    "print(\"Train RMSE:\", np.sqrt(mean_squared_error(train_preds, y_train[\"laeq\"])))\n",
    "print(\"Val RMSE:\", np.sqrt(mean_squared_error(val_preds, y_val[\"laeq\"])))\n",
    "print(\"Train MAE:\", mean_absolute_error(train_preds, y_train[\"laeq\"]))\n",
    "print(\"Val MAE:\", mean_absolute_error(val_preds, y_val[\"laeq\"]))"
   ]
  },
  {
   "cell_type": "code",
   "execution_count": null,
   "metadata": {
    "colab": {
     "base_uri": "https://localhost:8080/",
     "height": 467
    },
    "executionInfo": {
     "elapsed": 533,
     "status": "ok",
     "timestamp": 1685391079983,
     "user": {
      "displayName": "Ken Le",
      "userId": "02524318770864979503"
     },
     "user_tz": -120
    },
    "id": "XVQ1EFT2Hoq8",
    "outputId": "e26631b8-4723-4bea-ff0e-e79224e2e86c"
   },
   "outputs": [],
   "source": [
    "plt.scatter(val_preds, y_val[\"laeq\"])\n",
    "plt.xlabel(\"y pred\")\n",
    "plt.ylabel(\"y val\")"
   ]
  },
  {
   "cell_type": "code",
   "execution_count": null,
   "metadata": {
    "colab": {
     "base_uri": "https://localhost:8080/"
    },
    "executionInfo": {
     "elapsed": 254,
     "status": "ok",
     "timestamp": 1685391084427,
     "user": {
      "displayName": "Ken Le",
      "userId": "02524318770864979503"
     },
     "user_tz": -120
    },
    "id": "yexuSH-0Ho2H",
    "outputId": "bef3adde-bc43-4929-d52b-719d05e83f3e"
   },
   "outputs": [],
   "source": [
    "r2_score(val_preds, y_val[\"laeq\"])"
   ]
  },
  {
   "cell_type": "code",
   "execution_count": null,
   "metadata": {
    "executionInfo": {
     "elapsed": 222,
     "status": "ok",
     "timestamp": 1685391092774,
     "user": {
      "displayName": "Ken Le",
      "userId": "02524318770864979503"
     },
     "user_tz": -120
    },
    "id": "4AW7dv-8HpBn"
   },
   "outputs": [],
   "source": [
    "## save model\n",
    "\n",
    "pickle.dump(xgb, open(\"../model/model_noise_level_file42/xgb_laeq.pkl\", \"wb\"))"
   ]
  },
  {
   "cell_type": "markdown",
   "metadata": {
    "id": "EHXwRgNsHqEK"
   },
   "source": [
    "## Predict lceq"
   ]
  },
  {
   "cell_type": "code",
   "execution_count": null,
   "metadata": {
    "colab": {
     "base_uri": "https://localhost:8080/"
    },
    "executionInfo": {
     "elapsed": 4228188,
     "status": "ok",
     "timestamp": 1685369292811,
     "user": {
      "displayName": "Ken Le",
      "userId": "02524318770864979503"
     },
     "user_tz": -120
    },
    "id": "xnyxbVL1lUMa",
    "outputId": "e23ba608-fd91-4e59-9deb-1e4b96d5903e"
   },
   "outputs": [],
   "source": [
    "# Define the model parameters\n",
    "model_params = {\n",
    "    \"random_forest\": {\n",
    "        \"model\": RandomForestRegressor(),\n",
    "        \"params\": {\n",
    "            \"n_estimators\": randint(50, 100),\n",
    "            \"max_depth\": randint(3, 50),\n",
    "            \"max_features\": [\"auto\", \"sqrt\"],\n",
    "            \"min_samples_split\": randint(2, 20),\n",
    "            \"min_samples_leaf\": randint(1, 10),\n",
    "            \"bootstrap\": [True, False],\n",
    "        },\n",
    "    },\n",
    "    \"gradient_boosting\": {\n",
    "        \"model\": GradientBoostingRegressor(),\n",
    "        \"params\": {\n",
    "            \"n_estimators\": randint(50, 100),\n",
    "            \"learning_rate\": uniform(0.01, 0.5),\n",
    "            \"max_depth\": randint(1, 10),\n",
    "            \"min_samples_split\": randint(2, 20),\n",
    "            \"min_samples_leaf\": randint(1, 10),\n",
    "        },\n",
    "    },\n",
    "    \"xgboost\": {\n",
    "        \"model\": xgboost.XGBRegressor(),\n",
    "        \"params\": {\n",
    "            \"n_estimators\": randint(50, 100),\n",
    "            \"learning_rate\": uniform(0.01, 0.5),\n",
    "            \"max_depth\": randint(1, 10),\n",
    "            \"min_child_weight\": randint(1, 10),\n",
    "            \"gamma\": uniform(0, 1),\n",
    "            \"reg_alpha\": uniform(0, 1),\n",
    "            \"reg_lambda\": uniform(0, 1),\n",
    "        },\n",
    "    },\n",
    "}\n",
    "\n",
    "params_dict = {}\n",
    "\n",
    "# Loop through each model in model_params and run RandomizedSearchCV\n",
    "for model_name, model_info in model_params.items():\n",
    "    print(\"Running RandomizedSearchCV for {}...\".format(model_name))\n",
    "\n",
    "    # Create a RandomizedSearchCV object for the current model\n",
    "    model = model_info[\"model\"]\n",
    "    param_dist = model_info[\"params\"]\n",
    "    random_search = RandomizedSearchCV(\n",
    "        model, param_distributions=param_dist, n_iter=10, cv=5, n_jobs=1, random_state=7\n",
    "    )\n",
    "\n",
    "    # Fit the RandomizedSearchCV object to the data\n",
    "    random_search.fit(X_train, y_train[\"lceq\"])\n",
    "\n",
    "    # Print the best parameters and score\n",
    "    params_dict[model_name] = random_search.best_params_\n",
    "    print(\"Best parameters for {}: \".format(model_name), random_search.best_params_)\n",
    "    print(\"Best score for {}: \".format(model_name), random_search.best_score_)\n",
    "    print(\"\\n\")"
   ]
  },
  {
   "cell_type": "code",
   "execution_count": null,
   "metadata": {
    "executionInfo": {
     "elapsed": 13,
     "status": "ok",
     "timestamp": 1685369292812,
     "user": {
      "displayName": "Ken Le",
      "userId": "02524318770864979503"
     },
     "user_tz": -120
    },
    "id": "HY4kn9jLlWfd"
   },
   "outputs": [],
   "source": [
    "# Save optimal param dictionary\n",
    "pickle.dump(params_dict, open(\"../model/model_noise_level_file42/lceq_dict\", \"wb\"))"
   ]
  },
  {
   "cell_type": "code",
   "execution_count": null,
   "metadata": {
    "colab": {
     "base_uri": "https://localhost:8080/"
    },
    "executionInfo": {
     "elapsed": 227,
     "status": "ok",
     "timestamp": 1685391219200,
     "user": {
      "displayName": "Ken Le",
      "userId": "02524318770864979503"
     },
     "user_tz": -120
    },
    "id": "5LfpaKkBI1NC",
    "outputId": "99bd1f90-f20e-40ee-94d7-3383491d2961"
   },
   "outputs": [],
   "source": [
    "# Load param dictionary\n",
    "lceq_dict = pickle.load(open(\"../model/model_noise_level_file42/lceq_dict\", \"rb\"))\n",
    "lceq_dict"
   ]
  },
  {
   "cell_type": "code",
   "execution_count": null,
   "metadata": {
    "colab": {
     "base_uri": "https://localhost:8080/"
    },
    "executionInfo": {
     "elapsed": 80125,
     "status": "ok",
     "timestamp": 1685391301518,
     "user": {
      "displayName": "Ken Le",
      "userId": "02524318770864979503"
     },
     "user_tz": -120
    },
    "id": "_nmuuIaOI1XW",
    "outputId": "f3ac5abc-cfac-4e1c-f743-aeee9b2289c2"
   },
   "outputs": [],
   "source": [
    "gb_params = lceq_dict[\"gradient_boosting\"]\n",
    "\n",
    "gb = GradientBoostingRegressor(**gb_params, random_state=7)\n",
    "\n",
    "gb.fit(X_train, y_train[\"lceq\"])\n",
    "\n",
    "train_preds = gb.predict(X_train)\n",
    "val_preds = gb.predict(X_val)\n",
    "\n",
    "print(\"Train RMSE:\", np.sqrt(mean_squared_error(train_preds, y_train[\"lceq\"])))\n",
    "print(\"Val RMSE:\", np.sqrt(mean_squared_error(val_preds, y_val[\"lceq\"])))\n",
    "print(\"Train MAE:\", mean_absolute_error(train_preds, y_train[\"lceq\"]))\n",
    "print(\"Val MAE:\", mean_absolute_error(val_preds, y_val[\"lceq\"]))"
   ]
  },
  {
   "cell_type": "code",
   "execution_count": null,
   "metadata": {
    "colab": {
     "base_uri": "https://localhost:8080/"
    },
    "executionInfo": {
     "elapsed": 21857,
     "status": "ok",
     "timestamp": 1685391323369,
     "user": {
      "displayName": "Ken Le",
      "userId": "02524318770864979503"
     },
     "user_tz": -120
    },
    "id": "JMuuGeqXJSeK",
    "outputId": "66eacae6-4723-4bb8-e14e-410585980ba4"
   },
   "outputs": [],
   "source": [
    "rf_params = lceq_dict[\"random_forest\"]\n",
    "\n",
    "rf = RandomForestRegressor(**rf_params, random_state=7)\n",
    "\n",
    "rf.fit(X_train, y_train[\"lceq\"])\n",
    "\n",
    "train_preds = rf.predict(X_train)\n",
    "val_preds = rf.predict(X_val)\n",
    "\n",
    "print(\"Train RMSE:\", np.sqrt(mean_squared_error(train_preds, y_train[\"lceq\"])))\n",
    "print(\"Val RMSE:\", np.sqrt(mean_squared_error(val_preds, y_val[\"lceq\"])))\n",
    "print(\"Train MAE:\", mean_absolute_error(train_preds, y_train[\"lceq\"]))\n",
    "print(\"Val MAE:\", mean_absolute_error(val_preds, y_val[\"lceq\"]))"
   ]
  },
  {
   "cell_type": "code",
   "execution_count": null,
   "metadata": {
    "colab": {
     "base_uri": "https://localhost:8080/"
    },
    "executionInfo": {
     "elapsed": 38357,
     "status": "ok",
     "timestamp": 1685391361724,
     "user": {
      "displayName": "Ken Le",
      "userId": "02524318770864979503"
     },
     "user_tz": -120
    },
    "id": "IOCd69vDI1e-",
    "outputId": "cf7077bd-1b86-48fd-9480-ac387924f1e0"
   },
   "outputs": [],
   "source": [
    "\n",
    "xgb_params = lceq_dict[\"xgboost\"]\n",
    "\n",
    "xgb = xgboost.XGBRegressor(**xgb_params, random_state=7)\n",
    "\n",
    "xgb.fit(X_train, y_train[\"lceq\"])\n",
    "\n",
    "train_preds = xgb.predict(X_train)\n",
    "val_preds = xgb.predict(X_val)\n",
    "\n",
    "\n",
    "print(\"Train RMSE:\", np.sqrt(mean_squared_error(train_preds, y_train[\"lceq\"])))\n",
    "print(\"Val RMSE:\", np.sqrt(mean_squared_error(val_preds, y_val[\"lceq\"])))\n",
    "print(\"Train MAE:\", mean_absolute_error(train_preds, y_train[\"lceq\"]))\n",
    "print(\"Val MAE:\", mean_absolute_error(val_preds, y_val[\"lceq\"]))"
   ]
  },
  {
   "cell_type": "code",
   "execution_count": null,
   "metadata": {
    "colab": {
     "base_uri": "https://localhost:8080/",
     "height": 467
    },
    "executionInfo": {
     "elapsed": 2200,
     "status": "ok",
     "timestamp": 1685391500566,
     "user": {
      "displayName": "Ken Le",
      "userId": "02524318770864979503"
     },
     "user_tz": -120
    },
    "id": "98lt6MyeI1or",
    "outputId": "4c2dc668-d2aa-4b27-8306-e146145f78e6"
   },
   "outputs": [],
   "source": [
    "plt.scatter(val_preds, y_val[\"lceq\"])\n",
    "plt.xlabel(\"y pred\")\n",
    "plt.ylabel(\"y val\")"
   ]
  },
  {
   "cell_type": "code",
   "execution_count": null,
   "metadata": {
    "colab": {
     "base_uri": "https://localhost:8080/"
    },
    "executionInfo": {
     "elapsed": 275,
     "status": "ok",
     "timestamp": 1685391495486,
     "user": {
      "displayName": "Ken Le",
      "userId": "02524318770864979503"
     },
     "user_tz": -120
    },
    "id": "4am8u2GkI1yy",
    "outputId": "7ff7b546-ff5b-4e0e-8929-4aca7393c844"
   },
   "outputs": [],
   "source": [
    "r2_score(val_preds, y_val[\"lceq\"])"
   ]
  },
  {
   "cell_type": "code",
   "execution_count": null,
   "metadata": {
    "executionInfo": {
     "elapsed": 235,
     "status": "ok",
     "timestamp": 1685391527532,
     "user": {
      "displayName": "Ken Le",
      "userId": "02524318770864979503"
     },
     "user_tz": -120
    },
    "id": "csqIs5-LI18r"
   },
   "outputs": [],
   "source": [
    "## save model\n",
    "\n",
    "import pickle\n",
    "\n",
    "pickle.dump(xgb, open(\"../model/model_noise_level_file42/xgb_lceq.pkl\", \"wb\"))"
   ]
  },
  {
   "cell_type": "markdown",
   "metadata": {
    "id": "OauBqgogKmSN"
   },
   "source": [
    "## Predict lcpeak"
   ]
  },
  {
   "cell_type": "code",
   "execution_count": null,
   "metadata": {
    "colab": {
     "base_uri": "https://localhost:8080/"
    },
    "executionInfo": {
     "elapsed": 4154650,
     "status": "ok",
     "timestamp": 1685375188602,
     "user": {
      "displayName": "Ken Le",
      "userId": "02524318770864979503"
     },
     "user_tz": -120
    },
    "id": "THk0O0uO7nc_",
    "outputId": "f478775f-1441-4cd1-ef81-e199c27c4133"
   },
   "outputs": [],
   "source": [
    "# Define the model parameters\n",
    "model_params = {\n",
    "    \"random_forest\": {\n",
    "        \"model\": RandomForestRegressor(),\n",
    "        \"params\": {\n",
    "            \"n_estimators\": randint(50, 100),\n",
    "            \"max_depth\": randint(3, 50),\n",
    "            \"max_features\": [\"auto\", \"sqrt\"],\n",
    "            \"min_samples_split\": randint(2, 20),\n",
    "            \"min_samples_leaf\": randint(1, 10),\n",
    "            \"bootstrap\": [True, False],\n",
    "        },\n",
    "    },\n",
    "    \"gradient_boosting\": {\n",
    "        \"model\": GradientBoostingRegressor(),\n",
    "        \"params\": {\n",
    "            \"n_estimators\": randint(50, 100),\n",
    "            \"learning_rate\": uniform(0.01, 0.5),\n",
    "            \"max_depth\": randint(1, 10),\n",
    "            \"min_samples_split\": randint(2, 20),\n",
    "            \"min_samples_leaf\": randint(1, 10),\n",
    "        },\n",
    "    },\n",
    "    \"xgboost\": {\n",
    "        \"model\": xgboost.XGBRegressor(),\n",
    "        \"params\": {\n",
    "            \"n_estimators\": randint(50, 100),\n",
    "            \"learning_rate\": uniform(0.01, 0.5),\n",
    "            \"max_depth\": randint(1, 10),\n",
    "            \"min_child_weight\": randint(1, 10),\n",
    "            \"gamma\": uniform(0, 1),\n",
    "            \"reg_alpha\": uniform(0, 1),\n",
    "            \"reg_lambda\": uniform(0, 1),\n",
    "        },\n",
    "    },\n",
    "}\n",
    "\n",
    "params_dict = {}\n",
    "\n",
    "# Loop through each model in model_params and run RandomizedSearchCV\n",
    "for model_name, model_info in model_params.items():\n",
    "    print(\"Running RandomizedSearchCV for {}...\".format(model_name))\n",
    "\n",
    "    # Create a RandomizedSearchCV object for the current model\n",
    "    model = model_info[\"model\"]\n",
    "    param_dist = model_info[\"params\"]\n",
    "    random_search = RandomizedSearchCV(\n",
    "        model, param_distributions=param_dist, n_iter=10, cv=5, n_jobs=1, random_state=7\n",
    "    )\n",
    "\n",
    "    # Fit the RandomizedSearchCV object to the data\n",
    "    random_search.fit(X_train, y_train[\"lcpeak\"])\n",
    "\n",
    "    # Print the best parameters and score\n",
    "    params_dict[model_name] = random_search.best_params_\n",
    "    print(\"Best parameters for {}: \".format(model_name), random_search.best_params_)\n",
    "    print(\"Best score for {}: \".format(model_name), random_search.best_score_)\n",
    "    print(\"\\n\")"
   ]
  },
  {
   "cell_type": "code",
   "execution_count": null,
   "metadata": {
    "executionInfo": {
     "elapsed": 22,
     "status": "ok",
     "timestamp": 1685375188603,
     "user": {
      "displayName": "Ken Le",
      "userId": "02524318770864979503"
     },
     "user_tz": -120
    },
    "id": "gTBRQ72p7xXj"
   },
   "outputs": [],
   "source": [
    "# Save optimal param dictionary\n",
    "pickle.dump(params_dict, open(\"../model/model_noise_level_file42/lcpeak_dict\", \"wb\"))"
   ]
  },
  {
   "cell_type": "code",
   "execution_count": null,
   "metadata": {
    "colab": {
     "base_uri": "https://localhost:8080/"
    },
    "executionInfo": {
     "elapsed": 205,
     "status": "ok",
     "timestamp": 1685391703261,
     "user": {
      "displayName": "Ken Le",
      "userId": "02524318770864979503"
     },
     "user_tz": -120
    },
    "id": "jRqZQtt6K9-U",
    "outputId": "077ea4e8-9d9b-43a5-c168-8aa80b3ab0ac"
   },
   "outputs": [],
   "source": [
    "# Load param dictionary\n",
    "lcpeak_dict = pickle.load(open(\"../model/model_noise_level_file42/lcpeak_dict\", \"rb\"))\n",
    "lcpeak_dict"
   ]
  },
  {
   "cell_type": "code",
   "execution_count": null,
   "metadata": {
    "colab": {
     "base_uri": "https://localhost:8080/"
    },
    "executionInfo": {
     "elapsed": 78953,
     "status": "ok",
     "timestamp": 1685391811104,
     "user": {
      "displayName": "Ken Le",
      "userId": "02524318770864979503"
     },
     "user_tz": -120
    },
    "id": "DclN-emGK-HN",
    "outputId": "031e08d6-ab4f-4ee4-837c-b3bafac59cbe"
   },
   "outputs": [],
   "source": [
    "gb_params = lcpeak_dict[\"gradient_boosting\"]\n",
    "\n",
    "gb = GradientBoostingRegressor(**gb_params, random_state=7)\n",
    "\n",
    "gb.fit(X_train, y_train[\"lcpeak\"])\n",
    "\n",
    "train_preds = gb.predict(X_train)\n",
    "val_preds = gb.predict(X_val)\n",
    "\n",
    "print(\"Train RMSE:\", np.sqrt(mean_squared_error(train_preds, y_train[\"lcpeak\"])))\n",
    "print(\"Val RMSE:\", np.sqrt(mean_squared_error(val_preds, y_val[\"lcpeak\"])))\n",
    "print(\"Train MAE:\", mean_absolute_error(train_preds, y_train[\"lcpeak\"]))\n",
    "print(\"Val MAE:\", mean_absolute_error(val_preds, y_val[\"lcpeak\"]))"
   ]
  },
  {
   "cell_type": "code",
   "execution_count": null,
   "metadata": {
    "colab": {
     "base_uri": "https://localhost:8080/"
    },
    "executionInfo": {
     "elapsed": 24559,
     "status": "ok",
     "timestamp": 1685391835660,
     "user": {
      "displayName": "Ken Le",
      "userId": "02524318770864979503"
     },
     "user_tz": -120
    },
    "id": "eNkx37tlK-P7",
    "outputId": "dfbdd2b8-a551-4089-cf79-ed02ae4fcfd5"
   },
   "outputs": [],
   "source": [
    "rf_params = lcpeak_dict[\"random_forest\"]\n",
    "\n",
    "rf = RandomForestRegressor(**rf_params, random_state=7)\n",
    "\n",
    "rf.fit(X_train, y_train[\"lcpeak\"])\n",
    "\n",
    "train_preds = rf.predict(X_train)\n",
    "val_preds = rf.predict(X_val)\n",
    "\n",
    "print(\"Train RMSE:\", np.sqrt(mean_squared_error(train_preds, y_train[\"lcpeak\"])))\n",
    "print(\"Val RMSE:\", np.sqrt(mean_squared_error(val_preds, y_val[\"lcpeak\"])))\n",
    "print(\"Train MAE:\", mean_absolute_error(train_preds, y_train[\"lcpeak\"]))\n",
    "print(\"Val MAE:\", mean_absolute_error(val_preds, y_val[\"lcpeak\"]))"
   ]
  },
  {
   "cell_type": "code",
   "execution_count": null,
   "metadata": {
    "colab": {
     "base_uri": "https://localhost:8080/"
    },
    "executionInfo": {
     "elapsed": 46561,
     "status": "ok",
     "timestamp": 1685391882216,
     "user": {
      "displayName": "Ken Le",
      "userId": "02524318770864979503"
     },
     "user_tz": -120
    },
    "id": "3ZdOwHtSK-Zb",
    "outputId": "dfbaecf2-477a-4ee0-903b-39c9ce9bbb75"
   },
   "outputs": [],
   "source": [
    "import xgboost\n",
    "\n",
    "xgb_params = lcpeak_dict[\"xgboost\"]\n",
    "\n",
    "xgb = xgboost.XGBRegressor(**xgb_params, random_state=7)\n",
    "\n",
    "xgb.fit(X_train, y_train[\"lcpeak\"])\n",
    "\n",
    "train_preds = xgb.predict(X_train)\n",
    "val_preds = xgb.predict(X_val)\n",
    "\n",
    "\n",
    "print(\"Train RMSE:\", np.sqrt(mean_squared_error(train_preds, y_train[\"lcpeak\"])))\n",
    "print(\"Val RMSE:\", np.sqrt(mean_squared_error(val_preds, y_val[\"lcpeak\"])))\n",
    "print(\"Train MAE:\", mean_absolute_error(train_preds, y_train[\"lcpeak\"]))\n",
    "print(\"Val MAE:\", mean_absolute_error(val_preds, y_val[\"lcpeak\"]))"
   ]
  },
  {
   "cell_type": "code",
   "execution_count": null,
   "metadata": {
    "colab": {
     "base_uri": "https://localhost:8080/",
     "height": 467
    },
    "executionInfo": {
     "elapsed": 978,
     "status": "ok",
     "timestamp": 1685391902047,
     "user": {
      "displayName": "Ken Le",
      "userId": "02524318770864979503"
     },
     "user_tz": -120
    },
    "id": "Y_bh88T_K-iJ",
    "outputId": "9d737be6-d09e-4d66-9a4b-1f50a9d8c134"
   },
   "outputs": [],
   "source": [
    "plt.scatter(val_preds, y_val[\"lcpeak\"])\n",
    "plt.xlabel(\"y pred\")\n",
    "plt.ylabel(\"y val\")"
   ]
  },
  {
   "cell_type": "code",
   "execution_count": null,
   "metadata": {
    "colab": {
     "base_uri": "https://localhost:8080/"
    },
    "executionInfo": {
     "elapsed": 243,
     "status": "ok",
     "timestamp": 1685391905998,
     "user": {
      "displayName": "Ken Le",
      "userId": "02524318770864979503"
     },
     "user_tz": -120
    },
    "id": "EiBa6AR-K-qu",
    "outputId": "690bb90a-3a72-4857-e98f-76e6860e558b"
   },
   "outputs": [],
   "source": [
    "r2_score(val_preds, y_val[\"lcpeak\"])"
   ]
  },
  {
   "cell_type": "code",
   "execution_count": null,
   "metadata": {
    "executionInfo": {
     "elapsed": 600,
     "status": "ok",
     "timestamp": 1685391910349,
     "user": {
      "displayName": "Ken Le",
      "userId": "02524318770864979503"
     },
     "user_tz": -120
    },
    "id": "GjF_FFpuK-z8"
   },
   "outputs": [],
   "source": [
    "## save model\n",
    "\n",
    "pickle.dump(xgb, open(\"../model/model_noise_level_file42/xgb_lcpeak.pkl\", \"wb\"))"
   ]
  },
  {
   "cell_type": "markdown",
   "metadata": {},
   "source": [
    "## In this section, we would predict lcpeak using data in file meteo\n"
   ]
  },
  {
   "cell_type": "code",
   "execution_count": null,
   "metadata": {},
   "outputs": [],
   "source": [
    "meteo = pd.concat([pd.read_csv(\"../data/LC_data/LC_2022Q1.csv\", delimiter=\",\"),\n",
    "                  pd.read_csv(\"../data/LC_data/LC_2022Q2.csv\", delimiter=\",\"),\n",
    "                  pd.read_csv(\"../data/LC_data/LC_2022Q3.csv\", delimiter=\",\"),\n",
    "                  pd.read_csv(\"../data/LC_data/LC_2022Q4.csv\", delimiter=\",\")])"
   ]
  },
  {
   "cell_type": "code",
   "execution_count": null,
   "metadata": {},
   "outputs": [],
   "source": [
    "meteo.columns"
   ]
  },
  {
   "cell_type": "code",
   "execution_count": null,
   "metadata": {},
   "outputs": [],
   "source": [
    "meteo.shape"
   ]
  },
  {
   "cell_type": "code",
   "execution_count": null,
   "metadata": {},
   "outputs": [],
   "source": [
    "meteo.head(4)"
   ]
  },
  {
   "cell_type": "code",
   "execution_count": null,
   "metadata": {},
   "outputs": [],
   "source": [
    "meteo.dtypes"
   ]
  },
  {
   "cell_type": "code",
   "execution_count": null,
   "metadata": {},
   "outputs": [],
   "source": [
    "meteo.isna().mean()"
   ]
  },
  {
   "cell_type": "code",
   "execution_count": null,
   "metadata": {},
   "outputs": [],
   "source": [
    "meteo['date'] = pd.to_datetime(meteo['DATEUTC']).dt.date\n"
   ]
  },
  {
   "cell_type": "code",
   "execution_count": null,
   "metadata": {},
   "outputs": [],
   "source": [
    "meteo = meteo[~meteo.LC_HUMIDITY.isnull()]"
   ]
  },
  {
   "cell_type": "code",
   "execution_count": null,
   "metadata": {},
   "outputs": [],
   "source": [
    "meteo.isna().mean()"
   ]
  },
  {
   "cell_type": "code",
   "execution_count": null,
   "metadata": {},
   "outputs": [],
   "source": [
    "meteo = meteo.groupby([\"date\", \"Month\", \"Hour\"]).mean().reset_index()"
   ]
  },
  {
   "cell_type": "code",
   "execution_count": null,
   "metadata": {},
   "outputs": [],
   "source": [
    "meteo.shape"
   ]
  },
  {
   "cell_type": "code",
   "execution_count": null,
   "metadata": {},
   "outputs": [],
   "source": [
    "meteo.drop([\"Year\", \"Day\", \"Minute\"], axis = 1, inplace = True)"
   ]
  },
  {
   "cell_type": "code",
   "execution_count": null,
   "metadata": {},
   "outputs": [],
   "source": [
    "meteo.rename(columns={'Month': 'month',\n",
    "                      'Hour': 'hour'}, inplace = True)"
   ]
  },
  {
   "cell_type": "code",
   "execution_count": null,
   "metadata": {},
   "outputs": [],
   "source": [
    "data_model_meteo = file42.merge(meteo, how=\"inner\",\n",
    "                                left_on = [\"date\", \"hour\", \"month\"],\n",
    "                                right_on = [\"date\", \"hour\", \"month\"])"
   ]
  },
  {
   "cell_type": "code",
   "execution_count": null,
   "metadata": {},
   "outputs": [],
   "source": [
    "data_model_meteo.head(3)"
   ]
  },
  {
   "cell_type": "code",
   "execution_count": null,
   "metadata": {},
   "outputs": [],
   "source": [
    "data_model_meteo.shape"
   ]
  },
  {
   "cell_type": "code",
   "execution_count": null,
   "metadata": {},
   "outputs": [],
   "source": [
    "## split train, test data\n",
    "from sklearn.model_selection import train_test_split\n",
    "train_df, val_df = train_test_split(data_model_meteo, test_size=0.2, random_state = 7)"
   ]
  },
  {
   "cell_type": "code",
   "execution_count": null,
   "metadata": {},
   "outputs": [],
   "source": [
    "target_variable = [\"lamax\", \"laeq\", \"lceq\", \"lcpeak\"]\n"
   ]
  },
  {
   "cell_type": "code",
   "execution_count": null,
   "metadata": {},
   "outputs": [],
   "source": [
    "X_train = train_df.drop(target_variable + [\"date\"], axis = 1)\n",
    "X_val = val_df.drop(target_variable + [\"date\"], axis = 1)"
   ]
  },
  {
   "cell_type": "code",
   "execution_count": null,
   "metadata": {},
   "outputs": [],
   "source": [
    "X_train.columns"
   ]
  },
  {
   "cell_type": "code",
   "execution_count": null,
   "metadata": {},
   "outputs": [],
   "source": [
    "X_train.dtypes"
   ]
  },
  {
   "cell_type": "code",
   "execution_count": null,
   "metadata": {},
   "outputs": [],
   "source": [
    "y_train = train_df[target_variable]\n",
    "y_val = val_df[target_variable]"
   ]
  },
  {
   "cell_type": "code",
   "execution_count": null,
   "metadata": {},
   "outputs": [],
   "source": [
    "one_hot_var = ['object_id', \"hour\", \"month\", \"weekday\"]\n",
    "numerical_var = [col for col in X_train.columns if col not in one_hot_var]"
   ]
  },
  {
   "cell_type": "code",
   "execution_count": null,
   "metadata": {},
   "outputs": [],
   "source": [
    "from sklearn.compose import ColumnTransformer\n",
    "from sklearn.preprocessing import OneHotEncoder\n",
    "from sklearn.preprocessing import StandardScaler\n",
    "t = ColumnTransformer(\n",
    "    transformers = [\n",
    "        ('OneHot', OneHotEncoder(handle_unknown='ignore'), one_hot_var),\n",
    "        ('StandardScaler', StandardScaler(), numerical_var)\n",
    "        \n",
    "    ])\n",
    "\n",
    "# fit the encoder\n",
    "t.fit(X_train)"
   ]
  },
  {
   "cell_type": "code",
   "execution_count": null,
   "metadata": {},
   "outputs": [],
   "source": [
    "## save columnstransformer\n",
    "\n",
    "with open(\"../model/model_noise_level_file42/encoder_model_file42_meteo.pkl\", 'wb') as file:\n",
    "    pickle.dump(t, file)"
   ]
  },
  {
   "cell_type": "code",
   "execution_count": null,
   "metadata": {},
   "outputs": [],
   "source": [
    "# create pandas DataFrame from sparse matrix\n",
    "\n",
    "from scipy.sparse import csr_matrix\n",
    "\n",
    "X_train = pd.DataFrame.sparse.from_spmatrix(csr_matrix(t.fit_transform(X_train)))\n",
    "X_train.columns  = t.get_feature_names_out()\n",
    "\n",
    "X_val = pd.DataFrame.sparse.from_spmatrix(csr_matrix(t.fit_transform(X_val)))\n",
    "X_val.columns  = t.get_feature_names_out()\n"
   ]
  },
  {
   "cell_type": "code",
   "execution_count": null,
   "metadata": {},
   "outputs": [],
   "source": [
    "X_train.columns"
   ]
  },
  {
   "cell_type": "code",
   "execution_count": null,
   "metadata": {},
   "outputs": [],
   "source": [
    "# Define the model parameters\n",
    "model_params = {\n",
    "    'random_forest': {\n",
    "        'model': RandomForestRegressor(),\n",
    "        'params': {\n",
    "            'n_estimators': randint(50, 100),\n",
    "            'max_depth': randint(3, 50),\n",
    "            'max_features': ['auto', 'sqrt'],\n",
    "            'min_samples_split': randint(2, 20),\n",
    "            'min_samples_leaf': randint(1, 10),\n",
    "            'bootstrap': [True, False]\n",
    "        }\n",
    "    },\n",
    "    'gradient_boosting': {\n",
    "        'model': GradientBoostingRegressor(),\n",
    "        'params': {\n",
    "            'n_estimators': randint(50, 100),\n",
    "            'learning_rate': uniform(0.01, 0.5),\n",
    "            'max_depth': randint(1, 10),\n",
    "            'min_samples_split': randint(2, 20),\n",
    "            'min_samples_leaf': randint(1, 10)\n",
    "        }\n",
    "    },\n",
    "    \n",
    "    'xgboost': {\n",
    "        'model': xgboost.XGBRegressor(),\n",
    "        'params': {\n",
    "            'n_estimators': randint(50, 100),\n",
    "            'learning_rate': uniform(0.01, 0.5),\n",
    "            'max_depth': randint(1, 10),\n",
    "            'min_child_weight': randint(1, 10),\n",
    "            'gamma': uniform(0, 1),\n",
    "            'reg_alpha': uniform(0, 1),\n",
    "            'reg_lambda': uniform(0, 1),\n",
    "        }\n",
    "    }\n",
    "    \n",
    "}\n",
    "\n",
    "params_dict = {}\n",
    "\n",
    "# Loop through each model in model_params and run RandomizedSearchCV\n",
    "for model_name, model_info in model_params.items():\n",
    "    print(\"Running RandomizedSearchCV for {}...\".format(model_name))\n",
    "    \n",
    "    # Create a RandomizedSearchCV object for the current model\n",
    "    model = model_info['model']\n",
    "    param_dist = model_info['params']\n",
    "    random_search = RandomizedSearchCV(model, param_distributions=param_dist,\n",
    "                                       n_iter=10, cv=5, n_jobs=1, random_state=7)\n",
    "    \n",
    "    # Fit the RandomizedSearchCV object to the data\n",
    "    random_search.fit(X_train, y_train['lcpeak'])\n",
    "    \n",
    "    # Print the best parameters and score\n",
    "    params_dict[model_name] = random_search.best_params_\n",
    "    print(\"Best parameters for {}: \".format(model_name), random_search.best_params_)\n",
    "    print(\"Best score for {}: \".format(model_name), random_search.best_score_)\n",
    "    print(\"\\n\")"
   ]
  },
  {
   "cell_type": "code",
   "execution_count": null,
   "metadata": {},
   "outputs": [],
   "source": [
    "# Save optimal param dictionary\n",
    "pickle.dump(params_dict, open(\"../model/model_noise_level_file42/lcpeak_dict_meteo\", \"wb\"))"
   ]
  },
  {
   "cell_type": "code",
   "execution_count": null,
   "metadata": {},
   "outputs": [],
   "source": [
    "# Load param dictionary\n",
    "lcpeak_dict_meteo = pickle.load(open(\"../model/model_noise_level_file42/lcpeak_dict_meteo\", \"rb\"))\n",
    "lcpeak_dict_meteo"
   ]
  },
  {
   "cell_type": "code",
   "execution_count": null,
   "metadata": {},
   "outputs": [],
   "source": [
    "gb_params = lcpeak_dict_meteo[\"gradient_boosting\"]\n",
    "\n",
    "gb = GradientBoostingRegressor(**gb_params, random_state=7)\n",
    "\n",
    "gb.fit(X_train, y_train[\"lcpeak\"])\n",
    "\n",
    "train_preds = gb.predict(X_train)\n",
    "val_preds = gb.predict(X_val)\n",
    "\n",
    "print(\"Train RMSE:\", np.sqrt(mean_squared_error(train_preds, y_train[\"lcpeak\"])))\n",
    "print(\"Val RMSE:\", np.sqrt(mean_squared_error(val_preds, y_val[\"lcpeak\"])))\n",
    "print(\"Train MAE:\", mean_absolute_error(train_preds, y_train[\"lcpeak\"]))\n",
    "print(\"Val MAE:\", mean_absolute_error(val_preds, y_val[\"lcpeak\"]))"
   ]
  },
  {
   "cell_type": "code",
   "execution_count": null,
   "metadata": {},
   "outputs": [],
   "source": [
    "rf_params = lcpeak_dict_meteo[\"random_forest\"]\n",
    "\n",
    "rf = RandomForestRegressor(**rf_params, random_state=7)\n",
    "\n",
    "rf.fit(X_train, y_train[\"lcpeak\"])\n",
    "\n",
    "train_preds = rf.predict(X_train)\n",
    "val_preds = rf.predict(X_val)\n",
    "\n",
    "print(\"Train RMSE:\", np.sqrt(mean_squared_error(train_preds, y_train[\"lcpeak\"])))\n",
    "print(\"Val RMSE:\", np.sqrt(mean_squared_error(val_preds, y_val[\"lcpeak\"])))\n",
    "print(\"Train MAE:\", mean_absolute_error(train_preds, y_train[\"lcpeak\"]))\n",
    "print(\"Val MAE:\", mean_absolute_error(val_preds, y_val[\"lcpeak\"]))"
   ]
  },
  {
   "cell_type": "code",
   "execution_count": null,
   "metadata": {},
   "outputs": [],
   "source": [
    "import xgboost\n",
    "\n",
    "xgb_params = lcpeak_dict_meteo[\"xgboost\"]\n",
    "\n",
    "xgb = xgboost.XGBRegressor(**xgb_params, random_state=7)\n",
    "\n",
    "xgb.fit(X_train, y_train[\"lcpeak\"])\n",
    "\n",
    "train_preds = xgb.predict(X_train)\n",
    "val_preds = xgb.predict(X_val)\n",
    "\n",
    "\n",
    "print(\"Train RMSE:\", np.sqrt(mean_squared_error(train_preds, y_train[\"lcpeak\"])))\n",
    "print(\"Val RMSE:\", np.sqrt(mean_squared_error(val_preds, y_val[\"lcpeak\"])))\n",
    "print(\"Train MAE:\", mean_absolute_error(train_preds, y_train[\"lcpeak\"]))\n",
    "print(\"Val MAE:\", mean_absolute_error(val_preds, y_val[\"lcpeak\"]))"
   ]
  },
  {
   "cell_type": "code",
   "execution_count": null,
   "metadata": {},
   "outputs": [],
   "source": [
    "plt.scatter(val_preds, y_val[\"lcpeak\"])\n",
    "plt.xlabel(\"y pred\")\n",
    "plt.ylabel(\"y val\")"
   ]
  },
  {
   "cell_type": "code",
   "execution_count": null,
   "metadata": {},
   "outputs": [],
   "source": [
    "r2_score(val_preds, y_val[\"lcpeak\"])"
   ]
  },
  {
   "cell_type": "code",
   "execution_count": null,
   "metadata": {},
   "outputs": [],
   "source": [
    "## save model\n",
    "\n",
    "pickle.dump(xgb, open(\"../model/model_noise_level_file42/xgb_lcpeak_meteo.pkl\", \"wb\"))"
   ]
  }
 ],
 "metadata": {
  "colab": {
   "authorship_tag": "ABX9TyNx8zMl9LmNa6g7LlV1K8DU",
   "provenance": []
  },
  "kernelspec": {
   "display_name": "Python 3 (ipykernel)",
   "language": "python",
   "name": "python3"
  },
  "language_info": {
   "codemirror_mode": {
    "name": "ipython",
    "version": 3
   },
   "file_extension": ".py",
   "mimetype": "text/x-python",
   "name": "python",
   "nbconvert_exporter": "python",
   "pygments_lexer": "ipython3",
   "version": "3.10.11"
  }
 },
 "nbformat": 4,
 "nbformat_minor": 1
}
