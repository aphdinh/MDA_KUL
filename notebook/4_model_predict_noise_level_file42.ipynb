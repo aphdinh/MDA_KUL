{
 "cells": [
  {
   "cell_type": "code",
   "execution_count": 1,
   "metadata": {
    "executionInfo": {
     "elapsed": 219,
     "status": "ok",
     "timestamp": 1685390353313,
     "user": {
      "displayName": "Ken Le",
      "userId": "02524318770864979503"
     },
     "user_tz": -120
    },
    "id": "BXDblghe14zU"
   },
   "outputs": [],
   "source": [
    "import pandas as pd\n",
    "import matplotlib.pyplot as plt\n",
    "import numpy as np\n",
    "import seaborn as sns\n",
    "import datetime as dt\n",
    "import xgboost \n",
    "import os\n",
    "import pickle\n",
    "\n",
    "from sklearn.compose import ColumnTransformer\n",
    "from sklearn.model_selection import train_test_split, cross_validate\n",
    "from sklearn.preprocessing import FunctionTransformer, OneHotEncoder, StandardScaler, LabelEncoder\n",
    "from sklearn.pipeline import Pipeline\n",
    "from sklearn.impute import SimpleImputer\n",
    "from sklearn.preprocessing import StandardScaler\n",
    "from sklearn.metrics import mean_squared_error, r2_score, mean_absolute_error\n",
    "from sklearn.ensemble import ExtraTreesClassifier\n",
    "from sklearn.model_selection import KFold, GridSearchCV, RandomizedSearchCV\n",
    "from sklearn.feature_selection import SelectFromModel\n",
    "from sklearn.ensemble import (\n",
    "    RandomForestRegressor,\n",
    "    GradientBoostingRegressor,\n",
    "    ExtraTreesClassifier,\n",
    ")\n",
    "from scipy.stats import randint, uniform"
   ]
  },
  {
   "cell_type": "markdown",
   "metadata": {
    "id": "k3c0L4Vv2BrN"
   },
   "source": [
    "## Process Weather Data"
   ]
  },
  {
   "cell_type": "code",
   "execution_count": 2,
   "metadata": {
    "executionInfo": {
     "elapsed": 1290,
     "status": "ok",
     "timestamp": 1685389693640,
     "user": {
      "displayName": "Ken Le",
      "userId": "02524318770864979503"
     },
     "user_tz": -120
    },
    "id": "YFqcMTOK2FqR"
   },
   "outputs": [],
   "source": [
    "weather_data = pd.read_csv(\"../data/processed_weather_data_leuven.csv\", index_col=0)\n"
   ]
  },
  {
   "cell_type": "code",
   "execution_count": 3,
   "metadata": {
    "colab": {
     "base_uri": "https://localhost:8080/",
     "height": 355
    },
    "executionInfo": {
     "elapsed": 48,
     "status": "ok",
     "timestamp": 1685389693642,
     "user": {
      "displayName": "Ken Le",
      "userId": "02524318770864979503"
     },
     "user_tz": -120
    },
    "id": "N0Al397t2G9T",
    "outputId": "6176c763-9ee5-42b4-8066-667b30e19f3f"
   },
   "outputs": [
    {
     "data": {
      "text/html": [
       "<div>\n",
       "<style scoped>\n",
       "    .dataframe tbody tr th:only-of-type {\n",
       "        vertical-align: middle;\n",
       "    }\n",
       "\n",
       "    .dataframe tbody tr th {\n",
       "        vertical-align: top;\n",
       "    }\n",
       "\n",
       "    .dataframe thead th {\n",
       "        text-align: right;\n",
       "    }\n",
       "</style>\n",
       "<table border=\"1\" class=\"dataframe\">\n",
       "  <thead>\n",
       "    <tr style=\"text-align: right;\">\n",
       "      <th></th>\n",
       "      <th>time</th>\n",
       "      <th>temperature_2m</th>\n",
       "      <th>relativehumidity_2m</th>\n",
       "      <th>dewpoint_2m</th>\n",
       "      <th>apparent_temperature</th>\n",
       "      <th>pressure_msl</th>\n",
       "      <th>surface_pressure</th>\n",
       "      <th>precipitation</th>\n",
       "      <th>rain</th>\n",
       "      <th>snowfall</th>\n",
       "      <th>...</th>\n",
       "      <th>direct_radiation</th>\n",
       "      <th>diffuse_radiation</th>\n",
       "      <th>direct_normal_irradiance</th>\n",
       "      <th>windspeed_10m</th>\n",
       "      <th>winddirection_10m</th>\n",
       "      <th>windgusts_10m</th>\n",
       "      <th>date</th>\n",
       "      <th>hour</th>\n",
       "      <th>month</th>\n",
       "      <th>weekday</th>\n",
       "    </tr>\n",
       "  </thead>\n",
       "  <tbody>\n",
       "    <tr>\n",
       "      <th>0</th>\n",
       "      <td>2022-01-01 00:00:00</td>\n",
       "      <td>12.7</td>\n",
       "      <td>92</td>\n",
       "      <td>11.5</td>\n",
       "      <td>10.9</td>\n",
       "      <td>1023.6</td>\n",
       "      <td>1020.4</td>\n",
       "      <td>0.0</td>\n",
       "      <td>0.0</td>\n",
       "      <td>0.0</td>\n",
       "      <td>...</td>\n",
       "      <td>0.0</td>\n",
       "      <td>0.0</td>\n",
       "      <td>0.0</td>\n",
       "      <td>15.3</td>\n",
       "      <td>243</td>\n",
       "      <td>30.2</td>\n",
       "      <td>2022-01-01</td>\n",
       "      <td>0</td>\n",
       "      <td>1</td>\n",
       "      <td>Sat</td>\n",
       "    </tr>\n",
       "    <tr>\n",
       "      <th>1</th>\n",
       "      <td>2022-01-01 01:00:00</td>\n",
       "      <td>12.7</td>\n",
       "      <td>92</td>\n",
       "      <td>11.5</td>\n",
       "      <td>11.2</td>\n",
       "      <td>1024.0</td>\n",
       "      <td>1020.8</td>\n",
       "      <td>0.0</td>\n",
       "      <td>0.0</td>\n",
       "      <td>0.0</td>\n",
       "      <td>...</td>\n",
       "      <td>0.0</td>\n",
       "      <td>0.0</td>\n",
       "      <td>0.0</td>\n",
       "      <td>13.4</td>\n",
       "      <td>243</td>\n",
       "      <td>26.6</td>\n",
       "      <td>2022-01-01</td>\n",
       "      <td>1</td>\n",
       "      <td>1</td>\n",
       "      <td>Sat</td>\n",
       "    </tr>\n",
       "    <tr>\n",
       "      <th>2</th>\n",
       "      <td>2022-01-01 02:00:00</td>\n",
       "      <td>12.6</td>\n",
       "      <td>93</td>\n",
       "      <td>11.4</td>\n",
       "      <td>12.0</td>\n",
       "      <td>1023.7</td>\n",
       "      <td>1020.5</td>\n",
       "      <td>0.0</td>\n",
       "      <td>0.0</td>\n",
       "      <td>0.0</td>\n",
       "      <td>...</td>\n",
       "      <td>0.0</td>\n",
       "      <td>0.0</td>\n",
       "      <td>0.0</td>\n",
       "      <td>6.9</td>\n",
       "      <td>242</td>\n",
       "      <td>27.0</td>\n",
       "      <td>2022-01-01</td>\n",
       "      <td>2</td>\n",
       "      <td>1</td>\n",
       "      <td>Sat</td>\n",
       "    </tr>\n",
       "    <tr>\n",
       "      <th>3</th>\n",
       "      <td>2022-01-01 03:00:00</td>\n",
       "      <td>12.5</td>\n",
       "      <td>93</td>\n",
       "      <td>11.3</td>\n",
       "      <td>11.7</td>\n",
       "      <td>1024.4</td>\n",
       "      <td>1021.2</td>\n",
       "      <td>0.0</td>\n",
       "      <td>0.0</td>\n",
       "      <td>0.0</td>\n",
       "      <td>...</td>\n",
       "      <td>0.0</td>\n",
       "      <td>0.0</td>\n",
       "      <td>0.0</td>\n",
       "      <td>7.6</td>\n",
       "      <td>239</td>\n",
       "      <td>28.4</td>\n",
       "      <td>2022-01-01</td>\n",
       "      <td>3</td>\n",
       "      <td>1</td>\n",
       "      <td>Sat</td>\n",
       "    </tr>\n",
       "  </tbody>\n",
       "</table>\n",
       "<p>4 rows × 26 columns</p>\n",
       "</div>"
      ],
      "text/plain": [
       "                  time  temperature_2m  relativehumidity_2m  dewpoint_2m  \\\n",
       "0  2022-01-01 00:00:00            12.7                   92         11.5   \n",
       "1  2022-01-01 01:00:00            12.7                   92         11.5   \n",
       "2  2022-01-01 02:00:00            12.6                   93         11.4   \n",
       "3  2022-01-01 03:00:00            12.5                   93         11.3   \n",
       "\n",
       "   apparent_temperature  pressure_msl  surface_pressure  precipitation  rain  \\\n",
       "0                  10.9        1023.6            1020.4            0.0   0.0   \n",
       "1                  11.2        1024.0            1020.8            0.0   0.0   \n",
       "2                  12.0        1023.7            1020.5            0.0   0.0   \n",
       "3                  11.7        1024.4            1021.2            0.0   0.0   \n",
       "\n",
       "   snowfall  ...  direct_radiation  diffuse_radiation  \\\n",
       "0       0.0  ...               0.0                0.0   \n",
       "1       0.0  ...               0.0                0.0   \n",
       "2       0.0  ...               0.0                0.0   \n",
       "3       0.0  ...               0.0                0.0   \n",
       "\n",
       "   direct_normal_irradiance  windspeed_10m  winddirection_10m  windgusts_10m  \\\n",
       "0                       0.0           15.3                243           30.2   \n",
       "1                       0.0           13.4                243           26.6   \n",
       "2                       0.0            6.9                242           27.0   \n",
       "3                       0.0            7.6                239           28.4   \n",
       "\n",
       "         date  hour  month  weekday  \n",
       "0  2022-01-01     0      1      Sat  \n",
       "1  2022-01-01     1      1      Sat  \n",
       "2  2022-01-01     2      1      Sat  \n",
       "3  2022-01-01     3      1      Sat  \n",
       "\n",
       "[4 rows x 26 columns]"
      ]
     },
     "execution_count": 3,
     "metadata": {},
     "output_type": "execute_result"
    }
   ],
   "source": [
    "weather_data.head(4)"
   ]
  },
  {
   "cell_type": "code",
   "execution_count": 4,
   "metadata": {
    "colab": {
     "base_uri": "https://localhost:8080/"
    },
    "executionInfo": {
     "elapsed": 47,
     "status": "ok",
     "timestamp": 1685389693643,
     "user": {
      "displayName": "Ken Le",
      "userId": "02524318770864979503"
     },
     "user_tz": -120
    },
    "id": "GMmkKVh72HN2",
    "outputId": "aeb36ec3-eb45-4525-a24c-e3f77305a081"
   },
   "outputs": [
    {
     "data": {
      "text/plain": [
       "Index(['time', 'temperature_2m', 'relativehumidity_2m', 'dewpoint_2m',\n",
       "       'apparent_temperature', 'pressure_msl', 'surface_pressure',\n",
       "       'precipitation', 'rain', 'snowfall', 'weathercode', 'cloudcover',\n",
       "       'cloudcover_low', 'cloudcover_mid', 'cloudcover_high',\n",
       "       'shortwave_radiation', 'direct_radiation', 'diffuse_radiation',\n",
       "       'direct_normal_irradiance', 'windspeed_10m', 'winddirection_10m',\n",
       "       'windgusts_10m', 'date', 'hour', 'month', 'weekday'],\n",
       "      dtype='object')"
      ]
     },
     "execution_count": 4,
     "metadata": {},
     "output_type": "execute_result"
    }
   ],
   "source": [
    "weather_data.columns"
   ]
  },
  {
   "cell_type": "code",
   "execution_count": 5,
   "metadata": {
    "colab": {
     "base_uri": "https://localhost:8080/"
    },
    "executionInfo": {
     "elapsed": 39,
     "status": "ok",
     "timestamp": 1685389693645,
     "user": {
      "displayName": "Ken Le",
      "userId": "02524318770864979503"
     },
     "user_tz": -120
    },
    "id": "QphMCHmY2L3u",
    "outputId": "2fa752eb-71ae-4142-ed9f-d53ca3005563"
   },
   "outputs": [
    {
     "data": {
      "text/plain": [
       "time                         object\n",
       "temperature_2m              float64\n",
       "relativehumidity_2m           int64\n",
       "dewpoint_2m                 float64\n",
       "apparent_temperature        float64\n",
       "pressure_msl                float64\n",
       "surface_pressure            float64\n",
       "precipitation               float64\n",
       "rain                        float64\n",
       "snowfall                    float64\n",
       "weathercode                   int64\n",
       "cloudcover                    int64\n",
       "cloudcover_low                int64\n",
       "cloudcover_mid                int64\n",
       "cloudcover_high               int64\n",
       "shortwave_radiation         float64\n",
       "direct_radiation            float64\n",
       "diffuse_radiation           float64\n",
       "direct_normal_irradiance    float64\n",
       "windspeed_10m               float64\n",
       "winddirection_10m             int64\n",
       "windgusts_10m               float64\n",
       "date                         object\n",
       "hour                          int64\n",
       "month                         int64\n",
       "weekday                      object\n",
       "dtype: object"
      ]
     },
     "execution_count": 5,
     "metadata": {},
     "output_type": "execute_result"
    }
   ],
   "source": [
    "weather_data.dtypes"
   ]
  },
  {
   "cell_type": "code",
   "execution_count": 6,
   "metadata": {
    "colab": {
     "base_uri": "https://localhost:8080/"
    },
    "executionInfo": {
     "elapsed": 35,
     "status": "ok",
     "timestamp": 1685389693646,
     "user": {
      "displayName": "Ken Le",
      "userId": "02524318770864979503"
     },
     "user_tz": -120
    },
    "id": "TsY7RVHe2NCL",
    "outputId": "4b6d37b5-a753-4295-9232-85f2e5f9e180"
   },
   "outputs": [
    {
     "data": {
      "text/plain": [
       "array([ 0,  1,  2,  3, 51, 53, 55, 61, 63, 65, 71, 73], dtype=int64)"
      ]
     },
     "execution_count": 6,
     "metadata": {},
     "output_type": "execute_result"
    }
   ],
   "source": [
    "np.unique(weather_data.weathercode)"
   ]
  },
  {
   "cell_type": "code",
   "execution_count": 7,
   "metadata": {
    "colab": {
     "base_uri": "https://localhost:8080/",
     "height": 473
    },
    "executionInfo": {
     "elapsed": 33,
     "status": "ok",
     "timestamp": 1685389693647,
     "user": {
      "displayName": "Ken Le",
      "userId": "02524318770864979503"
     },
     "user_tz": -120
    },
    "id": "FXlBhPfU2OJY",
    "outputId": "46311bc2-c99b-42e2-e715-faf0a10752a2"
   },
   "outputs": [
    {
     "data": {
      "text/html": [
       "<div>\n",
       "<style scoped>\n",
       "    .dataframe tbody tr th:only-of-type {\n",
       "        vertical-align: middle;\n",
       "    }\n",
       "\n",
       "    .dataframe tbody tr th {\n",
       "        vertical-align: top;\n",
       "    }\n",
       "\n",
       "    .dataframe thead th {\n",
       "        text-align: right;\n",
       "    }\n",
       "</style>\n",
       "<table border=\"1\" class=\"dataframe\">\n",
       "  <thead>\n",
       "    <tr style=\"text-align: right;\">\n",
       "      <th></th>\n",
       "      <th>time</th>\n",
       "      <th>temperature_2m</th>\n",
       "      <th>relativehumidity_2m</th>\n",
       "      <th>dewpoint_2m</th>\n",
       "      <th>apparent_temperature</th>\n",
       "      <th>pressure_msl</th>\n",
       "      <th>surface_pressure</th>\n",
       "      <th>precipitation</th>\n",
       "      <th>rain</th>\n",
       "      <th>snowfall</th>\n",
       "      <th>...</th>\n",
       "      <th>direct_radiation</th>\n",
       "      <th>diffuse_radiation</th>\n",
       "      <th>direct_normal_irradiance</th>\n",
       "      <th>windspeed_10m</th>\n",
       "      <th>winddirection_10m</th>\n",
       "      <th>windgusts_10m</th>\n",
       "      <th>date</th>\n",
       "      <th>hour</th>\n",
       "      <th>month</th>\n",
       "      <th>weekday</th>\n",
       "    </tr>\n",
       "  </thead>\n",
       "  <tbody>\n",
       "    <tr>\n",
       "      <th>0</th>\n",
       "      <td>2022-01-01 00:00:00</td>\n",
       "      <td>12.7</td>\n",
       "      <td>92</td>\n",
       "      <td>11.5</td>\n",
       "      <td>10.9</td>\n",
       "      <td>1023.6</td>\n",
       "      <td>1020.4</td>\n",
       "      <td>0.0</td>\n",
       "      <td>0.0</td>\n",
       "      <td>0.0</td>\n",
       "      <td>...</td>\n",
       "      <td>0.0</td>\n",
       "      <td>0.0</td>\n",
       "      <td>0.0</td>\n",
       "      <td>15.3</td>\n",
       "      <td>243</td>\n",
       "      <td>30.2</td>\n",
       "      <td>2022-01-01</td>\n",
       "      <td>0</td>\n",
       "      <td>1</td>\n",
       "      <td>Sat</td>\n",
       "    </tr>\n",
       "    <tr>\n",
       "      <th>1</th>\n",
       "      <td>2022-01-01 01:00:00</td>\n",
       "      <td>12.7</td>\n",
       "      <td>92</td>\n",
       "      <td>11.5</td>\n",
       "      <td>11.2</td>\n",
       "      <td>1024.0</td>\n",
       "      <td>1020.8</td>\n",
       "      <td>0.0</td>\n",
       "      <td>0.0</td>\n",
       "      <td>0.0</td>\n",
       "      <td>...</td>\n",
       "      <td>0.0</td>\n",
       "      <td>0.0</td>\n",
       "      <td>0.0</td>\n",
       "      <td>13.4</td>\n",
       "      <td>243</td>\n",
       "      <td>26.6</td>\n",
       "      <td>2022-01-01</td>\n",
       "      <td>1</td>\n",
       "      <td>1</td>\n",
       "      <td>Sat</td>\n",
       "    </tr>\n",
       "    <tr>\n",
       "      <th>2</th>\n",
       "      <td>2022-01-01 02:00:00</td>\n",
       "      <td>12.6</td>\n",
       "      <td>93</td>\n",
       "      <td>11.4</td>\n",
       "      <td>12.0</td>\n",
       "      <td>1023.7</td>\n",
       "      <td>1020.5</td>\n",
       "      <td>0.0</td>\n",
       "      <td>0.0</td>\n",
       "      <td>0.0</td>\n",
       "      <td>...</td>\n",
       "      <td>0.0</td>\n",
       "      <td>0.0</td>\n",
       "      <td>0.0</td>\n",
       "      <td>6.9</td>\n",
       "      <td>242</td>\n",
       "      <td>27.0</td>\n",
       "      <td>2022-01-01</td>\n",
       "      <td>2</td>\n",
       "      <td>1</td>\n",
       "      <td>Sat</td>\n",
       "    </tr>\n",
       "    <tr>\n",
       "      <th>3</th>\n",
       "      <td>2022-01-01 03:00:00</td>\n",
       "      <td>12.5</td>\n",
       "      <td>93</td>\n",
       "      <td>11.3</td>\n",
       "      <td>11.7</td>\n",
       "      <td>1024.4</td>\n",
       "      <td>1021.2</td>\n",
       "      <td>0.0</td>\n",
       "      <td>0.0</td>\n",
       "      <td>0.0</td>\n",
       "      <td>...</td>\n",
       "      <td>0.0</td>\n",
       "      <td>0.0</td>\n",
       "      <td>0.0</td>\n",
       "      <td>7.6</td>\n",
       "      <td>239</td>\n",
       "      <td>28.4</td>\n",
       "      <td>2022-01-01</td>\n",
       "      <td>3</td>\n",
       "      <td>1</td>\n",
       "      <td>Sat</td>\n",
       "    </tr>\n",
       "    <tr>\n",
       "      <th>4</th>\n",
       "      <td>2022-01-01 04:00:00</td>\n",
       "      <td>12.3</td>\n",
       "      <td>93</td>\n",
       "      <td>11.2</td>\n",
       "      <td>11.7</td>\n",
       "      <td>1024.3</td>\n",
       "      <td>1021.1</td>\n",
       "      <td>0.0</td>\n",
       "      <td>0.0</td>\n",
       "      <td>0.0</td>\n",
       "      <td>...</td>\n",
       "      <td>0.0</td>\n",
       "      <td>0.0</td>\n",
       "      <td>0.0</td>\n",
       "      <td>6.4</td>\n",
       "      <td>232</td>\n",
       "      <td>26.6</td>\n",
       "      <td>2022-01-01</td>\n",
       "      <td>4</td>\n",
       "      <td>1</td>\n",
       "      <td>Sat</td>\n",
       "    </tr>\n",
       "  </tbody>\n",
       "</table>\n",
       "<p>5 rows × 26 columns</p>\n",
       "</div>"
      ],
      "text/plain": [
       "                 time  temperature_2m  relativehumidity_2m  dewpoint_2m  \\\n",
       "0 2022-01-01 00:00:00            12.7                   92         11.5   \n",
       "1 2022-01-01 01:00:00            12.7                   92         11.5   \n",
       "2 2022-01-01 02:00:00            12.6                   93         11.4   \n",
       "3 2022-01-01 03:00:00            12.5                   93         11.3   \n",
       "4 2022-01-01 04:00:00            12.3                   93         11.2   \n",
       "\n",
       "   apparent_temperature  pressure_msl  surface_pressure  precipitation  rain  \\\n",
       "0                  10.9        1023.6            1020.4            0.0   0.0   \n",
       "1                  11.2        1024.0            1020.8            0.0   0.0   \n",
       "2                  12.0        1023.7            1020.5            0.0   0.0   \n",
       "3                  11.7        1024.4            1021.2            0.0   0.0   \n",
       "4                  11.7        1024.3            1021.1            0.0   0.0   \n",
       "\n",
       "   snowfall  ...  direct_radiation  diffuse_radiation  \\\n",
       "0       0.0  ...               0.0                0.0   \n",
       "1       0.0  ...               0.0                0.0   \n",
       "2       0.0  ...               0.0                0.0   \n",
       "3       0.0  ...               0.0                0.0   \n",
       "4       0.0  ...               0.0                0.0   \n",
       "\n",
       "   direct_normal_irradiance  windspeed_10m  winddirection_10m  windgusts_10m  \\\n",
       "0                       0.0           15.3                243           30.2   \n",
       "1                       0.0           13.4                243           26.6   \n",
       "2                       0.0            6.9                242           27.0   \n",
       "3                       0.0            7.6                239           28.4   \n",
       "4                       0.0            6.4                232           26.6   \n",
       "\n",
       "         date  hour  month  weekday  \n",
       "0  2022-01-01     0      1      Sat  \n",
       "1  2022-01-01     1      1      Sat  \n",
       "2  2022-01-01     2      1      Sat  \n",
       "3  2022-01-01     3      1      Sat  \n",
       "4  2022-01-01     4      1      Sat  \n",
       "\n",
       "[5 rows x 26 columns]"
      ]
     },
     "execution_count": 7,
     "metadata": {},
     "output_type": "execute_result"
    }
   ],
   "source": [
    "# extract from timestamp\n",
    "weather_data[\"time\"] = pd.to_datetime(weather_data[\"time\"])\n",
    "weather_data[\"date\"] = weather_data[\"time\"].dt.date\n",
    "weather_data[\"hour\"] = weather_data[\"time\"].dt.hour\n",
    "weather_data[\"month\"] = weather_data[\"time\"].dt.month\n",
    "weather_data[\"weekday\"] = weather_data[\"time\"].dt.strftime(\"%a\")\n",
    "weather_data.head(5)"
   ]
  },
  {
   "cell_type": "code",
   "execution_count": 8,
   "metadata": {
    "executionInfo": {
     "elapsed": 32,
     "status": "ok",
     "timestamp": 1685389693647,
     "user": {
      "displayName": "Ken Le",
      "userId": "02524318770864979503"
     },
     "user_tz": -120
    },
    "id": "-GezcIp82PpQ"
   },
   "outputs": [],
   "source": [
    "weather_data.drop(\"time\", axis=1, inplace=True)"
   ]
  },
  {
   "cell_type": "code",
   "execution_count": 9,
   "metadata": {
    "colab": {
     "base_uri": "https://localhost:8080/"
    },
    "executionInfo": {
     "elapsed": 31,
     "status": "ok",
     "timestamp": 1685389693647,
     "user": {
      "displayName": "Ken Le",
      "userId": "02524318770864979503"
     },
     "user_tz": -120
    },
    "id": "mckLfzTt2RFv",
    "outputId": "24e8b036-e673-472b-b76e-239fa27776cc"
   },
   "outputs": [
    {
     "data": {
      "text/plain": [
       "(8760, 25)"
      ]
     },
     "execution_count": 9,
     "metadata": {},
     "output_type": "execute_result"
    }
   ],
   "source": [
    "weather_data.shape"
   ]
  },
  {
   "cell_type": "code",
   "execution_count": 10,
   "metadata": {
    "colab": {
     "base_uri": "https://localhost:8080/",
     "height": 289
    },
    "executionInfo": {
     "elapsed": 25,
     "status": "ok",
     "timestamp": 1685389693648,
     "user": {
      "displayName": "Ken Le",
      "userId": "02524318770864979503"
     },
     "user_tz": -120
    },
    "id": "jddBcP8C2SQc",
    "outputId": "24fb7625-b2ee-4129-84fe-a926752c097c"
   },
   "outputs": [
    {
     "data": {
      "text/html": [
       "<div>\n",
       "<style scoped>\n",
       "    .dataframe tbody tr th:only-of-type {\n",
       "        vertical-align: middle;\n",
       "    }\n",
       "\n",
       "    .dataframe tbody tr th {\n",
       "        vertical-align: top;\n",
       "    }\n",
       "\n",
       "    .dataframe thead th {\n",
       "        text-align: right;\n",
       "    }\n",
       "</style>\n",
       "<table border=\"1\" class=\"dataframe\">\n",
       "  <thead>\n",
       "    <tr style=\"text-align: right;\">\n",
       "      <th></th>\n",
       "      <th>temperature_2m</th>\n",
       "      <th>relativehumidity_2m</th>\n",
       "      <th>dewpoint_2m</th>\n",
       "      <th>apparent_temperature</th>\n",
       "      <th>pressure_msl</th>\n",
       "      <th>surface_pressure</th>\n",
       "      <th>precipitation</th>\n",
       "      <th>rain</th>\n",
       "      <th>snowfall</th>\n",
       "      <th>weathercode</th>\n",
       "      <th>...</th>\n",
       "      <th>direct_radiation</th>\n",
       "      <th>diffuse_radiation</th>\n",
       "      <th>direct_normal_irradiance</th>\n",
       "      <th>windspeed_10m</th>\n",
       "      <th>winddirection_10m</th>\n",
       "      <th>windgusts_10m</th>\n",
       "      <th>date</th>\n",
       "      <th>hour</th>\n",
       "      <th>month</th>\n",
       "      <th>weekday</th>\n",
       "    </tr>\n",
       "  </thead>\n",
       "  <tbody>\n",
       "    <tr>\n",
       "      <th>0</th>\n",
       "      <td>12.7</td>\n",
       "      <td>92</td>\n",
       "      <td>11.5</td>\n",
       "      <td>10.9</td>\n",
       "      <td>1023.6</td>\n",
       "      <td>1020.4</td>\n",
       "      <td>0.0</td>\n",
       "      <td>0.0</td>\n",
       "      <td>0.0</td>\n",
       "      <td>3</td>\n",
       "      <td>...</td>\n",
       "      <td>0.0</td>\n",
       "      <td>0.0</td>\n",
       "      <td>0.0</td>\n",
       "      <td>15.3</td>\n",
       "      <td>243</td>\n",
       "      <td>30.2</td>\n",
       "      <td>2022-01-01</td>\n",
       "      <td>0</td>\n",
       "      <td>1</td>\n",
       "      <td>Sat</td>\n",
       "    </tr>\n",
       "    <tr>\n",
       "      <th>1</th>\n",
       "      <td>12.7</td>\n",
       "      <td>92</td>\n",
       "      <td>11.5</td>\n",
       "      <td>11.2</td>\n",
       "      <td>1024.0</td>\n",
       "      <td>1020.8</td>\n",
       "      <td>0.0</td>\n",
       "      <td>0.0</td>\n",
       "      <td>0.0</td>\n",
       "      <td>3</td>\n",
       "      <td>...</td>\n",
       "      <td>0.0</td>\n",
       "      <td>0.0</td>\n",
       "      <td>0.0</td>\n",
       "      <td>13.4</td>\n",
       "      <td>243</td>\n",
       "      <td>26.6</td>\n",
       "      <td>2022-01-01</td>\n",
       "      <td>1</td>\n",
       "      <td>1</td>\n",
       "      <td>Sat</td>\n",
       "    </tr>\n",
       "    <tr>\n",
       "      <th>2</th>\n",
       "      <td>12.6</td>\n",
       "      <td>93</td>\n",
       "      <td>11.4</td>\n",
       "      <td>12.0</td>\n",
       "      <td>1023.7</td>\n",
       "      <td>1020.5</td>\n",
       "      <td>0.0</td>\n",
       "      <td>0.0</td>\n",
       "      <td>0.0</td>\n",
       "      <td>3</td>\n",
       "      <td>...</td>\n",
       "      <td>0.0</td>\n",
       "      <td>0.0</td>\n",
       "      <td>0.0</td>\n",
       "      <td>6.9</td>\n",
       "      <td>242</td>\n",
       "      <td>27.0</td>\n",
       "      <td>2022-01-01</td>\n",
       "      <td>2</td>\n",
       "      <td>1</td>\n",
       "      <td>Sat</td>\n",
       "    </tr>\n",
       "  </tbody>\n",
       "</table>\n",
       "<p>3 rows × 25 columns</p>\n",
       "</div>"
      ],
      "text/plain": [
       "   temperature_2m  relativehumidity_2m  dewpoint_2m  apparent_temperature  \\\n",
       "0            12.7                   92         11.5                  10.9   \n",
       "1            12.7                   92         11.5                  11.2   \n",
       "2            12.6                   93         11.4                  12.0   \n",
       "\n",
       "   pressure_msl  surface_pressure  precipitation  rain  snowfall  weathercode  \\\n",
       "0        1023.6            1020.4            0.0   0.0       0.0            3   \n",
       "1        1024.0            1020.8            0.0   0.0       0.0            3   \n",
       "2        1023.7            1020.5            0.0   0.0       0.0            3   \n",
       "\n",
       "   ...  direct_radiation  diffuse_radiation  direct_normal_irradiance  \\\n",
       "0  ...               0.0                0.0                       0.0   \n",
       "1  ...               0.0                0.0                       0.0   \n",
       "2  ...               0.0                0.0                       0.0   \n",
       "\n",
       "   windspeed_10m  winddirection_10m  windgusts_10m        date  hour  month  \\\n",
       "0           15.3                243           30.2  2022-01-01     0      1   \n",
       "1           13.4                243           26.6  2022-01-01     1      1   \n",
       "2            6.9                242           27.0  2022-01-01     2      1   \n",
       "\n",
       "   weekday  \n",
       "0      Sat  \n",
       "1      Sat  \n",
       "2      Sat  \n",
       "\n",
       "[3 rows x 25 columns]"
      ]
     },
     "execution_count": 10,
     "metadata": {},
     "output_type": "execute_result"
    }
   ],
   "source": [
    "weather_data.head(3)"
   ]
  },
  {
   "cell_type": "markdown",
   "metadata": {
    "id": "1j8Lggbd2T0L"
   },
   "source": [
    "## Process air quality data"
   ]
  },
  {
   "cell_type": "code",
   "execution_count": 11,
   "metadata": {
    "executionInfo": {
     "elapsed": 687,
     "status": "ok",
     "timestamp": 1685389694311,
     "user": {
      "displayName": "Ken Le",
      "userId": "02524318770864979503"
     },
     "user_tz": -120
    },
    "id": "wPgBe7Xz2V0C"
   },
   "outputs": [],
   "source": [
    "air_quality_data = pd.read_csv(\"../data/processed_air_quality_data.csv\", index_col=0)\n"
   ]
  },
  {
   "cell_type": "code",
   "execution_count": 12,
   "metadata": {
    "colab": {
     "base_uri": "https://localhost:8080/",
     "height": 143
    },
    "executionInfo": {
     "elapsed": 25,
     "status": "ok",
     "timestamp": 1685389694312,
     "user": {
      "displayName": "Ken Le",
      "userId": "02524318770864979503"
     },
     "user_tz": -120
    },
    "id": "bdixVvhI2W4p",
    "outputId": "b9cac263-a14e-452a-ac83-a99ba2dccba4"
   },
   "outputs": [
    {
     "data": {
      "text/html": [
       "<div>\n",
       "<style scoped>\n",
       "    .dataframe tbody tr th:only-of-type {\n",
       "        vertical-align: middle;\n",
       "    }\n",
       "\n",
       "    .dataframe tbody tr th {\n",
       "        vertical-align: top;\n",
       "    }\n",
       "\n",
       "    .dataframe thead th {\n",
       "        text-align: right;\n",
       "    }\n",
       "</style>\n",
       "<table border=\"1\" class=\"dataframe\">\n",
       "  <thead>\n",
       "    <tr style=\"text-align: right;\">\n",
       "      <th></th>\n",
       "      <th>dt</th>\n",
       "      <th>pm2_5</th>\n",
       "      <th>pm10</th>\n",
       "      <th>co</th>\n",
       "      <th>no2</th>\n",
       "      <th>o3</th>\n",
       "      <th>so2</th>\n",
       "      <th>nh3</th>\n",
       "      <th>date</th>\n",
       "      <th>hour</th>\n",
       "      <th>month</th>\n",
       "      <th>weekday</th>\n",
       "    </tr>\n",
       "  </thead>\n",
       "  <tbody>\n",
       "    <tr>\n",
       "      <th>0</th>\n",
       "      <td>2022-01-01 01:00:00</td>\n",
       "      <td>3.68</td>\n",
       "      <td>5.20</td>\n",
       "      <td>253.68</td>\n",
       "      <td>8.83</td>\n",
       "      <td>39.34</td>\n",
       "      <td>1.82</td>\n",
       "      <td>0.79</td>\n",
       "      <td>2022-01-01</td>\n",
       "      <td>1</td>\n",
       "      <td>1</td>\n",
       "      <td>Sat</td>\n",
       "    </tr>\n",
       "    <tr>\n",
       "      <th>1</th>\n",
       "      <td>2022-01-01 02:00:00</td>\n",
       "      <td>3.69</td>\n",
       "      <td>5.27</td>\n",
       "      <td>250.34</td>\n",
       "      <td>8.05</td>\n",
       "      <td>38.62</td>\n",
       "      <td>1.86</td>\n",
       "      <td>0.79</td>\n",
       "      <td>2022-01-01</td>\n",
       "      <td>2</td>\n",
       "      <td>1</td>\n",
       "      <td>Sat</td>\n",
       "    </tr>\n",
       "    <tr>\n",
       "      <th>2</th>\n",
       "      <td>2022-01-01 03:00:00</td>\n",
       "      <td>3.44</td>\n",
       "      <td>4.99</td>\n",
       "      <td>247.00</td>\n",
       "      <td>7.11</td>\n",
       "      <td>38.27</td>\n",
       "      <td>1.71</td>\n",
       "      <td>0.78</td>\n",
       "      <td>2022-01-01</td>\n",
       "      <td>3</td>\n",
       "      <td>1</td>\n",
       "      <td>Sat</td>\n",
       "    </tr>\n",
       "  </tbody>\n",
       "</table>\n",
       "</div>"
      ],
      "text/plain": [
       "                    dt  pm2_5  pm10      co   no2     o3   so2   nh3  \\\n",
       "0  2022-01-01 01:00:00   3.68  5.20  253.68  8.83  39.34  1.82  0.79   \n",
       "1  2022-01-01 02:00:00   3.69  5.27  250.34  8.05  38.62  1.86  0.79   \n",
       "2  2022-01-01 03:00:00   3.44  4.99  247.00  7.11  38.27  1.71  0.78   \n",
       "\n",
       "         date  hour  month weekday  \n",
       "0  2022-01-01     1      1     Sat  \n",
       "1  2022-01-01     2      1     Sat  \n",
       "2  2022-01-01     3      1     Sat  "
      ]
     },
     "execution_count": 12,
     "metadata": {},
     "output_type": "execute_result"
    }
   ],
   "source": [
    "air_quality_data.head(3)"
   ]
  },
  {
   "cell_type": "code",
   "execution_count": 13,
   "metadata": {
    "colab": {
     "base_uri": "https://localhost:8080/"
    },
    "executionInfo": {
     "elapsed": 22,
     "status": "ok",
     "timestamp": 1685389694312,
     "user": {
      "displayName": "Ken Le",
      "userId": "02524318770864979503"
     },
     "user_tz": -120
    },
    "id": "Oh0WsQV02YBh",
    "outputId": "3ef933d4-dcf6-4c29-c716-e0038fa3796d"
   },
   "outputs": [
    {
     "data": {
      "text/plain": [
       "Index(['dt', 'pm2_5', 'pm10', 'co', 'no2', 'o3', 'so2', 'nh3', 'date', 'hour',\n",
       "       'month', 'weekday'],\n",
       "      dtype='object')"
      ]
     },
     "execution_count": 13,
     "metadata": {},
     "output_type": "execute_result"
    }
   ],
   "source": [
    "air_quality_data.columns"
   ]
  },
  {
   "cell_type": "code",
   "execution_count": 14,
   "metadata": {
    "colab": {
     "base_uri": "https://localhost:8080/",
     "height": 206
    },
    "executionInfo": {
     "elapsed": 19,
     "status": "ok",
     "timestamp": 1685389694314,
     "user": {
      "displayName": "Ken Le",
      "userId": "02524318770864979503"
     },
     "user_tz": -120
    },
    "id": "u_7uZsEb2dwO",
    "outputId": "0a42c2e9-f6bf-4a3e-d74a-6c7c88d19b56"
   },
   "outputs": [
    {
     "data": {
      "text/html": [
       "<div>\n",
       "<style scoped>\n",
       "    .dataframe tbody tr th:only-of-type {\n",
       "        vertical-align: middle;\n",
       "    }\n",
       "\n",
       "    .dataframe tbody tr th {\n",
       "        vertical-align: top;\n",
       "    }\n",
       "\n",
       "    .dataframe thead th {\n",
       "        text-align: right;\n",
       "    }\n",
       "</style>\n",
       "<table border=\"1\" class=\"dataframe\">\n",
       "  <thead>\n",
       "    <tr style=\"text-align: right;\">\n",
       "      <th></th>\n",
       "      <th>dt</th>\n",
       "      <th>pm2_5</th>\n",
       "      <th>pm10</th>\n",
       "      <th>co</th>\n",
       "      <th>no2</th>\n",
       "      <th>o3</th>\n",
       "      <th>so2</th>\n",
       "      <th>nh3</th>\n",
       "      <th>date</th>\n",
       "      <th>hour</th>\n",
       "      <th>month</th>\n",
       "      <th>weekday</th>\n",
       "    </tr>\n",
       "  </thead>\n",
       "  <tbody>\n",
       "    <tr>\n",
       "      <th>0</th>\n",
       "      <td>2022-01-01 01:00:00</td>\n",
       "      <td>3.68</td>\n",
       "      <td>5.20</td>\n",
       "      <td>253.68</td>\n",
       "      <td>8.83</td>\n",
       "      <td>39.34</td>\n",
       "      <td>1.82</td>\n",
       "      <td>0.79</td>\n",
       "      <td>2022-01-01</td>\n",
       "      <td>1</td>\n",
       "      <td>1</td>\n",
       "      <td>Sat</td>\n",
       "    </tr>\n",
       "    <tr>\n",
       "      <th>1</th>\n",
       "      <td>2022-01-01 02:00:00</td>\n",
       "      <td>3.69</td>\n",
       "      <td>5.27</td>\n",
       "      <td>250.34</td>\n",
       "      <td>8.05</td>\n",
       "      <td>38.62</td>\n",
       "      <td>1.86</td>\n",
       "      <td>0.79</td>\n",
       "      <td>2022-01-01</td>\n",
       "      <td>2</td>\n",
       "      <td>1</td>\n",
       "      <td>Sat</td>\n",
       "    </tr>\n",
       "    <tr>\n",
       "      <th>2</th>\n",
       "      <td>2022-01-01 03:00:00</td>\n",
       "      <td>3.44</td>\n",
       "      <td>4.99</td>\n",
       "      <td>247.00</td>\n",
       "      <td>7.11</td>\n",
       "      <td>38.27</td>\n",
       "      <td>1.71</td>\n",
       "      <td>0.78</td>\n",
       "      <td>2022-01-01</td>\n",
       "      <td>3</td>\n",
       "      <td>1</td>\n",
       "      <td>Sat</td>\n",
       "    </tr>\n",
       "    <tr>\n",
       "      <th>3</th>\n",
       "      <td>2022-01-01 04:00:00</td>\n",
       "      <td>2.93</td>\n",
       "      <td>4.26</td>\n",
       "      <td>243.66</td>\n",
       "      <td>6.17</td>\n",
       "      <td>38.62</td>\n",
       "      <td>1.33</td>\n",
       "      <td>0.72</td>\n",
       "      <td>2022-01-01</td>\n",
       "      <td>4</td>\n",
       "      <td>1</td>\n",
       "      <td>Sat</td>\n",
       "    </tr>\n",
       "    <tr>\n",
       "      <th>4</th>\n",
       "      <td>2022-01-01 05:00:00</td>\n",
       "      <td>3.02</td>\n",
       "      <td>4.07</td>\n",
       "      <td>257.02</td>\n",
       "      <td>6.85</td>\n",
       "      <td>37.19</td>\n",
       "      <td>1.03</td>\n",
       "      <td>0.68</td>\n",
       "      <td>2022-01-01</td>\n",
       "      <td>5</td>\n",
       "      <td>1</td>\n",
       "      <td>Sat</td>\n",
       "    </tr>\n",
       "  </tbody>\n",
       "</table>\n",
       "</div>"
      ],
      "text/plain": [
       "                    dt  pm2_5  pm10      co   no2     o3   so2   nh3  \\\n",
       "0  2022-01-01 01:00:00   3.68  5.20  253.68  8.83  39.34  1.82  0.79   \n",
       "1  2022-01-01 02:00:00   3.69  5.27  250.34  8.05  38.62  1.86  0.79   \n",
       "2  2022-01-01 03:00:00   3.44  4.99  247.00  7.11  38.27  1.71  0.78   \n",
       "3  2022-01-01 04:00:00   2.93  4.26  243.66  6.17  38.62  1.33  0.72   \n",
       "4  2022-01-01 05:00:00   3.02  4.07  257.02  6.85  37.19  1.03  0.68   \n",
       "\n",
       "         date  hour  month weekday  \n",
       "0  2022-01-01     1      1     Sat  \n",
       "1  2022-01-01     2      1     Sat  \n",
       "2  2022-01-01     3      1     Sat  \n",
       "3  2022-01-01     4      1     Sat  \n",
       "4  2022-01-01     5      1     Sat  "
      ]
     },
     "execution_count": 14,
     "metadata": {},
     "output_type": "execute_result"
    }
   ],
   "source": [
    "# extract from timestamp\n",
    "air_quality_data[\"date\"] = pd.to_datetime(air_quality_data[\"date\"]).dt.date\n",
    "air_quality_data.head(5)\n",
    "\n"
   ]
  },
  {
   "cell_type": "code",
   "execution_count": 15,
   "metadata": {
    "colab": {
     "base_uri": "https://localhost:8080/"
    },
    "executionInfo": {
     "elapsed": 18,
     "status": "ok",
     "timestamp": 1685389694314,
     "user": {
      "displayName": "Ken Le",
      "userId": "02524318770864979503"
     },
     "user_tz": -120
    },
    "id": "8P4VoGRe2ffn",
    "outputId": "686ed24b-5d8f-4363-efe6-8f163a55c407"
   },
   "outputs": [
    {
     "name": "stderr",
     "output_type": "stream",
     "text": [
      "C:\\Users\\jef-w\\AppData\\Local\\Temp\\ipykernel_3008\\3314303586.py:2: FutureWarning: The default value of numeric_only in DataFrameGroupBy.mean is deprecated. In a future version, numeric_only will default to False. Either specify numeric_only or select only columns which should be valid for the function.\n",
      "  air_quality_data.groupby([\"date\", \"hour\", \"month\", \"weekday\"]).mean().reset_index()\n"
     ]
    }
   ],
   "source": [
    "air_quality_data = (\n",
    "    air_quality_data.groupby([\"date\", \"hour\", \"month\", \"weekday\"]).mean().reset_index()\n",
    ")"
   ]
  },
  {
   "cell_type": "code",
   "execution_count": 16,
   "metadata": {
    "colab": {
     "base_uri": "https://localhost:8080/",
     "height": 423
    },
    "executionInfo": {
     "elapsed": 17,
     "status": "ok",
     "timestamp": 1685389694315,
     "user": {
      "displayName": "Ken Le",
      "userId": "02524318770864979503"
     },
     "user_tz": -120
    },
    "id": "zooVR52t2g7B",
    "outputId": "cfd260a5-127e-4011-fbc8-bd2887a0941f"
   },
   "outputs": [
    {
     "data": {
      "text/html": [
       "<div>\n",
       "<style scoped>\n",
       "    .dataframe tbody tr th:only-of-type {\n",
       "        vertical-align: middle;\n",
       "    }\n",
       "\n",
       "    .dataframe tbody tr th {\n",
       "        vertical-align: top;\n",
       "    }\n",
       "\n",
       "    .dataframe thead th {\n",
       "        text-align: right;\n",
       "    }\n",
       "</style>\n",
       "<table border=\"1\" class=\"dataframe\">\n",
       "  <thead>\n",
       "    <tr style=\"text-align: right;\">\n",
       "      <th></th>\n",
       "      <th>date</th>\n",
       "      <th>hour</th>\n",
       "      <th>month</th>\n",
       "      <th>weekday</th>\n",
       "      <th>pm2_5</th>\n",
       "      <th>pm10</th>\n",
       "      <th>co</th>\n",
       "      <th>no2</th>\n",
       "      <th>o3</th>\n",
       "      <th>so2</th>\n",
       "      <th>nh3</th>\n",
       "    </tr>\n",
       "  </thead>\n",
       "  <tbody>\n",
       "    <tr>\n",
       "      <th>0</th>\n",
       "      <td>2022-01-01</td>\n",
       "      <td>1</td>\n",
       "      <td>1</td>\n",
       "      <td>Sat</td>\n",
       "      <td>3.68</td>\n",
       "      <td>5.20</td>\n",
       "      <td>253.68</td>\n",
       "      <td>8.83</td>\n",
       "      <td>39.34</td>\n",
       "      <td>1.82</td>\n",
       "      <td>0.79</td>\n",
       "    </tr>\n",
       "    <tr>\n",
       "      <th>1</th>\n",
       "      <td>2022-01-01</td>\n",
       "      <td>2</td>\n",
       "      <td>1</td>\n",
       "      <td>Sat</td>\n",
       "      <td>3.69</td>\n",
       "      <td>5.27</td>\n",
       "      <td>250.34</td>\n",
       "      <td>8.05</td>\n",
       "      <td>38.62</td>\n",
       "      <td>1.86</td>\n",
       "      <td>0.79</td>\n",
       "    </tr>\n",
       "    <tr>\n",
       "      <th>2</th>\n",
       "      <td>2022-01-01</td>\n",
       "      <td>3</td>\n",
       "      <td>1</td>\n",
       "      <td>Sat</td>\n",
       "      <td>3.44</td>\n",
       "      <td>4.99</td>\n",
       "      <td>247.00</td>\n",
       "      <td>7.11</td>\n",
       "      <td>38.27</td>\n",
       "      <td>1.71</td>\n",
       "      <td>0.78</td>\n",
       "    </tr>\n",
       "    <tr>\n",
       "      <th>3</th>\n",
       "      <td>2022-01-01</td>\n",
       "      <td>4</td>\n",
       "      <td>1</td>\n",
       "      <td>Sat</td>\n",
       "      <td>2.93</td>\n",
       "      <td>4.26</td>\n",
       "      <td>243.66</td>\n",
       "      <td>6.17</td>\n",
       "      <td>38.62</td>\n",
       "      <td>1.33</td>\n",
       "      <td>0.72</td>\n",
       "    </tr>\n",
       "    <tr>\n",
       "      <th>4</th>\n",
       "      <td>2022-01-01</td>\n",
       "      <td>5</td>\n",
       "      <td>1</td>\n",
       "      <td>Sat</td>\n",
       "      <td>3.02</td>\n",
       "      <td>4.07</td>\n",
       "      <td>257.02</td>\n",
       "      <td>6.85</td>\n",
       "      <td>37.19</td>\n",
       "      <td>1.03</td>\n",
       "      <td>0.68</td>\n",
       "    </tr>\n",
       "    <tr>\n",
       "      <th>...</th>\n",
       "      <td>...</td>\n",
       "      <td>...</td>\n",
       "      <td>...</td>\n",
       "      <td>...</td>\n",
       "      <td>...</td>\n",
       "      <td>...</td>\n",
       "      <td>...</td>\n",
       "      <td>...</td>\n",
       "      <td>...</td>\n",
       "      <td>...</td>\n",
       "      <td>...</td>\n",
       "    </tr>\n",
       "    <tr>\n",
       "      <th>8587</th>\n",
       "      <td>2022-12-31</td>\n",
       "      <td>21</td>\n",
       "      <td>12</td>\n",
       "      <td>Sat</td>\n",
       "      <td>4.05</td>\n",
       "      <td>5.78</td>\n",
       "      <td>220.30</td>\n",
       "      <td>6.00</td>\n",
       "      <td>61.51</td>\n",
       "      <td>1.12</td>\n",
       "      <td>1.41</td>\n",
       "    </tr>\n",
       "    <tr>\n",
       "      <th>8588</th>\n",
       "      <td>2022-12-31</td>\n",
       "      <td>22</td>\n",
       "      <td>12</td>\n",
       "      <td>Sat</td>\n",
       "      <td>4.12</td>\n",
       "      <td>6.10</td>\n",
       "      <td>216.96</td>\n",
       "      <td>5.31</td>\n",
       "      <td>62.94</td>\n",
       "      <td>1.03</td>\n",
       "      <td>1.36</td>\n",
       "    </tr>\n",
       "    <tr>\n",
       "      <th>8589</th>\n",
       "      <td>2022-12-31</td>\n",
       "      <td>23</td>\n",
       "      <td>12</td>\n",
       "      <td>Sat</td>\n",
       "      <td>4.19</td>\n",
       "      <td>6.58</td>\n",
       "      <td>213.62</td>\n",
       "      <td>4.58</td>\n",
       "      <td>65.09</td>\n",
       "      <td>0.92</td>\n",
       "      <td>1.31</td>\n",
       "    </tr>\n",
       "    <tr>\n",
       "      <th>8590</th>\n",
       "      <td>2023-01-01</td>\n",
       "      <td>0</td>\n",
       "      <td>1</td>\n",
       "      <td>Sun</td>\n",
       "      <td>4.28</td>\n",
       "      <td>7.12</td>\n",
       "      <td>210.29</td>\n",
       "      <td>3.73</td>\n",
       "      <td>67.23</td>\n",
       "      <td>0.81</td>\n",
       "      <td>1.30</td>\n",
       "    </tr>\n",
       "    <tr>\n",
       "      <th>8591</th>\n",
       "      <td>2023-01-01</td>\n",
       "      <td>1</td>\n",
       "      <td>1</td>\n",
       "      <td>Sun</td>\n",
       "      <td>4.33</td>\n",
       "      <td>7.27</td>\n",
       "      <td>211.95</td>\n",
       "      <td>3.38</td>\n",
       "      <td>67.95</td>\n",
       "      <td>0.81</td>\n",
       "      <td>1.31</td>\n",
       "    </tr>\n",
       "  </tbody>\n",
       "</table>\n",
       "<p>8592 rows × 11 columns</p>\n",
       "</div>"
      ],
      "text/plain": [
       "            date  hour  month weekday  pm2_5  pm10      co   no2     o3   so2  \\\n",
       "0     2022-01-01     1      1     Sat   3.68  5.20  253.68  8.83  39.34  1.82   \n",
       "1     2022-01-01     2      1     Sat   3.69  5.27  250.34  8.05  38.62  1.86   \n",
       "2     2022-01-01     3      1     Sat   3.44  4.99  247.00  7.11  38.27  1.71   \n",
       "3     2022-01-01     4      1     Sat   2.93  4.26  243.66  6.17  38.62  1.33   \n",
       "4     2022-01-01     5      1     Sat   3.02  4.07  257.02  6.85  37.19  1.03   \n",
       "...          ...   ...    ...     ...    ...   ...     ...   ...    ...   ...   \n",
       "8587  2022-12-31    21     12     Sat   4.05  5.78  220.30  6.00  61.51  1.12   \n",
       "8588  2022-12-31    22     12     Sat   4.12  6.10  216.96  5.31  62.94  1.03   \n",
       "8589  2022-12-31    23     12     Sat   4.19  6.58  213.62  4.58  65.09  0.92   \n",
       "8590  2023-01-01     0      1     Sun   4.28  7.12  210.29  3.73  67.23  0.81   \n",
       "8591  2023-01-01     1      1     Sun   4.33  7.27  211.95  3.38  67.95  0.81   \n",
       "\n",
       "       nh3  \n",
       "0     0.79  \n",
       "1     0.79  \n",
       "2     0.78  \n",
       "3     0.72  \n",
       "4     0.68  \n",
       "...    ...  \n",
       "8587  1.41  \n",
       "8588  1.36  \n",
       "8589  1.31  \n",
       "8590  1.30  \n",
       "8591  1.31  \n",
       "\n",
       "[8592 rows x 11 columns]"
      ]
     },
     "execution_count": 16,
     "metadata": {},
     "output_type": "execute_result"
    }
   ],
   "source": [
    "air_quality_data"
   ]
  },
  {
   "cell_type": "markdown",
   "metadata": {
    "id": "sd_KmiJO2kVi"
   },
   "source": [
    "## Process file42 data"
   ]
  },
  {
   "cell_type": "code",
   "execution_count": 17,
   "metadata": {
    "executionInfo": {
     "elapsed": 255,
     "status": "ok",
     "timestamp": 1685389694555,
     "user": {
      "displayName": "Ken Le",
      "userId": "02524318770864979503"
     },
     "user_tz": -120
    },
    "id": "3Qqoc8rR2iBt"
   },
   "outputs": [
    {
     "data": {
      "text/html": [
       "<div>\n",
       "<style scoped>\n",
       "    .dataframe tbody tr th:only-of-type {\n",
       "        vertical-align: middle;\n",
       "    }\n",
       "\n",
       "    .dataframe tbody tr th {\n",
       "        vertical-align: top;\n",
       "    }\n",
       "\n",
       "    .dataframe thead th {\n",
       "        text-align: right;\n",
       "    }\n",
       "</style>\n",
       "<table border=\"1\" class=\"dataframe\">\n",
       "  <thead>\n",
       "    <tr style=\"text-align: right;\">\n",
       "      <th></th>\n",
       "      <th>result_timestamp</th>\n",
       "      <th>#object_id</th>\n",
       "      <th>lamax</th>\n",
       "      <th>laeq</th>\n",
       "      <th>lceq</th>\n",
       "      <th>lcpeak</th>\n",
       "      <th>hour</th>\n",
       "      <th>weekday</th>\n",
       "      <th>month</th>\n",
       "      <th>location</th>\n",
       "    </tr>\n",
       "  </thead>\n",
       "  <tbody>\n",
       "    <tr>\n",
       "      <th>8203</th>\n",
       "      <td>2022-02-28 08:00:00</td>\n",
       "      <td>255439.0</td>\n",
       "      <td>58.679893</td>\n",
       "      <td>56.965367</td>\n",
       "      <td>67.359289</td>\n",
       "      <td>78.976896</td>\n",
       "      <td>8</td>\n",
       "      <td>Mon</td>\n",
       "      <td>2</td>\n",
       "      <td>MP 01: Naamsestraat 35  Maxim</td>\n",
       "    </tr>\n",
       "    <tr>\n",
       "      <th>8208</th>\n",
       "      <td>2022-02-28 13:00:00</td>\n",
       "      <td>255439.0</td>\n",
       "      <td>57.610063</td>\n",
       "      <td>55.556352</td>\n",
       "      <td>64.805270</td>\n",
       "      <td>76.718642</td>\n",
       "      <td>13</td>\n",
       "      <td>Mon</td>\n",
       "      <td>2</td>\n",
       "      <td>MP 01: Naamsestraat 35  Maxim</td>\n",
       "    </tr>\n",
       "    <tr>\n",
       "      <th>8209</th>\n",
       "      <td>2022-02-28 14:00:00</td>\n",
       "      <td>255439.0</td>\n",
       "      <td>57.101721</td>\n",
       "      <td>55.100833</td>\n",
       "      <td>64.435944</td>\n",
       "      <td>76.297757</td>\n",
       "      <td>14</td>\n",
       "      <td>Mon</td>\n",
       "      <td>2</td>\n",
       "      <td>MP 01: Naamsestraat 35  Maxim</td>\n",
       "    </tr>\n",
       "    <tr>\n",
       "      <th>8210</th>\n",
       "      <td>2022-02-28 15:00:00</td>\n",
       "      <td>255439.0</td>\n",
       "      <td>56.258222</td>\n",
       "      <td>54.167056</td>\n",
       "      <td>62.930547</td>\n",
       "      <td>75.222819</td>\n",
       "      <td>15</td>\n",
       "      <td>Mon</td>\n",
       "      <td>2</td>\n",
       "      <td>MP 01: Naamsestraat 35  Maxim</td>\n",
       "    </tr>\n",
       "    <tr>\n",
       "      <th>8211</th>\n",
       "      <td>2022-02-28 16:00:00</td>\n",
       "      <td>255439.0</td>\n",
       "      <td>57.101444</td>\n",
       "      <td>54.979111</td>\n",
       "      <td>63.220742</td>\n",
       "      <td>75.562858</td>\n",
       "      <td>16</td>\n",
       "      <td>Mon</td>\n",
       "      <td>2</td>\n",
       "      <td>MP 01: Naamsestraat 35  Maxim</td>\n",
       "    </tr>\n",
       "  </tbody>\n",
       "</table>\n",
       "</div>"
      ],
      "text/plain": [
       "         result_timestamp  #object_id      lamax       laeq       lceq  \\\n",
       "8203  2022-02-28 08:00:00    255439.0  58.679893  56.965367  67.359289   \n",
       "8208  2022-02-28 13:00:00    255439.0  57.610063  55.556352  64.805270   \n",
       "8209  2022-02-28 14:00:00    255439.0  57.101721  55.100833  64.435944   \n",
       "8210  2022-02-28 15:00:00    255439.0  56.258222  54.167056  62.930547   \n",
       "8211  2022-02-28 16:00:00    255439.0  57.101444  54.979111  63.220742   \n",
       "\n",
       "         lcpeak  hour weekday  month                       location  \n",
       "8203  78.976896     8     Mon      2  MP 01: Naamsestraat 35  Maxim  \n",
       "8208  76.718642    13     Mon      2  MP 01: Naamsestraat 35  Maxim  \n",
       "8209  76.297757    14     Mon      2  MP 01: Naamsestraat 35  Maxim  \n",
       "8210  75.222819    15     Mon      2  MP 01: Naamsestraat 35  Maxim  \n",
       "8211  75.562858    16     Mon      2  MP 01: Naamsestraat 35  Maxim  "
      ]
     },
     "execution_count": 17,
     "metadata": {},
     "output_type": "execute_result"
    }
   ],
   "source": [
    "file42 = pd.read_csv(\"../data/processed_file42_data.csv\", index_col=0)\n",
    "file42.dropna(inplace=True)\n",
    "file42.head(5)"
   ]
  },
  {
   "cell_type": "code",
   "execution_count": 18,
   "metadata": {
    "colab": {
     "base_uri": "https://localhost:8080/"
    },
    "executionInfo": {
     "elapsed": 22,
     "status": "ok",
     "timestamp": 1685389694557,
     "user": {
      "displayName": "Ken Le",
      "userId": "02524318770864979503"
     },
     "user_tz": -120
    },
    "id": "iktns6zn2uaU",
    "outputId": "ceb6b8b8-e143-46f7-a439-c3d12c636b0d"
   },
   "outputs": [
    {
     "data": {
      "text/plain": [
       "Index(['result_timestamp', '#object_id', 'lamax', 'laeq', 'lceq', 'lcpeak',\n",
       "       'hour', 'weekday', 'month', 'location'],\n",
       "      dtype='object')"
      ]
     },
     "execution_count": 18,
     "metadata": {},
     "output_type": "execute_result"
    }
   ],
   "source": [
    "file42.columns"
   ]
  },
  {
   "cell_type": "code",
   "execution_count": 19,
   "metadata": {
    "executionInfo": {
     "elapsed": 14,
     "status": "ok",
     "timestamp": 1685389694558,
     "user": {
      "displayName": "Ken Le",
      "userId": "02524318770864979503"
     },
     "user_tz": -120
    },
    "id": "Mqtq7cCE2wnX"
   },
   "outputs": [],
   "source": [
    "file42.rename(columns={\"#object_id\": \"object_id\"}, inplace=True)"
   ]
  },
  {
   "cell_type": "code",
   "execution_count": 20,
   "metadata": {
    "executionInfo": {
     "elapsed": 13,
     "status": "ok",
     "timestamp": 1685389694558,
     "user": {
      "displayName": "Ken Le",
      "userId": "02524318770864979503"
     },
     "user_tz": -120
    },
    "id": "7WNy5K9t2x5d"
   },
   "outputs": [],
   "source": [
    "file42[\"object_id\"] = pd.to_numeric(file42[\"object_id\"]).astype(int)"
   ]
  },
  {
   "cell_type": "code",
   "execution_count": 21,
   "metadata": {
    "colab": {
     "base_uri": "https://localhost:8080/",
     "height": 206
    },
    "executionInfo": {
     "elapsed": 14,
     "status": "ok",
     "timestamp": 1685389694559,
     "user": {
      "displayName": "Ken Le",
      "userId": "02524318770864979503"
     },
     "user_tz": -120
    },
    "id": "g17QtBNA2y2D",
    "outputId": "c1a32360-5569-4bef-9398-a74ef1c15e73"
   },
   "outputs": [
    {
     "data": {
      "text/html": [
       "<div>\n",
       "<style scoped>\n",
       "    .dataframe tbody tr th:only-of-type {\n",
       "        vertical-align: middle;\n",
       "    }\n",
       "\n",
       "    .dataframe tbody tr th {\n",
       "        vertical-align: top;\n",
       "    }\n",
       "\n",
       "    .dataframe thead th {\n",
       "        text-align: right;\n",
       "    }\n",
       "</style>\n",
       "<table border=\"1\" class=\"dataframe\">\n",
       "  <thead>\n",
       "    <tr style=\"text-align: right;\">\n",
       "      <th></th>\n",
       "      <th>result_timestamp</th>\n",
       "      <th>object_id</th>\n",
       "      <th>lamax</th>\n",
       "      <th>laeq</th>\n",
       "      <th>lceq</th>\n",
       "      <th>lcpeak</th>\n",
       "      <th>hour</th>\n",
       "      <th>weekday</th>\n",
       "      <th>month</th>\n",
       "      <th>location</th>\n",
       "    </tr>\n",
       "  </thead>\n",
       "  <tbody>\n",
       "    <tr>\n",
       "      <th>8203</th>\n",
       "      <td>2022-02-28 08:00:00</td>\n",
       "      <td>255439</td>\n",
       "      <td>58.679893</td>\n",
       "      <td>56.965367</td>\n",
       "      <td>67.359289</td>\n",
       "      <td>78.976896</td>\n",
       "      <td>8</td>\n",
       "      <td>Mon</td>\n",
       "      <td>2</td>\n",
       "      <td>MP 01: Naamsestraat 35  Maxim</td>\n",
       "    </tr>\n",
       "    <tr>\n",
       "      <th>8208</th>\n",
       "      <td>2022-02-28 13:00:00</td>\n",
       "      <td>255439</td>\n",
       "      <td>57.610063</td>\n",
       "      <td>55.556352</td>\n",
       "      <td>64.805270</td>\n",
       "      <td>76.718642</td>\n",
       "      <td>13</td>\n",
       "      <td>Mon</td>\n",
       "      <td>2</td>\n",
       "      <td>MP 01: Naamsestraat 35  Maxim</td>\n",
       "    </tr>\n",
       "    <tr>\n",
       "      <th>8209</th>\n",
       "      <td>2022-02-28 14:00:00</td>\n",
       "      <td>255439</td>\n",
       "      <td>57.101721</td>\n",
       "      <td>55.100833</td>\n",
       "      <td>64.435944</td>\n",
       "      <td>76.297757</td>\n",
       "      <td>14</td>\n",
       "      <td>Mon</td>\n",
       "      <td>2</td>\n",
       "      <td>MP 01: Naamsestraat 35  Maxim</td>\n",
       "    </tr>\n",
       "    <tr>\n",
       "      <th>8210</th>\n",
       "      <td>2022-02-28 15:00:00</td>\n",
       "      <td>255439</td>\n",
       "      <td>56.258222</td>\n",
       "      <td>54.167056</td>\n",
       "      <td>62.930547</td>\n",
       "      <td>75.222819</td>\n",
       "      <td>15</td>\n",
       "      <td>Mon</td>\n",
       "      <td>2</td>\n",
       "      <td>MP 01: Naamsestraat 35  Maxim</td>\n",
       "    </tr>\n",
       "    <tr>\n",
       "      <th>8211</th>\n",
       "      <td>2022-02-28 16:00:00</td>\n",
       "      <td>255439</td>\n",
       "      <td>57.101444</td>\n",
       "      <td>54.979111</td>\n",
       "      <td>63.220742</td>\n",
       "      <td>75.562858</td>\n",
       "      <td>16</td>\n",
       "      <td>Mon</td>\n",
       "      <td>2</td>\n",
       "      <td>MP 01: Naamsestraat 35  Maxim</td>\n",
       "    </tr>\n",
       "  </tbody>\n",
       "</table>\n",
       "</div>"
      ],
      "text/plain": [
       "         result_timestamp  object_id      lamax       laeq       lceq  \\\n",
       "8203  2022-02-28 08:00:00     255439  58.679893  56.965367  67.359289   \n",
       "8208  2022-02-28 13:00:00     255439  57.610063  55.556352  64.805270   \n",
       "8209  2022-02-28 14:00:00     255439  57.101721  55.100833  64.435944   \n",
       "8210  2022-02-28 15:00:00     255439  56.258222  54.167056  62.930547   \n",
       "8211  2022-02-28 16:00:00     255439  57.101444  54.979111  63.220742   \n",
       "\n",
       "         lcpeak  hour weekday  month                       location  \n",
       "8203  78.976896     8     Mon      2  MP 01: Naamsestraat 35  Maxim  \n",
       "8208  76.718642    13     Mon      2  MP 01: Naamsestraat 35  Maxim  \n",
       "8209  76.297757    14     Mon      2  MP 01: Naamsestraat 35  Maxim  \n",
       "8210  75.222819    15     Mon      2  MP 01: Naamsestraat 35  Maxim  \n",
       "8211  75.562858    16     Mon      2  MP 01: Naamsestraat 35  Maxim  "
      ]
     },
     "execution_count": 21,
     "metadata": {},
     "output_type": "execute_result"
    }
   ],
   "source": [
    "file42.head(5)"
   ]
  },
  {
   "cell_type": "code",
   "execution_count": 22,
   "metadata": {
    "colab": {
     "base_uri": "https://localhost:8080/",
     "height": 175
    },
    "executionInfo": {
     "elapsed": 780,
     "status": "ok",
     "timestamp": 1685389695326,
     "user": {
      "displayName": "Ken Le",
      "userId": "02524318770864979503"
     },
     "user_tz": -120
    },
    "id": "jNyiYLqw2zsK",
    "outputId": "eb1abbc2-0f8c-44fd-ee4b-257cfdc27fbf"
   },
   "outputs": [
    {
     "data": {
      "text/html": [
       "<div>\n",
       "<style scoped>\n",
       "    .dataframe tbody tr th:only-of-type {\n",
       "        vertical-align: middle;\n",
       "    }\n",
       "\n",
       "    .dataframe tbody tr th {\n",
       "        vertical-align: top;\n",
       "    }\n",
       "\n",
       "    .dataframe thead th {\n",
       "        text-align: right;\n",
       "    }\n",
       "</style>\n",
       "<table border=\"1\" class=\"dataframe\">\n",
       "  <thead>\n",
       "    <tr style=\"text-align: right;\">\n",
       "      <th></th>\n",
       "      <th>result_timestamp</th>\n",
       "      <th>object_id</th>\n",
       "      <th>lamax</th>\n",
       "      <th>laeq</th>\n",
       "      <th>lceq</th>\n",
       "      <th>lcpeak</th>\n",
       "      <th>hour</th>\n",
       "      <th>weekday</th>\n",
       "      <th>month</th>\n",
       "      <th>location</th>\n",
       "      <th>date</th>\n",
       "    </tr>\n",
       "  </thead>\n",
       "  <tbody>\n",
       "    <tr>\n",
       "      <th>8203</th>\n",
       "      <td>2022-02-28 08:00:00</td>\n",
       "      <td>255439</td>\n",
       "      <td>58.679893</td>\n",
       "      <td>56.965367</td>\n",
       "      <td>67.359289</td>\n",
       "      <td>78.976896</td>\n",
       "      <td>8</td>\n",
       "      <td>Mon</td>\n",
       "      <td>2</td>\n",
       "      <td>MP 01: Naamsestraat 35  Maxim</td>\n",
       "      <td>2022-02-28</td>\n",
       "    </tr>\n",
       "    <tr>\n",
       "      <th>8208</th>\n",
       "      <td>2022-02-28 13:00:00</td>\n",
       "      <td>255439</td>\n",
       "      <td>57.610063</td>\n",
       "      <td>55.556352</td>\n",
       "      <td>64.805270</td>\n",
       "      <td>76.718642</td>\n",
       "      <td>13</td>\n",
       "      <td>Mon</td>\n",
       "      <td>2</td>\n",
       "      <td>MP 01: Naamsestraat 35  Maxim</td>\n",
       "      <td>2022-02-28</td>\n",
       "    </tr>\n",
       "    <tr>\n",
       "      <th>8209</th>\n",
       "      <td>2022-02-28 14:00:00</td>\n",
       "      <td>255439</td>\n",
       "      <td>57.101721</td>\n",
       "      <td>55.100833</td>\n",
       "      <td>64.435944</td>\n",
       "      <td>76.297757</td>\n",
       "      <td>14</td>\n",
       "      <td>Mon</td>\n",
       "      <td>2</td>\n",
       "      <td>MP 01: Naamsestraat 35  Maxim</td>\n",
       "      <td>2022-02-28</td>\n",
       "    </tr>\n",
       "    <tr>\n",
       "      <th>8210</th>\n",
       "      <td>2022-02-28 15:00:00</td>\n",
       "      <td>255439</td>\n",
       "      <td>56.258222</td>\n",
       "      <td>54.167056</td>\n",
       "      <td>62.930547</td>\n",
       "      <td>75.222819</td>\n",
       "      <td>15</td>\n",
       "      <td>Mon</td>\n",
       "      <td>2</td>\n",
       "      <td>MP 01: Naamsestraat 35  Maxim</td>\n",
       "      <td>2022-02-28</td>\n",
       "    </tr>\n",
       "  </tbody>\n",
       "</table>\n",
       "</div>"
      ],
      "text/plain": [
       "        result_timestamp  object_id      lamax       laeq       lceq  \\\n",
       "8203 2022-02-28 08:00:00     255439  58.679893  56.965367  67.359289   \n",
       "8208 2022-02-28 13:00:00     255439  57.610063  55.556352  64.805270   \n",
       "8209 2022-02-28 14:00:00     255439  57.101721  55.100833  64.435944   \n",
       "8210 2022-02-28 15:00:00     255439  56.258222  54.167056  62.930547   \n",
       "\n",
       "         lcpeak  hour weekday  month                       location  \\\n",
       "8203  78.976896     8     Mon      2  MP 01: Naamsestraat 35  Maxim   \n",
       "8208  76.718642    13     Mon      2  MP 01: Naamsestraat 35  Maxim   \n",
       "8209  76.297757    14     Mon      2  MP 01: Naamsestraat 35  Maxim   \n",
       "8210  75.222819    15     Mon      2  MP 01: Naamsestraat 35  Maxim   \n",
       "\n",
       "            date  \n",
       "8203  2022-02-28  \n",
       "8208  2022-02-28  \n",
       "8209  2022-02-28  \n",
       "8210  2022-02-28  "
      ]
     },
     "execution_count": 22,
     "metadata": {},
     "output_type": "execute_result"
    }
   ],
   "source": [
    "# Convert the 'result_timestamp' column to a datetime data type\n",
    "file42[\"result_timestamp\"] = pd.to_datetime(file42[\"result_timestamp\"])\n",
    "file42[\"date\"] = file42[\"result_timestamp\"].dt.date\n",
    "file42[\"hour\"] = file42[\"result_timestamp\"].dt.hour\n",
    "file42[\"month\"] = file42[\"result_timestamp\"].dt.month\n",
    "file42[\"weekday\"] = file42[\"result_timestamp\"].dt.strftime(\"%a\")\n",
    "file42.head(4)"
   ]
  },
  {
   "cell_type": "code",
   "execution_count": 23,
   "metadata": {
    "colab": {
     "base_uri": "https://localhost:8080/",
     "height": 261
    },
    "executionInfo": {
     "elapsed": 21,
     "status": "ok",
     "timestamp": 1685389695327,
     "user": {
      "displayName": "Ken Le",
      "userId": "02524318770864979503"
     },
     "user_tz": -120
    },
    "id": "C9B_1ELv25Sr",
    "outputId": "9ea31736-d1d4-44a9-d07b-bbde41fec6de"
   },
   "outputs": [
    {
     "name": "stderr",
     "output_type": "stream",
     "text": [
      "C:\\Users\\jef-w\\AppData\\Local\\Temp\\ipykernel_3008\\1536898315.py:3: FutureWarning: The default value of numeric_only in DataFrameGroupBy.mean is deprecated. In a future version, numeric_only will default to False. Either specify numeric_only or select only columns which should be valid for the function.\n",
      "  .mean()\n"
     ]
    },
    {
     "data": {
      "text/html": [
       "<div>\n",
       "<style scoped>\n",
       "    .dataframe tbody tr th:only-of-type {\n",
       "        vertical-align: middle;\n",
       "    }\n",
       "\n",
       "    .dataframe tbody tr th {\n",
       "        vertical-align: top;\n",
       "    }\n",
       "\n",
       "    .dataframe thead th {\n",
       "        text-align: right;\n",
       "    }\n",
       "</style>\n",
       "<table border=\"1\" class=\"dataframe\">\n",
       "  <thead>\n",
       "    <tr style=\"text-align: right;\">\n",
       "      <th></th>\n",
       "      <th>object_id</th>\n",
       "      <th>date</th>\n",
       "      <th>hour</th>\n",
       "      <th>month</th>\n",
       "      <th>weekday</th>\n",
       "      <th>lamax</th>\n",
       "      <th>laeq</th>\n",
       "      <th>lceq</th>\n",
       "      <th>lcpeak</th>\n",
       "    </tr>\n",
       "  </thead>\n",
       "  <tbody>\n",
       "    <tr>\n",
       "      <th>0</th>\n",
       "      <td>255439</td>\n",
       "      <td>2022-02-28</td>\n",
       "      <td>8</td>\n",
       "      <td>2</td>\n",
       "      <td>Mon</td>\n",
       "      <td>58.679893</td>\n",
       "      <td>56.965367</td>\n",
       "      <td>67.359289</td>\n",
       "      <td>78.976896</td>\n",
       "    </tr>\n",
       "    <tr>\n",
       "      <th>1</th>\n",
       "      <td>255439</td>\n",
       "      <td>2022-02-28</td>\n",
       "      <td>13</td>\n",
       "      <td>2</td>\n",
       "      <td>Mon</td>\n",
       "      <td>57.610063</td>\n",
       "      <td>55.556352</td>\n",
       "      <td>64.805270</td>\n",
       "      <td>76.718642</td>\n",
       "    </tr>\n",
       "    <tr>\n",
       "      <th>2</th>\n",
       "      <td>255439</td>\n",
       "      <td>2022-02-28</td>\n",
       "      <td>14</td>\n",
       "      <td>2</td>\n",
       "      <td>Mon</td>\n",
       "      <td>57.101721</td>\n",
       "      <td>55.100833</td>\n",
       "      <td>64.435944</td>\n",
       "      <td>76.297757</td>\n",
       "    </tr>\n",
       "    <tr>\n",
       "      <th>3</th>\n",
       "      <td>255439</td>\n",
       "      <td>2022-02-28</td>\n",
       "      <td>15</td>\n",
       "      <td>2</td>\n",
       "      <td>Mon</td>\n",
       "      <td>56.258222</td>\n",
       "      <td>54.167056</td>\n",
       "      <td>62.930547</td>\n",
       "      <td>75.222819</td>\n",
       "    </tr>\n",
       "    <tr>\n",
       "      <th>4</th>\n",
       "      <td>255439</td>\n",
       "      <td>2022-02-28</td>\n",
       "      <td>16</td>\n",
       "      <td>2</td>\n",
       "      <td>Mon</td>\n",
       "      <td>57.101444</td>\n",
       "      <td>54.979111</td>\n",
       "      <td>63.220742</td>\n",
       "      <td>75.562858</td>\n",
       "    </tr>\n",
       "  </tbody>\n",
       "</table>\n",
       "</div>"
      ],
      "text/plain": [
       "   object_id        date  hour  month weekday      lamax       laeq  \\\n",
       "0     255439  2022-02-28     8      2     Mon  58.679893  56.965367   \n",
       "1     255439  2022-02-28    13      2     Mon  57.610063  55.556352   \n",
       "2     255439  2022-02-28    14      2     Mon  57.101721  55.100833   \n",
       "3     255439  2022-02-28    15      2     Mon  56.258222  54.167056   \n",
       "4     255439  2022-02-28    16      2     Mon  57.101444  54.979111   \n",
       "\n",
       "        lceq     lcpeak  \n",
       "0  67.359289  78.976896  \n",
       "1  64.805270  76.718642  \n",
       "2  64.435944  76.297757  \n",
       "3  62.930547  75.222819  \n",
       "4  63.220742  75.562858  "
      ]
     },
     "execution_count": 23,
     "metadata": {},
     "output_type": "execute_result"
    }
   ],
   "source": [
    "file42 = (\n",
    "    file42.groupby([\"object_id\", \"date\", \"hour\", \"month\", \"weekday\"])\n",
    "    .mean()\n",
    "    .reset_index()\n",
    ")\n",
    "file42.head(5)"
   ]
  },
  {
   "cell_type": "markdown",
   "metadata": {
    "id": "G9_SSI9L3EHg"
   },
   "source": [
    "## Merge data"
   ]
  },
  {
   "cell_type": "code",
   "execution_count": 24,
   "metadata": {
    "executionInfo": {
     "elapsed": 15,
     "status": "ok",
     "timestamp": 1685389695328,
     "user": {
      "displayName": "Ken Le",
      "userId": "02524318770864979503"
     },
     "user_tz": -120
    },
    "id": "JmGb_nVL26uY"
   },
   "outputs": [],
   "source": [
    "data_model = file42.merge(\n",
    "    air_quality_data,\n",
    "    how=\"inner\",\n",
    "    left_on=[\"date\", \"hour\", \"month\", \"weekday\"],\n",
    "    right_on=[\"date\", \"hour\", \"month\", \"weekday\"],\n",
    ")"
   ]
  },
  {
   "cell_type": "code",
   "execution_count": 25,
   "metadata": {
    "executionInfo": {
     "elapsed": 15,
     "status": "ok",
     "timestamp": 1685389695328,
     "user": {
      "displayName": "Ken Le",
      "userId": "02524318770864979503"
     },
     "user_tz": -120
    },
    "id": "oRYnIxEY3NNt"
   },
   "outputs": [],
   "source": [
    "data_model = data_model.merge(\n",
    "    weather_data,\n",
    "    how=\"inner\",\n",
    "    left_on=[\"date\", \"hour\", \"month\", \"weekday\"],\n",
    "    right_on=[\"date\", \"hour\", \"month\", \"weekday\"],\n",
    ")"
   ]
  },
  {
   "cell_type": "code",
   "execution_count": 26,
   "metadata": {
    "colab": {
     "base_uri": "https://localhost:8080/"
    },
    "executionInfo": {
     "elapsed": 16,
     "status": "ok",
     "timestamp": 1685389695330,
     "user": {
      "displayName": "Ken Le",
      "userId": "02524318770864979503"
     },
     "user_tz": -120
    },
    "id": "q7lqe1PU3RNI",
    "outputId": "a1fb1c59-eb7f-4d38-87f0-0909fd4e070c"
   },
   "outputs": [
    {
     "data": {
      "text/plain": [
       "(54413, 37)"
      ]
     },
     "execution_count": 26,
     "metadata": {},
     "output_type": "execute_result"
    }
   ],
   "source": [
    "data_model.shape"
   ]
  },
  {
   "cell_type": "code",
   "execution_count": 27,
   "metadata": {
    "colab": {
     "base_uri": "https://localhost:8080/",
     "height": 386
    },
    "executionInfo": {
     "elapsed": 29,
     "status": "ok",
     "timestamp": 1685389696141,
     "user": {
      "displayName": "Ken Le",
      "userId": "02524318770864979503"
     },
     "user_tz": -120
    },
    "id": "f4gvoLjX3h4y",
    "outputId": "fe7136e0-7193-4a96-9275-13e14265a269"
   },
   "outputs": [
    {
     "data": {
      "text/html": [
       "<div>\n",
       "<style scoped>\n",
       "    .dataframe tbody tr th:only-of-type {\n",
       "        vertical-align: middle;\n",
       "    }\n",
       "\n",
       "    .dataframe tbody tr th {\n",
       "        vertical-align: top;\n",
       "    }\n",
       "\n",
       "    .dataframe thead th {\n",
       "        text-align: right;\n",
       "    }\n",
       "</style>\n",
       "<table border=\"1\" class=\"dataframe\">\n",
       "  <thead>\n",
       "    <tr style=\"text-align: right;\">\n",
       "      <th></th>\n",
       "      <th>object_id</th>\n",
       "      <th>date</th>\n",
       "      <th>hour</th>\n",
       "      <th>month</th>\n",
       "      <th>weekday</th>\n",
       "      <th>lamax</th>\n",
       "      <th>laeq</th>\n",
       "      <th>lceq</th>\n",
       "      <th>lcpeak</th>\n",
       "      <th>pm2_5</th>\n",
       "      <th>...</th>\n",
       "      <th>cloudcover_low</th>\n",
       "      <th>cloudcover_mid</th>\n",
       "      <th>cloudcover_high</th>\n",
       "      <th>shortwave_radiation</th>\n",
       "      <th>direct_radiation</th>\n",
       "      <th>diffuse_radiation</th>\n",
       "      <th>direct_normal_irradiance</th>\n",
       "      <th>windspeed_10m</th>\n",
       "      <th>winddirection_10m</th>\n",
       "      <th>windgusts_10m</th>\n",
       "    </tr>\n",
       "  </thead>\n",
       "  <tbody>\n",
       "    <tr>\n",
       "      <th>0</th>\n",
       "      <td>255439</td>\n",
       "      <td>2022-02-28</td>\n",
       "      <td>8</td>\n",
       "      <td>2</td>\n",
       "      <td>Mon</td>\n",
       "      <td>58.679893</td>\n",
       "      <td>56.965367</td>\n",
       "      <td>67.359289</td>\n",
       "      <td>78.976896</td>\n",
       "      <td>9.27</td>\n",
       "      <td>...</td>\n",
       "      <td>0</td>\n",
       "      <td>0</td>\n",
       "      <td>0</td>\n",
       "      <td>0.0</td>\n",
       "      <td>0.0</td>\n",
       "      <td>0.0</td>\n",
       "      <td>0.0</td>\n",
       "      <td>11.9</td>\n",
       "      <td>295</td>\n",
       "      <td>16.2</td>\n",
       "    </tr>\n",
       "    <tr>\n",
       "      <th>1</th>\n",
       "      <td>255441</td>\n",
       "      <td>2022-02-28</td>\n",
       "      <td>8</td>\n",
       "      <td>2</td>\n",
       "      <td>Mon</td>\n",
       "      <td>55.492778</td>\n",
       "      <td>54.066667</td>\n",
       "      <td>65.229694</td>\n",
       "      <td>76.438689</td>\n",
       "      <td>9.27</td>\n",
       "      <td>...</td>\n",
       "      <td>0</td>\n",
       "      <td>0</td>\n",
       "      <td>0</td>\n",
       "      <td>0.0</td>\n",
       "      <td>0.0</td>\n",
       "      <td>0.0</td>\n",
       "      <td>0.0</td>\n",
       "      <td>11.9</td>\n",
       "      <td>295</td>\n",
       "      <td>16.2</td>\n",
       "    </tr>\n",
       "    <tr>\n",
       "      <th>2</th>\n",
       "      <td>255442</td>\n",
       "      <td>2022-02-28</td>\n",
       "      <td>8</td>\n",
       "      <td>2</td>\n",
       "      <td>Mon</td>\n",
       "      <td>55.842472</td>\n",
       "      <td>54.106667</td>\n",
       "      <td>63.679853</td>\n",
       "      <td>75.430328</td>\n",
       "      <td>9.27</td>\n",
       "      <td>...</td>\n",
       "      <td>0</td>\n",
       "      <td>0</td>\n",
       "      <td>0</td>\n",
       "      <td>0.0</td>\n",
       "      <td>0.0</td>\n",
       "      <td>0.0</td>\n",
       "      <td>0.0</td>\n",
       "      <td>11.9</td>\n",
       "      <td>295</td>\n",
       "      <td>16.2</td>\n",
       "    </tr>\n",
       "    <tr>\n",
       "      <th>3</th>\n",
       "      <td>255443</td>\n",
       "      <td>2022-02-28</td>\n",
       "      <td>8</td>\n",
       "      <td>2</td>\n",
       "      <td>Mon</td>\n",
       "      <td>55.250278</td>\n",
       "      <td>53.569000</td>\n",
       "      <td>63.015794</td>\n",
       "      <td>74.931089</td>\n",
       "      <td>9.27</td>\n",
       "      <td>...</td>\n",
       "      <td>0</td>\n",
       "      <td>0</td>\n",
       "      <td>0</td>\n",
       "      <td>0.0</td>\n",
       "      <td>0.0</td>\n",
       "      <td>0.0</td>\n",
       "      <td>0.0</td>\n",
       "      <td>11.9</td>\n",
       "      <td>295</td>\n",
       "      <td>16.2</td>\n",
       "    </tr>\n",
       "    <tr>\n",
       "      <th>4</th>\n",
       "      <td>255444</td>\n",
       "      <td>2022-02-28</td>\n",
       "      <td>8</td>\n",
       "      <td>2</td>\n",
       "      <td>Mon</td>\n",
       "      <td>55.992611</td>\n",
       "      <td>54.480028</td>\n",
       "      <td>64.411319</td>\n",
       "      <td>75.940522</td>\n",
       "      <td>9.27</td>\n",
       "      <td>...</td>\n",
       "      <td>0</td>\n",
       "      <td>0</td>\n",
       "      <td>0</td>\n",
       "      <td>0.0</td>\n",
       "      <td>0.0</td>\n",
       "      <td>0.0</td>\n",
       "      <td>0.0</td>\n",
       "      <td>11.9</td>\n",
       "      <td>295</td>\n",
       "      <td>16.2</td>\n",
       "    </tr>\n",
       "  </tbody>\n",
       "</table>\n",
       "<p>5 rows × 37 columns</p>\n",
       "</div>"
      ],
      "text/plain": [
       "   object_id        date  hour  month weekday      lamax       laeq  \\\n",
       "0     255439  2022-02-28     8      2     Mon  58.679893  56.965367   \n",
       "1     255441  2022-02-28     8      2     Mon  55.492778  54.066667   \n",
       "2     255442  2022-02-28     8      2     Mon  55.842472  54.106667   \n",
       "3     255443  2022-02-28     8      2     Mon  55.250278  53.569000   \n",
       "4     255444  2022-02-28     8      2     Mon  55.992611  54.480028   \n",
       "\n",
       "        lceq     lcpeak  pm2_5  ...  cloudcover_low  cloudcover_mid  \\\n",
       "0  67.359289  78.976896   9.27  ...               0               0   \n",
       "1  65.229694  76.438689   9.27  ...               0               0   \n",
       "2  63.679853  75.430328   9.27  ...               0               0   \n",
       "3  63.015794  74.931089   9.27  ...               0               0   \n",
       "4  64.411319  75.940522   9.27  ...               0               0   \n",
       "\n",
       "   cloudcover_high  shortwave_radiation  direct_radiation  diffuse_radiation  \\\n",
       "0                0                  0.0               0.0                0.0   \n",
       "1                0                  0.0               0.0                0.0   \n",
       "2                0                  0.0               0.0                0.0   \n",
       "3                0                  0.0               0.0                0.0   \n",
       "4                0                  0.0               0.0                0.0   \n",
       "\n",
       "   direct_normal_irradiance  windspeed_10m  winddirection_10m  windgusts_10m  \n",
       "0                       0.0           11.9                295           16.2  \n",
       "1                       0.0           11.9                295           16.2  \n",
       "2                       0.0           11.9                295           16.2  \n",
       "3                       0.0           11.9                295           16.2  \n",
       "4                       0.0           11.9                295           16.2  \n",
       "\n",
       "[5 rows x 37 columns]"
      ]
     },
     "execution_count": 27,
     "metadata": {},
     "output_type": "execute_result"
    }
   ],
   "source": [
    "data_model.head(5)"
   ]
  },
  {
   "cell_type": "code",
   "execution_count": 28,
   "metadata": {
    "colab": {
     "base_uri": "https://localhost:8080/"
    },
    "executionInfo": {
     "elapsed": 29,
     "status": "ok",
     "timestamp": 1685389696142,
     "user": {
      "displayName": "Ken Le",
      "userId": "02524318770864979503"
     },
     "user_tz": -120
    },
    "id": "vPSNb3bU3nOY",
    "outputId": "9c88b823-2ba3-4137-f1b3-5e84f76e319e"
   },
   "outputs": [
    {
     "data": {
      "text/plain": [
       "object_id                     int64\n",
       "date                         object\n",
       "hour                          int64\n",
       "month                         int64\n",
       "weekday                      object\n",
       "lamax                       float64\n",
       "laeq                        float64\n",
       "lceq                        float64\n",
       "lcpeak                      float64\n",
       "pm2_5                       float64\n",
       "pm10                        float64\n",
       "co                          float64\n",
       "no2                         float64\n",
       "o3                          float64\n",
       "so2                         float64\n",
       "nh3                         float64\n",
       "temperature_2m              float64\n",
       "relativehumidity_2m           int64\n",
       "dewpoint_2m                 float64\n",
       "apparent_temperature        float64\n",
       "pressure_msl                float64\n",
       "surface_pressure            float64\n",
       "precipitation               float64\n",
       "rain                        float64\n",
       "snowfall                    float64\n",
       "weathercode                   int64\n",
       "cloudcover                    int64\n",
       "cloudcover_low                int64\n",
       "cloudcover_mid                int64\n",
       "cloudcover_high               int64\n",
       "shortwave_radiation         float64\n",
       "direct_radiation            float64\n",
       "diffuse_radiation           float64\n",
       "direct_normal_irradiance    float64\n",
       "windspeed_10m               float64\n",
       "winddirection_10m             int64\n",
       "windgusts_10m               float64\n",
       "dtype: object"
      ]
     },
     "execution_count": 28,
     "metadata": {},
     "output_type": "execute_result"
    }
   ],
   "source": [
    "data_model.dtypes"
   ]
  },
  {
   "cell_type": "code",
   "execution_count": 29,
   "metadata": {
    "executionInfo": {
     "elapsed": 22,
     "status": "ok",
     "timestamp": 1685389696142,
     "user": {
      "displayName": "Ken Le",
      "userId": "02524318770864979503"
     },
     "user_tz": -120
    },
    "id": "LkZ_T0hk4I7H"
   },
   "outputs": [],
   "source": [
    "## split train, test data\n",
    "train_df, val_df = train_test_split(data_model, test_size=0.2, random_state=7)"
   ]
  },
  {
   "cell_type": "markdown",
   "metadata": {
    "id": "3K-wo3o94MsJ"
   },
   "source": [
    "## Process dependent variables"
   ]
  },
  {
   "cell_type": "code",
   "execution_count": 30,
   "metadata": {
    "executionInfo": {
     "elapsed": 22,
     "status": "ok",
     "timestamp": 1685389696143,
     "user": {
      "displayName": "Ken Le",
      "userId": "02524318770864979503"
     },
     "user_tz": -120
    },
    "id": "TVvupXo54Phz"
   },
   "outputs": [],
   "source": [
    "target_variable = [\"lamax\", \"laeq\", \"lceq\", \"lcpeak\"]"
   ]
  },
  {
   "cell_type": "code",
   "execution_count": 31,
   "metadata": {
    "colab": {
     "base_uri": "https://localhost:8080/",
     "height": 112
    },
    "executionInfo": {
     "elapsed": 22,
     "status": "ok",
     "timestamp": 1685389696143,
     "user": {
      "displayName": "Ken Le",
      "userId": "02524318770864979503"
     },
     "user_tz": -120
    },
    "id": "hsxrVji24iNO",
    "outputId": "1be9f790-a8b0-4185-fbca-d1b52a1b86e5"
   },
   "outputs": [
    {
     "data": {
      "text/html": [
       "<div>\n",
       "<style scoped>\n",
       "    .dataframe tbody tr th:only-of-type {\n",
       "        vertical-align: middle;\n",
       "    }\n",
       "\n",
       "    .dataframe tbody tr th {\n",
       "        vertical-align: top;\n",
       "    }\n",
       "\n",
       "    .dataframe thead th {\n",
       "        text-align: right;\n",
       "    }\n",
       "</style>\n",
       "<table border=\"1\" class=\"dataframe\">\n",
       "  <thead>\n",
       "    <tr style=\"text-align: right;\">\n",
       "      <th></th>\n",
       "      <th>lamax</th>\n",
       "      <th>laeq</th>\n",
       "      <th>lceq</th>\n",
       "      <th>lcpeak</th>\n",
       "    </tr>\n",
       "  </thead>\n",
       "  <tbody>\n",
       "    <tr>\n",
       "      <th>46575</th>\n",
       "      <td>57.524278</td>\n",
       "      <td>55.794722</td>\n",
       "      <td>63.272894</td>\n",
       "      <td>75.597211</td>\n",
       "    </tr>\n",
       "    <tr>\n",
       "      <th>26968</th>\n",
       "      <td>48.282722</td>\n",
       "      <td>46.791806</td>\n",
       "      <td>57.034947</td>\n",
       "      <td>68.439956</td>\n",
       "    </tr>\n",
       "  </tbody>\n",
       "</table>\n",
       "</div>"
      ],
      "text/plain": [
       "           lamax       laeq       lceq     lcpeak\n",
       "46575  57.524278  55.794722  63.272894  75.597211\n",
       "26968  48.282722  46.791806  57.034947  68.439956"
      ]
     },
     "execution_count": 31,
     "metadata": {},
     "output_type": "execute_result"
    }
   ],
   "source": [
    "y_train = train_df[target_variable]\n",
    "y_train.head(2)"
   ]
  },
  {
   "cell_type": "code",
   "execution_count": 32,
   "metadata": {
    "colab": {
     "base_uri": "https://localhost:8080/",
     "height": 112
    },
    "executionInfo": {
     "elapsed": 22,
     "status": "ok",
     "timestamp": 1685389696144,
     "user": {
      "displayName": "Ken Le",
      "userId": "02524318770864979503"
     },
     "user_tz": -120
    },
    "id": "90_K65vw4k6y",
    "outputId": "2b0c0192-533d-4ef5-ebc1-e67dc9f68fe1"
   },
   "outputs": [
    {
     "data": {
      "text/html": [
       "<div>\n",
       "<style scoped>\n",
       "    .dataframe tbody tr th:only-of-type {\n",
       "        vertical-align: middle;\n",
       "    }\n",
       "\n",
       "    .dataframe tbody tr th {\n",
       "        vertical-align: top;\n",
       "    }\n",
       "\n",
       "    .dataframe thead th {\n",
       "        text-align: right;\n",
       "    }\n",
       "</style>\n",
       "<table border=\"1\" class=\"dataframe\">\n",
       "  <thead>\n",
       "    <tr style=\"text-align: right;\">\n",
       "      <th></th>\n",
       "      <th>lamax</th>\n",
       "      <th>laeq</th>\n",
       "      <th>lceq</th>\n",
       "      <th>lcpeak</th>\n",
       "    </tr>\n",
       "  </thead>\n",
       "  <tbody>\n",
       "    <tr>\n",
       "      <th>38808</th>\n",
       "      <td>42.591306</td>\n",
       "      <td>40.860722</td>\n",
       "      <td>49.396692</td>\n",
       "      <td>62.092933</td>\n",
       "    </tr>\n",
       "    <tr>\n",
       "      <th>43213</th>\n",
       "      <td>55.326611</td>\n",
       "      <td>53.388611</td>\n",
       "      <td>61.123072</td>\n",
       "      <td>73.719969</td>\n",
       "    </tr>\n",
       "  </tbody>\n",
       "</table>\n",
       "</div>"
      ],
      "text/plain": [
       "           lamax       laeq       lceq     lcpeak\n",
       "38808  42.591306  40.860722  49.396692  62.092933\n",
       "43213  55.326611  53.388611  61.123072  73.719969"
      ]
     },
     "execution_count": 32,
     "metadata": {},
     "output_type": "execute_result"
    }
   ],
   "source": [
    "y_val = val_df[target_variable]\n",
    "y_val.head(2)"
   ]
  },
  {
   "cell_type": "markdown",
   "metadata": {
    "id": "gL5cYeWd4p6u"
   },
   "source": [
    "## Process independent variables"
   ]
  },
  {
   "cell_type": "code",
   "execution_count": 33,
   "metadata": {
    "executionInfo": {
     "elapsed": 21,
     "status": "ok",
     "timestamp": 1685389696144,
     "user": {
      "displayName": "Ken Le",
      "userId": "02524318770864979503"
     },
     "user_tz": -120
    },
    "id": "dI3ZuwuB4z7y"
   },
   "outputs": [],
   "source": [
    "X_train = train_df.drop(target_variable + [\"date\"], axis=1)\n",
    "X_val = val_df.drop(target_variable + [\"date\"], axis=1)"
   ]
  },
  {
   "cell_type": "code",
   "execution_count": 34,
   "metadata": {
    "colab": {
     "base_uri": "https://localhost:8080/"
    },
    "executionInfo": {
     "elapsed": 20,
     "status": "ok",
     "timestamp": 1685389696144,
     "user": {
      "displayName": "Ken Le",
      "userId": "02524318770864979503"
     },
     "user_tz": -120
    },
    "id": "pzstryQm43Zb",
    "outputId": "abca92b2-818c-442e-f399-fcafbec91718"
   },
   "outputs": [
    {
     "data": {
      "text/plain": [
       "Index(['object_id', 'hour', 'month', 'weekday', 'pm2_5', 'pm10', 'co', 'no2',\n",
       "       'o3', 'so2', 'nh3', 'temperature_2m', 'relativehumidity_2m',\n",
       "       'dewpoint_2m', 'apparent_temperature', 'pressure_msl',\n",
       "       'surface_pressure', 'precipitation', 'rain', 'snowfall', 'weathercode',\n",
       "       'cloudcover', 'cloudcover_low', 'cloudcover_mid', 'cloudcover_high',\n",
       "       'shortwave_radiation', 'direct_radiation', 'diffuse_radiation',\n",
       "       'direct_normal_irradiance', 'windspeed_10m', 'winddirection_10m',\n",
       "       'windgusts_10m'],\n",
       "      dtype='object')"
      ]
     },
     "execution_count": 34,
     "metadata": {},
     "output_type": "execute_result"
    }
   ],
   "source": [
    "X_train.columns"
   ]
  },
  {
   "cell_type": "code",
   "execution_count": 35,
   "metadata": {
    "executionInfo": {
     "elapsed": 17,
     "status": "ok",
     "timestamp": 1685389696144,
     "user": {
      "displayName": "Ken Le",
      "userId": "02524318770864979503"
     },
     "user_tz": -120
    },
    "id": "fjGteOqr47kY"
   },
   "outputs": [],
   "source": [
    "one_hot_var = [\"hour\", \"month\", \"weekday\", \"object_id\", \"weathercode\"]\n",
    "numerical_var = [col for col in X_train.columns if col not in one_hot_var]"
   ]
  },
  {
   "cell_type": "code",
   "execution_count": 36,
   "metadata": {
    "colab": {
     "base_uri": "https://localhost:8080/",
     "height": 117
    },
    "executionInfo": {
     "elapsed": 18,
     "status": "ok",
     "timestamp": 1685389696145,
     "user": {
      "displayName": "Ken Le",
      "userId": "02524318770864979503"
     },
     "user_tz": -120
    },
    "id": "8j835FNN5AY2",
    "outputId": "6c50f351-80ce-4fed-e54d-797b15497a8c"
   },
   "outputs": [
    {
     "data": {
      "text/html": [
       "<style>#sk-container-id-1 {color: black;background-color: white;}#sk-container-id-1 pre{padding: 0;}#sk-container-id-1 div.sk-toggleable {background-color: white;}#sk-container-id-1 label.sk-toggleable__label {cursor: pointer;display: block;width: 100%;margin-bottom: 0;padding: 0.3em;box-sizing: border-box;text-align: center;}#sk-container-id-1 label.sk-toggleable__label-arrow:before {content: \"▸\";float: left;margin-right: 0.25em;color: #696969;}#sk-container-id-1 label.sk-toggleable__label-arrow:hover:before {color: black;}#sk-container-id-1 div.sk-estimator:hover label.sk-toggleable__label-arrow:before {color: black;}#sk-container-id-1 div.sk-toggleable__content {max-height: 0;max-width: 0;overflow: hidden;text-align: left;background-color: #f0f8ff;}#sk-container-id-1 div.sk-toggleable__content pre {margin: 0.2em;color: black;border-radius: 0.25em;background-color: #f0f8ff;}#sk-container-id-1 input.sk-toggleable__control:checked~div.sk-toggleable__content {max-height: 200px;max-width: 100%;overflow: auto;}#sk-container-id-1 input.sk-toggleable__control:checked~label.sk-toggleable__label-arrow:before {content: \"▾\";}#sk-container-id-1 div.sk-estimator input.sk-toggleable__control:checked~label.sk-toggleable__label {background-color: #d4ebff;}#sk-container-id-1 div.sk-label input.sk-toggleable__control:checked~label.sk-toggleable__label {background-color: #d4ebff;}#sk-container-id-1 input.sk-hidden--visually {border: 0;clip: rect(1px 1px 1px 1px);clip: rect(1px, 1px, 1px, 1px);height: 1px;margin: -1px;overflow: hidden;padding: 0;position: absolute;width: 1px;}#sk-container-id-1 div.sk-estimator {font-family: monospace;background-color: #f0f8ff;border: 1px dotted black;border-radius: 0.25em;box-sizing: border-box;margin-bottom: 0.5em;}#sk-container-id-1 div.sk-estimator:hover {background-color: #d4ebff;}#sk-container-id-1 div.sk-parallel-item::after {content: \"\";width: 100%;border-bottom: 1px solid gray;flex-grow: 1;}#sk-container-id-1 div.sk-label:hover label.sk-toggleable__label {background-color: #d4ebff;}#sk-container-id-1 div.sk-serial::before {content: \"\";position: absolute;border-left: 1px solid gray;box-sizing: border-box;top: 0;bottom: 0;left: 50%;z-index: 0;}#sk-container-id-1 div.sk-serial {display: flex;flex-direction: column;align-items: center;background-color: white;padding-right: 0.2em;padding-left: 0.2em;position: relative;}#sk-container-id-1 div.sk-item {position: relative;z-index: 1;}#sk-container-id-1 div.sk-parallel {display: flex;align-items: stretch;justify-content: center;background-color: white;position: relative;}#sk-container-id-1 div.sk-item::before, #sk-container-id-1 div.sk-parallel-item::before {content: \"\";position: absolute;border-left: 1px solid gray;box-sizing: border-box;top: 0;bottom: 0;left: 50%;z-index: -1;}#sk-container-id-1 div.sk-parallel-item {display: flex;flex-direction: column;z-index: 1;position: relative;background-color: white;}#sk-container-id-1 div.sk-parallel-item:first-child::after {align-self: flex-end;width: 50%;}#sk-container-id-1 div.sk-parallel-item:last-child::after {align-self: flex-start;width: 50%;}#sk-container-id-1 div.sk-parallel-item:only-child::after {width: 0;}#sk-container-id-1 div.sk-dashed-wrapped {border: 1px dashed gray;margin: 0 0.4em 0.5em 0.4em;box-sizing: border-box;padding-bottom: 0.4em;background-color: white;}#sk-container-id-1 div.sk-label label {font-family: monospace;font-weight: bold;display: inline-block;line-height: 1.2em;}#sk-container-id-1 div.sk-label-container {text-align: center;}#sk-container-id-1 div.sk-container {/* jupyter's `normalize.less` sets `[hidden] { display: none; }` but bootstrap.min.css set `[hidden] { display: none !important; }` so we also need the `!important` here to be able to override the default hidden behavior on the sphinx rendered scikit-learn.org. See: https://github.com/scikit-learn/scikit-learn/issues/21755 */display: inline-block !important;position: relative;}#sk-container-id-1 div.sk-text-repr-fallback {display: none;}</style><div id=\"sk-container-id-1\" class=\"sk-top-container\"><div class=\"sk-text-repr-fallback\"><pre>ColumnTransformer(transformers=[(&#x27;OneHot&#x27;,\n",
       "                                 OneHotEncoder(handle_unknown=&#x27;ignore&#x27;),\n",
       "                                 [&#x27;hour&#x27;, &#x27;month&#x27;, &#x27;weekday&#x27;, &#x27;object_id&#x27;,\n",
       "                                  &#x27;weathercode&#x27;]),\n",
       "                                (&#x27;StandardScaler&#x27;, StandardScaler(),\n",
       "                                 [&#x27;pm2_5&#x27;, &#x27;pm10&#x27;, &#x27;co&#x27;, &#x27;no2&#x27;, &#x27;o3&#x27;, &#x27;so2&#x27;,\n",
       "                                  &#x27;nh3&#x27;, &#x27;temperature_2m&#x27;,\n",
       "                                  &#x27;relativehumidity_2m&#x27;, &#x27;dewpoint_2m&#x27;,\n",
       "                                  &#x27;apparent_temperature&#x27;, &#x27;pressure_msl&#x27;,\n",
       "                                  &#x27;surface_pressure&#x27;, &#x27;precipitation&#x27;, &#x27;rain&#x27;,\n",
       "                                  &#x27;snowfall&#x27;, &#x27;cloudcover&#x27;, &#x27;cloudcover_low&#x27;,\n",
       "                                  &#x27;cloudcover_mid&#x27;, &#x27;cloudcover_high&#x27;,\n",
       "                                  &#x27;shortwave_radiation&#x27;, &#x27;direct_radiation&#x27;,\n",
       "                                  &#x27;diffuse_radiation&#x27;,\n",
       "                                  &#x27;direct_normal_irradiance&#x27;, &#x27;windspeed_10m&#x27;,\n",
       "                                  &#x27;winddirection_10m&#x27;, &#x27;windgusts_10m&#x27;])])</pre><b>In a Jupyter environment, please rerun this cell to show the HTML representation or trust the notebook. <br />On GitHub, the HTML representation is unable to render, please try loading this page with nbviewer.org.</b></div><div class=\"sk-container\" hidden><div class=\"sk-item sk-dashed-wrapped\"><div class=\"sk-label-container\"><div class=\"sk-label sk-toggleable\"><input class=\"sk-toggleable__control sk-hidden--visually\" id=\"sk-estimator-id-1\" type=\"checkbox\" ><label for=\"sk-estimator-id-1\" class=\"sk-toggleable__label sk-toggleable__label-arrow\">ColumnTransformer</label><div class=\"sk-toggleable__content\"><pre>ColumnTransformer(transformers=[(&#x27;OneHot&#x27;,\n",
       "                                 OneHotEncoder(handle_unknown=&#x27;ignore&#x27;),\n",
       "                                 [&#x27;hour&#x27;, &#x27;month&#x27;, &#x27;weekday&#x27;, &#x27;object_id&#x27;,\n",
       "                                  &#x27;weathercode&#x27;]),\n",
       "                                (&#x27;StandardScaler&#x27;, StandardScaler(),\n",
       "                                 [&#x27;pm2_5&#x27;, &#x27;pm10&#x27;, &#x27;co&#x27;, &#x27;no2&#x27;, &#x27;o3&#x27;, &#x27;so2&#x27;,\n",
       "                                  &#x27;nh3&#x27;, &#x27;temperature_2m&#x27;,\n",
       "                                  &#x27;relativehumidity_2m&#x27;, &#x27;dewpoint_2m&#x27;,\n",
       "                                  &#x27;apparent_temperature&#x27;, &#x27;pressure_msl&#x27;,\n",
       "                                  &#x27;surface_pressure&#x27;, &#x27;precipitation&#x27;, &#x27;rain&#x27;,\n",
       "                                  &#x27;snowfall&#x27;, &#x27;cloudcover&#x27;, &#x27;cloudcover_low&#x27;,\n",
       "                                  &#x27;cloudcover_mid&#x27;, &#x27;cloudcover_high&#x27;,\n",
       "                                  &#x27;shortwave_radiation&#x27;, &#x27;direct_radiation&#x27;,\n",
       "                                  &#x27;diffuse_radiation&#x27;,\n",
       "                                  &#x27;direct_normal_irradiance&#x27;, &#x27;windspeed_10m&#x27;,\n",
       "                                  &#x27;winddirection_10m&#x27;, &#x27;windgusts_10m&#x27;])])</pre></div></div></div><div class=\"sk-parallel\"><div class=\"sk-parallel-item\"><div class=\"sk-item\"><div class=\"sk-label-container\"><div class=\"sk-label sk-toggleable\"><input class=\"sk-toggleable__control sk-hidden--visually\" id=\"sk-estimator-id-2\" type=\"checkbox\" ><label for=\"sk-estimator-id-2\" class=\"sk-toggleable__label sk-toggleable__label-arrow\">OneHot</label><div class=\"sk-toggleable__content\"><pre>[&#x27;hour&#x27;, &#x27;month&#x27;, &#x27;weekday&#x27;, &#x27;object_id&#x27;, &#x27;weathercode&#x27;]</pre></div></div></div><div class=\"sk-serial\"><div class=\"sk-item\"><div class=\"sk-estimator sk-toggleable\"><input class=\"sk-toggleable__control sk-hidden--visually\" id=\"sk-estimator-id-3\" type=\"checkbox\" ><label for=\"sk-estimator-id-3\" class=\"sk-toggleable__label sk-toggleable__label-arrow\">OneHotEncoder</label><div class=\"sk-toggleable__content\"><pre>OneHotEncoder(handle_unknown=&#x27;ignore&#x27;)</pre></div></div></div></div></div></div><div class=\"sk-parallel-item\"><div class=\"sk-item\"><div class=\"sk-label-container\"><div class=\"sk-label sk-toggleable\"><input class=\"sk-toggleable__control sk-hidden--visually\" id=\"sk-estimator-id-4\" type=\"checkbox\" ><label for=\"sk-estimator-id-4\" class=\"sk-toggleable__label sk-toggleable__label-arrow\">StandardScaler</label><div class=\"sk-toggleable__content\"><pre>[&#x27;pm2_5&#x27;, &#x27;pm10&#x27;, &#x27;co&#x27;, &#x27;no2&#x27;, &#x27;o3&#x27;, &#x27;so2&#x27;, &#x27;nh3&#x27;, &#x27;temperature_2m&#x27;, &#x27;relativehumidity_2m&#x27;, &#x27;dewpoint_2m&#x27;, &#x27;apparent_temperature&#x27;, &#x27;pressure_msl&#x27;, &#x27;surface_pressure&#x27;, &#x27;precipitation&#x27;, &#x27;rain&#x27;, &#x27;snowfall&#x27;, &#x27;cloudcover&#x27;, &#x27;cloudcover_low&#x27;, &#x27;cloudcover_mid&#x27;, &#x27;cloudcover_high&#x27;, &#x27;shortwave_radiation&#x27;, &#x27;direct_radiation&#x27;, &#x27;diffuse_radiation&#x27;, &#x27;direct_normal_irradiance&#x27;, &#x27;windspeed_10m&#x27;, &#x27;winddirection_10m&#x27;, &#x27;windgusts_10m&#x27;]</pre></div></div></div><div class=\"sk-serial\"><div class=\"sk-item\"><div class=\"sk-estimator sk-toggleable\"><input class=\"sk-toggleable__control sk-hidden--visually\" id=\"sk-estimator-id-5\" type=\"checkbox\" ><label for=\"sk-estimator-id-5\" class=\"sk-toggleable__label sk-toggleable__label-arrow\">StandardScaler</label><div class=\"sk-toggleable__content\"><pre>StandardScaler()</pre></div></div></div></div></div></div></div></div></div></div>"
      ],
      "text/plain": [
       "ColumnTransformer(transformers=[('OneHot',\n",
       "                                 OneHotEncoder(handle_unknown='ignore'),\n",
       "                                 ['hour', 'month', 'weekday', 'object_id',\n",
       "                                  'weathercode']),\n",
       "                                ('StandardScaler', StandardScaler(),\n",
       "                                 ['pm2_5', 'pm10', 'co', 'no2', 'o3', 'so2',\n",
       "                                  'nh3', 'temperature_2m',\n",
       "                                  'relativehumidity_2m', 'dewpoint_2m',\n",
       "                                  'apparent_temperature', 'pressure_msl',\n",
       "                                  'surface_pressure', 'precipitation', 'rain',\n",
       "                                  'snowfall', 'cloudcover', 'cloudcover_low',\n",
       "                                  'cloudcover_mid', 'cloudcover_high',\n",
       "                                  'shortwave_radiation', 'direct_radiation',\n",
       "                                  'diffuse_radiation',\n",
       "                                  'direct_normal_irradiance', 'windspeed_10m',\n",
       "                                  'winddirection_10m', 'windgusts_10m'])])"
      ]
     },
     "execution_count": 36,
     "metadata": {},
     "output_type": "execute_result"
    }
   ],
   "source": [
    "t = ColumnTransformer(\n",
    "    transformers=[\n",
    "        (\"OneHot\", OneHotEncoder(handle_unknown=\"ignore\"), one_hot_var),\n",
    "        (\"StandardScaler\", StandardScaler(), numerical_var),\n",
    "    ]\n",
    ")\n",
    "\n",
    "# fit the encoder\n",
    "t.fit(X_train)"
   ]
  },
  {
   "cell_type": "code",
   "execution_count": 37,
   "metadata": {
    "executionInfo": {
     "elapsed": 17,
     "status": "ok",
     "timestamp": 1685389696145,
     "user": {
      "displayName": "Ken Le",
      "userId": "02524318770864979503"
     },
     "user_tz": -120
    },
    "id": "fXrIww_D5A0o"
   },
   "outputs": [],
   "source": [
    "## save columnstransformer\n",
    "\n",
    "with open(\"../model/model_noise_level_file42/encoder_model_file42.pkl\", \"wb\") as file:\n",
    "    pickle.dump(t, file)"
   ]
  },
  {
   "cell_type": "code",
   "execution_count": 38,
   "metadata": {},
   "outputs": [],
   "source": [
    "# Load the pickle file\n",
    "with open(\"../model/model_noise_level_file42/encoder_model_file42.pkl\", \"rb\") as file:\n",
    "    t = pickle.load(file)"
   ]
  },
  {
   "cell_type": "code",
   "execution_count": 39,
   "metadata": {
    "executionInfo": {
     "elapsed": 446,
     "status": "ok",
     "timestamp": 1685389696574,
     "user": {
      "displayName": "Ken Le",
      "userId": "02524318770864979503"
     },
     "user_tz": -120
    },
    "id": "MM52MVt25IRd"
   },
   "outputs": [],
   "source": [
    "# create pandas DataFrame from dense matrix\n",
    "X_train = pd.DataFrame(t.fit_transform(X_train), columns=t.get_feature_names_out())\n",
    "\n",
    "X_val = pd.DataFrame(t.transform(X_val), columns=t.get_feature_names_out())"
   ]
  },
  {
   "cell_type": "code",
   "execution_count": 40,
   "metadata": {
    "colab": {
     "base_uri": "https://localhost:8080/"
    },
    "executionInfo": {
     "elapsed": 12,
     "status": "ok",
     "timestamp": 1685389696574,
     "user": {
      "displayName": "Ken Le",
      "userId": "02524318770864979503"
     },
     "user_tz": -120
    },
    "id": "_pnkFwTT5KQM",
    "outputId": "f643680c-102a-48c0-b718-6eb4e4719a6c"
   },
   "outputs": [
    {
     "data": {
      "text/plain": [
       "Index(['OneHot__hour_0', 'OneHot__hour_1', 'OneHot__hour_2', 'OneHot__hour_3',\n",
       "       'OneHot__hour_4', 'OneHot__hour_5', 'OneHot__hour_6', 'OneHot__hour_7',\n",
       "       'OneHot__hour_8', 'OneHot__hour_9', 'OneHot__hour_10',\n",
       "       'OneHot__hour_11', 'OneHot__hour_12', 'OneHot__hour_13',\n",
       "       'OneHot__hour_14', 'OneHot__hour_15', 'OneHot__hour_16',\n",
       "       'OneHot__hour_17', 'OneHot__hour_18', 'OneHot__hour_19',\n",
       "       'OneHot__hour_20', 'OneHot__hour_21', 'OneHot__hour_22',\n",
       "       'OneHot__hour_23', 'OneHot__month_1', 'OneHot__month_2',\n",
       "       'OneHot__month_3', 'OneHot__month_4', 'OneHot__month_5',\n",
       "       'OneHot__month_6', 'OneHot__month_7', 'OneHot__month_8',\n",
       "       'OneHot__month_9', 'OneHot__month_10', 'OneHot__month_11',\n",
       "       'OneHot__month_12', 'OneHot__weekday_Fri', 'OneHot__weekday_Mon',\n",
       "       'OneHot__weekday_Sat', 'OneHot__weekday_Sun', 'OneHot__weekday_Thu',\n",
       "       'OneHot__weekday_Tue', 'OneHot__weekday_Wed',\n",
       "       'OneHot__object_id_255439', 'OneHot__object_id_255440',\n",
       "       'OneHot__object_id_255441', 'OneHot__object_id_255442',\n",
       "       'OneHot__object_id_255443', 'OneHot__object_id_255444',\n",
       "       'OneHot__object_id_280324', 'OneHot__object_id_303910',\n",
       "       'OneHot__weathercode_0', 'OneHot__weathercode_1',\n",
       "       'OneHot__weathercode_2', 'OneHot__weathercode_3',\n",
       "       'OneHot__weathercode_51', 'OneHot__weathercode_53',\n",
       "       'OneHot__weathercode_55', 'OneHot__weathercode_61',\n",
       "       'OneHot__weathercode_63', 'OneHot__weathercode_65',\n",
       "       'OneHot__weathercode_71', 'OneHot__weathercode_73',\n",
       "       'StandardScaler__pm2_5', 'StandardScaler__pm10', 'StandardScaler__co',\n",
       "       'StandardScaler__no2', 'StandardScaler__o3', 'StandardScaler__so2',\n",
       "       'StandardScaler__nh3', 'StandardScaler__temperature_2m',\n",
       "       'StandardScaler__relativehumidity_2m', 'StandardScaler__dewpoint_2m',\n",
       "       'StandardScaler__apparent_temperature', 'StandardScaler__pressure_msl',\n",
       "       'StandardScaler__surface_pressure', 'StandardScaler__precipitation',\n",
       "       'StandardScaler__rain', 'StandardScaler__snowfall',\n",
       "       'StandardScaler__cloudcover', 'StandardScaler__cloudcover_low',\n",
       "       'StandardScaler__cloudcover_mid', 'StandardScaler__cloudcover_high',\n",
       "       'StandardScaler__shortwave_radiation',\n",
       "       'StandardScaler__direct_radiation', 'StandardScaler__diffuse_radiation',\n",
       "       'StandardScaler__direct_normal_irradiance',\n",
       "       'StandardScaler__windspeed_10m', 'StandardScaler__winddirection_10m',\n",
       "       'StandardScaler__windgusts_10m'],\n",
       "      dtype='object')"
      ]
     },
     "execution_count": 40,
     "metadata": {},
     "output_type": "execute_result"
    }
   ],
   "source": [
    "X_train.columns"
   ]
  },
  {
   "cell_type": "code",
   "execution_count": 41,
   "metadata": {
    "colab": {
     "base_uri": "https://localhost:8080/"
    },
    "executionInfo": {
     "elapsed": 11,
     "status": "ok",
     "timestamp": 1685389696574,
     "user": {
      "displayName": "Ken Le",
      "userId": "02524318770864979503"
     },
     "user_tz": -120
    },
    "id": "VEGbE9Jc6zYU",
    "outputId": "77dd3210-593e-48a6-834a-1199a5e0f102"
   },
   "outputs": [
    {
     "data": {
      "text/plain": [
       "Index(['lamax', 'laeq', 'lceq', 'lcpeak'], dtype='object')"
      ]
     },
     "execution_count": 41,
     "metadata": {},
     "output_type": "execute_result"
    }
   ],
   "source": [
    "y_train.columns"
   ]
  },
  {
   "cell_type": "markdown",
   "metadata": {
    "id": "dx93wA4-62QC"
   },
   "source": [
    "## Predict lamax"
   ]
  },
  {
   "cell_type": "code",
   "execution_count": 42,
   "metadata": {
    "colab": {
     "base_uri": "https://localhost:8080/"
    },
    "executionInfo": {
     "elapsed": 4183764,
     "status": "ok",
     "timestamp": 1685358216692,
     "user": {
      "displayName": "Ken Le",
      "userId": "02524318770864979503"
     },
     "user_tz": -120
    },
    "id": "GJGdrqzP63i1",
    "outputId": "013a520b-a546-4ae9-8f02-5bf5def0ccea"
   },
   "outputs": [
    {
     "name": "stdout",
     "output_type": "stream",
     "text": [
      "Running RandomizedSearchCV for random_forest...\n"
     ]
    },
    {
     "name": "stderr",
     "output_type": "stream",
     "text": [
      "C:\\Users\\jef-w\\anaconda3\\envs\\MDAproject\\lib\\site-packages\\sklearn\\ensemble\\_forest.py:413: FutureWarning: `max_features='auto'` has been deprecated in 1.1 and will be removed in 1.3. To keep the past behaviour, explicitly set `max_features=1.0` or remove this parameter as it is also the default value for RandomForestRegressors and ExtraTreesRegressors.\n",
      "  warn(\n",
      "C:\\Users\\jef-w\\anaconda3\\envs\\MDAproject\\lib\\site-packages\\sklearn\\ensemble\\_forest.py:413: FutureWarning: `max_features='auto'` has been deprecated in 1.1 and will be removed in 1.3. To keep the past behaviour, explicitly set `max_features=1.0` or remove this parameter as it is also the default value for RandomForestRegressors and ExtraTreesRegressors.\n",
      "  warn(\n"
     ]
    },
    {
     "ename": "KeyboardInterrupt",
     "evalue": "",
     "output_type": "error",
     "traceback": [
      "\u001b[1;31m---------------------------------------------------------------------------\u001b[0m",
      "\u001b[1;31mKeyboardInterrupt\u001b[0m                         Traceback (most recent call last)",
      "Cell \u001b[1;32mIn[42], line 52\u001b[0m\n\u001b[0;32m     47\u001b[0m random_search \u001b[38;5;241m=\u001b[39m RandomizedSearchCV(\n\u001b[0;32m     48\u001b[0m     model, param_distributions\u001b[38;5;241m=\u001b[39mparam_dist, n_iter\u001b[38;5;241m=\u001b[39m\u001b[38;5;241m10\u001b[39m, cv\u001b[38;5;241m=\u001b[39m\u001b[38;5;241m5\u001b[39m, n_jobs\u001b[38;5;241m=\u001b[39m\u001b[38;5;241m1\u001b[39m, random_state\u001b[38;5;241m=\u001b[39m\u001b[38;5;241m7\u001b[39m\n\u001b[0;32m     49\u001b[0m )\n\u001b[0;32m     51\u001b[0m \u001b[38;5;66;03m# Fit the RandomizedSearchCV object to the data\u001b[39;00m\n\u001b[1;32m---> 52\u001b[0m \u001b[43mrandom_search\u001b[49m\u001b[38;5;241;43m.\u001b[39;49m\u001b[43mfit\u001b[49m\u001b[43m(\u001b[49m\u001b[43mX_train\u001b[49m\u001b[43m,\u001b[49m\u001b[43m \u001b[49m\u001b[43my_train\u001b[49m\u001b[43m[\u001b[49m\u001b[38;5;124;43m\"\u001b[39;49m\u001b[38;5;124;43mlamax\u001b[39;49m\u001b[38;5;124;43m\"\u001b[39;49m\u001b[43m]\u001b[49m\u001b[43m)\u001b[49m\n\u001b[0;32m     54\u001b[0m \u001b[38;5;66;03m# Print the best parameters and score\u001b[39;00m\n\u001b[0;32m     55\u001b[0m params_dict[model_name] \u001b[38;5;241m=\u001b[39m random_search\u001b[38;5;241m.\u001b[39mbest_params_\n",
      "File \u001b[1;32m~\\anaconda3\\envs\\MDAproject\\lib\\site-packages\\sklearn\\model_selection\\_search.py:874\u001b[0m, in \u001b[0;36mBaseSearchCV.fit\u001b[1;34m(self, X, y, groups, **fit_params)\u001b[0m\n\u001b[0;32m    868\u001b[0m     results \u001b[38;5;241m=\u001b[39m \u001b[38;5;28mself\u001b[39m\u001b[38;5;241m.\u001b[39m_format_results(\n\u001b[0;32m    869\u001b[0m         all_candidate_params, n_splits, all_out, all_more_results\n\u001b[0;32m    870\u001b[0m     )\n\u001b[0;32m    872\u001b[0m     \u001b[38;5;28;01mreturn\u001b[39;00m results\n\u001b[1;32m--> 874\u001b[0m \u001b[38;5;28;43mself\u001b[39;49m\u001b[38;5;241;43m.\u001b[39;49m\u001b[43m_run_search\u001b[49m\u001b[43m(\u001b[49m\u001b[43mevaluate_candidates\u001b[49m\u001b[43m)\u001b[49m\n\u001b[0;32m    876\u001b[0m \u001b[38;5;66;03m# multimetric is determined here because in the case of a callable\u001b[39;00m\n\u001b[0;32m    877\u001b[0m \u001b[38;5;66;03m# self.scoring the return type is only known after calling\u001b[39;00m\n\u001b[0;32m    878\u001b[0m first_test_score \u001b[38;5;241m=\u001b[39m all_out[\u001b[38;5;241m0\u001b[39m][\u001b[38;5;124m\"\u001b[39m\u001b[38;5;124mtest_scores\u001b[39m\u001b[38;5;124m\"\u001b[39m]\n",
      "File \u001b[1;32m~\\anaconda3\\envs\\MDAproject\\lib\\site-packages\\sklearn\\model_selection\\_search.py:1768\u001b[0m, in \u001b[0;36mRandomizedSearchCV._run_search\u001b[1;34m(self, evaluate_candidates)\u001b[0m\n\u001b[0;32m   1766\u001b[0m \u001b[38;5;28;01mdef\u001b[39;00m \u001b[38;5;21m_run_search\u001b[39m(\u001b[38;5;28mself\u001b[39m, evaluate_candidates):\n\u001b[0;32m   1767\u001b[0m \u001b[38;5;250m    \u001b[39m\u001b[38;5;124;03m\"\"\"Search n_iter candidates from param_distributions\"\"\"\u001b[39;00m\n\u001b[1;32m-> 1768\u001b[0m     \u001b[43mevaluate_candidates\u001b[49m\u001b[43m(\u001b[49m\n\u001b[0;32m   1769\u001b[0m \u001b[43m        \u001b[49m\u001b[43mParameterSampler\u001b[49m\u001b[43m(\u001b[49m\n\u001b[0;32m   1770\u001b[0m \u001b[43m            \u001b[49m\u001b[38;5;28;43mself\u001b[39;49m\u001b[38;5;241;43m.\u001b[39;49m\u001b[43mparam_distributions\u001b[49m\u001b[43m,\u001b[49m\u001b[43m \u001b[49m\u001b[38;5;28;43mself\u001b[39;49m\u001b[38;5;241;43m.\u001b[39;49m\u001b[43mn_iter\u001b[49m\u001b[43m,\u001b[49m\u001b[43m \u001b[49m\u001b[43mrandom_state\u001b[49m\u001b[38;5;241;43m=\u001b[39;49m\u001b[38;5;28;43mself\u001b[39;49m\u001b[38;5;241;43m.\u001b[39;49m\u001b[43mrandom_state\u001b[49m\n\u001b[0;32m   1771\u001b[0m \u001b[43m        \u001b[49m\u001b[43m)\u001b[49m\n\u001b[0;32m   1772\u001b[0m \u001b[43m    \u001b[49m\u001b[43m)\u001b[49m\n",
      "File \u001b[1;32m~\\anaconda3\\envs\\MDAproject\\lib\\site-packages\\sklearn\\model_selection\\_search.py:821\u001b[0m, in \u001b[0;36mBaseSearchCV.fit.<locals>.evaluate_candidates\u001b[1;34m(candidate_params, cv, more_results)\u001b[0m\n\u001b[0;32m    813\u001b[0m \u001b[38;5;28;01mif\u001b[39;00m \u001b[38;5;28mself\u001b[39m\u001b[38;5;241m.\u001b[39mverbose \u001b[38;5;241m>\u001b[39m \u001b[38;5;241m0\u001b[39m:\n\u001b[0;32m    814\u001b[0m     \u001b[38;5;28mprint\u001b[39m(\n\u001b[0;32m    815\u001b[0m         \u001b[38;5;124m\"\u001b[39m\u001b[38;5;124mFitting \u001b[39m\u001b[38;5;132;01m{0}\u001b[39;00m\u001b[38;5;124m folds for each of \u001b[39m\u001b[38;5;132;01m{1}\u001b[39;00m\u001b[38;5;124m candidates,\u001b[39m\u001b[38;5;124m\"\u001b[39m\n\u001b[0;32m    816\u001b[0m         \u001b[38;5;124m\"\u001b[39m\u001b[38;5;124m totalling \u001b[39m\u001b[38;5;132;01m{2}\u001b[39;00m\u001b[38;5;124m fits\u001b[39m\u001b[38;5;124m\"\u001b[39m\u001b[38;5;241m.\u001b[39mformat(\n\u001b[0;32m    817\u001b[0m             n_splits, n_candidates, n_candidates \u001b[38;5;241m*\u001b[39m n_splits\n\u001b[0;32m    818\u001b[0m         )\n\u001b[0;32m    819\u001b[0m     )\n\u001b[1;32m--> 821\u001b[0m out \u001b[38;5;241m=\u001b[39m \u001b[43mparallel\u001b[49m\u001b[43m(\u001b[49m\n\u001b[0;32m    822\u001b[0m \u001b[43m    \u001b[49m\u001b[43mdelayed\u001b[49m\u001b[43m(\u001b[49m\u001b[43m_fit_and_score\u001b[49m\u001b[43m)\u001b[49m\u001b[43m(\u001b[49m\n\u001b[0;32m    823\u001b[0m \u001b[43m        \u001b[49m\u001b[43mclone\u001b[49m\u001b[43m(\u001b[49m\u001b[43mbase_estimator\u001b[49m\u001b[43m)\u001b[49m\u001b[43m,\u001b[49m\n\u001b[0;32m    824\u001b[0m \u001b[43m        \u001b[49m\u001b[43mX\u001b[49m\u001b[43m,\u001b[49m\n\u001b[0;32m    825\u001b[0m \u001b[43m        \u001b[49m\u001b[43my\u001b[49m\u001b[43m,\u001b[49m\n\u001b[0;32m    826\u001b[0m \u001b[43m        \u001b[49m\u001b[43mtrain\u001b[49m\u001b[38;5;241;43m=\u001b[39;49m\u001b[43mtrain\u001b[49m\u001b[43m,\u001b[49m\n\u001b[0;32m    827\u001b[0m \u001b[43m        \u001b[49m\u001b[43mtest\u001b[49m\u001b[38;5;241;43m=\u001b[39;49m\u001b[43mtest\u001b[49m\u001b[43m,\u001b[49m\n\u001b[0;32m    828\u001b[0m \u001b[43m        \u001b[49m\u001b[43mparameters\u001b[49m\u001b[38;5;241;43m=\u001b[39;49m\u001b[43mparameters\u001b[49m\u001b[43m,\u001b[49m\n\u001b[0;32m    829\u001b[0m \u001b[43m        \u001b[49m\u001b[43msplit_progress\u001b[49m\u001b[38;5;241;43m=\u001b[39;49m\u001b[43m(\u001b[49m\u001b[43msplit_idx\u001b[49m\u001b[43m,\u001b[49m\u001b[43m \u001b[49m\u001b[43mn_splits\u001b[49m\u001b[43m)\u001b[49m\u001b[43m,\u001b[49m\n\u001b[0;32m    830\u001b[0m \u001b[43m        \u001b[49m\u001b[43mcandidate_progress\u001b[49m\u001b[38;5;241;43m=\u001b[39;49m\u001b[43m(\u001b[49m\u001b[43mcand_idx\u001b[49m\u001b[43m,\u001b[49m\u001b[43m \u001b[49m\u001b[43mn_candidates\u001b[49m\u001b[43m)\u001b[49m\u001b[43m,\u001b[49m\n\u001b[0;32m    831\u001b[0m \u001b[43m        \u001b[49m\u001b[38;5;241;43m*\u001b[39;49m\u001b[38;5;241;43m*\u001b[39;49m\u001b[43mfit_and_score_kwargs\u001b[49m\u001b[43m,\u001b[49m\n\u001b[0;32m    832\u001b[0m \u001b[43m    \u001b[49m\u001b[43m)\u001b[49m\n\u001b[0;32m    833\u001b[0m \u001b[43m    \u001b[49m\u001b[38;5;28;43;01mfor\u001b[39;49;00m\u001b[43m \u001b[49m\u001b[43m(\u001b[49m\u001b[43mcand_idx\u001b[49m\u001b[43m,\u001b[49m\u001b[43m \u001b[49m\u001b[43mparameters\u001b[49m\u001b[43m)\u001b[49m\u001b[43m,\u001b[49m\u001b[43m \u001b[49m\u001b[43m(\u001b[49m\u001b[43msplit_idx\u001b[49m\u001b[43m,\u001b[49m\u001b[43m \u001b[49m\u001b[43m(\u001b[49m\u001b[43mtrain\u001b[49m\u001b[43m,\u001b[49m\u001b[43m \u001b[49m\u001b[43mtest\u001b[49m\u001b[43m)\u001b[49m\u001b[43m)\u001b[49m\u001b[43m \u001b[49m\u001b[38;5;129;43;01min\u001b[39;49;00m\u001b[43m \u001b[49m\u001b[43mproduct\u001b[49m\u001b[43m(\u001b[49m\n\u001b[0;32m    834\u001b[0m \u001b[43m        \u001b[49m\u001b[38;5;28;43menumerate\u001b[39;49m\u001b[43m(\u001b[49m\u001b[43mcandidate_params\u001b[49m\u001b[43m)\u001b[49m\u001b[43m,\u001b[49m\u001b[43m \u001b[49m\u001b[38;5;28;43menumerate\u001b[39;49m\u001b[43m(\u001b[49m\u001b[43mcv\u001b[49m\u001b[38;5;241;43m.\u001b[39;49m\u001b[43msplit\u001b[49m\u001b[43m(\u001b[49m\u001b[43mX\u001b[49m\u001b[43m,\u001b[49m\u001b[43m \u001b[49m\u001b[43my\u001b[49m\u001b[43m,\u001b[49m\u001b[43m \u001b[49m\u001b[43mgroups\u001b[49m\u001b[43m)\u001b[49m\u001b[43m)\u001b[49m\n\u001b[0;32m    835\u001b[0m \u001b[43m    \u001b[49m\u001b[43m)\u001b[49m\n\u001b[0;32m    836\u001b[0m \u001b[43m\u001b[49m\u001b[43m)\u001b[49m\n\u001b[0;32m    838\u001b[0m \u001b[38;5;28;01mif\u001b[39;00m \u001b[38;5;28mlen\u001b[39m(out) \u001b[38;5;241m<\u001b[39m \u001b[38;5;241m1\u001b[39m:\n\u001b[0;32m    839\u001b[0m     \u001b[38;5;28;01mraise\u001b[39;00m \u001b[38;5;167;01mValueError\u001b[39;00m(\n\u001b[0;32m    840\u001b[0m         \u001b[38;5;124m\"\u001b[39m\u001b[38;5;124mNo fits were performed. \u001b[39m\u001b[38;5;124m\"\u001b[39m\n\u001b[0;32m    841\u001b[0m         \u001b[38;5;124m\"\u001b[39m\u001b[38;5;124mWas the CV iterator empty? \u001b[39m\u001b[38;5;124m\"\u001b[39m\n\u001b[0;32m    842\u001b[0m         \u001b[38;5;124m\"\u001b[39m\u001b[38;5;124mWere there no candidates?\u001b[39m\u001b[38;5;124m\"\u001b[39m\n\u001b[0;32m    843\u001b[0m     )\n",
      "File \u001b[1;32m~\\anaconda3\\envs\\MDAproject\\lib\\site-packages\\sklearn\\utils\\parallel.py:63\u001b[0m, in \u001b[0;36mParallel.__call__\u001b[1;34m(self, iterable)\u001b[0m\n\u001b[0;32m     58\u001b[0m config \u001b[38;5;241m=\u001b[39m get_config()\n\u001b[0;32m     59\u001b[0m iterable_with_config \u001b[38;5;241m=\u001b[39m (\n\u001b[0;32m     60\u001b[0m     (_with_config(delayed_func, config), args, kwargs)\n\u001b[0;32m     61\u001b[0m     \u001b[38;5;28;01mfor\u001b[39;00m delayed_func, args, kwargs \u001b[38;5;129;01min\u001b[39;00m iterable\n\u001b[0;32m     62\u001b[0m )\n\u001b[1;32m---> 63\u001b[0m \u001b[38;5;28;01mreturn\u001b[39;00m \u001b[38;5;28;43msuper\u001b[39;49m\u001b[43m(\u001b[49m\u001b[43m)\u001b[49m\u001b[38;5;241;43m.\u001b[39;49m\u001b[38;5;21;43m__call__\u001b[39;49m\u001b[43m(\u001b[49m\u001b[43miterable_with_config\u001b[49m\u001b[43m)\u001b[49m\n",
      "File \u001b[1;32m~\\anaconda3\\envs\\MDAproject\\lib\\site-packages\\joblib\\parallel.py:1088\u001b[0m, in \u001b[0;36mParallel.__call__\u001b[1;34m(self, iterable)\u001b[0m\n\u001b[0;32m   1085\u001b[0m \u001b[38;5;28;01mif\u001b[39;00m \u001b[38;5;28mself\u001b[39m\u001b[38;5;241m.\u001b[39mdispatch_one_batch(iterator):\n\u001b[0;32m   1086\u001b[0m     \u001b[38;5;28mself\u001b[39m\u001b[38;5;241m.\u001b[39m_iterating \u001b[38;5;241m=\u001b[39m \u001b[38;5;28mself\u001b[39m\u001b[38;5;241m.\u001b[39m_original_iterator \u001b[38;5;129;01mis\u001b[39;00m \u001b[38;5;129;01mnot\u001b[39;00m \u001b[38;5;28;01mNone\u001b[39;00m\n\u001b[1;32m-> 1088\u001b[0m \u001b[38;5;28;01mwhile\u001b[39;00m \u001b[38;5;28;43mself\u001b[39;49m\u001b[38;5;241;43m.\u001b[39;49m\u001b[43mdispatch_one_batch\u001b[49m\u001b[43m(\u001b[49m\u001b[43miterator\u001b[49m\u001b[43m)\u001b[49m:\n\u001b[0;32m   1089\u001b[0m     \u001b[38;5;28;01mpass\u001b[39;00m\n\u001b[0;32m   1091\u001b[0m \u001b[38;5;28;01mif\u001b[39;00m pre_dispatch \u001b[38;5;241m==\u001b[39m \u001b[38;5;124m\"\u001b[39m\u001b[38;5;124mall\u001b[39m\u001b[38;5;124m\"\u001b[39m \u001b[38;5;129;01mor\u001b[39;00m n_jobs \u001b[38;5;241m==\u001b[39m \u001b[38;5;241m1\u001b[39m:\n\u001b[0;32m   1092\u001b[0m     \u001b[38;5;66;03m# The iterable was consumed all at once by the above for loop.\u001b[39;00m\n\u001b[0;32m   1093\u001b[0m     \u001b[38;5;66;03m# No need to wait for async callbacks to trigger to\u001b[39;00m\n\u001b[0;32m   1094\u001b[0m     \u001b[38;5;66;03m# consumption.\u001b[39;00m\n",
      "File \u001b[1;32m~\\anaconda3\\envs\\MDAproject\\lib\\site-packages\\joblib\\parallel.py:901\u001b[0m, in \u001b[0;36mParallel.dispatch_one_batch\u001b[1;34m(self, iterator)\u001b[0m\n\u001b[0;32m    899\u001b[0m     \u001b[38;5;28;01mreturn\u001b[39;00m \u001b[38;5;28;01mFalse\u001b[39;00m\n\u001b[0;32m    900\u001b[0m \u001b[38;5;28;01melse\u001b[39;00m:\n\u001b[1;32m--> 901\u001b[0m     \u001b[38;5;28;43mself\u001b[39;49m\u001b[38;5;241;43m.\u001b[39;49m\u001b[43m_dispatch\u001b[49m\u001b[43m(\u001b[49m\u001b[43mtasks\u001b[49m\u001b[43m)\u001b[49m\n\u001b[0;32m    902\u001b[0m     \u001b[38;5;28;01mreturn\u001b[39;00m \u001b[38;5;28;01mTrue\u001b[39;00m\n",
      "File \u001b[1;32m~\\anaconda3\\envs\\MDAproject\\lib\\site-packages\\joblib\\parallel.py:819\u001b[0m, in \u001b[0;36mParallel._dispatch\u001b[1;34m(self, batch)\u001b[0m\n\u001b[0;32m    817\u001b[0m \u001b[38;5;28;01mwith\u001b[39;00m \u001b[38;5;28mself\u001b[39m\u001b[38;5;241m.\u001b[39m_lock:\n\u001b[0;32m    818\u001b[0m     job_idx \u001b[38;5;241m=\u001b[39m \u001b[38;5;28mlen\u001b[39m(\u001b[38;5;28mself\u001b[39m\u001b[38;5;241m.\u001b[39m_jobs)\n\u001b[1;32m--> 819\u001b[0m     job \u001b[38;5;241m=\u001b[39m \u001b[38;5;28;43mself\u001b[39;49m\u001b[38;5;241;43m.\u001b[39;49m\u001b[43m_backend\u001b[49m\u001b[38;5;241;43m.\u001b[39;49m\u001b[43mapply_async\u001b[49m\u001b[43m(\u001b[49m\u001b[43mbatch\u001b[49m\u001b[43m,\u001b[49m\u001b[43m \u001b[49m\u001b[43mcallback\u001b[49m\u001b[38;5;241;43m=\u001b[39;49m\u001b[43mcb\u001b[49m\u001b[43m)\u001b[49m\n\u001b[0;32m    820\u001b[0m     \u001b[38;5;66;03m# A job can complete so quickly than its callback is\u001b[39;00m\n\u001b[0;32m    821\u001b[0m     \u001b[38;5;66;03m# called before we get here, causing self._jobs to\u001b[39;00m\n\u001b[0;32m    822\u001b[0m     \u001b[38;5;66;03m# grow. To ensure correct results ordering, .insert is\u001b[39;00m\n\u001b[0;32m    823\u001b[0m     \u001b[38;5;66;03m# used (rather than .append) in the following line\u001b[39;00m\n\u001b[0;32m    824\u001b[0m     \u001b[38;5;28mself\u001b[39m\u001b[38;5;241m.\u001b[39m_jobs\u001b[38;5;241m.\u001b[39minsert(job_idx, job)\n",
      "File \u001b[1;32m~\\anaconda3\\envs\\MDAproject\\lib\\site-packages\\joblib\\_parallel_backends.py:208\u001b[0m, in \u001b[0;36mSequentialBackend.apply_async\u001b[1;34m(self, func, callback)\u001b[0m\n\u001b[0;32m    206\u001b[0m \u001b[38;5;28;01mdef\u001b[39;00m \u001b[38;5;21mapply_async\u001b[39m(\u001b[38;5;28mself\u001b[39m, func, callback\u001b[38;5;241m=\u001b[39m\u001b[38;5;28;01mNone\u001b[39;00m):\n\u001b[0;32m    207\u001b[0m \u001b[38;5;250m    \u001b[39m\u001b[38;5;124;03m\"\"\"Schedule a func to be run\"\"\"\u001b[39;00m\n\u001b[1;32m--> 208\u001b[0m     result \u001b[38;5;241m=\u001b[39m \u001b[43mImmediateResult\u001b[49m\u001b[43m(\u001b[49m\u001b[43mfunc\u001b[49m\u001b[43m)\u001b[49m\n\u001b[0;32m    209\u001b[0m     \u001b[38;5;28;01mif\u001b[39;00m callback:\n\u001b[0;32m    210\u001b[0m         callback(result)\n",
      "File \u001b[1;32m~\\anaconda3\\envs\\MDAproject\\lib\\site-packages\\joblib\\_parallel_backends.py:597\u001b[0m, in \u001b[0;36mImmediateResult.__init__\u001b[1;34m(self, batch)\u001b[0m\n\u001b[0;32m    594\u001b[0m \u001b[38;5;28;01mdef\u001b[39;00m \u001b[38;5;21m__init__\u001b[39m(\u001b[38;5;28mself\u001b[39m, batch):\n\u001b[0;32m    595\u001b[0m     \u001b[38;5;66;03m# Don't delay the application, to avoid keeping the input\u001b[39;00m\n\u001b[0;32m    596\u001b[0m     \u001b[38;5;66;03m# arguments in memory\u001b[39;00m\n\u001b[1;32m--> 597\u001b[0m     \u001b[38;5;28mself\u001b[39m\u001b[38;5;241m.\u001b[39mresults \u001b[38;5;241m=\u001b[39m \u001b[43mbatch\u001b[49m\u001b[43m(\u001b[49m\u001b[43m)\u001b[49m\n",
      "File \u001b[1;32m~\\anaconda3\\envs\\MDAproject\\lib\\site-packages\\joblib\\parallel.py:288\u001b[0m, in \u001b[0;36mBatchedCalls.__call__\u001b[1;34m(self)\u001b[0m\n\u001b[0;32m    284\u001b[0m \u001b[38;5;28;01mdef\u001b[39;00m \u001b[38;5;21m__call__\u001b[39m(\u001b[38;5;28mself\u001b[39m):\n\u001b[0;32m    285\u001b[0m     \u001b[38;5;66;03m# Set the default nested backend to self._backend but do not set the\u001b[39;00m\n\u001b[0;32m    286\u001b[0m     \u001b[38;5;66;03m# change the default number of processes to -1\u001b[39;00m\n\u001b[0;32m    287\u001b[0m     \u001b[38;5;28;01mwith\u001b[39;00m parallel_backend(\u001b[38;5;28mself\u001b[39m\u001b[38;5;241m.\u001b[39m_backend, n_jobs\u001b[38;5;241m=\u001b[39m\u001b[38;5;28mself\u001b[39m\u001b[38;5;241m.\u001b[39m_n_jobs):\n\u001b[1;32m--> 288\u001b[0m         \u001b[38;5;28;01mreturn\u001b[39;00m [func(\u001b[38;5;241m*\u001b[39margs, \u001b[38;5;241m*\u001b[39m\u001b[38;5;241m*\u001b[39mkwargs)\n\u001b[0;32m    289\u001b[0m                 \u001b[38;5;28;01mfor\u001b[39;00m func, args, kwargs \u001b[38;5;129;01min\u001b[39;00m \u001b[38;5;28mself\u001b[39m\u001b[38;5;241m.\u001b[39mitems]\n",
      "File \u001b[1;32m~\\anaconda3\\envs\\MDAproject\\lib\\site-packages\\joblib\\parallel.py:288\u001b[0m, in \u001b[0;36m<listcomp>\u001b[1;34m(.0)\u001b[0m\n\u001b[0;32m    284\u001b[0m \u001b[38;5;28;01mdef\u001b[39;00m \u001b[38;5;21m__call__\u001b[39m(\u001b[38;5;28mself\u001b[39m):\n\u001b[0;32m    285\u001b[0m     \u001b[38;5;66;03m# Set the default nested backend to self._backend but do not set the\u001b[39;00m\n\u001b[0;32m    286\u001b[0m     \u001b[38;5;66;03m# change the default number of processes to -1\u001b[39;00m\n\u001b[0;32m    287\u001b[0m     \u001b[38;5;28;01mwith\u001b[39;00m parallel_backend(\u001b[38;5;28mself\u001b[39m\u001b[38;5;241m.\u001b[39m_backend, n_jobs\u001b[38;5;241m=\u001b[39m\u001b[38;5;28mself\u001b[39m\u001b[38;5;241m.\u001b[39m_n_jobs):\n\u001b[1;32m--> 288\u001b[0m         \u001b[38;5;28;01mreturn\u001b[39;00m [func(\u001b[38;5;241m*\u001b[39margs, \u001b[38;5;241m*\u001b[39m\u001b[38;5;241m*\u001b[39mkwargs)\n\u001b[0;32m    289\u001b[0m                 \u001b[38;5;28;01mfor\u001b[39;00m func, args, kwargs \u001b[38;5;129;01min\u001b[39;00m \u001b[38;5;28mself\u001b[39m\u001b[38;5;241m.\u001b[39mitems]\n",
      "File \u001b[1;32m~\\anaconda3\\envs\\MDAproject\\lib\\site-packages\\sklearn\\utils\\parallel.py:123\u001b[0m, in \u001b[0;36m_FuncWrapper.__call__\u001b[1;34m(self, *args, **kwargs)\u001b[0m\n\u001b[0;32m    121\u001b[0m     config \u001b[38;5;241m=\u001b[39m {}\n\u001b[0;32m    122\u001b[0m \u001b[38;5;28;01mwith\u001b[39;00m config_context(\u001b[38;5;241m*\u001b[39m\u001b[38;5;241m*\u001b[39mconfig):\n\u001b[1;32m--> 123\u001b[0m     \u001b[38;5;28;01mreturn\u001b[39;00m \u001b[38;5;28mself\u001b[39m\u001b[38;5;241m.\u001b[39mfunction(\u001b[38;5;241m*\u001b[39margs, \u001b[38;5;241m*\u001b[39m\u001b[38;5;241m*\u001b[39mkwargs)\n",
      "File \u001b[1;32m~\\anaconda3\\envs\\MDAproject\\lib\\site-packages\\sklearn\\model_selection\\_validation.py:686\u001b[0m, in \u001b[0;36m_fit_and_score\u001b[1;34m(estimator, X, y, scorer, train, test, verbose, parameters, fit_params, return_train_score, return_parameters, return_n_test_samples, return_times, return_estimator, split_progress, candidate_progress, error_score)\u001b[0m\n\u001b[0;32m    684\u001b[0m         estimator\u001b[38;5;241m.\u001b[39mfit(X_train, \u001b[38;5;241m*\u001b[39m\u001b[38;5;241m*\u001b[39mfit_params)\n\u001b[0;32m    685\u001b[0m     \u001b[38;5;28;01melse\u001b[39;00m:\n\u001b[1;32m--> 686\u001b[0m         estimator\u001b[38;5;241m.\u001b[39mfit(X_train, y_train, \u001b[38;5;241m*\u001b[39m\u001b[38;5;241m*\u001b[39mfit_params)\n\u001b[0;32m    688\u001b[0m \u001b[38;5;28;01mexcept\u001b[39;00m \u001b[38;5;167;01mException\u001b[39;00m:\n\u001b[0;32m    689\u001b[0m     \u001b[38;5;66;03m# Note fit time as time until error\u001b[39;00m\n\u001b[0;32m    690\u001b[0m     fit_time \u001b[38;5;241m=\u001b[39m time\u001b[38;5;241m.\u001b[39mtime() \u001b[38;5;241m-\u001b[39m start_time\n",
      "File \u001b[1;32m~\\anaconda3\\envs\\MDAproject\\lib\\site-packages\\sklearn\\ensemble\\_forest.py:473\u001b[0m, in \u001b[0;36mBaseForest.fit\u001b[1;34m(self, X, y, sample_weight)\u001b[0m\n\u001b[0;32m    462\u001b[0m trees \u001b[38;5;241m=\u001b[39m [\n\u001b[0;32m    463\u001b[0m     \u001b[38;5;28mself\u001b[39m\u001b[38;5;241m.\u001b[39m_make_estimator(append\u001b[38;5;241m=\u001b[39m\u001b[38;5;28;01mFalse\u001b[39;00m, random_state\u001b[38;5;241m=\u001b[39mrandom_state)\n\u001b[0;32m    464\u001b[0m     \u001b[38;5;28;01mfor\u001b[39;00m i \u001b[38;5;129;01min\u001b[39;00m \u001b[38;5;28mrange\u001b[39m(n_more_estimators)\n\u001b[0;32m    465\u001b[0m ]\n\u001b[0;32m    467\u001b[0m \u001b[38;5;66;03m# Parallel loop: we prefer the threading backend as the Cython code\u001b[39;00m\n\u001b[0;32m    468\u001b[0m \u001b[38;5;66;03m# for fitting the trees is internally releasing the Python GIL\u001b[39;00m\n\u001b[0;32m    469\u001b[0m \u001b[38;5;66;03m# making threading more efficient than multiprocessing in\u001b[39;00m\n\u001b[0;32m    470\u001b[0m \u001b[38;5;66;03m# that case. However, for joblib 0.12+ we respect any\u001b[39;00m\n\u001b[0;32m    471\u001b[0m \u001b[38;5;66;03m# parallel_backend contexts set at a higher level,\u001b[39;00m\n\u001b[0;32m    472\u001b[0m \u001b[38;5;66;03m# since correctness does not rely on using threads.\u001b[39;00m\n\u001b[1;32m--> 473\u001b[0m trees \u001b[38;5;241m=\u001b[39m \u001b[43mParallel\u001b[49m\u001b[43m(\u001b[49m\n\u001b[0;32m    474\u001b[0m \u001b[43m    \u001b[49m\u001b[43mn_jobs\u001b[49m\u001b[38;5;241;43m=\u001b[39;49m\u001b[38;5;28;43mself\u001b[39;49m\u001b[38;5;241;43m.\u001b[39;49m\u001b[43mn_jobs\u001b[49m\u001b[43m,\u001b[49m\n\u001b[0;32m    475\u001b[0m \u001b[43m    \u001b[49m\u001b[43mverbose\u001b[49m\u001b[38;5;241;43m=\u001b[39;49m\u001b[38;5;28;43mself\u001b[39;49m\u001b[38;5;241;43m.\u001b[39;49m\u001b[43mverbose\u001b[49m\u001b[43m,\u001b[49m\n\u001b[0;32m    476\u001b[0m \u001b[43m    \u001b[49m\u001b[43mprefer\u001b[49m\u001b[38;5;241;43m=\u001b[39;49m\u001b[38;5;124;43m\"\u001b[39;49m\u001b[38;5;124;43mthreads\u001b[39;49m\u001b[38;5;124;43m\"\u001b[39;49m\u001b[43m,\u001b[49m\n\u001b[0;32m    477\u001b[0m \u001b[43m\u001b[49m\u001b[43m)\u001b[49m\u001b[43m(\u001b[49m\n\u001b[0;32m    478\u001b[0m \u001b[43m    \u001b[49m\u001b[43mdelayed\u001b[49m\u001b[43m(\u001b[49m\u001b[43m_parallel_build_trees\u001b[49m\u001b[43m)\u001b[49m\u001b[43m(\u001b[49m\n\u001b[0;32m    479\u001b[0m \u001b[43m        \u001b[49m\u001b[43mt\u001b[49m\u001b[43m,\u001b[49m\n\u001b[0;32m    480\u001b[0m \u001b[43m        \u001b[49m\u001b[38;5;28;43mself\u001b[39;49m\u001b[38;5;241;43m.\u001b[39;49m\u001b[43mbootstrap\u001b[49m\u001b[43m,\u001b[49m\n\u001b[0;32m    481\u001b[0m \u001b[43m        \u001b[49m\u001b[43mX\u001b[49m\u001b[43m,\u001b[49m\n\u001b[0;32m    482\u001b[0m \u001b[43m        \u001b[49m\u001b[43my\u001b[49m\u001b[43m,\u001b[49m\n\u001b[0;32m    483\u001b[0m \u001b[43m        \u001b[49m\u001b[43msample_weight\u001b[49m\u001b[43m,\u001b[49m\n\u001b[0;32m    484\u001b[0m \u001b[43m        \u001b[49m\u001b[43mi\u001b[49m\u001b[43m,\u001b[49m\n\u001b[0;32m    485\u001b[0m \u001b[43m        \u001b[49m\u001b[38;5;28;43mlen\u001b[39;49m\u001b[43m(\u001b[49m\u001b[43mtrees\u001b[49m\u001b[43m)\u001b[49m\u001b[43m,\u001b[49m\n\u001b[0;32m    486\u001b[0m \u001b[43m        \u001b[49m\u001b[43mverbose\u001b[49m\u001b[38;5;241;43m=\u001b[39;49m\u001b[38;5;28;43mself\u001b[39;49m\u001b[38;5;241;43m.\u001b[39;49m\u001b[43mverbose\u001b[49m\u001b[43m,\u001b[49m\n\u001b[0;32m    487\u001b[0m \u001b[43m        \u001b[49m\u001b[43mclass_weight\u001b[49m\u001b[38;5;241;43m=\u001b[39;49m\u001b[38;5;28;43mself\u001b[39;49m\u001b[38;5;241;43m.\u001b[39;49m\u001b[43mclass_weight\u001b[49m\u001b[43m,\u001b[49m\n\u001b[0;32m    488\u001b[0m \u001b[43m        \u001b[49m\u001b[43mn_samples_bootstrap\u001b[49m\u001b[38;5;241;43m=\u001b[39;49m\u001b[43mn_samples_bootstrap\u001b[49m\u001b[43m,\u001b[49m\n\u001b[0;32m    489\u001b[0m \u001b[43m    \u001b[49m\u001b[43m)\u001b[49m\n\u001b[0;32m    490\u001b[0m \u001b[43m    \u001b[49m\u001b[38;5;28;43;01mfor\u001b[39;49;00m\u001b[43m \u001b[49m\u001b[43mi\u001b[49m\u001b[43m,\u001b[49m\u001b[43m \u001b[49m\u001b[43mt\u001b[49m\u001b[43m \u001b[49m\u001b[38;5;129;43;01min\u001b[39;49;00m\u001b[43m \u001b[49m\u001b[38;5;28;43menumerate\u001b[39;49m\u001b[43m(\u001b[49m\u001b[43mtrees\u001b[49m\u001b[43m)\u001b[49m\n\u001b[0;32m    491\u001b[0m \u001b[43m\u001b[49m\u001b[43m)\u001b[49m\n\u001b[0;32m    493\u001b[0m \u001b[38;5;66;03m# Collect newly grown trees\u001b[39;00m\n\u001b[0;32m    494\u001b[0m \u001b[38;5;28mself\u001b[39m\u001b[38;5;241m.\u001b[39mestimators_\u001b[38;5;241m.\u001b[39mextend(trees)\n",
      "File \u001b[1;32m~\\anaconda3\\envs\\MDAproject\\lib\\site-packages\\sklearn\\utils\\parallel.py:63\u001b[0m, in \u001b[0;36mParallel.__call__\u001b[1;34m(self, iterable)\u001b[0m\n\u001b[0;32m     58\u001b[0m config \u001b[38;5;241m=\u001b[39m get_config()\n\u001b[0;32m     59\u001b[0m iterable_with_config \u001b[38;5;241m=\u001b[39m (\n\u001b[0;32m     60\u001b[0m     (_with_config(delayed_func, config), args, kwargs)\n\u001b[0;32m     61\u001b[0m     \u001b[38;5;28;01mfor\u001b[39;00m delayed_func, args, kwargs \u001b[38;5;129;01min\u001b[39;00m iterable\n\u001b[0;32m     62\u001b[0m )\n\u001b[1;32m---> 63\u001b[0m \u001b[38;5;28;01mreturn\u001b[39;00m \u001b[38;5;28;43msuper\u001b[39;49m\u001b[43m(\u001b[49m\u001b[43m)\u001b[49m\u001b[38;5;241;43m.\u001b[39;49m\u001b[38;5;21;43m__call__\u001b[39;49m\u001b[43m(\u001b[49m\u001b[43miterable_with_config\u001b[49m\u001b[43m)\u001b[49m\n",
      "File \u001b[1;32m~\\anaconda3\\envs\\MDAproject\\lib\\site-packages\\joblib\\parallel.py:1088\u001b[0m, in \u001b[0;36mParallel.__call__\u001b[1;34m(self, iterable)\u001b[0m\n\u001b[0;32m   1085\u001b[0m \u001b[38;5;28;01mif\u001b[39;00m \u001b[38;5;28mself\u001b[39m\u001b[38;5;241m.\u001b[39mdispatch_one_batch(iterator):\n\u001b[0;32m   1086\u001b[0m     \u001b[38;5;28mself\u001b[39m\u001b[38;5;241m.\u001b[39m_iterating \u001b[38;5;241m=\u001b[39m \u001b[38;5;28mself\u001b[39m\u001b[38;5;241m.\u001b[39m_original_iterator \u001b[38;5;129;01mis\u001b[39;00m \u001b[38;5;129;01mnot\u001b[39;00m \u001b[38;5;28;01mNone\u001b[39;00m\n\u001b[1;32m-> 1088\u001b[0m \u001b[38;5;28;01mwhile\u001b[39;00m \u001b[38;5;28;43mself\u001b[39;49m\u001b[38;5;241;43m.\u001b[39;49m\u001b[43mdispatch_one_batch\u001b[49m\u001b[43m(\u001b[49m\u001b[43miterator\u001b[49m\u001b[43m)\u001b[49m:\n\u001b[0;32m   1089\u001b[0m     \u001b[38;5;28;01mpass\u001b[39;00m\n\u001b[0;32m   1091\u001b[0m \u001b[38;5;28;01mif\u001b[39;00m pre_dispatch \u001b[38;5;241m==\u001b[39m \u001b[38;5;124m\"\u001b[39m\u001b[38;5;124mall\u001b[39m\u001b[38;5;124m\"\u001b[39m \u001b[38;5;129;01mor\u001b[39;00m n_jobs \u001b[38;5;241m==\u001b[39m \u001b[38;5;241m1\u001b[39m:\n\u001b[0;32m   1092\u001b[0m     \u001b[38;5;66;03m# The iterable was consumed all at once by the above for loop.\u001b[39;00m\n\u001b[0;32m   1093\u001b[0m     \u001b[38;5;66;03m# No need to wait for async callbacks to trigger to\u001b[39;00m\n\u001b[0;32m   1094\u001b[0m     \u001b[38;5;66;03m# consumption.\u001b[39;00m\n",
      "File \u001b[1;32m~\\anaconda3\\envs\\MDAproject\\lib\\site-packages\\joblib\\parallel.py:901\u001b[0m, in \u001b[0;36mParallel.dispatch_one_batch\u001b[1;34m(self, iterator)\u001b[0m\n\u001b[0;32m    899\u001b[0m     \u001b[38;5;28;01mreturn\u001b[39;00m \u001b[38;5;28;01mFalse\u001b[39;00m\n\u001b[0;32m    900\u001b[0m \u001b[38;5;28;01melse\u001b[39;00m:\n\u001b[1;32m--> 901\u001b[0m     \u001b[38;5;28;43mself\u001b[39;49m\u001b[38;5;241;43m.\u001b[39;49m\u001b[43m_dispatch\u001b[49m\u001b[43m(\u001b[49m\u001b[43mtasks\u001b[49m\u001b[43m)\u001b[49m\n\u001b[0;32m    902\u001b[0m     \u001b[38;5;28;01mreturn\u001b[39;00m \u001b[38;5;28;01mTrue\u001b[39;00m\n",
      "File \u001b[1;32m~\\anaconda3\\envs\\MDAproject\\lib\\site-packages\\joblib\\parallel.py:819\u001b[0m, in \u001b[0;36mParallel._dispatch\u001b[1;34m(self, batch)\u001b[0m\n\u001b[0;32m    817\u001b[0m \u001b[38;5;28;01mwith\u001b[39;00m \u001b[38;5;28mself\u001b[39m\u001b[38;5;241m.\u001b[39m_lock:\n\u001b[0;32m    818\u001b[0m     job_idx \u001b[38;5;241m=\u001b[39m \u001b[38;5;28mlen\u001b[39m(\u001b[38;5;28mself\u001b[39m\u001b[38;5;241m.\u001b[39m_jobs)\n\u001b[1;32m--> 819\u001b[0m     job \u001b[38;5;241m=\u001b[39m \u001b[38;5;28;43mself\u001b[39;49m\u001b[38;5;241;43m.\u001b[39;49m\u001b[43m_backend\u001b[49m\u001b[38;5;241;43m.\u001b[39;49m\u001b[43mapply_async\u001b[49m\u001b[43m(\u001b[49m\u001b[43mbatch\u001b[49m\u001b[43m,\u001b[49m\u001b[43m \u001b[49m\u001b[43mcallback\u001b[49m\u001b[38;5;241;43m=\u001b[39;49m\u001b[43mcb\u001b[49m\u001b[43m)\u001b[49m\n\u001b[0;32m    820\u001b[0m     \u001b[38;5;66;03m# A job can complete so quickly than its callback is\u001b[39;00m\n\u001b[0;32m    821\u001b[0m     \u001b[38;5;66;03m# called before we get here, causing self._jobs to\u001b[39;00m\n\u001b[0;32m    822\u001b[0m     \u001b[38;5;66;03m# grow. To ensure correct results ordering, .insert is\u001b[39;00m\n\u001b[0;32m    823\u001b[0m     \u001b[38;5;66;03m# used (rather than .append) in the following line\u001b[39;00m\n\u001b[0;32m    824\u001b[0m     \u001b[38;5;28mself\u001b[39m\u001b[38;5;241m.\u001b[39m_jobs\u001b[38;5;241m.\u001b[39minsert(job_idx, job)\n",
      "File \u001b[1;32m~\\anaconda3\\envs\\MDAproject\\lib\\site-packages\\joblib\\_parallel_backends.py:208\u001b[0m, in \u001b[0;36mSequentialBackend.apply_async\u001b[1;34m(self, func, callback)\u001b[0m\n\u001b[0;32m    206\u001b[0m \u001b[38;5;28;01mdef\u001b[39;00m \u001b[38;5;21mapply_async\u001b[39m(\u001b[38;5;28mself\u001b[39m, func, callback\u001b[38;5;241m=\u001b[39m\u001b[38;5;28;01mNone\u001b[39;00m):\n\u001b[0;32m    207\u001b[0m \u001b[38;5;250m    \u001b[39m\u001b[38;5;124;03m\"\"\"Schedule a func to be run\"\"\"\u001b[39;00m\n\u001b[1;32m--> 208\u001b[0m     result \u001b[38;5;241m=\u001b[39m \u001b[43mImmediateResult\u001b[49m\u001b[43m(\u001b[49m\u001b[43mfunc\u001b[49m\u001b[43m)\u001b[49m\n\u001b[0;32m    209\u001b[0m     \u001b[38;5;28;01mif\u001b[39;00m callback:\n\u001b[0;32m    210\u001b[0m         callback(result)\n",
      "File \u001b[1;32m~\\anaconda3\\envs\\MDAproject\\lib\\site-packages\\joblib\\_parallel_backends.py:597\u001b[0m, in \u001b[0;36mImmediateResult.__init__\u001b[1;34m(self, batch)\u001b[0m\n\u001b[0;32m    594\u001b[0m \u001b[38;5;28;01mdef\u001b[39;00m \u001b[38;5;21m__init__\u001b[39m(\u001b[38;5;28mself\u001b[39m, batch):\n\u001b[0;32m    595\u001b[0m     \u001b[38;5;66;03m# Don't delay the application, to avoid keeping the input\u001b[39;00m\n\u001b[0;32m    596\u001b[0m     \u001b[38;5;66;03m# arguments in memory\u001b[39;00m\n\u001b[1;32m--> 597\u001b[0m     \u001b[38;5;28mself\u001b[39m\u001b[38;5;241m.\u001b[39mresults \u001b[38;5;241m=\u001b[39m \u001b[43mbatch\u001b[49m\u001b[43m(\u001b[49m\u001b[43m)\u001b[49m\n",
      "File \u001b[1;32m~\\anaconda3\\envs\\MDAproject\\lib\\site-packages\\joblib\\parallel.py:288\u001b[0m, in \u001b[0;36mBatchedCalls.__call__\u001b[1;34m(self)\u001b[0m\n\u001b[0;32m    284\u001b[0m \u001b[38;5;28;01mdef\u001b[39;00m \u001b[38;5;21m__call__\u001b[39m(\u001b[38;5;28mself\u001b[39m):\n\u001b[0;32m    285\u001b[0m     \u001b[38;5;66;03m# Set the default nested backend to self._backend but do not set the\u001b[39;00m\n\u001b[0;32m    286\u001b[0m     \u001b[38;5;66;03m# change the default number of processes to -1\u001b[39;00m\n\u001b[0;32m    287\u001b[0m     \u001b[38;5;28;01mwith\u001b[39;00m parallel_backend(\u001b[38;5;28mself\u001b[39m\u001b[38;5;241m.\u001b[39m_backend, n_jobs\u001b[38;5;241m=\u001b[39m\u001b[38;5;28mself\u001b[39m\u001b[38;5;241m.\u001b[39m_n_jobs):\n\u001b[1;32m--> 288\u001b[0m         \u001b[38;5;28;01mreturn\u001b[39;00m [func(\u001b[38;5;241m*\u001b[39margs, \u001b[38;5;241m*\u001b[39m\u001b[38;5;241m*\u001b[39mkwargs)\n\u001b[0;32m    289\u001b[0m                 \u001b[38;5;28;01mfor\u001b[39;00m func, args, kwargs \u001b[38;5;129;01min\u001b[39;00m \u001b[38;5;28mself\u001b[39m\u001b[38;5;241m.\u001b[39mitems]\n",
      "File \u001b[1;32m~\\anaconda3\\envs\\MDAproject\\lib\\site-packages\\joblib\\parallel.py:288\u001b[0m, in \u001b[0;36m<listcomp>\u001b[1;34m(.0)\u001b[0m\n\u001b[0;32m    284\u001b[0m \u001b[38;5;28;01mdef\u001b[39;00m \u001b[38;5;21m__call__\u001b[39m(\u001b[38;5;28mself\u001b[39m):\n\u001b[0;32m    285\u001b[0m     \u001b[38;5;66;03m# Set the default nested backend to self._backend but do not set the\u001b[39;00m\n\u001b[0;32m    286\u001b[0m     \u001b[38;5;66;03m# change the default number of processes to -1\u001b[39;00m\n\u001b[0;32m    287\u001b[0m     \u001b[38;5;28;01mwith\u001b[39;00m parallel_backend(\u001b[38;5;28mself\u001b[39m\u001b[38;5;241m.\u001b[39m_backend, n_jobs\u001b[38;5;241m=\u001b[39m\u001b[38;5;28mself\u001b[39m\u001b[38;5;241m.\u001b[39m_n_jobs):\n\u001b[1;32m--> 288\u001b[0m         \u001b[38;5;28;01mreturn\u001b[39;00m [func(\u001b[38;5;241m*\u001b[39margs, \u001b[38;5;241m*\u001b[39m\u001b[38;5;241m*\u001b[39mkwargs)\n\u001b[0;32m    289\u001b[0m                 \u001b[38;5;28;01mfor\u001b[39;00m func, args, kwargs \u001b[38;5;129;01min\u001b[39;00m \u001b[38;5;28mself\u001b[39m\u001b[38;5;241m.\u001b[39mitems]\n",
      "File \u001b[1;32m~\\anaconda3\\envs\\MDAproject\\lib\\site-packages\\sklearn\\utils\\parallel.py:123\u001b[0m, in \u001b[0;36m_FuncWrapper.__call__\u001b[1;34m(self, *args, **kwargs)\u001b[0m\n\u001b[0;32m    121\u001b[0m     config \u001b[38;5;241m=\u001b[39m {}\n\u001b[0;32m    122\u001b[0m \u001b[38;5;28;01mwith\u001b[39;00m config_context(\u001b[38;5;241m*\u001b[39m\u001b[38;5;241m*\u001b[39mconfig):\n\u001b[1;32m--> 123\u001b[0m     \u001b[38;5;28;01mreturn\u001b[39;00m \u001b[38;5;28mself\u001b[39m\u001b[38;5;241m.\u001b[39mfunction(\u001b[38;5;241m*\u001b[39margs, \u001b[38;5;241m*\u001b[39m\u001b[38;5;241m*\u001b[39mkwargs)\n",
      "File \u001b[1;32m~\\anaconda3\\envs\\MDAproject\\lib\\site-packages\\sklearn\\ensemble\\_forest.py:186\u001b[0m, in \u001b[0;36m_parallel_build_trees\u001b[1;34m(tree, bootstrap, X, y, sample_weight, tree_idx, n_trees, verbose, class_weight, n_samples_bootstrap)\u001b[0m\n\u001b[0;32m    184\u001b[0m     tree\u001b[38;5;241m.\u001b[39mfit(X, y, sample_weight\u001b[38;5;241m=\u001b[39mcurr_sample_weight, check_input\u001b[38;5;241m=\u001b[39m\u001b[38;5;28;01mFalse\u001b[39;00m)\n\u001b[0;32m    185\u001b[0m \u001b[38;5;28;01melse\u001b[39;00m:\n\u001b[1;32m--> 186\u001b[0m     \u001b[43mtree\u001b[49m\u001b[38;5;241;43m.\u001b[39;49m\u001b[43mfit\u001b[49m\u001b[43m(\u001b[49m\u001b[43mX\u001b[49m\u001b[43m,\u001b[49m\u001b[43m \u001b[49m\u001b[43my\u001b[49m\u001b[43m,\u001b[49m\u001b[43m \u001b[49m\u001b[43msample_weight\u001b[49m\u001b[38;5;241;43m=\u001b[39;49m\u001b[43msample_weight\u001b[49m\u001b[43m,\u001b[49m\u001b[43m \u001b[49m\u001b[43mcheck_input\u001b[49m\u001b[38;5;241;43m=\u001b[39;49m\u001b[38;5;28;43;01mFalse\u001b[39;49;00m\u001b[43m)\u001b[49m\n\u001b[0;32m    188\u001b[0m \u001b[38;5;28;01mreturn\u001b[39;00m tree\n",
      "File \u001b[1;32m~\\anaconda3\\envs\\MDAproject\\lib\\site-packages\\sklearn\\tree\\_classes.py:1247\u001b[0m, in \u001b[0;36mDecisionTreeRegressor.fit\u001b[1;34m(self, X, y, sample_weight, check_input)\u001b[0m\n\u001b[0;32m   1218\u001b[0m \u001b[38;5;28;01mdef\u001b[39;00m \u001b[38;5;21mfit\u001b[39m(\u001b[38;5;28mself\u001b[39m, X, y, sample_weight\u001b[38;5;241m=\u001b[39m\u001b[38;5;28;01mNone\u001b[39;00m, check_input\u001b[38;5;241m=\u001b[39m\u001b[38;5;28;01mTrue\u001b[39;00m):\n\u001b[0;32m   1219\u001b[0m \u001b[38;5;250m    \u001b[39m\u001b[38;5;124;03m\"\"\"Build a decision tree regressor from the training set (X, y).\u001b[39;00m\n\u001b[0;32m   1220\u001b[0m \n\u001b[0;32m   1221\u001b[0m \u001b[38;5;124;03m    Parameters\u001b[39;00m\n\u001b[1;32m   (...)\u001b[0m\n\u001b[0;32m   1244\u001b[0m \u001b[38;5;124;03m        Fitted estimator.\u001b[39;00m\n\u001b[0;32m   1245\u001b[0m \u001b[38;5;124;03m    \"\"\"\u001b[39;00m\n\u001b[1;32m-> 1247\u001b[0m     \u001b[38;5;28;43msuper\u001b[39;49m\u001b[43m(\u001b[49m\u001b[43m)\u001b[49m\u001b[38;5;241;43m.\u001b[39;49m\u001b[43mfit\u001b[49m\u001b[43m(\u001b[49m\n\u001b[0;32m   1248\u001b[0m \u001b[43m        \u001b[49m\u001b[43mX\u001b[49m\u001b[43m,\u001b[49m\n\u001b[0;32m   1249\u001b[0m \u001b[43m        \u001b[49m\u001b[43my\u001b[49m\u001b[43m,\u001b[49m\n\u001b[0;32m   1250\u001b[0m \u001b[43m        \u001b[49m\u001b[43msample_weight\u001b[49m\u001b[38;5;241;43m=\u001b[39;49m\u001b[43msample_weight\u001b[49m\u001b[43m,\u001b[49m\n\u001b[0;32m   1251\u001b[0m \u001b[43m        \u001b[49m\u001b[43mcheck_input\u001b[49m\u001b[38;5;241;43m=\u001b[39;49m\u001b[43mcheck_input\u001b[49m\u001b[43m,\u001b[49m\n\u001b[0;32m   1252\u001b[0m \u001b[43m    \u001b[49m\u001b[43m)\u001b[49m\n\u001b[0;32m   1253\u001b[0m     \u001b[38;5;28;01mreturn\u001b[39;00m \u001b[38;5;28mself\u001b[39m\n",
      "File \u001b[1;32m~\\anaconda3\\envs\\MDAproject\\lib\\site-packages\\sklearn\\tree\\_classes.py:379\u001b[0m, in \u001b[0;36mBaseDecisionTree.fit\u001b[1;34m(self, X, y, sample_weight, check_input)\u001b[0m\n\u001b[0;32m    368\u001b[0m \u001b[38;5;28;01melse\u001b[39;00m:\n\u001b[0;32m    369\u001b[0m     builder \u001b[38;5;241m=\u001b[39m BestFirstTreeBuilder(\n\u001b[0;32m    370\u001b[0m         splitter,\n\u001b[0;32m    371\u001b[0m         min_samples_split,\n\u001b[1;32m   (...)\u001b[0m\n\u001b[0;32m    376\u001b[0m         \u001b[38;5;28mself\u001b[39m\u001b[38;5;241m.\u001b[39mmin_impurity_decrease,\n\u001b[0;32m    377\u001b[0m     )\n\u001b[1;32m--> 379\u001b[0m \u001b[43mbuilder\u001b[49m\u001b[38;5;241;43m.\u001b[39;49m\u001b[43mbuild\u001b[49m\u001b[43m(\u001b[49m\u001b[38;5;28;43mself\u001b[39;49m\u001b[38;5;241;43m.\u001b[39;49m\u001b[43mtree_\u001b[49m\u001b[43m,\u001b[49m\u001b[43m \u001b[49m\u001b[43mX\u001b[49m\u001b[43m,\u001b[49m\u001b[43m \u001b[49m\u001b[43my\u001b[49m\u001b[43m,\u001b[49m\u001b[43m \u001b[49m\u001b[43msample_weight\u001b[49m\u001b[43m)\u001b[49m\n\u001b[0;32m    381\u001b[0m \u001b[38;5;28;01mif\u001b[39;00m \u001b[38;5;28mself\u001b[39m\u001b[38;5;241m.\u001b[39mn_outputs_ \u001b[38;5;241m==\u001b[39m \u001b[38;5;241m1\u001b[39m \u001b[38;5;129;01mand\u001b[39;00m is_classifier(\u001b[38;5;28mself\u001b[39m):\n\u001b[0;32m    382\u001b[0m     \u001b[38;5;28mself\u001b[39m\u001b[38;5;241m.\u001b[39mn_classes_ \u001b[38;5;241m=\u001b[39m \u001b[38;5;28mself\u001b[39m\u001b[38;5;241m.\u001b[39mn_classes_[\u001b[38;5;241m0\u001b[39m]\n",
      "\u001b[1;31mKeyboardInterrupt\u001b[0m: "
     ]
    }
   ],
   "source": [
    "# Define the model parameters\n",
    "model_params = {\n",
    "    \"random_forest\": {\n",
    "        \"model\": RandomForestRegressor(),\n",
    "        \"params\": {\n",
    "            \"n_estimators\": randint(50, 100),\n",
    "            \"max_depth\": randint(3, 50),\n",
    "            \"max_features\": [\"auto\", \"sqrt\"],\n",
    "            \"min_samples_split\": randint(2, 20),\n",
    "            \"min_samples_leaf\": randint(1, 10),\n",
    "            \"bootstrap\": [True, False],\n",
    "        },\n",
    "    },\n",
    "    \"gradient_boosting\": {\n",
    "        \"model\": GradientBoostingRegressor(),\n",
    "        \"params\": {\n",
    "            \"n_estimators\": randint(50, 100),\n",
    "            \"learning_rate\": uniform(0.01, 0.5),\n",
    "            \"max_depth\": randint(1, 10),\n",
    "            \"min_samples_split\": randint(2, 20),\n",
    "            \"min_samples_leaf\": randint(1, 10),\n",
    "        },\n",
    "    },\n",
    "    \"xgboost\": {\n",
    "        \"model\": xgboost.XGBRegressor(),\n",
    "        \"params\": {\n",
    "            \"n_estimators\": randint(50, 100),\n",
    "            \"learning_rate\": uniform(0.01, 0.5),\n",
    "            \"max_depth\": randint(1, 10),\n",
    "            \"min_child_weight\": randint(1, 10),\n",
    "            \"gamma\": uniform(0, 1),\n",
    "            \"reg_alpha\": uniform(0, 1),\n",
    "            \"reg_lambda\": uniform(0, 1),\n",
    "        },\n",
    "    },\n",
    "}\n",
    "\n",
    "params_dict = {}\n",
    "\n",
    "# Loop through each model in model_params and run RandomizedSearchCV\n",
    "for model_name, model_info in model_params.items():\n",
    "    print(\"Running RandomizedSearchCV for {}...\".format(model_name))\n",
    "\n",
    "    # Create a RandomizedSearchCV object for the current model\n",
    "    model = model_info[\"model\"]\n",
    "    param_dist = model_info[\"params\"]\n",
    "    random_search = RandomizedSearchCV(\n",
    "        model, param_distributions=param_dist, n_iter=10, cv=5, n_jobs=1, random_state=7\n",
    "    )\n",
    "\n",
    "    # Fit the RandomizedSearchCV object to the data\n",
    "    random_search.fit(X_train, y_train[\"lamax\"])\n",
    "\n",
    "    # Print the best parameters and score\n",
    "    params_dict[model_name] = random_search.best_params_\n",
    "    print(\"Best parameters for {}: \".format(model_name), random_search.best_params_)\n",
    "    print(\"Best score for {}: \".format(model_name), random_search.best_score_)\n",
    "    print(\"\\n\")\n"
   ]
  },
  {
   "cell_type": "code",
   "execution_count": null,
   "metadata": {
    "executionInfo": {
     "elapsed": 17,
     "status": "ok",
     "timestamp": 1685358216693,
     "user": {
      "displayName": "Ken Le",
      "userId": "02524318770864979503"
     },
     "user_tz": -120
    },
    "id": "ce6oMKkA7Eh_"
   },
   "outputs": [],
   "source": [
    "# Save optimal param dictionary\n",
    "pickle.dump(params_dict, open(\"../model/model_noise_level_file42/lamax_dict\", \"wb\"))"
   ]
  },
  {
   "cell_type": "code",
   "execution_count": 43,
   "metadata": {
    "colab": {
     "base_uri": "https://localhost:8080/"
    },
    "executionInfo": {
     "elapsed": 224,
     "status": "ok",
     "timestamp": 1685390215257,
     "user": {
      "displayName": "Ken Le",
      "userId": "02524318770864979503"
     },
     "user_tz": -120
    },
    "id": "xlYDZT9wDiE7",
    "outputId": "b6f5abf8-7f15-470e-9f8d-a774d0b7d055"
   },
   "outputs": [
    {
     "data": {
      "text/plain": [
       "{'random_forest': {'bootstrap': False,\n",
       "  'max_depth': 31,\n",
       "  'max_features': 'sqrt',\n",
       "  'min_samples_leaf': 1,\n",
       "  'min_samples_split': 6,\n",
       "  'n_estimators': 85},\n",
       " 'gradient_boosting': {'learning_rate': 0.4289589971546303,\n",
       "  'max_depth': 8,\n",
       "  'min_samples_leaf': 8,\n",
       "  'min_samples_split': 2,\n",
       "  'n_estimators': 71},\n",
       " 'xgboost': {'gamma': 0.13316944575925016,\n",
       "  'learning_rate': 0.2717062903368829,\n",
       "  'max_depth': 9,\n",
       "  'min_child_weight': 4,\n",
       "  'n_estimators': 98,\n",
       "  'reg_alpha': 0.19335562339240953,\n",
       "  'reg_lambda': 0.100473971701034}}"
      ]
     },
     "execution_count": 43,
     "metadata": {},
     "output_type": "execute_result"
    }
   ],
   "source": [
    "# Load param dictionary\n",
    "lamax_dict = pickle.load(open(\"../model/model_noise_level_file42/lamax_dict\", \"rb\"))\n",
    "lamax_dict"
   ]
  },
  {
   "cell_type": "code",
   "execution_count": 44,
   "metadata": {
    "colab": {
     "base_uri": "https://localhost:8080/"
    },
    "executionInfo": {
     "elapsed": 59955,
     "status": "ok",
     "timestamp": 1685390495566,
     "user": {
      "displayName": "Ken Le",
      "userId": "02524318770864979503"
     },
     "user_tz": -120
    },
    "id": "b7CZfwyXFbpb",
    "outputId": "d8bb90ae-6ccc-41ed-e5a7-62dcaa463e7c"
   },
   "outputs": [
    {
     "name": "stdout",
     "output_type": "stream",
     "text": [
      "Train RMSE: 1.4280491175931176\n",
      "Val RMSE: 2.0558287405869047\n",
      "Train MAE: 0.9946501592697466\n",
      "Val MAE: 1.3868413148756473\n"
     ]
    }
   ],
   "source": [
    "gb_params = lamax_dict[\"gradient_boosting\"]\n",
    "\n",
    "gb = GradientBoostingRegressor(**gb_params, random_state=7)\n",
    "\n",
    "gb.fit(X_train, y_train[\"lamax\"])\n",
    "\n",
    "train_preds = gb.predict(X_train)\n",
    "val_preds = gb.predict(X_val)\n",
    "\n",
    "print(\"Train RMSE:\", np.sqrt(mean_squared_error(train_preds, y_train[\"lamax\"])))\n",
    "print(\"Val RMSE:\", np.sqrt(mean_squared_error(val_preds, y_val[\"lamax\"])))\n",
    "print(\"Train MAE:\", mean_absolute_error(train_preds, y_train[\"lamax\"]))\n",
    "print(\"Val MAE:\", mean_absolute_error(val_preds, y_val[\"lamax\"]))"
   ]
  },
  {
   "cell_type": "code",
   "execution_count": 45,
   "metadata": {
    "colab": {
     "base_uri": "https://localhost:8080/"
    },
    "executionInfo": {
     "elapsed": 21313,
     "status": "ok",
     "timestamp": 1685390571267,
     "user": {
      "displayName": "Ken Le",
      "userId": "02524318770864979503"
     },
     "user_tz": -120
    },
    "id": "pxe67scXGmhV",
    "outputId": "9fad093a-dd62-457e-d803-17115f5726c3"
   },
   "outputs": [
    {
     "name": "stdout",
     "output_type": "stream",
     "text": [
      "Train RMSE: 1.1060793551980486\n",
      "Val RMSE: 2.1701450325435836\n",
      "Train MAE: 0.7494223128531653\n",
      "Val MAE: 1.4579371305789268\n"
     ]
    }
   ],
   "source": [
    "rf_params = lamax_dict[\"random_forest\"]\n",
    "\n",
    "rf = RandomForestRegressor(**rf_params, random_state=7)\n",
    "\n",
    "rf.fit(X_train, y_train[\"lamax\"])\n",
    "\n",
    "train_preds = rf.predict(X_train)\n",
    "val_preds = rf.predict(X_val)\n",
    "\n",
    "print(\"Train RMSE:\", np.sqrt(mean_squared_error(train_preds, y_train[\"lamax\"])))\n",
    "print(\"Val RMSE:\", np.sqrt(mean_squared_error(val_preds, y_val[\"lamax\"])))\n",
    "print(\"Train MAE:\", mean_absolute_error(train_preds, y_train[\"lamax\"]))\n",
    "print(\"Val MAE:\", mean_absolute_error(val_preds, y_val[\"lamax\"]))"
   ]
  },
  {
   "cell_type": "code",
   "execution_count": 46,
   "metadata": {
    "colab": {
     "base_uri": "https://localhost:8080/"
    },
    "executionInfo": {
     "elapsed": 38559,
     "status": "ok",
     "timestamp": 1685390653264,
     "user": {
      "displayName": "Ken Le",
      "userId": "02524318770864979503"
     },
     "user_tz": -120
    },
    "id": "DkgqUsBkGw3D",
    "outputId": "04d90fea-b560-47af-9db4-97476aaa11ce"
   },
   "outputs": [
    {
     "name": "stdout",
     "output_type": "stream",
     "text": [
      "Train RMSE: 1.0863792982579672\n",
      "Val RMSE: 1.886690541616359\n",
      "Train MAE: 0.7641576094868555\n",
      "Val MAE: 1.2553625466133227\n"
     ]
    }
   ],
   "source": [
    "xgb_params = lamax_dict[\"xgboost\"]\n",
    "\n",
    "xgb = xgboost.XGBRegressor(**xgb_params, random_state=7)\n",
    "\n",
    "xgb.fit(X_train, y_train[\"lamax\"])\n",
    "\n",
    "train_preds = xgb.predict(X_train)\n",
    "val_preds = xgb.predict(X_val)\n",
    "\n",
    "\n",
    "print(\"Train RMSE:\", np.sqrt(mean_squared_error(train_preds, y_train[\"lamax\"])))\n",
    "print(\"Val RMSE:\", np.sqrt(mean_squared_error(val_preds, y_val[\"lamax\"])))\n",
    "print(\"Train MAE:\", mean_absolute_error(train_preds, y_train[\"lamax\"]))\n",
    "print(\"Val MAE:\", mean_absolute_error(val_preds, y_val[\"lamax\"]))\n"
   ]
  },
  {
   "cell_type": "code",
   "execution_count": 47,
   "metadata": {
    "colab": {
     "base_uri": "https://localhost:8080/",
     "height": 467
    },
    "executionInfo": {
     "elapsed": 1469,
     "status": "ok",
     "timestamp": 1685390705899,
     "user": {
      "displayName": "Ken Le",
      "userId": "02524318770864979503"
     },
     "user_tz": -120
    },
    "id": "jKk2lzRSHNJV",
    "outputId": "671d129c-822f-4d66-d810-b063a09da79a"
   },
   "outputs": [
    {
     "data": {
      "text/plain": [
       "Text(0, 0.5, 'y val')"
      ]
     },
     "execution_count": 47,
     "metadata": {},
     "output_type": "execute_result"
    },
    {
     "data": {
      "image/png": "[encoded data removed]",
      "text/plain": [
       "<Figure size 640x480 with 1 Axes>"
      ]
     },
     "metadata": {},
     "output_type": "display_data"
    }
   ],
   "source": [
    "plt.scatter(val_preds, y_val[\"lamax\"])\n",
    "plt.xlabel(\"y pred\")\n",
    "plt.ylabel(\"y val\")"
   ]
  },
  {
   "cell_type": "code",
   "execution_count": 48,
   "metadata": {
    "colab": {
     "base_uri": "https://localhost:8080/"
    },
    "executionInfo": {
     "elapsed": 230,
     "status": "ok",
     "timestamp": 1685390708469,
     "user": {
      "displayName": "Ken Le",
      "userId": "02524318770864979503"
     },
     "user_tz": -120
    },
    "id": "IsV1ozjxHRzP",
    "outputId": "43a46e2a-1085-43c8-dc92-c0bf620570fc"
   },
   "outputs": [
    {
     "data": {
      "text/plain": [
       "0.8969124218987571"
      ]
     },
     "execution_count": 48,
     "metadata": {},
     "output_type": "execute_result"
    }
   ],
   "source": [
    "r2_score(val_preds, y_val[\"lamax\"])"
   ]
  },
  {
   "cell_type": "code",
   "execution_count": 49,
   "metadata": {
    "executionInfo": {
     "elapsed": 224,
     "status": "ok",
     "timestamp": 1685390771057,
     "user": {
      "displayName": "Ken Le",
      "userId": "02524318770864979503"
     },
     "user_tz": -120
    },
    "id": "Fmb-i-Z_HXOJ"
   },
   "outputs": [],
   "source": [
    "## save model\n",
    "\n",
    "pickle.dump(xgb, open(\"../model/model_noise_level_file42/xgb_lamax.pkl\", \"wb\"))"
   ]
  },
  {
   "cell_type": "markdown",
   "metadata": {
    "id": "w_Udp6j9DikJ"
   },
   "source": [
    "## predict laeq"
   ]
  },
  {
   "cell_type": "code",
   "execution_count": null,
   "metadata": {
    "colab": {
     "base_uri": "https://localhost:8080/"
    },
    "executionInfo": {
     "elapsed": 4118883,
     "status": "ok",
     "timestamp": 1685363078499,
     "user": {
      "displayName": "Ken Le",
      "userId": "02524318770864979503"
     },
     "user_tz": -120
    },
    "id": "x2x8MgcnOETF",
    "outputId": "bafa6ace-693b-4317-b971-70effb28eaeb"
   },
   "outputs": [],
   "source": [
    "# Define the model parameters\n",
    "model_params = {\n",
    "    \"random_forest\": {\n",
    "        \"model\": RandomForestRegressor(),\n",
    "        \"params\": {\n",
    "            \"n_estimators\": randint(50, 100),\n",
    "            \"max_depth\": randint(3, 50),\n",
    "            \"max_features\": [\"auto\", \"sqrt\"],\n",
    "            \"min_samples_split\": randint(2, 20),\n",
    "            \"min_samples_leaf\": randint(1, 10),\n",
    "            \"bootstrap\": [True, False],\n",
    "        },\n",
    "    },\n",
    "    \"gradient_boosting\": {\n",
    "        \"model\": GradientBoostingRegressor(),\n",
    "        \"params\": {\n",
    "            \"n_estimators\": randint(50, 100),\n",
    "            \"learning_rate\": uniform(0.01, 0.5),\n",
    "            \"max_depth\": randint(1, 10),\n",
    "            \"min_samples_split\": randint(2, 20),\n",
    "            \"min_samples_leaf\": randint(1, 10),\n",
    "        },\n",
    "    },\n",
    "    \"xgboost\": {\n",
    "        \"model\": xgboost.XGBRegressor(),\n",
    "        \"params\": {\n",
    "            \"n_estimators\": randint(50, 100),\n",
    "            \"learning_rate\": uniform(0.01, 0.5),\n",
    "            \"max_depth\": randint(1, 10),\n",
    "            \"min_child_weight\": randint(1, 10),\n",
    "            \"gamma\": uniform(0, 1),\n",
    "            \"reg_alpha\": uniform(0, 1),\n",
    "            \"reg_lambda\": uniform(0, 1),\n",
    "        },\n",
    "    },\n",
    "}\n",
    "\n",
    "params_dict = {}\n",
    "\n",
    "# Loop through each model in model_params and run RandomizedSearchCV\n",
    "for model_name, model_info in model_params.items():\n",
    "    print(\"Running RandomizedSearchCV for {}...\".format(model_name))\n",
    "\n",
    "    # Create a RandomizedSearchCV object for the current model\n",
    "    model = model_info[\"model\"]\n",
    "    param_dist = model_info[\"params\"]\n",
    "    random_search = RandomizedSearchCV(\n",
    "        model, param_distributions=param_dist, n_iter=10, cv=5, n_jobs=1, random_state=7\n",
    "    )\n",
    "\n",
    "    # Fit the RandomizedSearchCV object to the data\n",
    "    random_search.fit(X_train, y_train[\"laeq\"])\n",
    "\n",
    "    # Print the best parameters and score\n",
    "    params_dict[model_name] = random_search.best_params_\n",
    "    print(\"Best parameters for {}: \".format(model_name), random_search.best_params_)\n",
    "    print(\"Best score for {}: \".format(model_name), random_search.best_score_)\n",
    "    print(\"\\n\")"
   ]
  },
  {
   "cell_type": "code",
   "execution_count": null,
   "metadata": {
    "executionInfo": {
     "elapsed": 63,
     "status": "ok",
     "timestamp": 1685363078500,
     "user": {
      "displayName": "Ken Le",
      "userId": "02524318770864979503"
     },
     "user_tz": -120
    },
    "id": "GAdshqpBOJB0"
   },
   "outputs": [],
   "source": [
    "# Save optimal param dictionary\n",
    "pickle.dump(params_dict, open(\"../model/model_noise_level_file42/laeq_dict\", \"wb\"))"
   ]
  },
  {
   "cell_type": "code",
   "execution_count": 50,
   "metadata": {
    "colab": {
     "base_uri": "https://localhost:8080/"
    },
    "executionInfo": {
     "elapsed": 317,
     "status": "ok",
     "timestamp": 1685390837852,
     "user": {
      "displayName": "Ken Le",
      "userId": "02524318770864979503"
     },
     "user_tz": -120
    },
    "id": "gYY8zKNAHne4",
    "outputId": "7731eb04-1946-45c3-80b2-81b1fbe5f375"
   },
   "outputs": [
    {
     "data": {
      "text/plain": [
       "{'random_forest': {'bootstrap': False,\n",
       "  'max_depth': 31,\n",
       "  'max_features': 'sqrt',\n",
       "  'min_samples_leaf': 1,\n",
       "  'min_samples_split': 6,\n",
       "  'n_estimators': 85},\n",
       " 'gradient_boosting': {'learning_rate': 0.4289589971546303,\n",
       "  'max_depth': 8,\n",
       "  'min_samples_leaf': 8,\n",
       "  'min_samples_split': 2,\n",
       "  'n_estimators': 71},\n",
       " 'xgboost': {'gamma': 0.13316944575925016,\n",
       "  'learning_rate': 0.2717062903368829,\n",
       "  'max_depth': 9,\n",
       "  'min_child_weight': 4,\n",
       "  'n_estimators': 98,\n",
       "  'reg_alpha': 0.19335562339240953,\n",
       "  'reg_lambda': 0.100473971701034}}"
      ]
     },
     "execution_count": 50,
     "metadata": {},
     "output_type": "execute_result"
    }
   ],
   "source": [
    "# Load param dictionary\n",
    "laeq_dict = pickle.load(open(\"../model/model_noise_level_file42/laeq_dict\", \"rb\"))\n",
    "laeq_dict"
   ]
  },
  {
   "cell_type": "code",
   "execution_count": 51,
   "metadata": {
    "colab": {
     "base_uri": "https://localhost:8080/"
    },
    "executionInfo": {
     "elapsed": 60183,
     "status": "ok",
     "timestamp": 1685390933821,
     "user": {
      "displayName": "Ken Le",
      "userId": "02524318770864979503"
     },
     "user_tz": -120
    },
    "id": "wMML3JkBHoFA",
    "outputId": "554bdbf9-71c8-44a8-a16b-d91f0f4fe9c1"
   },
   "outputs": [
    {
     "name": "stdout",
     "output_type": "stream",
     "text": [
      "Train RMSE: 1.3860544865109772\n",
      "Val RMSE: 1.9692336080248678\n",
      "Train MAE: 0.9634441016867777\n",
      "Val MAE: 1.3181415030977257\n"
     ]
    }
   ],
   "source": [
    "gb_params = laeq_dict[\"gradient_boosting\"]\n",
    "\n",
    "gb = GradientBoostingRegressor(**gb_params, random_state=7)\n",
    "\n",
    "gb.fit(X_train, y_train[\"laeq\"])\n",
    "\n",
    "train_preds = gb.predict(X_train)\n",
    "val_preds = gb.predict(X_val)\n",
    "\n",
    "print(\"Train RMSE:\", np.sqrt(mean_squared_error(train_preds, y_train[\"laeq\"])))\n",
    "print(\"Val RMSE:\", np.sqrt(mean_squared_error(val_preds, y_val[\"laeq\"])))\n",
    "print(\"Train MAE:\", mean_absolute_error(train_preds, y_train[\"laeq\"]))\n",
    "print(\"Val MAE:\", mean_absolute_error(val_preds, y_val[\"laeq\"]))"
   ]
  },
  {
   "cell_type": "code",
   "execution_count": 52,
   "metadata": {
    "colab": {
     "base_uri": "https://localhost:8080/"
    },
    "executionInfo": {
     "elapsed": 25010,
     "status": "ok",
     "timestamp": 1685390988072,
     "user": {
      "displayName": "Ken Le",
      "userId": "02524318770864979503"
     },
     "user_tz": -120
    },
    "id": "A1OXwaycHoP9",
    "outputId": "8459e22b-1ba2-4927-bc58-13c8750ad99d"
   },
   "outputs": [
    {
     "name": "stdout",
     "output_type": "stream",
     "text": [
      "Train RMSE: 1.1340639712180036\n",
      "Val RMSE: 2.1168609957626274\n",
      "Train MAE: 0.7620164896489463\n",
      "Val MAE: 1.4116757720212505\n"
     ]
    }
   ],
   "source": [
    "rf_params = laeq_dict[\"random_forest\"]\n",
    "\n",
    "rf = RandomForestRegressor(**rf_params, random_state=7)\n",
    "\n",
    "rf.fit(X_train, y_train[\"laeq\"])\n",
    "\n",
    "train_preds = rf.predict(X_train)\n",
    "val_preds = rf.predict(X_val)\n",
    "\n",
    "print(\"Train RMSE:\", np.sqrt(mean_squared_error(train_preds, y_train[\"laeq\"])))\n",
    "print(\"Val RMSE:\", np.sqrt(mean_squared_error(val_preds, y_val[\"laeq\"])))\n",
    "print(\"Train MAE:\", mean_absolute_error(train_preds, y_train[\"laeq\"]))\n",
    "print(\"Val MAE:\", mean_absolute_error(val_preds, y_val[\"laeq\"]))"
   ]
  },
  {
   "cell_type": "code",
   "execution_count": 53,
   "metadata": {
    "colab": {
     "base_uri": "https://localhost:8080/"
    },
    "executionInfo": {
     "elapsed": 39179,
     "status": "ok",
     "timestamp": 1685391027239,
     "user": {
      "displayName": "Ken Le",
      "userId": "02524318770864979503"
     },
     "user_tz": -120
    },
    "id": "sx5kz2v3HobT",
    "outputId": "9b3f4865-4a16-4626-f88f-f0db2b3cc5b1"
   },
   "outputs": [
    {
     "name": "stdout",
     "output_type": "stream",
     "text": [
      "Train RMSE: 1.0701140482001519\n",
      "Val RMSE: 1.8562799671440349\n",
      "Train MAE: 0.7490728715992959\n",
      "Val MAE: 1.2284371817352249\n"
     ]
    }
   ],
   "source": [
    "xgb_params = laeq_dict[\"xgboost\"]\n",
    "\n",
    "xgb = xgboost.XGBRegressor(**xgb_params, random_state=7)\n",
    "\n",
    "xgb.fit(X_train, y_train[\"laeq\"])\n",
    "\n",
    "train_preds = xgb.predict(X_train)\n",
    "val_preds = xgb.predict(X_val)\n",
    "\n",
    "\n",
    "print(\"Train RMSE:\", np.sqrt(mean_squared_error(train_preds, y_train[\"laeq\"])))\n",
    "print(\"Val RMSE:\", np.sqrt(mean_squared_error(val_preds, y_val[\"laeq\"])))\n",
    "print(\"Train MAE:\", mean_absolute_error(train_preds, y_train[\"laeq\"]))\n",
    "print(\"Val MAE:\", mean_absolute_error(val_preds, y_val[\"laeq\"]))"
   ]
  },
  {
   "cell_type": "code",
   "execution_count": 54,
   "metadata": {
    "colab": {
     "base_uri": "https://localhost:8080/",
     "height": 467
    },
    "executionInfo": {
     "elapsed": 533,
     "status": "ok",
     "timestamp": 1685391079983,
     "user": {
      "displayName": "Ken Le",
      "userId": "02524318770864979503"
     },
     "user_tz": -120
    },
    "id": "XVQ1EFT2Hoq8",
    "outputId": "e26631b8-4723-4bea-ff0e-e79224e2e86c"
   },
   "outputs": [
    {
     "data": {
      "text/plain": [
       "Text(0, 0.5, 'y val')"
      ]
     },
     "execution_count": 54,
     "metadata": {},
     "output_type": "execute_result"
    },
    {
     "data": {
      "image/png": "[encoded data removed]",
      "text/plain": [
       "<Figure size 640x480 with 1 Axes>"
      ]
     },
     "metadata": {},
     "output_type": "display_data"
    }
   ],
   "source": [
    "plt.scatter(val_preds, y_val[\"laeq\"])\n",
    "plt.xlabel(\"y pred\")\n",
    "plt.ylabel(\"y val\")"
   ]
  },
  {
   "cell_type": "code",
   "execution_count": 55,
   "metadata": {
    "colab": {
     "base_uri": "https://localhost:8080/"
    },
    "executionInfo": {
     "elapsed": 254,
     "status": "ok",
     "timestamp": 1685391084427,
     "user": {
      "displayName": "Ken Le",
      "userId": "02524318770864979503"
     },
     "user_tz": -120
    },
    "id": "yexuSH-0Ho2H",
    "outputId": "bef3adde-bc43-4929-d52b-719d05e83f3e"
   },
   "outputs": [
    {
     "data": {
      "text/plain": [
       "0.8999985346992687"
      ]
     },
     "execution_count": 55,
     "metadata": {},
     "output_type": "execute_result"
    }
   ],
   "source": [
    "r2_score(val_preds, y_val[\"laeq\"])"
   ]
  },
  {
   "cell_type": "code",
   "execution_count": 56,
   "metadata": {
    "executionInfo": {
     "elapsed": 222,
     "status": "ok",
     "timestamp": 1685391092774,
     "user": {
      "displayName": "Ken Le",
      "userId": "02524318770864979503"
     },
     "user_tz": -120
    },
    "id": "4AW7dv-8HpBn"
   },
   "outputs": [],
   "source": [
    "## save model\n",
    "\n",
    "pickle.dump(xgb, open(\"../model/model_noise_level_file42/xgb_laeq.pkl\", \"wb\"))"
   ]
  },
  {
   "cell_type": "markdown",
   "metadata": {
    "id": "EHXwRgNsHqEK"
   },
   "source": [
    "## Predict lceq"
   ]
  },
  {
   "cell_type": "code",
   "execution_count": null,
   "metadata": {
    "colab": {
     "base_uri": "https://localhost:8080/"
    },
    "executionInfo": {
     "elapsed": 4228188,
     "status": "ok",
     "timestamp": 1685369292811,
     "user": {
      "displayName": "Ken Le",
      "userId": "02524318770864979503"
     },
     "user_tz": -120
    },
    "id": "xnyxbVL1lUMa",
    "outputId": "e23ba608-fd91-4e59-9deb-1e4b96d5903e"
   },
   "outputs": [],
   "source": [
    "# Define the model parameters\n",
    "model_params = {\n",
    "    \"random_forest\": {\n",
    "        \"model\": RandomForestRegressor(),\n",
    "        \"params\": {\n",
    "            \"n_estimators\": randint(50, 100),\n",
    "            \"max_depth\": randint(3, 50),\n",
    "            \"max_features\": [\"auto\", \"sqrt\"],\n",
    "            \"min_samples_split\": randint(2, 20),\n",
    "            \"min_samples_leaf\": randint(1, 10),\n",
    "            \"bootstrap\": [True, False],\n",
    "        },\n",
    "    },\n",
    "    \"gradient_boosting\": {\n",
    "        \"model\": GradientBoostingRegressor(),\n",
    "        \"params\": {\n",
    "            \"n_estimators\": randint(50, 100),\n",
    "            \"learning_rate\": uniform(0.01, 0.5),\n",
    "            \"max_depth\": randint(1, 10),\n",
    "            \"min_samples_split\": randint(2, 20),\n",
    "            \"min_samples_leaf\": randint(1, 10),\n",
    "        },\n",
    "    },\n",
    "    \"xgboost\": {\n",
    "        \"model\": xgboost.XGBRegressor(),\n",
    "        \"params\": {\n",
    "            \"n_estimators\": randint(50, 100),\n",
    "            \"learning_rate\": uniform(0.01, 0.5),\n",
    "            \"max_depth\": randint(1, 10),\n",
    "            \"min_child_weight\": randint(1, 10),\n",
    "            \"gamma\": uniform(0, 1),\n",
    "            \"reg_alpha\": uniform(0, 1),\n",
    "            \"reg_lambda\": uniform(0, 1),\n",
    "        },\n",
    "    },\n",
    "}\n",
    "\n",
    "params_dict = {}\n",
    "\n",
    "# Loop through each model in model_params and run RandomizedSearchCV\n",
    "for model_name, model_info in model_params.items():\n",
    "    print(\"Running RandomizedSearchCV for {}...\".format(model_name))\n",
    "\n",
    "    # Create a RandomizedSearchCV object for the current model\n",
    "    model = model_info[\"model\"]\n",
    "    param_dist = model_info[\"params\"]\n",
    "    random_search = RandomizedSearchCV(\n",
    "        model, param_distributions=param_dist, n_iter=10, cv=5, n_jobs=1, random_state=7\n",
    "    )\n",
    "\n",
    "    # Fit the RandomizedSearchCV object to the data\n",
    "    random_search.fit(X_train, y_train[\"lceq\"])\n",
    "\n",
    "    # Print the best parameters and score\n",
    "    params_dict[model_name] = random_search.best_params_\n",
    "    print(\"Best parameters for {}: \".format(model_name), random_search.best_params_)\n",
    "    print(\"Best score for {}: \".format(model_name), random_search.best_score_)\n",
    "    print(\"\\n\")"
   ]
  },
  {
   "cell_type": "code",
   "execution_count": null,
   "metadata": {
    "executionInfo": {
     "elapsed": 13,
     "status": "ok",
     "timestamp": 1685369292812,
     "user": {
      "displayName": "Ken Le",
      "userId": "02524318770864979503"
     },
     "user_tz": -120
    },
    "id": "HY4kn9jLlWfd"
   },
   "outputs": [],
   "source": [
    "# Save optimal param dictionary\n",
    "pickle.dump(params_dict, open(\"../model/model_noise_level_file42/lceq_dict\", \"wb\"))"
   ]
  },
  {
   "cell_type": "code",
   "execution_count": 57,
   "metadata": {
    "colab": {
     "base_uri": "https://localhost:8080/"
    },
    "executionInfo": {
     "elapsed": 227,
     "status": "ok",
     "timestamp": 1685391219200,
     "user": {
      "displayName": "Ken Le",
      "userId": "02524318770864979503"
     },
     "user_tz": -120
    },
    "id": "5LfpaKkBI1NC",
    "outputId": "99bd1f90-f20e-40ee-94d7-3383491d2961"
   },
   "outputs": [
    {
     "data": {
      "text/plain": [
       "{'random_forest': {'bootstrap': False,\n",
       "  'max_depth': 31,\n",
       "  'max_features': 'sqrt',\n",
       "  'min_samples_leaf': 1,\n",
       "  'min_samples_split': 6,\n",
       "  'n_estimators': 85},\n",
       " 'gradient_boosting': {'learning_rate': 0.4289589971546303,\n",
       "  'max_depth': 8,\n",
       "  'min_samples_leaf': 8,\n",
       "  'min_samples_split': 2,\n",
       "  'n_estimators': 71},\n",
       " 'xgboost': {'gamma': 0.13316944575925016,\n",
       "  'learning_rate': 0.2717062903368829,\n",
       "  'max_depth': 9,\n",
       "  'min_child_weight': 4,\n",
       "  'n_estimators': 98,\n",
       "  'reg_alpha': 0.19335562339240953,\n",
       "  'reg_lambda': 0.100473971701034}}"
      ]
     },
     "execution_count": 57,
     "metadata": {},
     "output_type": "execute_result"
    }
   ],
   "source": [
    "# Load param dictionary\n",
    "lceq_dict = pickle.load(open(\"../model/model_noise_level_file42/lceq_dict\", \"rb\"))\n",
    "lceq_dict"
   ]
  },
  {
   "cell_type": "code",
   "execution_count": 58,
   "metadata": {
    "colab": {
     "base_uri": "https://localhost:8080/"
    },
    "executionInfo": {
     "elapsed": 80125,
     "status": "ok",
     "timestamp": 1685391301518,
     "user": {
      "displayName": "Ken Le",
      "userId": "02524318770864979503"
     },
     "user_tz": -120
    },
    "id": "_nmuuIaOI1XW",
    "outputId": "f3ac5abc-cfac-4e1c-f743-aeee9b2289c2"
   },
   "outputs": [
    {
     "name": "stdout",
     "output_type": "stream",
     "text": [
      "Train RMSE: 1.2308878685146232\n",
      "Val RMSE: 1.7629257166930152\n",
      "Train MAE: 0.8542538359355609\n",
      "Val MAE: 1.1745026133304561\n"
     ]
    }
   ],
   "source": [
    "gb_params = lceq_dict[\"gradient_boosting\"]\n",
    "\n",
    "gb = GradientBoostingRegressor(**gb_params, random_state=7)\n",
    "\n",
    "gb.fit(X_train, y_train[\"lceq\"])\n",
    "\n",
    "train_preds = gb.predict(X_train)\n",
    "val_preds = gb.predict(X_val)\n",
    "\n",
    "print(\"Train RMSE:\", np.sqrt(mean_squared_error(train_preds, y_train[\"lceq\"])))\n",
    "print(\"Val RMSE:\", np.sqrt(mean_squared_error(val_preds, y_val[\"lceq\"])))\n",
    "print(\"Train MAE:\", mean_absolute_error(train_preds, y_train[\"lceq\"]))\n",
    "print(\"Val MAE:\", mean_absolute_error(val_preds, y_val[\"lceq\"]))"
   ]
  },
  {
   "cell_type": "code",
   "execution_count": 59,
   "metadata": {
    "colab": {
     "base_uri": "https://localhost:8080/"
    },
    "executionInfo": {
     "elapsed": 21857,
     "status": "ok",
     "timestamp": 1685391323369,
     "user": {
      "displayName": "Ken Le",
      "userId": "02524318770864979503"
     },
     "user_tz": -120
    },
    "id": "JMuuGeqXJSeK",
    "outputId": "66eacae6-4723-4bb8-e14e-410585980ba4"
   },
   "outputs": [
    {
     "name": "stdout",
     "output_type": "stream",
     "text": [
      "Train RMSE: 1.0042561072708873\n",
      "Val RMSE: 1.930555705572765\n",
      "Train MAE: 0.6709732152245396\n",
      "Val MAE: 1.2981898413384934\n"
     ]
    }
   ],
   "source": [
    "rf_params = lceq_dict[\"random_forest\"]\n",
    "\n",
    "rf = RandomForestRegressor(**rf_params, random_state=7)\n",
    "\n",
    "rf.fit(X_train, y_train[\"lceq\"])\n",
    "\n",
    "train_preds = rf.predict(X_train)\n",
    "val_preds = rf.predict(X_val)\n",
    "\n",
    "print(\"Train RMSE:\", np.sqrt(mean_squared_error(train_preds, y_train[\"lceq\"])))\n",
    "print(\"Val RMSE:\", np.sqrt(mean_squared_error(val_preds, y_val[\"lceq\"])))\n",
    "print(\"Train MAE:\", mean_absolute_error(train_preds, y_train[\"lceq\"]))\n",
    "print(\"Val MAE:\", mean_absolute_error(val_preds, y_val[\"lceq\"]))"
   ]
  },
  {
   "cell_type": "code",
   "execution_count": 60,
   "metadata": {
    "colab": {
     "base_uri": "https://localhost:8080/"
    },
    "executionInfo": {
     "elapsed": 38357,
     "status": "ok",
     "timestamp": 1685391361724,
     "user": {
      "displayName": "Ken Le",
      "userId": "02524318770864979503"
     },
     "user_tz": -120
    },
    "id": "IOCd69vDI1e-",
    "outputId": "cf7077bd-1b86-48fd-9480-ac387924f1e0"
   },
   "outputs": [
    {
     "name": "stdout",
     "output_type": "stream",
     "text": [
      "Train RMSE: 0.932448384774181\n",
      "Val RMSE: 1.6372958460950429\n",
      "Train MAE: 0.649242584635434\n",
      "Val MAE: 1.0750745589946153\n"
     ]
    }
   ],
   "source": [
    "\n",
    "xgb_params = lceq_dict[\"xgboost\"]\n",
    "\n",
    "xgb = xgboost.XGBRegressor(**xgb_params, random_state=7)\n",
    "\n",
    "xgb.fit(X_train, y_train[\"lceq\"])\n",
    "\n",
    "train_preds = xgb.predict(X_train)\n",
    "val_preds = xgb.predict(X_val)\n",
    "\n",
    "\n",
    "print(\"Train RMSE:\", np.sqrt(mean_squared_error(train_preds, y_train[\"lceq\"])))\n",
    "print(\"Val RMSE:\", np.sqrt(mean_squared_error(val_preds, y_val[\"lceq\"])))\n",
    "print(\"Train MAE:\", mean_absolute_error(train_preds, y_train[\"lceq\"]))\n",
    "print(\"Val MAE:\", mean_absolute_error(val_preds, y_val[\"lceq\"]))"
   ]
  },
  {
   "cell_type": "code",
   "execution_count": 61,
   "metadata": {
    "colab": {
     "base_uri": "https://localhost:8080/",
     "height": 467
    },
    "executionInfo": {
     "elapsed": 2200,
     "status": "ok",
     "timestamp": 1685391500566,
     "user": {
      "displayName": "Ken Le",
      "userId": "02524318770864979503"
     },
     "user_tz": -120
    },
    "id": "98lt6MyeI1or",
    "outputId": "4c2dc668-d2aa-4b27-8306-e146145f78e6"
   },
   "outputs": [
    {
     "data": {
      "text/plain": [
       "Text(0, 0.5, 'y val')"
      ]
     },
     "execution_count": 61,
     "metadata": {},
     "output_type": "execute_result"
    },
    {
     "data": {
      "image/png": "[encoded data removed]",
      "text/plain": [
       "<Figure size 640x480 with 1 Axes>"
      ]
     },
     "metadata": {},
     "output_type": "display_data"
    }
   ],
   "source": [
    "plt.scatter(val_preds, y_val[\"lceq\"])\n",
    "plt.xlabel(\"y pred\")\n",
    "plt.ylabel(\"y val\")"
   ]
  },
  {
   "cell_type": "code",
   "execution_count": 62,
   "metadata": {
    "colab": {
     "base_uri": "https://localhost:8080/"
    },
    "executionInfo": {
     "elapsed": 275,
     "status": "ok",
     "timestamp": 1685391495486,
     "user": {
      "displayName": "Ken Le",
      "userId": "02524318770864979503"
     },
     "user_tz": -120
    },
    "id": "4am8u2GkI1yy",
    "outputId": "7ff7b546-ff5b-4e0e-8929-4aca7393c844"
   },
   "outputs": [
    {
     "data": {
      "text/plain": [
       "0.9074528455168079"
      ]
     },
     "execution_count": 62,
     "metadata": {},
     "output_type": "execute_result"
    }
   ],
   "source": [
    "r2_score(val_preds, y_val[\"lceq\"])"
   ]
  },
  {
   "cell_type": "code",
   "execution_count": 63,
   "metadata": {
    "executionInfo": {
     "elapsed": 235,
     "status": "ok",
     "timestamp": 1685391527532,
     "user": {
      "displayName": "Ken Le",
      "userId": "02524318770864979503"
     },
     "user_tz": -120
    },
    "id": "csqIs5-LI18r"
   },
   "outputs": [],
   "source": [
    "## save model\n",
    "\n",
    "import pickle\n",
    "\n",
    "pickle.dump(xgb, open(\"../model/model_noise_level_file42/xgb_lceq.pkl\", \"wb\"))"
   ]
  },
  {
   "cell_type": "markdown",
   "metadata": {
    "id": "OauBqgogKmSN"
   },
   "source": [
    "## Predict lcpeak"
   ]
  },
  {
   "cell_type": "code",
   "execution_count": null,
   "metadata": {
    "colab": {
     "base_uri": "https://localhost:8080/"
    },
    "executionInfo": {
     "elapsed": 4154650,
     "status": "ok",
     "timestamp": 1685375188602,
     "user": {
      "displayName": "Ken Le",
      "userId": "02524318770864979503"
     },
     "user_tz": -120
    },
    "id": "THk0O0uO7nc_",
    "outputId": "f478775f-1441-4cd1-ef81-e199c27c4133"
   },
   "outputs": [],
   "source": [
    "# Define the model parameters\n",
    "model_params = {\n",
    "    \"random_forest\": {\n",
    "        \"model\": RandomForestRegressor(),\n",
    "        \"params\": {\n",
    "            \"n_estimators\": randint(50, 100),\n",
    "            \"max_depth\": randint(3, 50),\n",
    "            \"max_features\": [\"auto\", \"sqrt\"],\n",
    "            \"min_samples_split\": randint(2, 20),\n",
    "            \"min_samples_leaf\": randint(1, 10),\n",
    "            \"bootstrap\": [True, False],\n",
    "        },\n",
    "    },\n",
    "    \"gradient_boosting\": {\n",
    "        \"model\": GradientBoostingRegressor(),\n",
    "        \"params\": {\n",
    "            \"n_estimators\": randint(50, 100),\n",
    "            \"learning_rate\": uniform(0.01, 0.5),\n",
    "            \"max_depth\": randint(1, 10),\n",
    "            \"min_samples_split\": randint(2, 20),\n",
    "            \"min_samples_leaf\": randint(1, 10),\n",
    "        },\n",
    "    },\n",
    "    \"xgboost\": {\n",
    "        \"model\": xgboost.XGBRegressor(),\n",
    "        \"params\": {\n",
    "            \"n_estimators\": randint(50, 100),\n",
    "            \"learning_rate\": uniform(0.01, 0.5),\n",
    "            \"max_depth\": randint(1, 10),\n",
    "            \"min_child_weight\": randint(1, 10),\n",
    "            \"gamma\": uniform(0, 1),\n",
    "            \"reg_alpha\": uniform(0, 1),\n",
    "            \"reg_lambda\": uniform(0, 1),\n",
    "        },\n",
    "    },\n",
    "}\n",
    "\n",
    "params_dict = {}\n",
    "\n",
    "# Loop through each model in model_params and run RandomizedSearchCV\n",
    "for model_name, model_info in model_params.items():\n",
    "    print(\"Running RandomizedSearchCV for {}...\".format(model_name))\n",
    "\n",
    "    # Create a RandomizedSearchCV object for the current model\n",
    "    model = model_info[\"model\"]\n",
    "    param_dist = model_info[\"params\"]\n",
    "    random_search = RandomizedSearchCV(\n",
    "        model, param_distributions=param_dist, n_iter=10, cv=5, n_jobs=1, random_state=7\n",
    "    )\n",
    "\n",
    "    # Fit the RandomizedSearchCV object to the data\n",
    "    random_search.fit(X_train, y_train[\"lcpeak\"])\n",
    "\n",
    "    # Print the best parameters and score\n",
    "    params_dict[model_name] = random_search.best_params_\n",
    "    print(\"Best parameters for {}: \".format(model_name), random_search.best_params_)\n",
    "    print(\"Best score for {}: \".format(model_name), random_search.best_score_)\n",
    "    print(\"\\n\")"
   ]
  },
  {
   "cell_type": "code",
   "execution_count": null,
   "metadata": {
    "executionInfo": {
     "elapsed": 22,
     "status": "ok",
     "timestamp": 1685375188603,
     "user": {
      "displayName": "Ken Le",
      "userId": "02524318770864979503"
     },
     "user_tz": -120
    },
    "id": "gTBRQ72p7xXj"
   },
   "outputs": [],
   "source": [
    "# Save optimal param dictionary\n",
    "pickle.dump(params_dict, open(\"../model/model_noise_level_file42/lcpeak_dict\", \"wb\"))"
   ]
  },
  {
   "cell_type": "code",
   "execution_count": 64,
   "metadata": {
    "colab": {
     "base_uri": "https://localhost:8080/"
    },
    "executionInfo": {
     "elapsed": 205,
     "status": "ok",
     "timestamp": 1685391703261,
     "user": {
      "displayName": "Ken Le",
      "userId": "02524318770864979503"
     },
     "user_tz": -120
    },
    "id": "jRqZQtt6K9-U",
    "outputId": "077ea4e8-9d9b-43a5-c168-8aa80b3ab0ac"
   },
   "outputs": [
    {
     "data": {
      "text/plain": [
       "{'random_forest': {'bootstrap': False,\n",
       "  'max_depth': 31,\n",
       "  'max_features': 'sqrt',\n",
       "  'min_samples_leaf': 1,\n",
       "  'min_samples_split': 6,\n",
       "  'n_estimators': 85},\n",
       " 'gradient_boosting': {'learning_rate': 0.4289589971546303,\n",
       "  'max_depth': 8,\n",
       "  'min_samples_leaf': 8,\n",
       "  'min_samples_split': 2,\n",
       "  'n_estimators': 71},\n",
       " 'xgboost': {'gamma': 0.13316944575925016,\n",
       "  'learning_rate': 0.2717062903368829,\n",
       "  'max_depth': 9,\n",
       "  'min_child_weight': 4,\n",
       "  'n_estimators': 98,\n",
       "  'reg_alpha': 0.19335562339240953,\n",
       "  'reg_lambda': 0.100473971701034}}"
      ]
     },
     "execution_count": 64,
     "metadata": {},
     "output_type": "execute_result"
    }
   ],
   "source": [
    "# Load param dictionary\n",
    "lcpeak_dict = pickle.load(open(\"../model/model_noise_level_file42/lcpeak_dict\", \"rb\"))\n",
    "lcpeak_dict"
   ]
  },
  {
   "cell_type": "code",
   "execution_count": 65,
   "metadata": {
    "colab": {
     "base_uri": "https://localhost:8080/"
    },
    "executionInfo": {
     "elapsed": 78953,
     "status": "ok",
     "timestamp": 1685391811104,
     "user": {
      "displayName": "Ken Le",
      "userId": "02524318770864979503"
     },
     "user_tz": -120
    },
    "id": "DclN-emGK-HN",
    "outputId": "031e08d6-ab4f-4ee4-837c-b3bafac59cbe"
   },
   "outputs": [
    {
     "name": "stdout",
     "output_type": "stream",
     "text": [
      "Train RMSE: 1.2281198657500612\n",
      "Val RMSE: 1.7569921462489921\n",
      "Train MAE: 0.8588264771216795\n",
      "Val MAE: 1.1805057522253848\n"
     ]
    }
   ],
   "source": [
    "gb_params = lcpeak_dict[\"gradient_boosting\"]\n",
    "\n",
    "gb = GradientBoostingRegressor(**gb_params, random_state=7)\n",
    "\n",
    "gb.fit(X_train, y_train[\"lcpeak\"])\n",
    "\n",
    "train_preds = gb.predict(X_train)\n",
    "val_preds = gb.predict(X_val)\n",
    "\n",
    "print(\"Train RMSE:\", np.sqrt(mean_squared_error(train_preds, y_train[\"lcpeak\"])))\n",
    "print(\"Val RMSE:\", np.sqrt(mean_squared_error(val_preds, y_val[\"lcpeak\"])))\n",
    "print(\"Train MAE:\", mean_absolute_error(train_preds, y_train[\"lcpeak\"]))\n",
    "print(\"Val MAE:\", mean_absolute_error(val_preds, y_val[\"lcpeak\"]))"
   ]
  },
  {
   "cell_type": "code",
   "execution_count": 66,
   "metadata": {
    "colab": {
     "base_uri": "https://localhost:8080/"
    },
    "executionInfo": {
     "elapsed": 24559,
     "status": "ok",
     "timestamp": 1685391835660,
     "user": {
      "displayName": "Ken Le",
      "userId": "02524318770864979503"
     },
     "user_tz": -120
    },
    "id": "eNkx37tlK-P7",
    "outputId": "dfbdd2b8-a551-4089-cf79-ed02ae4fcfd5"
   },
   "outputs": [
    {
     "name": "stdout",
     "output_type": "stream",
     "text": [
      "Train RMSE: 0.9659273783157202\n",
      "Val RMSE: 1.8517733426245717\n",
      "Train MAE: 0.6464785007176574\n",
      "Val MAE: 1.25212618740849\n"
     ]
    }
   ],
   "source": [
    "rf_params = lcpeak_dict[\"random_forest\"]\n",
    "\n",
    "rf = RandomForestRegressor(**rf_params, random_state=7)\n",
    "\n",
    "rf.fit(X_train, y_train[\"lcpeak\"])\n",
    "\n",
    "train_preds = rf.predict(X_train)\n",
    "val_preds = rf.predict(X_val)\n",
    "\n",
    "print(\"Train RMSE:\", np.sqrt(mean_squared_error(train_preds, y_train[\"lcpeak\"])))\n",
    "print(\"Val RMSE:\", np.sqrt(mean_squared_error(val_preds, y_val[\"lcpeak\"])))\n",
    "print(\"Train MAE:\", mean_absolute_error(train_preds, y_train[\"lcpeak\"]))\n",
    "print(\"Val MAE:\", mean_absolute_error(val_preds, y_val[\"lcpeak\"]))"
   ]
  },
  {
   "cell_type": "code",
   "execution_count": 67,
   "metadata": {
    "colab": {
     "base_uri": "https://localhost:8080/"
    },
    "executionInfo": {
     "elapsed": 46561,
     "status": "ok",
     "timestamp": 1685391882216,
     "user": {
      "displayName": "Ken Le",
      "userId": "02524318770864979503"
     },
     "user_tz": -120
    },
    "id": "3ZdOwHtSK-Zb",
    "outputId": "dfbaecf2-477a-4ee0-903b-39c9ce9bbb75"
   },
   "outputs": [
    {
     "name": "stdout",
     "output_type": "stream",
     "text": [
      "Train RMSE: 0.9276570802985057\n",
      "Val RMSE: 1.5889109872385543\n",
      "Train MAE: 0.6519813332222163\n",
      "Val MAE: 1.0586098749995325\n"
     ]
    }
   ],
   "source": [
    "import xgboost\n",
    "\n",
    "xgb_params = lcpeak_dict[\"xgboost\"]\n",
    "\n",
    "xgb = xgboost.XGBRegressor(**xgb_params, random_state=7)\n",
    "\n",
    "xgb.fit(X_train, y_train[\"lcpeak\"])\n",
    "\n",
    "train_preds = xgb.predict(X_train)\n",
    "val_preds = xgb.predict(X_val)\n",
    "\n",
    "\n",
    "print(\"Train RMSE:\", np.sqrt(mean_squared_error(train_preds, y_train[\"lcpeak\"])))\n",
    "print(\"Val RMSE:\", np.sqrt(mean_squared_error(val_preds, y_val[\"lcpeak\"])))\n",
    "print(\"Train MAE:\", mean_absolute_error(train_preds, y_train[\"lcpeak\"]))\n",
    "print(\"Val MAE:\", mean_absolute_error(val_preds, y_val[\"lcpeak\"]))"
   ]
  },
  {
   "cell_type": "code",
   "execution_count": 68,
   "metadata": {
    "colab": {
     "base_uri": "https://localhost:8080/",
     "height": 467
    },
    "executionInfo": {
     "elapsed": 978,
     "status": "ok",
     "timestamp": 1685391902047,
     "user": {
      "displayName": "Ken Le",
      "userId": "02524318770864979503"
     },
     "user_tz": -120
    },
    "id": "Y_bh88T_K-iJ",
    "outputId": "9d737be6-d09e-4d66-9a4b-1f50a9d8c134"
   },
   "outputs": [
    {
     "data": {
      "text/plain": [
       "Text(0, 0.5, 'y val')"
      ]
     },
     "execution_count": 68,
     "metadata": {},
     "output_type": "execute_result"
    },
    {
     "data": {
      "image/png": "[encoded data removed]",
      "text/plain": [
       "<Figure size 640x480 with 1 Axes>"
      ]
     },
     "metadata": {},
     "output_type": "display_data"
    }
   ],
   "source": [
    "plt.scatter(val_preds, y_val[\"lcpeak\"])\n",
    "plt.xlabel(\"y pred\")\n",
    "plt.ylabel(\"y val\")"
   ]
  },
  {
   "cell_type": "code",
   "execution_count": 69,
   "metadata": {
    "colab": {
     "base_uri": "https://localhost:8080/"
    },
    "executionInfo": {
     "elapsed": 243,
     "status": "ok",
     "timestamp": 1685391905998,
     "user": {
      "displayName": "Ken Le",
      "userId": "02524318770864979503"
     },
     "user_tz": -120
    },
    "id": "EiBa6AR-K-qu",
    "outputId": "690bb90a-3a72-4857-e98f-76e6860e558b"
   },
   "outputs": [
    {
     "data": {
      "text/plain": [
       "0.906577081950336"
      ]
     },
     "execution_count": 69,
     "metadata": {},
     "output_type": "execute_result"
    }
   ],
   "source": [
    "r2_score(val_preds, y_val[\"lcpeak\"])"
   ]
  },
  {
   "cell_type": "code",
   "execution_count": 70,
   "metadata": {
    "executionInfo": {
     "elapsed": 600,
     "status": "ok",
     "timestamp": 1685391910349,
     "user": {
      "displayName": "Ken Le",
      "userId": "02524318770864979503"
     },
     "user_tz": -120
    },
    "id": "GjF_FFpuK-z8"
   },
   "outputs": [],
   "source": [
    "## save model\n",
    "\n",
    "pickle.dump(xgb, open(\"../model/model_noise_level_file42/xgb_lcpeak.pkl\", \"wb\"))"
   ]
  },
  {
   "cell_type": "markdown",
   "metadata": {},
   "source": [
    "## In this section, we would predict lcpeak using data in file meteo\n"
   ]
  },
  {
   "cell_type": "code",
   "execution_count": 86,
   "metadata": {},
   "outputs": [],
   "source": [
    "def merge_csv_files(directory_path,file_list,delim=\";\"):\n",
    "    \"\"\"\n",
    "    Merges all CSV files in a directory into a single pandas DataFrame.\n",
    "\n",
    "    Args:\n",
    "    directory_path (str): The directory path containing the CSV files.\n",
    "    delim (str): character used for delimiter in CSV files\n",
    "    file_list = list of strings of individual file names\n",
    "\n",
    "    Returns:\n",
    "    merged_df (pandas.DataFrame): The merged pandas DataFrame of all CSV files in the directory.\n",
    "    \"\"\"\n",
    "    dfs = []\n",
    "\n",
    "    # loop through each file in the directory\n",
    "    for file in file_list:\n",
    "        # check if the file is a CSV file\n",
    "        if file.endswith(\".csv\"):\n",
    "            file_path = directory_path + file\n",
    "            df = pd.read_csv(file_path, delimiter=delim)\n",
    "            dfs.append(df)\n",
    "\n",
    "    # concatenate all dataframes\n",
    "    merged_df = pd.concat(dfs, ignore_index=True)\n",
    "\n",
    "    return merged_df"
   ]
  },
  {
   "cell_type": "code",
   "execution_count": 87,
   "metadata": {},
   "outputs": [],
   "source": [
    "# Meteo data\n",
    "folder_path = \"s3://teamchadmda\"\n",
    "file_list_meteo = [\"LC_2022Q1.csv\",\"LC_2022Q2.csv\",\"LC_2022Q3.csv\",\"LC_2022Q4.csv\",]\n",
    "\n",
    "# lots of files, takes a while\n",
    "meteo = merge_csv_files(folder_path + \"/meteodata/\",file_list_meteo,delim=',')"
   ]
  },
  {
   "cell_type": "code",
   "execution_count": 88,
   "metadata": {},
   "outputs": [],
   "source": [
    "meteo['date'] = pd.to_datetime(meteo['DATEUTC']).dt.date"
   ]
  },
  {
   "cell_type": "code",
   "execution_count": 89,
   "metadata": {},
   "outputs": [],
   "source": [
    "meteo = meteo[~meteo.LC_HUMIDITY.isnull()]"
   ]
  },
  {
   "cell_type": "code",
   "execution_count": 90,
   "metadata": {},
   "outputs": [
    {
     "data": {
      "text/plain": [
       "DATEUTC         0.000000\n",
       "ID              0.000000\n",
       "LC_HUMIDITY     0.000000\n",
       "LC_DWPTEMP      0.000000\n",
       "LC_n            0.000000\n",
       "LC_RAD          0.000000\n",
       "LC_RAININ       0.000000\n",
       "LC_DAILYRAIN    0.000000\n",
       "LC_WINDDIR      0.000000\n",
       "LC_WINDSPEED    0.000000\n",
       "Date            0.000000\n",
       "Year            0.000000\n",
       "Month           0.000000\n",
       "Day             0.000000\n",
       "Hour            0.000000\n",
       "Minute          0.000000\n",
       "LC_RAD60        0.000000\n",
       "LC_TEMP_QCL0    0.000000\n",
       "LC_TEMP_QCL1    0.005846\n",
       "LC_TEMP_QCL2    0.005846\n",
       "LC_TEMP_QCL3    0.005846\n",
       "date            0.000000\n",
       "dtype: float64"
      ]
     },
     "execution_count": 90,
     "metadata": {},
     "output_type": "execute_result"
    }
   ],
   "source": [
    "meteo.isna().mean()"
   ]
  },
  {
   "cell_type": "code",
   "execution_count": 91,
   "metadata": {},
   "outputs": [
    {
     "name": "stderr",
     "output_type": "stream",
     "text": [
      "C:\\Users\\jef-w\\AppData\\Local\\Temp\\ipykernel_3008\\1635437679.py:1: FutureWarning: The default value of numeric_only in DataFrameGroupBy.mean is deprecated. In a future version, numeric_only will default to False. Either specify numeric_only or select only columns which should be valid for the function.\n",
      "  meteo = meteo.groupby([\"date\",\"Month\", \"Hour\"]).mean().reset_index()\n"
     ]
    }
   ],
   "source": [
    "meteo = meteo.groupby([\"date\",\"Month\", \"Hour\"]).mean().reset_index()"
   ]
  },
  {
   "cell_type": "code",
   "execution_count": 92,
   "metadata": {},
   "outputs": [
    {
     "data": {
      "text/plain": [
       "(8761, 19)"
      ]
     },
     "execution_count": 92,
     "metadata": {},
     "output_type": "execute_result"
    }
   ],
   "source": [
    "meteo.shape"
   ]
  },
  {
   "cell_type": "code",
   "execution_count": 93,
   "metadata": {},
   "outputs": [],
   "source": [
    "meteo.drop([\"Year\", \"Day\", \"Minute\"], axis = 1, inplace = True)"
   ]
  },
  {
   "cell_type": "code",
   "execution_count": 94,
   "metadata": {},
   "outputs": [],
   "source": [
    "meteo.rename(columns={'Month': 'month',\n",
    "                      'Hour': 'hour'}, inplace = True)"
   ]
  },
  {
   "cell_type": "code",
   "execution_count": 95,
   "metadata": {},
   "outputs": [],
   "source": [
    "data_model_meteo = file42.merge(meteo, how=\"inner\",\n",
    "                                left_on = [\"date\", \"hour\", \"month\"],\n",
    "                                right_on = [\"date\", \"hour\", \"month\"])"
   ]
  },
  {
   "cell_type": "code",
   "execution_count": 96,
   "metadata": {},
   "outputs": [
    {
     "data": {
      "text/html": [
       "<div>\n",
       "<style scoped>\n",
       "    .dataframe tbody tr th:only-of-type {\n",
       "        vertical-align: middle;\n",
       "    }\n",
       "\n",
       "    .dataframe tbody tr th {\n",
       "        vertical-align: top;\n",
       "    }\n",
       "\n",
       "    .dataframe thead th {\n",
       "        text-align: right;\n",
       "    }\n",
       "</style>\n",
       "<table border=\"1\" class=\"dataframe\">\n",
       "  <thead>\n",
       "    <tr style=\"text-align: right;\">\n",
       "      <th></th>\n",
       "      <th>object_id</th>\n",
       "      <th>date</th>\n",
       "      <th>hour</th>\n",
       "      <th>month</th>\n",
       "      <th>weekday</th>\n",
       "      <th>lamax</th>\n",
       "      <th>laeq</th>\n",
       "      <th>lceq</th>\n",
       "      <th>lcpeak</th>\n",
       "      <th>LC_HUMIDITY</th>\n",
       "      <th>...</th>\n",
       "      <th>LC_RAD</th>\n",
       "      <th>LC_RAININ</th>\n",
       "      <th>LC_DAILYRAIN</th>\n",
       "      <th>LC_WINDDIR</th>\n",
       "      <th>LC_WINDSPEED</th>\n",
       "      <th>LC_RAD60</th>\n",
       "      <th>LC_TEMP_QCL0</th>\n",
       "      <th>LC_TEMP_QCL1</th>\n",
       "      <th>LC_TEMP_QCL2</th>\n",
       "      <th>LC_TEMP_QCL3</th>\n",
       "    </tr>\n",
       "  </thead>\n",
       "  <tbody>\n",
       "    <tr>\n",
       "      <th>0</th>\n",
       "      <td>255439</td>\n",
       "      <td>2022-02-28</td>\n",
       "      <td>8</td>\n",
       "      <td>2</td>\n",
       "      <td>Mon</td>\n",
       "      <td>58.679893</td>\n",
       "      <td>56.965367</td>\n",
       "      <td>67.359289</td>\n",
       "      <td>78.976896</td>\n",
       "      <td>68.511797</td>\n",
       "      <td>...</td>\n",
       "      <td>46.6951</td>\n",
       "      <td>0.000005</td>\n",
       "      <td>0.000011</td>\n",
       "      <td>18.411978</td>\n",
       "      <td>0.118076</td>\n",
       "      <td>31.76225</td>\n",
       "      <td>2.536298</td>\n",
       "      <td>2.543836</td>\n",
       "      <td>2.531809</td>\n",
       "      <td>2.428479</td>\n",
       "    </tr>\n",
       "    <tr>\n",
       "      <th>1</th>\n",
       "      <td>255441</td>\n",
       "      <td>2022-02-28</td>\n",
       "      <td>8</td>\n",
       "      <td>2</td>\n",
       "      <td>Mon</td>\n",
       "      <td>55.492778</td>\n",
       "      <td>54.066667</td>\n",
       "      <td>65.229694</td>\n",
       "      <td>76.438689</td>\n",
       "      <td>68.511797</td>\n",
       "      <td>...</td>\n",
       "      <td>46.6951</td>\n",
       "      <td>0.000005</td>\n",
       "      <td>0.000011</td>\n",
       "      <td>18.411978</td>\n",
       "      <td>0.118076</td>\n",
       "      <td>31.76225</td>\n",
       "      <td>2.536298</td>\n",
       "      <td>2.543836</td>\n",
       "      <td>2.531809</td>\n",
       "      <td>2.428479</td>\n",
       "    </tr>\n",
       "    <tr>\n",
       "      <th>2</th>\n",
       "      <td>255442</td>\n",
       "      <td>2022-02-28</td>\n",
       "      <td>8</td>\n",
       "      <td>2</td>\n",
       "      <td>Mon</td>\n",
       "      <td>55.842472</td>\n",
       "      <td>54.106667</td>\n",
       "      <td>63.679853</td>\n",
       "      <td>75.430328</td>\n",
       "      <td>68.511797</td>\n",
       "      <td>...</td>\n",
       "      <td>46.6951</td>\n",
       "      <td>0.000005</td>\n",
       "      <td>0.000011</td>\n",
       "      <td>18.411978</td>\n",
       "      <td>0.118076</td>\n",
       "      <td>31.76225</td>\n",
       "      <td>2.536298</td>\n",
       "      <td>2.543836</td>\n",
       "      <td>2.531809</td>\n",
       "      <td>2.428479</td>\n",
       "    </tr>\n",
       "  </tbody>\n",
       "</table>\n",
       "<p>3 rows × 22 columns</p>\n",
       "</div>"
      ],
      "text/plain": [
       "   object_id        date  hour  month weekday      lamax       laeq  \\\n",
       "0     255439  2022-02-28     8      2     Mon  58.679893  56.965367   \n",
       "1     255441  2022-02-28     8      2     Mon  55.492778  54.066667   \n",
       "2     255442  2022-02-28     8      2     Mon  55.842472  54.106667   \n",
       "\n",
       "        lceq     lcpeak  LC_HUMIDITY  ...   LC_RAD  LC_RAININ  LC_DAILYRAIN  \\\n",
       "0  67.359289  78.976896    68.511797  ...  46.6951   0.000005      0.000011   \n",
       "1  65.229694  76.438689    68.511797  ...  46.6951   0.000005      0.000011   \n",
       "2  63.679853  75.430328    68.511797  ...  46.6951   0.000005      0.000011   \n",
       "\n",
       "   LC_WINDDIR  LC_WINDSPEED  LC_RAD60  LC_TEMP_QCL0  LC_TEMP_QCL1  \\\n",
       "0   18.411978      0.118076  31.76225      2.536298      2.543836   \n",
       "1   18.411978      0.118076  31.76225      2.536298      2.543836   \n",
       "2   18.411978      0.118076  31.76225      2.536298      2.543836   \n",
       "\n",
       "   LC_TEMP_QCL2  LC_TEMP_QCL3  \n",
       "0      2.531809      2.428479  \n",
       "1      2.531809      2.428479  \n",
       "2      2.531809      2.428479  \n",
       "\n",
       "[3 rows x 22 columns]"
      ]
     },
     "execution_count": 96,
     "metadata": {},
     "output_type": "execute_result"
    }
   ],
   "source": [
    "data_model_meteo.head(3)"
   ]
  },
  {
   "cell_type": "code",
   "execution_count": 97,
   "metadata": {},
   "outputs": [
    {
     "data": {
      "text/plain": [
       "(55469, 22)"
      ]
     },
     "execution_count": 97,
     "metadata": {},
     "output_type": "execute_result"
    }
   ],
   "source": [
    "data_model_meteo.shape"
   ]
  },
  {
   "cell_type": "code",
   "execution_count": 98,
   "metadata": {},
   "outputs": [],
   "source": [
    "## split train, test data\n",
    "from sklearn.model_selection import train_test_split\n",
    "train_df, val_df = train_test_split(data_model_meteo, test_size=0.2, random_state = 7)"
   ]
  },
  {
   "cell_type": "code",
   "execution_count": 99,
   "metadata": {},
   "outputs": [],
   "source": [
    "target_variable = [\"lamax\", \"laeq\", \"lceq\", \"lcpeak\"]\n"
   ]
  },
  {
   "cell_type": "code",
   "execution_count": 100,
   "metadata": {},
   "outputs": [],
   "source": [
    "X_train = train_df.drop(target_variable + [\"date\"], axis = 1)\n",
    "X_val = val_df.drop(target_variable + [\"date\"], axis = 1)"
   ]
  },
  {
   "cell_type": "code",
   "execution_count": 101,
   "metadata": {},
   "outputs": [
    {
     "data": {
      "text/plain": [
       "Index(['object_id', 'hour', 'month', 'weekday', 'LC_HUMIDITY', 'LC_DWPTEMP',\n",
       "       'LC_n', 'LC_RAD', 'LC_RAININ', 'LC_DAILYRAIN', 'LC_WINDDIR',\n",
       "       'LC_WINDSPEED', 'LC_RAD60', 'LC_TEMP_QCL0', 'LC_TEMP_QCL1',\n",
       "       'LC_TEMP_QCL2', 'LC_TEMP_QCL3'],\n",
       "      dtype='object')"
      ]
     },
     "execution_count": 101,
     "metadata": {},
     "output_type": "execute_result"
    }
   ],
   "source": [
    "X_train.columns"
   ]
  },
  {
   "cell_type": "code",
   "execution_count": 102,
   "metadata": {},
   "outputs": [
    {
     "data": {
      "text/plain": [
       "object_id         int64\n",
       "hour              int64\n",
       "month             int64\n",
       "weekday          object\n",
       "LC_HUMIDITY     float64\n",
       "LC_DWPTEMP      float64\n",
       "LC_n            float64\n",
       "LC_RAD          float64\n",
       "LC_RAININ       float64\n",
       "LC_DAILYRAIN    float64\n",
       "LC_WINDDIR      float64\n",
       "LC_WINDSPEED    float64\n",
       "LC_RAD60        float64\n",
       "LC_TEMP_QCL0    float64\n",
       "LC_TEMP_QCL1    float64\n",
       "LC_TEMP_QCL2    float64\n",
       "LC_TEMP_QCL3    float64\n",
       "dtype: object"
      ]
     },
     "execution_count": 102,
     "metadata": {},
     "output_type": "execute_result"
    }
   ],
   "source": [
    "X_train.dtypes"
   ]
  },
  {
   "cell_type": "code",
   "execution_count": 103,
   "metadata": {},
   "outputs": [],
   "source": [
    "y_train = train_df[target_variable]\n",
    "y_val = val_df[target_variable]"
   ]
  },
  {
   "cell_type": "code",
   "execution_count": 104,
   "metadata": {},
   "outputs": [],
   "source": [
    "one_hot_var = ['object_id', \"hour\", \"month\", \"weekday\"]\n",
    "numerical_var = [col for col in X_train.columns if col not in one_hot_var]"
   ]
  },
  {
   "cell_type": "code",
   "execution_count": 105,
   "metadata": {},
   "outputs": [
    {
     "data": {
      "text/html": [
       "<style>#sk-container-id-2 {color: black;background-color: white;}#sk-container-id-2 pre{padding: 0;}#sk-container-id-2 div.sk-toggleable {background-color: white;}#sk-container-id-2 label.sk-toggleable__label {cursor: pointer;display: block;width: 100%;margin-bottom: 0;padding: 0.3em;box-sizing: border-box;text-align: center;}#sk-container-id-2 label.sk-toggleable__label-arrow:before {content: \"▸\";float: left;margin-right: 0.25em;color: #696969;}#sk-container-id-2 label.sk-toggleable__label-arrow:hover:before {color: black;}#sk-container-id-2 div.sk-estimator:hover label.sk-toggleable__label-arrow:before {color: black;}#sk-container-id-2 div.sk-toggleable__content {max-height: 0;max-width: 0;overflow: hidden;text-align: left;background-color: #f0f8ff;}#sk-container-id-2 div.sk-toggleable__content pre {margin: 0.2em;color: black;border-radius: 0.25em;background-color: #f0f8ff;}#sk-container-id-2 input.sk-toggleable__control:checked~div.sk-toggleable__content {max-height: 200px;max-width: 100%;overflow: auto;}#sk-container-id-2 input.sk-toggleable__control:checked~label.sk-toggleable__label-arrow:before {content: \"▾\";}#sk-container-id-2 div.sk-estimator input.sk-toggleable__control:checked~label.sk-toggleable__label {background-color: #d4ebff;}#sk-container-id-2 div.sk-label input.sk-toggleable__control:checked~label.sk-toggleable__label {background-color: #d4ebff;}#sk-container-id-2 input.sk-hidden--visually {border: 0;clip: rect(1px 1px 1px 1px);clip: rect(1px, 1px, 1px, 1px);height: 1px;margin: -1px;overflow: hidden;padding: 0;position: absolute;width: 1px;}#sk-container-id-2 div.sk-estimator {font-family: monospace;background-color: #f0f8ff;border: 1px dotted black;border-radius: 0.25em;box-sizing: border-box;margin-bottom: 0.5em;}#sk-container-id-2 div.sk-estimator:hover {background-color: #d4ebff;}#sk-container-id-2 div.sk-parallel-item::after {content: \"\";width: 100%;border-bottom: 1px solid gray;flex-grow: 1;}#sk-container-id-2 div.sk-label:hover label.sk-toggleable__label {background-color: #d4ebff;}#sk-container-id-2 div.sk-serial::before {content: \"\";position: absolute;border-left: 1px solid gray;box-sizing: border-box;top: 0;bottom: 0;left: 50%;z-index: 0;}#sk-container-id-2 div.sk-serial {display: flex;flex-direction: column;align-items: center;background-color: white;padding-right: 0.2em;padding-left: 0.2em;position: relative;}#sk-container-id-2 div.sk-item {position: relative;z-index: 1;}#sk-container-id-2 div.sk-parallel {display: flex;align-items: stretch;justify-content: center;background-color: white;position: relative;}#sk-container-id-2 div.sk-item::before, #sk-container-id-2 div.sk-parallel-item::before {content: \"\";position: absolute;border-left: 1px solid gray;box-sizing: border-box;top: 0;bottom: 0;left: 50%;z-index: -1;}#sk-container-id-2 div.sk-parallel-item {display: flex;flex-direction: column;z-index: 1;position: relative;background-color: white;}#sk-container-id-2 div.sk-parallel-item:first-child::after {align-self: flex-end;width: 50%;}#sk-container-id-2 div.sk-parallel-item:last-child::after {align-self: flex-start;width: 50%;}#sk-container-id-2 div.sk-parallel-item:only-child::after {width: 0;}#sk-container-id-2 div.sk-dashed-wrapped {border: 1px dashed gray;margin: 0 0.4em 0.5em 0.4em;box-sizing: border-box;padding-bottom: 0.4em;background-color: white;}#sk-container-id-2 div.sk-label label {font-family: monospace;font-weight: bold;display: inline-block;line-height: 1.2em;}#sk-container-id-2 div.sk-label-container {text-align: center;}#sk-container-id-2 div.sk-container {/* jupyter's `normalize.less` sets `[hidden] { display: none; }` but bootstrap.min.css set `[hidden] { display: none !important; }` so we also need the `!important` here to be able to override the default hidden behavior on the sphinx rendered scikit-learn.org. See: https://github.com/scikit-learn/scikit-learn/issues/21755 */display: inline-block !important;position: relative;}#sk-container-id-2 div.sk-text-repr-fallback {display: none;}</style><div id=\"sk-container-id-2\" class=\"sk-top-container\"><div class=\"sk-text-repr-fallback\"><pre>ColumnTransformer(transformers=[(&#x27;OneHot&#x27;,\n",
       "                                 OneHotEncoder(handle_unknown=&#x27;ignore&#x27;),\n",
       "                                 [&#x27;object_id&#x27;, &#x27;hour&#x27;, &#x27;month&#x27;, &#x27;weekday&#x27;]),\n",
       "                                (&#x27;StandardScaler&#x27;, StandardScaler(),\n",
       "                                 [&#x27;LC_HUMIDITY&#x27;, &#x27;LC_DWPTEMP&#x27;, &#x27;LC_n&#x27;, &#x27;LC_RAD&#x27;,\n",
       "                                  &#x27;LC_RAININ&#x27;, &#x27;LC_DAILYRAIN&#x27;, &#x27;LC_WINDDIR&#x27;,\n",
       "                                  &#x27;LC_WINDSPEED&#x27;, &#x27;LC_RAD60&#x27;, &#x27;LC_TEMP_QCL0&#x27;,\n",
       "                                  &#x27;LC_TEMP_QCL1&#x27;, &#x27;LC_TEMP_QCL2&#x27;,\n",
       "                                  &#x27;LC_TEMP_QCL3&#x27;])])</pre><b>In a Jupyter environment, please rerun this cell to show the HTML representation or trust the notebook. <br />On GitHub, the HTML representation is unable to render, please try loading this page with nbviewer.org.</b></div><div class=\"sk-container\" hidden><div class=\"sk-item sk-dashed-wrapped\"><div class=\"sk-label-container\"><div class=\"sk-label sk-toggleable\"><input class=\"sk-toggleable__control sk-hidden--visually\" id=\"sk-estimator-id-6\" type=\"checkbox\" ><label for=\"sk-estimator-id-6\" class=\"sk-toggleable__label sk-toggleable__label-arrow\">ColumnTransformer</label><div class=\"sk-toggleable__content\"><pre>ColumnTransformer(transformers=[(&#x27;OneHot&#x27;,\n",
       "                                 OneHotEncoder(handle_unknown=&#x27;ignore&#x27;),\n",
       "                                 [&#x27;object_id&#x27;, &#x27;hour&#x27;, &#x27;month&#x27;, &#x27;weekday&#x27;]),\n",
       "                                (&#x27;StandardScaler&#x27;, StandardScaler(),\n",
       "                                 [&#x27;LC_HUMIDITY&#x27;, &#x27;LC_DWPTEMP&#x27;, &#x27;LC_n&#x27;, &#x27;LC_RAD&#x27;,\n",
       "                                  &#x27;LC_RAININ&#x27;, &#x27;LC_DAILYRAIN&#x27;, &#x27;LC_WINDDIR&#x27;,\n",
       "                                  &#x27;LC_WINDSPEED&#x27;, &#x27;LC_RAD60&#x27;, &#x27;LC_TEMP_QCL0&#x27;,\n",
       "                                  &#x27;LC_TEMP_QCL1&#x27;, &#x27;LC_TEMP_QCL2&#x27;,\n",
       "                                  &#x27;LC_TEMP_QCL3&#x27;])])</pre></div></div></div><div class=\"sk-parallel\"><div class=\"sk-parallel-item\"><div class=\"sk-item\"><div class=\"sk-label-container\"><div class=\"sk-label sk-toggleable\"><input class=\"sk-toggleable__control sk-hidden--visually\" id=\"sk-estimator-id-7\" type=\"checkbox\" ><label for=\"sk-estimator-id-7\" class=\"sk-toggleable__label sk-toggleable__label-arrow\">OneHot</label><div class=\"sk-toggleable__content\"><pre>[&#x27;object_id&#x27;, &#x27;hour&#x27;, &#x27;month&#x27;, &#x27;weekday&#x27;]</pre></div></div></div><div class=\"sk-serial\"><div class=\"sk-item\"><div class=\"sk-estimator sk-toggleable\"><input class=\"sk-toggleable__control sk-hidden--visually\" id=\"sk-estimator-id-8\" type=\"checkbox\" ><label for=\"sk-estimator-id-8\" class=\"sk-toggleable__label sk-toggleable__label-arrow\">OneHotEncoder</label><div class=\"sk-toggleable__content\"><pre>OneHotEncoder(handle_unknown=&#x27;ignore&#x27;)</pre></div></div></div></div></div></div><div class=\"sk-parallel-item\"><div class=\"sk-item\"><div class=\"sk-label-container\"><div class=\"sk-label sk-toggleable\"><input class=\"sk-toggleable__control sk-hidden--visually\" id=\"sk-estimator-id-9\" type=\"checkbox\" ><label for=\"sk-estimator-id-9\" class=\"sk-toggleable__label sk-toggleable__label-arrow\">StandardScaler</label><div class=\"sk-toggleable__content\"><pre>[&#x27;LC_HUMIDITY&#x27;, &#x27;LC_DWPTEMP&#x27;, &#x27;LC_n&#x27;, &#x27;LC_RAD&#x27;, &#x27;LC_RAININ&#x27;, &#x27;LC_DAILYRAIN&#x27;, &#x27;LC_WINDDIR&#x27;, &#x27;LC_WINDSPEED&#x27;, &#x27;LC_RAD60&#x27;, &#x27;LC_TEMP_QCL0&#x27;, &#x27;LC_TEMP_QCL1&#x27;, &#x27;LC_TEMP_QCL2&#x27;, &#x27;LC_TEMP_QCL3&#x27;]</pre></div></div></div><div class=\"sk-serial\"><div class=\"sk-item\"><div class=\"sk-estimator sk-toggleable\"><input class=\"sk-toggleable__control sk-hidden--visually\" id=\"sk-estimator-id-10\" type=\"checkbox\" ><label for=\"sk-estimator-id-10\" class=\"sk-toggleable__label sk-toggleable__label-arrow\">StandardScaler</label><div class=\"sk-toggleable__content\"><pre>StandardScaler()</pre></div></div></div></div></div></div></div></div></div></div>"
      ],
      "text/plain": [
       "ColumnTransformer(transformers=[('OneHot',\n",
       "                                 OneHotEncoder(handle_unknown='ignore'),\n",
       "                                 ['object_id', 'hour', 'month', 'weekday']),\n",
       "                                ('StandardScaler', StandardScaler(),\n",
       "                                 ['LC_HUMIDITY', 'LC_DWPTEMP', 'LC_n', 'LC_RAD',\n",
       "                                  'LC_RAININ', 'LC_DAILYRAIN', 'LC_WINDDIR',\n",
       "                                  'LC_WINDSPEED', 'LC_RAD60', 'LC_TEMP_QCL0',\n",
       "                                  'LC_TEMP_QCL1', 'LC_TEMP_QCL2',\n",
       "                                  'LC_TEMP_QCL3'])])"
      ]
     },
     "execution_count": 105,
     "metadata": {},
     "output_type": "execute_result"
    }
   ],
   "source": [
    "from sklearn.compose import ColumnTransformer\n",
    "from sklearn.preprocessing import OneHotEncoder\n",
    "from sklearn.preprocessing import StandardScaler\n",
    "t = ColumnTransformer(\n",
    "    transformers = [\n",
    "        ('OneHot', OneHotEncoder(handle_unknown='ignore'), one_hot_var),\n",
    "        ('StandardScaler', StandardScaler(), numerical_var)\n",
    "        \n",
    "    ])\n",
    "\n",
    "# fit the encoder\n",
    "t.fit(X_train)"
   ]
  },
  {
   "cell_type": "code",
   "execution_count": 106,
   "metadata": {},
   "outputs": [],
   "source": [
    "## save columnstransformer\n",
    "\n",
    "with open(\"../model/model_noise_level_file42/encoder_model_file42_meteo.pkl\", 'wb') as file:\n",
    "    pickle.dump(t, file)"
   ]
  },
  {
   "cell_type": "code",
   "execution_count": 107,
   "metadata": {},
   "outputs": [],
   "source": [
    "# create pandas DataFrame from sparse matrix\n",
    "\n",
    "from scipy.sparse import csr_matrix\n",
    "\n",
    "X_train = pd.DataFrame.sparse.from_spmatrix(csr_matrix(t.fit_transform(X_train)))\n",
    "X_train.columns  = t.get_feature_names_out()\n",
    "\n",
    "X_val = pd.DataFrame.sparse.from_spmatrix(csr_matrix(t.fit_transform(X_val)))\n",
    "X_val.columns  = t.get_feature_names_out()\n"
   ]
  },
  {
   "cell_type": "code",
   "execution_count": 108,
   "metadata": {},
   "outputs": [
    {
     "data": {
      "text/plain": [
       "Index(['OneHot__object_id_255439', 'OneHot__object_id_255440',\n",
       "       'OneHot__object_id_255441', 'OneHot__object_id_255442',\n",
       "       'OneHot__object_id_255443', 'OneHot__object_id_255444',\n",
       "       'OneHot__object_id_280324', 'OneHot__object_id_303910',\n",
       "       'OneHot__hour_0', 'OneHot__hour_1', 'OneHot__hour_2', 'OneHot__hour_3',\n",
       "       'OneHot__hour_4', 'OneHot__hour_5', 'OneHot__hour_6', 'OneHot__hour_7',\n",
       "       'OneHot__hour_8', 'OneHot__hour_9', 'OneHot__hour_10',\n",
       "       'OneHot__hour_11', 'OneHot__hour_12', 'OneHot__hour_13',\n",
       "       'OneHot__hour_14', 'OneHot__hour_15', 'OneHot__hour_16',\n",
       "       'OneHot__hour_17', 'OneHot__hour_18', 'OneHot__hour_19',\n",
       "       'OneHot__hour_20', 'OneHot__hour_21', 'OneHot__hour_22',\n",
       "       'OneHot__hour_23', 'OneHot__month_1', 'OneHot__month_2',\n",
       "       'OneHot__month_3', 'OneHot__month_4', 'OneHot__month_5',\n",
       "       'OneHot__month_6', 'OneHot__month_7', 'OneHot__month_8',\n",
       "       'OneHot__month_9', 'OneHot__month_10', 'OneHot__month_11',\n",
       "       'OneHot__month_12', 'OneHot__weekday_Fri', 'OneHot__weekday_Mon',\n",
       "       'OneHot__weekday_Sat', 'OneHot__weekday_Sun', 'OneHot__weekday_Thu',\n",
       "       'OneHot__weekday_Tue', 'OneHot__weekday_Wed',\n",
       "       'StandardScaler__LC_HUMIDITY', 'StandardScaler__LC_DWPTEMP',\n",
       "       'StandardScaler__LC_n', 'StandardScaler__LC_RAD',\n",
       "       'StandardScaler__LC_RAININ', 'StandardScaler__LC_DAILYRAIN',\n",
       "       'StandardScaler__LC_WINDDIR', 'StandardScaler__LC_WINDSPEED',\n",
       "       'StandardScaler__LC_RAD60', 'StandardScaler__LC_TEMP_QCL0',\n",
       "       'StandardScaler__LC_TEMP_QCL1', 'StandardScaler__LC_TEMP_QCL2',\n",
       "       'StandardScaler__LC_TEMP_QCL3'],\n",
       "      dtype='object')"
      ]
     },
     "execution_count": 108,
     "metadata": {},
     "output_type": "execute_result"
    }
   ],
   "source": [
    "X_train.columns"
   ]
  },
  {
   "cell_type": "code",
   "execution_count": null,
   "metadata": {},
   "outputs": [],
   "source": [
    "# Define the model parameters\n",
    "model_params = {\n",
    "    'random_forest': {\n",
    "        'model': RandomForestRegressor(),\n",
    "        'params': {\n",
    "            'n_estimators': randint(50, 100),\n",
    "            'max_depth': randint(3, 50),\n",
    "            'max_features': ['auto', 'sqrt'],\n",
    "            'min_samples_split': randint(2, 20),\n",
    "            'min_samples_leaf': randint(1, 10),\n",
    "            'bootstrap': [True, False]\n",
    "        }\n",
    "    },\n",
    "    'gradient_boosting': {\n",
    "        'model': GradientBoostingRegressor(),\n",
    "        'params': {\n",
    "            'n_estimators': randint(50, 100),\n",
    "            'learning_rate': uniform(0.01, 0.5),\n",
    "            'max_depth': randint(1, 10),\n",
    "            'min_samples_split': randint(2, 20),\n",
    "            'min_samples_leaf': randint(1, 10)\n",
    "        }\n",
    "    },\n",
    "    \n",
    "    'xgboost': {\n",
    "        'model': xgboost.XGBRegressor(),\n",
    "        'params': {\n",
    "            'n_estimators': randint(50, 100),\n",
    "            'learning_rate': uniform(0.01, 0.5),\n",
    "            'max_depth': randint(1, 10),\n",
    "            'min_child_weight': randint(1, 10),\n",
    "            'gamma': uniform(0, 1),\n",
    "            'reg_alpha': uniform(0, 1),\n",
    "            'reg_lambda': uniform(0, 1),\n",
    "        }\n",
    "    }\n",
    "    \n",
    "}\n",
    "\n",
    "params_dict = {}\n",
    "\n",
    "# Loop through each model in model_params and run RandomizedSearchCV\n",
    "for model_name, model_info in model_params.items():\n",
    "    print(\"Running RandomizedSearchCV for {}...\".format(model_name))\n",
    "    \n",
    "    # Create a RandomizedSearchCV object for the current model\n",
    "    model = model_info['model']\n",
    "    param_dist = model_info['params']\n",
    "    random_search = RandomizedSearchCV(model, param_distributions=param_dist,\n",
    "                                       n_iter=10, cv=5, n_jobs=1, random_state=7)\n",
    "    \n",
    "    # Fit the RandomizedSearchCV object to the data\n",
    "    random_search.fit(X_train, y_train['lcpeak'])\n",
    "    \n",
    "    # Print the best parameters and score\n",
    "    params_dict[model_name] = random_search.best_params_\n",
    "    print(\"Best parameters for {}: \".format(model_name), random_search.best_params_)\n",
    "    print(\"Best score for {}: \".format(model_name), random_search.best_score_)\n",
    "    print(\"\\n\")"
   ]
  },
  {
   "cell_type": "code",
   "execution_count": null,
   "metadata": {},
   "outputs": [],
   "source": [
    "# Save optimal param dictionary\n",
    "pickle.dump(params_dict, open(\"../model/model_noise_level_file42/lcpeak_dict_meteo\", \"wb\"))"
   ]
  },
  {
   "cell_type": "code",
   "execution_count": 109,
   "metadata": {},
   "outputs": [
    {
     "data": {
      "text/plain": [
       "{'random_forest': {'bootstrap': False,\n",
       "  'max_depth': 31,\n",
       "  'max_features': 'sqrt',\n",
       "  'min_samples_leaf': 1,\n",
       "  'min_samples_split': 6,\n",
       "  'n_estimators': 85},\n",
       " 'gradient_boosting': {'learning_rate': 0.4289589971546303,\n",
       "  'max_depth': 8,\n",
       "  'min_samples_leaf': 8,\n",
       "  'min_samples_split': 2,\n",
       "  'n_estimators': 71},\n",
       " 'xgboost': {'gamma': 0.13316944575925016,\n",
       "  'learning_rate': 0.2717062903368829,\n",
       "  'max_depth': 9,\n",
       "  'min_child_weight': 4,\n",
       "  'n_estimators': 98,\n",
       "  'reg_alpha': 0.19335562339240953,\n",
       "  'reg_lambda': 0.100473971701034}}"
      ]
     },
     "execution_count": 109,
     "metadata": {},
     "output_type": "execute_result"
    }
   ],
   "source": [
    "# Load param dictionary\n",
    "lcpeak_dict_meteo = pickle.load(open(\"../model/model_noise_level_file42/lcpeak_dict_meteo\", \"rb\"))\n",
    "lcpeak_dict_meteo"
   ]
  },
  {
   "cell_type": "code",
   "execution_count": 110,
   "metadata": {},
   "outputs": [
    {
     "name": "stdout",
     "output_type": "stream",
     "text": [
      "Train RMSE: 1.3256049999183057\n",
      "Val RMSE: 2.3388216954880083\n",
      "Train MAE: 0.918873780790303\n",
      "Val MAE: 1.6316743094156712\n"
     ]
    }
   ],
   "source": [
    "gb_params = lcpeak_dict_meteo[\"gradient_boosting\"]\n",
    "\n",
    "gb = GradientBoostingRegressor(**gb_params, random_state=7)\n",
    "\n",
    "gb.fit(X_train, y_train[\"lcpeak\"])\n",
    "\n",
    "train_preds = gb.predict(X_train)\n",
    "val_preds = gb.predict(X_val)\n",
    "\n",
    "print(\"Train RMSE:\", np.sqrt(mean_squared_error(train_preds, y_train[\"lcpeak\"])))\n",
    "print(\"Val RMSE:\", np.sqrt(mean_squared_error(val_preds, y_val[\"lcpeak\"])))\n",
    "print(\"Train MAE:\", mean_absolute_error(train_preds, y_train[\"lcpeak\"]))\n",
    "print(\"Val MAE:\", mean_absolute_error(val_preds, y_val[\"lcpeak\"]))"
   ]
  },
  {
   "cell_type": "code",
   "execution_count": 111,
   "metadata": {},
   "outputs": [
    {
     "name": "stdout",
     "output_type": "stream",
     "text": [
      "Train RMSE: 0.8819050810699819\n",
      "Val RMSE: 2.2757907740097716\n",
      "Train MAE: 0.5826451482370608\n",
      "Val MAE: 1.5624158950712714\n"
     ]
    }
   ],
   "source": [
    "rf_params = lcpeak_dict_meteo[\"random_forest\"]\n",
    "\n",
    "rf = RandomForestRegressor(**rf_params, random_state=7)\n",
    "\n",
    "rf.fit(X_train, y_train[\"lcpeak\"])\n",
    "\n",
    "train_preds = rf.predict(X_train)\n",
    "val_preds = rf.predict(X_val)\n",
    "\n",
    "print(\"Train RMSE:\", np.sqrt(mean_squared_error(train_preds, y_train[\"lcpeak\"])))\n",
    "print(\"Val RMSE:\", np.sqrt(mean_squared_error(val_preds, y_val[\"lcpeak\"])))\n",
    "print(\"Train MAE:\", mean_absolute_error(train_preds, y_train[\"lcpeak\"]))\n",
    "print(\"Val MAE:\", mean_absolute_error(val_preds, y_val[\"lcpeak\"]))"
   ]
  },
  {
   "cell_type": "code",
   "execution_count": 112,
   "metadata": {},
   "outputs": [
    {
     "name": "stdout",
     "output_type": "stream",
     "text": [
      "Train RMSE: 1.1126898339349605\n",
      "Val RMSE: 2.2474710779172913\n",
      "Train MAE: 0.7719166703783709\n",
      "Val MAE: 1.6200955616113704\n"
     ]
    }
   ],
   "source": [
    "import xgboost\n",
    "\n",
    "xgb_params = lcpeak_dict_meteo[\"xgboost\"]\n",
    "\n",
    "xgb = xgboost.XGBRegressor(**xgb_params, random_state=7)\n",
    "\n",
    "xgb.fit(X_train, y_train[\"lcpeak\"])\n",
    "\n",
    "train_preds = xgb.predict(X_train)\n",
    "val_preds = xgb.predict(X_val)\n",
    "\n",
    "\n",
    "print(\"Train RMSE:\", np.sqrt(mean_squared_error(train_preds, y_train[\"lcpeak\"])))\n",
    "print(\"Val RMSE:\", np.sqrt(mean_squared_error(val_preds, y_val[\"lcpeak\"])))\n",
    "print(\"Train MAE:\", mean_absolute_error(train_preds, y_train[\"lcpeak\"]))\n",
    "print(\"Val MAE:\", mean_absolute_error(val_preds, y_val[\"lcpeak\"]))"
   ]
  },
  {
   "cell_type": "code",
   "execution_count": 113,
   "metadata": {},
   "outputs": [
    {
     "data": {
      "text/plain": [
       "Text(0, 0.5, 'y val')"
      ]
     },
     "execution_count": 113,
     "metadata": {},
     "output_type": "execute_result"
    },
    {
     "data": {
      "image/png": "[encoded data removed]",
      "text/plain": [
       "<Figure size 640x480 with 1 Axes>"
      ]
     },
     "metadata": {},
     "output_type": "display_data"
    }
   ],
   "source": [
    "plt.scatter(val_preds, y_val[\"lcpeak\"])\n",
    "plt.xlabel(\"y pred\")\n",
    "plt.ylabel(\"y val\")"
   ]
  },
  {
   "cell_type": "code",
   "execution_count": 114,
   "metadata": {},
   "outputs": [
    {
     "data": {
      "text/plain": [
       "0.7729109805718346"
      ]
     },
     "execution_count": 114,
     "metadata": {},
     "output_type": "execute_result"
    }
   ],
   "source": [
    "r2_score(val_preds, y_val[\"lcpeak\"])"
   ]
  },
  {
   "cell_type": "code",
   "execution_count": 115,
   "metadata": {},
   "outputs": [],
   "source": [
    "## save model\n",
    "\n",
    "pickle.dump(xgb, open(\"../model/model_noise_level_file42/xgb_lcpeak_meteo.pkl\", \"wb\"))"
   ]
  },
  {
   "cell_type": "code",
   "execution_count": null,
   "metadata": {},
   "outputs": [],
   "source": []
  }
 ],
 "metadata": {
  "colab": {
   "authorship_tag": "ABX9TyNx8zMl9LmNa6g7LlV1K8DU",
   "provenance": []
  },
  "kernelspec": {
   "display_name": "Python 3 (ipykernel)",
   "language": "python",
   "name": "python3"
  },
  "language_info": {
   "codemirror_mode": {
    "name": "ipython",
    "version": 3
   },
   "file_extension": ".py",
   "mimetype": "text/x-python",
   "name": "python",
   "nbconvert_exporter": "python",
   "pygments_lexer": "ipython3",
   "version": "3.10.11"
  }
 },
 "nbformat": 4,
 "nbformat_minor": 1
}
