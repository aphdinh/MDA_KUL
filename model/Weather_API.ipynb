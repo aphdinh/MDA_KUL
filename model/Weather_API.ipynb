{
  "cells": [
    {
      "cell_type": "code",
      "execution_count": 1,
      "metadata": {
        "id": "0ZubX4sC_2TV"
      },
      "outputs": [],
      "source": [
        "import pandas as pd\n",
        "import datetime as dt"
      ]
    },
    {
      "cell_type": "code",
      "execution_count": 2,
      "metadata": {
        "id": "fNZd-UXpAKzK"
      },
      "outputs": [],
      "source": [
        "# Choosing not to hide API Key with Amazon secret because free API, seems like unnecssary effort? Also no idea how that works tbh\n",
        "weather_json = pd.read_json(\"https://api.weatherapi.com/v1/forecast.json?key=70f3d6e807464250af5163556231505&q=Leuven&days=10&aqi=no&alerts=no\")\n"
      ]
    },
    {
      "attachments": {},
      "cell_type": "markdown",
      "metadata": {
        "id": "jU-zZE8jFroT"
      },
      "source": [
        "In our historic weather data we have:\n",
        "\n",
        "*  'StandardScaler__LC_HUMIDITY',\n",
        "*  'StandardScaler__LC_DWPTEMP',\n",
        "*   'StandardScaler__LC_n',\n",
        "*  'StandardScaler__LC_RAD',\n",
        "*  'StandardScaler__LC_RAININ',\n",
        "*  'StandardScaler__LC_DAILYRAIN',\n",
        "*  'StandardScaler__LC_WINDDIR',\n",
        "*  'StandardScaler__LC_WINDSPEED',\n",
        "*  'StandardScaler__LC_RAD60',\n",
        "*  'StandardScaler__LC_TEMP_QCL0',\n",
        "*  'StandardScaler__LC_TEMP_QCL1',\n",
        "*  'StandardScaler__LC_TEMP_QCL2',\n",
        "*  'StandardScaler__LC_TEMP_QCL3'\n",
        "\n",
        "\n"
      ]
    },
    {
      "attachments": {},
      "cell_type": "markdown",
      "metadata": {
        "id": "wHaTzrWXHRZH"
      },
      "source": [
        "Which we can match with API:\n",
        "\n",
        "* humidity\n",
        "* dewpoint_c\n",
        "* We should drop _LC_N\n",
        "* uv ([divide by 40m²/W for per second, then multiply for exposure ](https://www.researchgate.net/post/How-can-I-convert-Ultra-Violet-index-into-Ultra-Violet-irradiation-Dose#:~:text=The%20UV%20index%20is%20a,daily%20mean%20of%20UV%20irradiance.))\n",
        "* precip_mm \n",
        "* totalprecip_mm (from day not hour json part), can only do that for t=0 because otherwise it is a forecast? E.g. could sum over the expected amount of rain till that point on the day\n",
        "* Need unscaled + there appears to be an issue with the way we handel it because the values make no sense. Can then use wind_degree\n",
        "* wind_kph*1000/3600\n",
        "* Should take either this or RAD imo. Just the same thing\n",
        "* temp_c (Imo use this for all 3 simply take average/median of 4 here)\n",
        "\n"
      ]
    },
    {
      "cell_type": "code",
      "execution_count": 3,
      "metadata": {
        "id": "apRyDq8sOzbe"
      },
      "outputs": [],
      "source": [
        "def fetch_forecast(day:int, hour:int):\n",
        "  \"\"\"\n",
        "  Day must be within next 10 days with 0 being today and 9 being the max \n",
        "  hour of day 0 till 23 where hour corresponds to period of e.g. 00:00:00 till 00:59:59 etc.\n",
        "\n",
        "  Returns df with correctly ordered columns for current model\n",
        "  \"\"\"\n",
        "  # If used in website we could optimize for cache\n",
        "  api_pull =  pd.read_json(\"https://api.weatherapi.com/v1/forecast.json?key=70f3d6e807464250af5163556231505&q=London&days=10&aqi=no&alerts=no\")\n",
        "  df = pd.json_normalize(api_pull[\"forecast\"][\"forecastday\"], \"hour\") \n",
        "  \n",
        "  # Selecting only relevant date\n",
        "  df[\"date\"]=pd.to_datetime(df[\"time\"]).dt.date\n",
        "  df=df.loc[(df[\"date\"]==(dt.date.today()+dt.timedelta(days=day)))]\n",
        "  \n",
        "  # Adding up the expected amount of rain on the day so far\n",
        "  total_rain = (df.iloc[:hour])[\"precip_mm\"].sum()\n",
        "  df = df.iloc[[hour]]\n",
        "  df[\"LC_DAILYRAIN\"] = total_rain\n",
        "  \n",
        "  # Selecting relevant columns in order and renaming\n",
        "  df= df[[\"time\", \"humidity\", \"dewpoint_c\",\"uv\",\"precip_mm\",\"LC_DAILYRAIN\",\"wind_degree\",\"wind_kph\",\"temp_c\"]]\n",
        "  df.rename(columns={\"humidity\":\"LC_HUMIDITY\",\"dewpoint_c\":\"LC_DWPTEMP\",\"uv\":\"LC_RAD\",\"precip_mm\":\"LC_RAININ\",\"wind_degree\":\"LC_WINDDIR\",\n",
        "                     \"wind_kph\":\"LC_WINDSPEED\",\"temp_c\":\"LC_TEMP_QCL0\"},inplace=True)\n",
        "  \n",
        "  # Multipliyng UV index with 90 (*0.025 *3600) yields  hourly W/m² radiation = RAD60, normal RAD unclear will use same methodology for now\n",
        "  df[\"LC_RAD\"] = df[\"LC_RAD\"]*90\n",
        "  df.insert(8, column=\"RAD_60\", value=df[\"LC_RAD\"])\n",
        "  df[\"LC_RAD60\"] =df[\"LC_RAD\"]\n",
        "  \n",
        "  # Time settings\n",
        "  df[\"time\"]= pd.to_datetime(df[\"time\"])\n",
        "  df[\"hour\"]= df[\"time\"].dt.hour\n",
        "  df[\"month\"]=df[\"time\"].dt.month\n",
        "  df[\"weekday\"] = df[\"time\"].dt.strftime('%a')\n",
        "  df= df.drop(\"time\",axis=1)\n",
        "\n",
        "  # Changing wind into m/s from kmph, doing it this way to make mistakes in formula more obivous\n",
        "  df[\"LC_WINDSPEED\"] = df[\"LC_WINDSPEED\"]*1000/3600\n",
        "\n",
        "  # Using temperature we have for all measurments for now\n",
        "  df[\"LC_TEMP_QCL1\"] = df[\"LC_TEMP_QCL0\"]\n",
        "  df[\"LC_TEMP_QCL2\"] = df[\"LC_TEMP_QCL0\"]\n",
        "  df[\"LC_TEMP_QCL3\"] = df[\"LC_TEMP_QCL0\"]\n",
        "\n",
        "  # Doing this so columns have right order for current model\n",
        "  df= df[['hour', 'month', 'weekday', 'LC_HUMIDITY', 'LC_DWPTEMP', 'LC_RAD', 'LC_RAININ', 'LC_DAILYRAIN', \n",
        "          'LC_WINDSPEED', 'LC_RAD60', 'LC_TEMP_QCL0', 'LC_TEMP_QCL1', 'LC_TEMP_QCL2', 'LC_TEMP_QCL3']]\n",
        "  return df\n"
      ]
    },
    {
      "cell_type": "code",
      "execution_count": 4,
      "metadata": {
        "colab": {
          "base_uri": "https://localhost:8080/",
          "height": 145
        },
        "id": "BZIF6Wi6O_CT",
        "outputId": "53e834a5-a9ac-40f0-93b5-d91b22498520"
      },
      "outputs": [
        {
          "data": {
            "text/html": [
              "<div>\n",
              "<style scoped>\n",
              "    .dataframe tbody tr th:only-of-type {\n",
              "        vertical-align: middle;\n",
              "    }\n",
              "\n",
              "    .dataframe tbody tr th {\n",
              "        vertical-align: top;\n",
              "    }\n",
              "\n",
              "    .dataframe thead th {\n",
              "        text-align: right;\n",
              "    }\n",
              "</style>\n",
              "<table border=\"1\" class=\"dataframe\">\n",
              "  <thead>\n",
              "    <tr style=\"text-align: right;\">\n",
              "      <th></th>\n",
              "      <th>hour</th>\n",
              "      <th>month</th>\n",
              "      <th>weekday</th>\n",
              "      <th>LC_HUMIDITY</th>\n",
              "      <th>LC_DWPTEMP</th>\n",
              "      <th>LC_RAD</th>\n",
              "      <th>LC_RAININ</th>\n",
              "      <th>LC_DAILYRAIN</th>\n",
              "      <th>LC_WINDSPEED</th>\n",
              "      <th>LC_RAD60</th>\n",
              "      <th>LC_TEMP_QCL0</th>\n",
              "      <th>LC_TEMP_QCL1</th>\n",
              "      <th>LC_TEMP_QCL2</th>\n",
              "      <th>LC_TEMP_QCL3</th>\n",
              "    </tr>\n",
              "  </thead>\n",
              "  <tbody>\n",
              "    <tr>\n",
              "      <th>23</th>\n",
              "      <td>23</td>\n",
              "      <td>5</td>\n",
              "      <td>Sun</td>\n",
              "      <td>84</td>\n",
              "      <td>7.6</td>\n",
              "      <td>90.0</td>\n",
              "      <td>0.0</td>\n",
              "      <td>0.0</td>\n",
              "      <td>3.388889</td>\n",
              "      <td>90.0</td>\n",
              "      <td>10.2</td>\n",
              "      <td>10.2</td>\n",
              "      <td>10.2</td>\n",
              "      <td>10.2</td>\n",
              "    </tr>\n",
              "  </tbody>\n",
              "</table>\n",
              "</div>"
            ],
            "text/plain": [
              "    hour  month weekday  LC_HUMIDITY  LC_DWPTEMP  LC_RAD  LC_RAININ  \\\n",
              "23    23      5     Sun           84         7.6    90.0        0.0   \n",
              "\n",
              "    LC_DAILYRAIN  LC_WINDSPEED  LC_RAD60  LC_TEMP_QCL0  LC_TEMP_QCL1  \\\n",
              "23           0.0      3.388889      90.0          10.2          10.2   \n",
              "\n",
              "    LC_TEMP_QCL2  LC_TEMP_QCL3  \n",
              "23          10.2          10.2  "
            ]
          },
          "execution_count": 4,
          "metadata": {},
          "output_type": "execute_result"
        }
      ],
      "source": [
        "df= fetch_forecast(0, 23)\n",
        "df"
      ]
    },
    {
      "cell_type": "code",
      "execution_count": 5,
      "metadata": {
        "colab": {
          "base_uri": "https://localhost:8080/",
          "height": 145
        },
        "id": "JvHnL49zES1s",
        "outputId": "9b441353-d8f9-4279-d09f-d8a09ea69a9c"
      },
      "outputs": [
        {
          "data": {
            "text/html": [
              "<div>\n",
              "<style scoped>\n",
              "    .dataframe tbody tr th:only-of-type {\n",
              "        vertical-align: middle;\n",
              "    }\n",
              "\n",
              "    .dataframe tbody tr th {\n",
              "        vertical-align: top;\n",
              "    }\n",
              "\n",
              "    .dataframe thead th {\n",
              "        text-align: right;\n",
              "    }\n",
              "</style>\n",
              "<table border=\"1\" class=\"dataframe\">\n",
              "  <thead>\n",
              "    <tr style=\"text-align: right;\">\n",
              "      <th></th>\n",
              "      <th>OneHot__hour_23</th>\n",
              "      <th>OneHot__month_5</th>\n",
              "      <th>OneHot__weekday_Sun</th>\n",
              "      <th>StandardScaler__LC_HUMIDITY</th>\n",
              "      <th>StandardScaler__LC_DWPTEMP</th>\n",
              "      <th>StandardScaler__LC_RAD</th>\n",
              "      <th>StandardScaler__LC_RAININ</th>\n",
              "      <th>StandardScaler__LC_DAILYRAIN</th>\n",
              "      <th>StandardScaler__LC_WINDSPEED</th>\n",
              "      <th>StandardScaler__LC_RAD60</th>\n",
              "      <th>StandardScaler__LC_TEMP_QCL0</th>\n",
              "      <th>StandardScaler__LC_TEMP_QCL1</th>\n",
              "      <th>StandardScaler__LC_TEMP_QCL2</th>\n",
              "      <th>StandardScaler__LC_TEMP_QCL3</th>\n",
              "    </tr>\n",
              "  </thead>\n",
              "  <tbody>\n",
              "    <tr>\n",
              "      <th>0</th>\n",
              "      <td>1.0</td>\n",
              "      <td>1.0</td>\n",
              "      <td>1.0</td>\n",
              "      <td>0.0</td>\n",
              "      <td>0.0</td>\n",
              "      <td>0.0</td>\n",
              "      <td>0.0</td>\n",
              "      <td>0.0</td>\n",
              "      <td>0.0</td>\n",
              "      <td>0.0</td>\n",
              "      <td>0.0</td>\n",
              "      <td>0.0</td>\n",
              "      <td>0.0</td>\n",
              "      <td>0.0</td>\n",
              "    </tr>\n",
              "  </tbody>\n",
              "</table>\n",
              "</div>"
            ],
            "text/plain": [
              "   OneHot__hour_23  OneHot__month_5  OneHot__weekday_Sun  \\\n",
              "0              1.0              1.0                  1.0   \n",
              "\n",
              "   StandardScaler__LC_HUMIDITY  StandardScaler__LC_DWPTEMP  \\\n",
              "0                          0.0                         0.0   \n",
              "\n",
              "   StandardScaler__LC_RAD  StandardScaler__LC_RAININ  \\\n",
              "0                     0.0                        0.0   \n",
              "\n",
              "   StandardScaler__LC_DAILYRAIN  StandardScaler__LC_WINDSPEED  \\\n",
              "0                           0.0                           0.0   \n",
              "\n",
              "   StandardScaler__LC_RAD60  StandardScaler__LC_TEMP_QCL0  \\\n",
              "0                       0.0                           0.0   \n",
              "\n",
              "   StandardScaler__LC_TEMP_QCL1  StandardScaler__LC_TEMP_QCL2  \\\n",
              "0                           0.0                           0.0   \n",
              "\n",
              "   StandardScaler__LC_TEMP_QCL3  \n",
              "0                           0.0  "
            ]
          },
          "execution_count": 5,
          "metadata": {},
          "output_type": "execute_result"
        }
      ],
      "source": [
        "from sklearn.compose import ColumnTransformer\n",
        "from sklearn.preprocessing import OneHotEncoder\n",
        "from sklearn.preprocessing import StandardScaler\n",
        "\n",
        "one_hot_var = [\"hour\", \"month\", \"weekday\"]\n",
        "numerical_var = [col for col in df.columns if col not in one_hot_var]\n",
        "\n",
        "t = ColumnTransformer(\n",
        "    transformers = [\n",
        "        ('OneHot', OneHotEncoder(handle_unknown='ignore'), one_hot_var),\n",
        "        ('StandardScaler', StandardScaler(), numerical_var), \n",
        "        \n",
        "    ] )\n",
        "\n",
        "# fit the encoder\n",
        "t.fit(df)\n",
        "x_live = pd.DataFrame(t.transform(df), columns=t.get_feature_names_out())\n",
        "x_live"
      ]
    },
    {
      "cell_type": "code",
      "execution_count": 6,
      "metadata": {
        "id": "ZBBwx5NZKO5x"
      },
      "outputs": [],
      "source": [
        "# Adding other columns, not too elegant tbh\n",
        "one_hot_cols = ['OneHot__hour_0', 'OneHot__hour_1', 'OneHot__hour_2',\n",
        "       'OneHot__hour_3', 'OneHot__hour_4', 'OneHot__hour_5',\n",
        "       'OneHot__hour_6', 'OneHot__hour_7', 'OneHot__hour_8',\n",
        "       'OneHot__hour_9', 'OneHot__hour_10', 'OneHot__hour_11',\n",
        "       'OneHot__hour_12', 'OneHot__hour_13', 'OneHot__hour_14',\n",
        "       'OneHot__hour_15', 'OneHot__hour_16', 'OneHot__hour_17',\n",
        "       'OneHot__hour_18', 'OneHot__hour_19', 'OneHot__hour_20',\n",
        "       'OneHot__hour_21', 'OneHot__hour_22', 'OneHot__hour_23',\n",
        "       'OneHot__month_1', 'OneHot__month_2', 'OneHot__month_3',\n",
        "       'OneHot__month_4', 'OneHot__month_5', 'OneHot__month_6',\n",
        "       'OneHot__month_7', 'OneHot__month_8', 'OneHot__month_9',\n",
        "       'OneHot__month_10', 'OneHot__month_11', 'OneHot__month_12',\n",
        "       'OneHot__weekday_Fri', 'OneHot__weekday_Mon',\n",
        "       'OneHot__weekday_Sat', 'OneHot__weekday_Sun',\n",
        "       'OneHot__weekday_Thu', 'OneHot__weekday_Tue',\n",
        "       'OneHot__weekday_Wed']\n",
        "\n",
        "for col in one_hot_cols:\n",
        "  if col not in x_live.columns:\n",
        "    x_live[col]=0\n",
        "x_live = x_live[['OneHot__hour_0', 'OneHot__hour_1', 'OneHot__hour_2', 'OneHot__hour_3',\n",
        "       'OneHot__hour_4', 'OneHot__hour_5', 'OneHot__hour_6', 'OneHot__hour_7',\n",
        "       'OneHot__hour_8', 'OneHot__hour_9', 'OneHot__hour_10',\n",
        "       'OneHot__hour_11', 'OneHot__hour_12', 'OneHot__hour_13',\n",
        "       'OneHot__hour_14', 'OneHot__hour_15', 'OneHot__hour_16',\n",
        "       'OneHot__hour_17', 'OneHot__hour_18', 'OneHot__hour_19',\n",
        "       'OneHot__hour_20', 'OneHot__hour_21', 'OneHot__hour_22',\n",
        "       'OneHot__hour_23', 'OneHot__month_1', 'OneHot__month_2',\n",
        "       'OneHot__month_3', 'OneHot__month_4', 'OneHot__month_5',\n",
        "       'OneHot__month_6', 'OneHot__month_7', 'OneHot__month_8',\n",
        "       'OneHot__month_9', 'OneHot__month_10', 'OneHot__month_11',\n",
        "       'OneHot__month_12', 'OneHot__weekday_Fri', 'OneHot__weekday_Mon',\n",
        "       'OneHot__weekday_Sat', 'OneHot__weekday_Sun', 'OneHot__weekday_Thu',\n",
        "       'OneHot__weekday_Tue', 'OneHot__weekday_Wed',\n",
        "       'StandardScaler__LC_HUMIDITY', 'StandardScaler__LC_DWPTEMP',\n",
        "       'StandardScaler__LC_RAD', 'StandardScaler__LC_RAININ',\n",
        "       'StandardScaler__LC_DAILYRAIN', 'StandardScaler__LC_WINDSPEED',\n",
        "       'StandardScaler__LC_RAD60', 'StandardScaler__LC_TEMP_QCL0',\n",
        "       'StandardScaler__LC_TEMP_QCL1', 'StandardScaler__LC_TEMP_QCL2',\n",
        "       'StandardScaler__LC_TEMP_QCL3']]"
      ]
    },
    {
      "cell_type": "code",
      "execution_count": 8,
      "metadata": {
        "colab": {
          "base_uri": "https://localhost:8080/"
        },
        "id": "HPTr9eW1F3wG",
        "outputId": "6c8fec17-6714-4220-c90c-57f1f74b871e"
      },
      "outputs": [],
      "source": [
        "import pickle\n",
        "# load model\n",
        "# Really make sure we use the right versions \n",
        "gb = pickle.load(open(\"gb_50.sav\",\"rb\"))"
      ]
    },
    {
      "cell_type": "code",
      "execution_count": 9,
      "metadata": {
        "colab": {
          "base_uri": "https://localhost:8080/",
          "height": 312
        },
        "id": "kCP7D13XF7Sc",
        "outputId": "f26c06dd-1ac3-4ba9-b0e5-4e094a3a8e7d"
      },
      "outputs": [
        {
          "data": {
            "text/plain": [
              "array([52.10036122])"
            ]
          },
          "execution_count": 9,
          "metadata": {},
          "output_type": "execute_result"
        }
      ],
      "source": [
        "gb.predict(x_live)"
      ]
    }
  ],
  "metadata": {
    "colab": {
      "provenance": []
    },
    "kernelspec": {
      "display_name": "Python 3",
      "name": "python3"
    },
    "language_info": {
      "codemirror_mode": {
        "name": "ipython",
        "version": 3
      },
      "file_extension": ".py",
      "mimetype": "text/x-python",
      "name": "python",
      "nbconvert_exporter": "python",
      "pygments_lexer": "ipython3",
      "version": "3.9.1"
    }
  },
  "nbformat": 4,
  "nbformat_minor": 0
}
