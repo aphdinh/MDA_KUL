{
  "cells": [
    {
      "cell_type": "code",
      "execution_count": 2,
      "metadata": {
        "id": "lARMton5-pER"
      },
      "outputs": [],
      "source": [
        "import pandas as pd\n",
        "from wordcloud import WordCloud\n",
        "import matplotlib.pyplot as plt\n",
        "import numpy as np\n",
        "import seaborn as sns\n",
        "import datetime as dt\n",
        "import xgboost as xgb\n",
        "\n",
        "from sklearn.compose import ColumnTransformer\n",
        "from sklearn.model_selection import train_test_split, cross_validate\n",
        "from sklearn.preprocessing import FunctionTransformer, StandardScaler, LabelEncoder\n",
        "from sklearn.pipeline import Pipeline\n",
        "from sklearn.impute import SimpleImputer\n",
        "from sklearn.preprocessing import StandardScaler\n",
        "from sklearn.linear_model import Ridge, Lasso, ElasticNet\n",
        "from sklearn.metrics import mean_squared_error, r2_score\n",
        "from sklearn.ensemble import ExtraTreesClassifier\n",
        "from sklearn.model_selection import KFold, GridSearchCV, RandomizedSearchCV\n",
        "from sklearn.feature_selection import SelectFromModel\n",
        "from sklearn.ensemble import RandomForestRegressor, GradientBoostingRegressor, ExtraTreesClassifier\n",
        "from sklearn.svm import SVR\n",
        "from scipy.stats import randint, uniform"
      ]
    },
    {
      "cell_type": "code",
      "execution_count": 2,
      "metadata": {
        "colab": {
          "base_uri": "https://localhost:8080/"
        },
        "id": "g5T2DK-Q_D29",
        "outputId": "b01079fb-8b91-4901-a9ad-485b8758e1cd"
      },
      "outputs": [
        {
          "name": "stdout",
          "output_type": "stream",
          "text": [
            "Mounted at /content/drive\n"
          ]
        }
      ],
      "source": [
        "# Residue from running it on Colab\n",
        "from google.colab import drive\n",
        "drive.mount('/content/drive')"
      ]
    },
    {
      "cell_type": "code",
      "execution_count": 42,
      "metadata": {
        "id": "LqZEcP3Y_s_q"
      },
      "outputs": [],
      "source": [
        "data_model = pd.read_csv(\"data_model.csv\")"
      ]
    },
    {
      "cell_type": "code",
      "execution_count": 4,
      "metadata": {
        "colab": {
          "base_uri": "https://localhost:8080/"
        },
        "id": "7a3D-V7w_6NR",
        "outputId": "2f8b060c-064a-451f-8b49-f1865af617ff"
      },
      "outputs": [
        {
          "data": {
            "text/plain": [
              "(20414, 38)"
            ]
          },
          "execution_count": 4,
          "metadata": {},
          "output_type": "execute_result"
        }
      ],
      "source": [
        "data_model.shape"
      ]
    },
    {
      "cell_type": "code",
      "execution_count": null,
      "metadata": {
        "colab": {
          "base_uri": "https://localhost:8080/",
          "height": 337
        },
        "id": "_omzRdsC_8b6",
        "outputId": "63ef3183-420e-469c-eebf-8bef3b142654"
      },
      "outputs": [
        {
          "data": {
            "text/html": [
              "\n",
              "  <div id=\"df-a94c0538-7bb6-4a22-81f4-8a92b23bf64d\">\n",
              "    <div class=\"colab-df-container\">\n",
              "      <div>\n",
              "<style scoped>\n",
              "    .dataframe tbody tr th:only-of-type {\n",
              "        vertical-align: middle;\n",
              "    }\n",
              "\n",
              "    .dataframe tbody tr th {\n",
              "        vertical-align: top;\n",
              "    }\n",
              "\n",
              "    .dataframe thead th {\n",
              "        text-align: right;\n",
              "    }\n",
              "</style>\n",
              "<table border=\"1\" class=\"dataframe\">\n",
              "  <thead>\n",
              "    <tr style=\"text-align: right;\">\n",
              "      <th></th>\n",
              "      <th>object_id</th>\n",
              "      <th>date</th>\n",
              "      <th>hour</th>\n",
              "      <th>month</th>\n",
              "      <th>weekday</th>\n",
              "      <th>laf005_per_hour</th>\n",
              "      <th>laf01_per_hour</th>\n",
              "      <th>laf05_per_hour</th>\n",
              "      <th>laf10_per_hour</th>\n",
              "      <th>laf25_per_hour</th>\n",
              "      <th>...</th>\n",
              "      <th>LC_RAD</th>\n",
              "      <th>LC_RAININ</th>\n",
              "      <th>LC_DAILYRAIN</th>\n",
              "      <th>LC_WINDDIR</th>\n",
              "      <th>LC_WINDSPEED</th>\n",
              "      <th>LC_RAD60</th>\n",
              "      <th>LC_TEMP_QCL0</th>\n",
              "      <th>LC_TEMP_QCL1</th>\n",
              "      <th>LC_TEMP_QCL2</th>\n",
              "      <th>LC_TEMP_QCL3</th>\n",
              "    </tr>\n",
              "  </thead>\n",
              "  <tbody>\n",
              "    <tr>\n",
              "      <th>0</th>\n",
              "      <td>255439</td>\n",
              "      <td>2022-01-04</td>\n",
              "      <td>0</td>\n",
              "      <td>1</td>\n",
              "      <td>Tue</td>\n",
              "      <td>77.2</td>\n",
              "      <td>75.4</td>\n",
              "      <td>70.8</td>\n",
              "      <td>68.9</td>\n",
              "      <td>66.0</td>\n",
              "      <td>...</td>\n",
              "      <td>0.042629</td>\n",
              "      <td>0.000632</td>\n",
              "      <td>0.001512</td>\n",
              "      <td>-13.325044</td>\n",
              "      <td>0.38135</td>\n",
              "      <td>0.042629</td>\n",
              "      <td>7.712096</td>\n",
              "      <td>7.712096</td>\n",
              "      <td>7.699641</td>\n",
              "      <td>7.735827</td>\n",
              "    </tr>\n",
              "    <tr>\n",
              "      <th>1</th>\n",
              "      <td>255440</td>\n",
              "      <td>2022-01-04</td>\n",
              "      <td>0</td>\n",
              "      <td>1</td>\n",
              "      <td>Tue</td>\n",
              "      <td>77.8</td>\n",
              "      <td>75.3</td>\n",
              "      <td>67.9</td>\n",
              "      <td>64.8</td>\n",
              "      <td>60.1</td>\n",
              "      <td>...</td>\n",
              "      <td>0.042629</td>\n",
              "      <td>0.000632</td>\n",
              "      <td>0.001512</td>\n",
              "      <td>-13.325044</td>\n",
              "      <td>0.38135</td>\n",
              "      <td>0.042629</td>\n",
              "      <td>7.712096</td>\n",
              "      <td>7.712096</td>\n",
              "      <td>7.699641</td>\n",
              "      <td>7.735827</td>\n",
              "    </tr>\n",
              "    <tr>\n",
              "      <th>2</th>\n",
              "      <td>255441</td>\n",
              "      <td>2022-01-04</td>\n",
              "      <td>0</td>\n",
              "      <td>1</td>\n",
              "      <td>Tue</td>\n",
              "      <td>76.8</td>\n",
              "      <td>73.0</td>\n",
              "      <td>66.6</td>\n",
              "      <td>63.7</td>\n",
              "      <td>59.6</td>\n",
              "      <td>...</td>\n",
              "      <td>0.042629</td>\n",
              "      <td>0.000632</td>\n",
              "      <td>0.001512</td>\n",
              "      <td>-13.325044</td>\n",
              "      <td>0.38135</td>\n",
              "      <td>0.042629</td>\n",
              "      <td>7.712096</td>\n",
              "      <td>7.712096</td>\n",
              "      <td>7.699641</td>\n",
              "      <td>7.735827</td>\n",
              "    </tr>\n",
              "    <tr>\n",
              "      <th>3</th>\n",
              "      <td>255442</td>\n",
              "      <td>2022-01-04</td>\n",
              "      <td>0</td>\n",
              "      <td>1</td>\n",
              "      <td>Tue</td>\n",
              "      <td>82.5</td>\n",
              "      <td>78.0</td>\n",
              "      <td>67.6</td>\n",
              "      <td>64.3</td>\n",
              "      <td>59.0</td>\n",
              "      <td>...</td>\n",
              "      <td>0.042629</td>\n",
              "      <td>0.000632</td>\n",
              "      <td>0.001512</td>\n",
              "      <td>-13.325044</td>\n",
              "      <td>0.38135</td>\n",
              "      <td>0.042629</td>\n",
              "      <td>7.712096</td>\n",
              "      <td>7.712096</td>\n",
              "      <td>7.699641</td>\n",
              "      <td>7.735827</td>\n",
              "    </tr>\n",
              "  </tbody>\n",
              "</table>\n",
              "<p>4 rows × 38 columns</p>\n",
              "</div>\n",
              "      <button class=\"colab-df-convert\" onclick=\"convertToInteractive('df-a94c0538-7bb6-4a22-81f4-8a92b23bf64d')\"\n",
              "              title=\"Convert this dataframe to an interactive table.\"\n",
              "              style=\"display:none;\">\n",
              "        \n",
              "  <svg xmlns=\"http://www.w3.org/2000/svg\" height=\"24px\"viewBox=\"0 0 24 24\"\n",
              "       width=\"24px\">\n",
              "    <path d=\"M0 0h24v24H0V0z\" fill=\"none\"/>\n",
              "    <path d=\"M18.56 5.44l.94 2.06.94-2.06 2.06-.94-2.06-.94-.94-2.06-.94 2.06-2.06.94zm-11 1L8.5 8.5l.94-2.06 2.06-.94-2.06-.94L8.5 2.5l-.94 2.06-2.06.94zm10 10l.94 2.06.94-2.06 2.06-.94-2.06-.94-.94-2.06-.94 2.06-2.06.94z\"/><path d=\"M17.41 7.96l-1.37-1.37c-.4-.4-.92-.59-1.43-.59-.52 0-1.04.2-1.43.59L10.3 9.45l-7.72 7.72c-.78.78-.78 2.05 0 2.83L4 21.41c.39.39.9.59 1.41.59.51 0 1.02-.2 1.41-.59l7.78-7.78 2.81-2.81c.8-.78.8-2.07 0-2.86zM5.41 20L4 18.59l7.72-7.72 1.47 1.35L5.41 20z\"/>\n",
              "  </svg>\n",
              "      </button>\n",
              "      \n",
              "  <style>\n",
              "    .colab-df-container {\n",
              "      display:flex;\n",
              "      flex-wrap:wrap;\n",
              "      gap: 12px;\n",
              "    }\n",
              "\n",
              "    .colab-df-convert {\n",
              "      background-color: #E8F0FE;\n",
              "      border: none;\n",
              "      border-radius: 50%;\n",
              "      cursor: pointer;\n",
              "      display: none;\n",
              "      fill: #1967D2;\n",
              "      height: 32px;\n",
              "      padding: 0 0 0 0;\n",
              "      width: 32px;\n",
              "    }\n",
              "\n",
              "    .colab-df-convert:hover {\n",
              "      background-color: #E2EBFA;\n",
              "      box-shadow: 0px 1px 2px rgba(60, 64, 67, 0.3), 0px 1px 3px 1px rgba(60, 64, 67, 0.15);\n",
              "      fill: #174EA6;\n",
              "    }\n",
              "\n",
              "    [theme=dark] .colab-df-convert {\n",
              "      background-color: #3B4455;\n",
              "      fill: #D2E3FC;\n",
              "    }\n",
              "\n",
              "    [theme=dark] .colab-df-convert:hover {\n",
              "      background-color: #434B5C;\n",
              "      box-shadow: 0px 1px 3px 1px rgba(0, 0, 0, 0.15);\n",
              "      filter: drop-shadow(0px 1px 2px rgba(0, 0, 0, 0.3));\n",
              "      fill: #FFFFFF;\n",
              "    }\n",
              "  </style>\n",
              "\n",
              "      <script>\n",
              "        const buttonEl =\n",
              "          document.querySelector('#df-a94c0538-7bb6-4a22-81f4-8a92b23bf64d button.colab-df-convert');\n",
              "        buttonEl.style.display =\n",
              "          google.colab.kernel.accessAllowed ? 'block' : 'none';\n",
              "\n",
              "        async function convertToInteractive(key) {\n",
              "          const element = document.querySelector('#df-a94c0538-7bb6-4a22-81f4-8a92b23bf64d');\n",
              "          const dataTable =\n",
              "            await google.colab.kernel.invokeFunction('convertToInteractive',\n",
              "                                                     [key], {});\n",
              "          if (!dataTable) return;\n",
              "\n",
              "          const docLinkHtml = 'Like what you see? Visit the ' +\n",
              "            '<a target=\"_blank\" href=https://colab.research.google.com/notebooks/data_table.ipynb>data table notebook</a>'\n",
              "            + ' to learn more about interactive tables.';\n",
              "          element.innerHTML = '';\n",
              "          dataTable['output_type'] = 'display_data';\n",
              "          await google.colab.output.renderOutput(dataTable, element);\n",
              "          const docLink = document.createElement('div');\n",
              "          docLink.innerHTML = docLinkHtml;\n",
              "          element.appendChild(docLink);\n",
              "        }\n",
              "      </script>\n",
              "    </div>\n",
              "  </div>\n",
              "  "
            ],
            "text/plain": [
              "   object_id        date  hour  month weekday  laf005_per_hour  \\\n",
              "0     255439  2022-01-04     0      1     Tue             77.2   \n",
              "1     255440  2022-01-04     0      1     Tue             77.8   \n",
              "2     255441  2022-01-04     0      1     Tue             76.8   \n",
              "3     255442  2022-01-04     0      1     Tue             82.5   \n",
              "\n",
              "   laf01_per_hour  laf05_per_hour  laf10_per_hour  laf25_per_hour  ...  \\\n",
              "0            75.4            70.8            68.9            66.0  ...   \n",
              "1            75.3            67.9            64.8            60.1  ...   \n",
              "2            73.0            66.6            63.7            59.6  ...   \n",
              "3            78.0            67.6            64.3            59.0  ...   \n",
              "\n",
              "     LC_RAD  LC_RAININ  LC_DAILYRAIN  LC_WINDDIR  LC_WINDSPEED  LC_RAD60  \\\n",
              "0  0.042629   0.000632      0.001512  -13.325044       0.38135  0.042629   \n",
              "1  0.042629   0.000632      0.001512  -13.325044       0.38135  0.042629   \n",
              "2  0.042629   0.000632      0.001512  -13.325044       0.38135  0.042629   \n",
              "3  0.042629   0.000632      0.001512  -13.325044       0.38135  0.042629   \n",
              "\n",
              "   LC_TEMP_QCL0  LC_TEMP_QCL1  LC_TEMP_QCL2  LC_TEMP_QCL3  \n",
              "0      7.712096      7.712096      7.699641      7.735827  \n",
              "1      7.712096      7.712096      7.699641      7.735827  \n",
              "2      7.712096      7.712096      7.699641      7.735827  \n",
              "3      7.712096      7.712096      7.699641      7.735827  \n",
              "\n",
              "[4 rows x 38 columns]"
            ]
          },
          "execution_count": 7,
          "metadata": {},
          "output_type": "execute_result"
        }
      ],
      "source": [
        "data_model.head(4)"
      ]
    },
    {
      "cell_type": "code",
      "execution_count": 43,
      "metadata": {
        "id": "UrZ_niuUFOK0"
      },
      "outputs": [],
      "source": [
        "## split train, test data\n",
        "from sklearn.model_selection import train_test_split\n",
        "train_df, val_df = train_test_split(data_model, test_size=0.2, random_state = 7)"
      ]
    },
    {
      "cell_type": "code",
      "execution_count": 44,
      "metadata": {
        "colab": {
          "base_uri": "https://localhost:8080/"
        },
        "id": "jw_v1j0oFr1v",
        "outputId": "c935149e-4155-4ca6-f81f-b313e87d4487"
      },
      "outputs": [
        {
          "data": {
            "text/plain": [
              "(16331, 38)"
            ]
          },
          "execution_count": 44,
          "metadata": {},
          "output_type": "execute_result"
        }
      ],
      "source": [
        "train_df.shape"
      ]
    },
    {
      "cell_type": "code",
      "execution_count": 45,
      "metadata": {
        "colab": {
          "base_uri": "https://localhost:8080/",
          "height": 289
        },
        "id": "T4va9JIMF1ZB",
        "outputId": "78ed14e7-df52-4fbc-c61c-8f4a663ae8eb"
      },
      "outputs": [
        {
          "data": {
            "text/html": [
              "<div>\n",
              "<style scoped>\n",
              "    .dataframe tbody tr th:only-of-type {\n",
              "        vertical-align: middle;\n",
              "    }\n",
              "\n",
              "    .dataframe tbody tr th {\n",
              "        vertical-align: top;\n",
              "    }\n",
              "\n",
              "    .dataframe thead th {\n",
              "        text-align: right;\n",
              "    }\n",
              "</style>\n",
              "<table border=\"1\" class=\"dataframe\">\n",
              "  <thead>\n",
              "    <tr style=\"text-align: right;\">\n",
              "      <th></th>\n",
              "      <th>object_id</th>\n",
              "      <th>date</th>\n",
              "      <th>hour</th>\n",
              "      <th>month</th>\n",
              "      <th>weekday</th>\n",
              "      <th>laf005_per_hour</th>\n",
              "      <th>laf01_per_hour</th>\n",
              "      <th>laf05_per_hour</th>\n",
              "      <th>laf10_per_hour</th>\n",
              "      <th>laf25_per_hour</th>\n",
              "      <th>...</th>\n",
              "      <th>LC_RAD</th>\n",
              "      <th>LC_RAININ</th>\n",
              "      <th>LC_DAILYRAIN</th>\n",
              "      <th>LC_WINDDIR</th>\n",
              "      <th>LC_WINDSPEED</th>\n",
              "      <th>LC_RAD60</th>\n",
              "      <th>LC_TEMP_QCL0</th>\n",
              "      <th>LC_TEMP_QCL1</th>\n",
              "      <th>LC_TEMP_QCL2</th>\n",
              "      <th>LC_TEMP_QCL3</th>\n",
              "    </tr>\n",
              "  </thead>\n",
              "  <tbody>\n",
              "    <tr>\n",
              "      <th>4245</th>\n",
              "      <td>255439</td>\n",
              "      <td>2022-05-07</td>\n",
              "      <td>7</td>\n",
              "      <td>5</td>\n",
              "      <td>Sat</td>\n",
              "      <td>70.2</td>\n",
              "      <td>67.0</td>\n",
              "      <td>60.7</td>\n",
              "      <td>55.7</td>\n",
              "      <td>50.4</td>\n",
              "      <td>...</td>\n",
              "      <td>149.994700</td>\n",
              "      <td>0.000004</td>\n",
              "      <td>0.000615</td>\n",
              "      <td>-24.371025</td>\n",
              "      <td>0.080636</td>\n",
              "      <td>113.872792</td>\n",
              "      <td>13.722915</td>\n",
              "      <td>13.725348</td>\n",
              "      <td>13.715468</td>\n",
              "      <td>13.466882</td>\n",
              "    </tr>\n",
              "    <tr>\n",
              "      <th>19974</th>\n",
              "      <td>255442</td>\n",
              "      <td>2022-12-05</td>\n",
              "      <td>16</td>\n",
              "      <td>12</td>\n",
              "      <td>Mon</td>\n",
              "      <td>73.4</td>\n",
              "      <td>71.2</td>\n",
              "      <td>66.3</td>\n",
              "      <td>64.1</td>\n",
              "      <td>60.0</td>\n",
              "      <td>...</td>\n",
              "      <td>0.029851</td>\n",
              "      <td>0.000068</td>\n",
              "      <td>0.009765</td>\n",
              "      <td>-5.610282</td>\n",
              "      <td>0.008972</td>\n",
              "      <td>0.134328</td>\n",
              "      <td>3.148358</td>\n",
              "      <td>3.148966</td>\n",
              "      <td>3.157199</td>\n",
              "      <td>3.130750</td>\n",
              "    </tr>\n",
              "    <tr>\n",
              "      <th>6460</th>\n",
              "      <td>255439</td>\n",
              "      <td>2022-06-20</td>\n",
              "      <td>20</td>\n",
              "      <td>6</td>\n",
              "      <td>Mon</td>\n",
              "      <td>71.3</td>\n",
              "      <td>69.7</td>\n",
              "      <td>64.9</td>\n",
              "      <td>62.0</td>\n",
              "      <td>56.7</td>\n",
              "      <td>...</td>\n",
              "      <td>0.168040</td>\n",
              "      <td>0.000000</td>\n",
              "      <td>0.000891</td>\n",
              "      <td>-2.566722</td>\n",
              "      <td>0.041647</td>\n",
              "      <td>10.042834</td>\n",
              "      <td>16.468155</td>\n",
              "      <td>16.468155</td>\n",
              "      <td>16.472921</td>\n",
              "      <td>16.318996</td>\n",
              "    </tr>\n",
              "  </tbody>\n",
              "</table>\n",
              "<p>3 rows × 38 columns</p>\n",
              "</div>"
            ],
            "text/plain": [
              "       object_id        date  hour  month weekday  laf005_per_hour  \\\n",
              "4245      255439  2022-05-07     7      5     Sat             70.2   \n",
              "19974     255442  2022-12-05    16     12     Mon             73.4   \n",
              "6460      255439  2022-06-20    20      6     Mon             71.3   \n",
              "\n",
              "       laf01_per_hour  laf05_per_hour  laf10_per_hour  laf25_per_hour  ...  \\\n",
              "4245             67.0            60.7            55.7            50.4  ...   \n",
              "19974            71.2            66.3            64.1            60.0  ...   \n",
              "6460             69.7            64.9            62.0            56.7  ...   \n",
              "\n",
              "           LC_RAD  LC_RAININ  LC_DAILYRAIN  LC_WINDDIR  LC_WINDSPEED  \\\n",
              "4245   149.994700   0.000004      0.000615  -24.371025      0.080636   \n",
              "19974    0.029851   0.000068      0.009765   -5.610282      0.008972   \n",
              "6460     0.168040   0.000000      0.000891   -2.566722      0.041647   \n",
              "\n",
              "         LC_RAD60  LC_TEMP_QCL0  LC_TEMP_QCL1  LC_TEMP_QCL2  LC_TEMP_QCL3  \n",
              "4245   113.872792     13.722915     13.725348     13.715468     13.466882  \n",
              "19974    0.134328      3.148358      3.148966      3.157199      3.130750  \n",
              "6460    10.042834     16.468155     16.468155     16.472921     16.318996  \n",
              "\n",
              "[3 rows x 38 columns]"
            ]
          },
          "execution_count": 45,
          "metadata": {},
          "output_type": "execute_result"
        }
      ],
      "source": [
        "train_df.head(3)"
      ]
    },
    {
      "attachments": {},
      "cell_type": "markdown",
      "metadata": {
        "id": "haAwSkF7GMBJ"
      },
      "source": [
        "## process independent variable"
      ]
    },
    {
      "cell_type": "code",
      "execution_count": 46,
      "metadata": {
        "colab": {
          "base_uri": "https://localhost:8080/"
        },
        "id": "B2cs9F9BGZAI",
        "outputId": "22407fd9-6a38-4bd8-8c84-92fc0038994d"
      },
      "outputs": [
        {
          "data": {
            "text/plain": [
              "['laf005_per_hour',\n",
              " 'laf01_per_hour',\n",
              " 'laf05_per_hour',\n",
              " 'laf10_per_hour',\n",
              " 'laf25_per_hour',\n",
              " 'laf50_per_hour',\n",
              " 'laf75_per_hour',\n",
              " 'laf90_per_hour',\n",
              " 'laf95_per_hour',\n",
              " 'laf98_per_hour',\n",
              " 'laf99_per_hour',\n",
              " 'laf995_per_hour']"
            ]
          },
          "execution_count": 46,
          "metadata": {},
          "output_type": "execute_result"
        }
      ],
      "source": [
        "target_variable = [col for col in train_df.columns if col.startswith(\"laf\")]\n",
        "target_variable"
      ]
    },
    {
      "cell_type": "code",
      "execution_count": 47,
      "metadata": {
        "colab": {
          "base_uri": "https://localhost:8080/",
          "height": 176
        },
        "id": "Q90-ZvQ3HaT7",
        "outputId": "b7d33dc1-e15a-482c-ac08-573f66a5b9a6"
      },
      "outputs": [
        {
          "data": {
            "text/html": [
              "<div>\n",
              "<style scoped>\n",
              "    .dataframe tbody tr th:only-of-type {\n",
              "        vertical-align: middle;\n",
              "    }\n",
              "\n",
              "    .dataframe tbody tr th {\n",
              "        vertical-align: top;\n",
              "    }\n",
              "\n",
              "    .dataframe thead th {\n",
              "        text-align: right;\n",
              "    }\n",
              "</style>\n",
              "<table border=\"1\" class=\"dataframe\">\n",
              "  <thead>\n",
              "    <tr style=\"text-align: right;\">\n",
              "      <th></th>\n",
              "      <th>laf005_per_hour</th>\n",
              "      <th>laf01_per_hour</th>\n",
              "      <th>laf05_per_hour</th>\n",
              "      <th>laf10_per_hour</th>\n",
              "      <th>laf25_per_hour</th>\n",
              "      <th>laf50_per_hour</th>\n",
              "      <th>laf75_per_hour</th>\n",
              "      <th>laf90_per_hour</th>\n",
              "      <th>laf95_per_hour</th>\n",
              "      <th>laf98_per_hour</th>\n",
              "      <th>laf99_per_hour</th>\n",
              "      <th>laf995_per_hour</th>\n",
              "    </tr>\n",
              "  </thead>\n",
              "  <tbody>\n",
              "    <tr>\n",
              "      <th>4245</th>\n",
              "      <td>70.2</td>\n",
              "      <td>67.0</td>\n",
              "      <td>60.7</td>\n",
              "      <td>55.7</td>\n",
              "      <td>50.4</td>\n",
              "      <td>45.9</td>\n",
              "      <td>42.2</td>\n",
              "      <td>39.5</td>\n",
              "      <td>38.4</td>\n",
              "      <td>37.3</td>\n",
              "      <td>36.7</td>\n",
              "      <td>36.2</td>\n",
              "    </tr>\n",
              "    <tr>\n",
              "      <th>19974</th>\n",
              "      <td>73.4</td>\n",
              "      <td>71.2</td>\n",
              "      <td>66.3</td>\n",
              "      <td>64.1</td>\n",
              "      <td>60.0</td>\n",
              "      <td>55.2</td>\n",
              "      <td>51.3</td>\n",
              "      <td>48.9</td>\n",
              "      <td>47.6</td>\n",
              "      <td>46.4</td>\n",
              "      <td>45.6</td>\n",
              "      <td>45.0</td>\n",
              "    </tr>\n",
              "  </tbody>\n",
              "</table>\n",
              "</div>"
            ],
            "text/plain": [
              "       laf005_per_hour  laf01_per_hour  laf05_per_hour  laf10_per_hour  \\\n",
              "4245              70.2            67.0            60.7            55.7   \n",
              "19974             73.4            71.2            66.3            64.1   \n",
              "\n",
              "       laf25_per_hour  laf50_per_hour  laf75_per_hour  laf90_per_hour  \\\n",
              "4245             50.4            45.9            42.2            39.5   \n",
              "19974            60.0            55.2            51.3            48.9   \n",
              "\n",
              "       laf95_per_hour  laf98_per_hour  laf99_per_hour  laf995_per_hour  \n",
              "4245             38.4            37.3            36.7             36.2  \n",
              "19974            47.6            46.4            45.6             45.0  "
            ]
          },
          "execution_count": 47,
          "metadata": {},
          "output_type": "execute_result"
        }
      ],
      "source": [
        "y_train = train_df[target_variable]\n",
        "y_train.head(2)"
      ]
    },
    {
      "cell_type": "code",
      "execution_count": 48,
      "metadata": {
        "colab": {
          "base_uri": "https://localhost:8080/",
          "height": 176
        },
        "id": "Psrr1PubHBLX",
        "outputId": "23913f44-5ea6-4d1e-b3e4-a06271f95d6c"
      },
      "outputs": [
        {
          "data": {
            "text/html": [
              "<div>\n",
              "<style scoped>\n",
              "    .dataframe tbody tr th:only-of-type {\n",
              "        vertical-align: middle;\n",
              "    }\n",
              "\n",
              "    .dataframe tbody tr th {\n",
              "        vertical-align: top;\n",
              "    }\n",
              "\n",
              "    .dataframe thead th {\n",
              "        text-align: right;\n",
              "    }\n",
              "</style>\n",
              "<table border=\"1\" class=\"dataframe\">\n",
              "  <thead>\n",
              "    <tr style=\"text-align: right;\">\n",
              "      <th></th>\n",
              "      <th>laf005_per_hour</th>\n",
              "      <th>laf01_per_hour</th>\n",
              "      <th>laf05_per_hour</th>\n",
              "      <th>laf10_per_hour</th>\n",
              "      <th>laf25_per_hour</th>\n",
              "      <th>laf50_per_hour</th>\n",
              "      <th>laf75_per_hour</th>\n",
              "      <th>laf90_per_hour</th>\n",
              "      <th>laf95_per_hour</th>\n",
              "      <th>laf98_per_hour</th>\n",
              "      <th>laf99_per_hour</th>\n",
              "      <th>laf995_per_hour</th>\n",
              "    </tr>\n",
              "  </thead>\n",
              "  <tbody>\n",
              "    <tr>\n",
              "      <th>17150</th>\n",
              "      <td>74.3</td>\n",
              "      <td>72.9</td>\n",
              "      <td>67.4</td>\n",
              "      <td>65.3</td>\n",
              "      <td>61.1</td>\n",
              "      <td>55.1</td>\n",
              "      <td>49.9</td>\n",
              "      <td>47.2</td>\n",
              "      <td>46.3</td>\n",
              "      <td>45.7</td>\n",
              "      <td>45.4</td>\n",
              "      <td>45.2</td>\n",
              "    </tr>\n",
              "    <tr>\n",
              "      <th>5955</th>\n",
              "      <td>74.1</td>\n",
              "      <td>72.8</td>\n",
              "      <td>67.6</td>\n",
              "      <td>64.5</td>\n",
              "      <td>59.0</td>\n",
              "      <td>54.2</td>\n",
              "      <td>50.8</td>\n",
              "      <td>48.2</td>\n",
              "      <td>46.8</td>\n",
              "      <td>45.6</td>\n",
              "      <td>44.7</td>\n",
              "      <td>43.8</td>\n",
              "    </tr>\n",
              "  </tbody>\n",
              "</table>\n",
              "</div>"
            ],
            "text/plain": [
              "       laf005_per_hour  laf01_per_hour  laf05_per_hour  laf10_per_hour  \\\n",
              "17150             74.3            72.9            67.4            65.3   \n",
              "5955              74.1            72.8            67.6            64.5   \n",
              "\n",
              "       laf25_per_hour  laf50_per_hour  laf75_per_hour  laf90_per_hour  \\\n",
              "17150            61.1            55.1            49.9            47.2   \n",
              "5955             59.0            54.2            50.8            48.2   \n",
              "\n",
              "       laf95_per_hour  laf98_per_hour  laf99_per_hour  laf995_per_hour  \n",
              "17150            46.3            45.7            45.4             45.2  \n",
              "5955             46.8            45.6            44.7             43.8  "
            ]
          },
          "execution_count": 48,
          "metadata": {},
          "output_type": "execute_result"
        }
      ],
      "source": [
        "y_val = val_df[target_variable]\n",
        "y_val.head(2)"
      ]
    },
    {
      "cell_type": "code",
      "execution_count": 97,
      "metadata": {
        "id": "DdnAiNwVHzHU"
      },
      "outputs": [],
      "source": [
        "X_train = train_df.drop(target_variable + [\"object_id\",\"date\", 'Month', 'Hour',\"HM_voice_shout\",\"HM_voice_sing\",\"MS_non_amplified\",\n",
        "                                           \"NE_wind\",\"TR_passenger_car\",\"TR_siren\",\"LC_n\",\"LC_WINDDIR\"], axis = 1)\n",
        "X_val = val_df.drop(target_variable + [\"object_id\",\"date\", 'Month', 'Hour',\"HM_voice_shout\",\"HM_voice_sing\",\"MS_non_amplified\",\n",
        "                                           \"NE_wind\",\"TR_passenger_car\",\"TR_siren\",\"LC_n\",\"LC_WINDDIR\"], axis = 1)"
      ]
    },
    {
      "cell_type": "code",
      "execution_count": 55,
      "metadata": {
        "colab": {
          "base_uri": "https://localhost:8080/"
        },
        "id": "ZvkkWMKzIxoj",
        "outputId": "a07fc3b5-3246-4df0-bdcb-aa54d9a8e68e"
      },
      "outputs": [
        {
          "data": {
            "text/plain": [
              "Index(['hour', 'month', 'weekday', 'LC_HUMIDITY', 'LC_DWPTEMP', 'LC_RAD',\n",
              "       'LC_RAININ', 'LC_DAILYRAIN', 'LC_WINDSPEED', 'LC_RAD60', 'LC_TEMP_QCL0',\n",
              "       'LC_TEMP_QCL1', 'LC_TEMP_QCL2', 'LC_TEMP_QCL3'],\n",
              "      dtype='object')"
            ]
          },
          "execution_count": 55,
          "metadata": {},
          "output_type": "execute_result"
        }
      ],
      "source": [
        "X_train.columns"
      ]
    },
    {
      "cell_type": "code",
      "execution_count": 98,
      "metadata": {
        "id": "in1rqZb2JWap"
      },
      "outputs": [],
      "source": [
        "one_hot_var = [\"hour\", \"month\", \"weekday\"]\n",
        "numerical_var = [col for col in X_train.columns if col not in one_hot_var]"
      ]
    },
    {
      "cell_type": "code",
      "execution_count": 99,
      "metadata": {
        "colab": {
          "base_uri": "https://localhost:8080/",
          "height": 164
        },
        "id": "lJrF-9uRKe4W",
        "outputId": "991d321d-76c3-4a4c-d7b2-d94a669a369a"
      },
      "outputs": [],
      "source": [
        "from sklearn.compose import ColumnTransformer\n",
        "from sklearn.preprocessing import OneHotEncoder\n",
        "from sklearn.preprocessing import StandardScaler\n",
        "import pickle \n",
        "\n",
        "t = ColumnTransformer(\n",
        "    transformers = [\n",
        "        ('OneHot', OneHotEncoder(handle_unknown='ignore'), one_hot_var),\n",
        "        ('StandardScaler', StandardScaler(), numerical_var), \n",
        "        \n",
        "    ] )\n",
        "\n",
        "# fit the encoder\n",
        "t.fit(X_train, y_train)\n"
      ]
    },
    {
      "cell_type": "code",
      "execution_count": 103,
      "metadata": {},
      "outputs": [
        {
          "data": {
            "text/plain": [
              "array(['OneHot__hour_0', 'OneHot__hour_1', 'OneHot__hour_2',\n",
              "       'OneHot__hour_3', 'OneHot__hour_4', 'OneHot__hour_5',\n",
              "       'OneHot__hour_6', 'OneHot__hour_7', 'OneHot__hour_8',\n",
              "       'OneHot__hour_9', 'OneHot__hour_10', 'OneHot__hour_11',\n",
              "       'OneHot__hour_12', 'OneHot__hour_13', 'OneHot__hour_14',\n",
              "       'OneHot__hour_15', 'OneHot__hour_16', 'OneHot__hour_17',\n",
              "       'OneHot__hour_18', 'OneHot__hour_19', 'OneHot__hour_20',\n",
              "       'OneHot__hour_21', 'OneHot__hour_22', 'OneHot__hour_23',\n",
              "       'OneHot__month_1', 'OneHot__month_2', 'OneHot__month_3',\n",
              "       'OneHot__month_4', 'OneHot__month_5', 'OneHot__month_6',\n",
              "       'OneHot__month_7', 'OneHot__month_8', 'OneHot__month_9',\n",
              "       'OneHot__month_10', 'OneHot__month_11', 'OneHot__month_12',\n",
              "       'OneHot__weekday_Fri', 'OneHot__weekday_Mon',\n",
              "       'OneHot__weekday_Sat', 'OneHot__weekday_Sun',\n",
              "       'OneHot__weekday_Thu', 'OneHot__weekday_Tue',\n",
              "       'OneHot__weekday_Wed', 'StandardScaler__LC_HUMIDITY',\n",
              "       'StandardScaler__LC_DWPTEMP', 'StandardScaler__LC_RAD',\n",
              "       'StandardScaler__LC_RAININ', 'StandardScaler__LC_DAILYRAIN',\n",
              "       'StandardScaler__LC_WINDSPEED', 'StandardScaler__LC_RAD60',\n",
              "       'StandardScaler__LC_TEMP_QCL0', 'StandardScaler__LC_TEMP_QCL1',\n",
              "       'StandardScaler__LC_TEMP_QCL2', 'StandardScaler__LC_TEMP_QCL3'],\n",
              "      dtype=object)"
            ]
          },
          "execution_count": 103,
          "metadata": {},
          "output_type": "execute_result"
        }
      ],
      "source": [
        "t.get_feature_names_out()"
      ]
    },
    {
      "cell_type": "code",
      "execution_count": 105,
      "metadata": {
        "id": "KZnVTfV2K2PZ"
      },
      "outputs": [],
      "source": [
        "# create pandas DataFrame from dense matrix\n",
        "# To array because we may run into version troubles otherwise\n",
        "X_train = pd.DataFrame(t.transform(X_train).toarray(), columns=t.get_feature_names_out())\n",
        "\n",
        "X_val = pd.DataFrame(t.transform(X_val).toarray(), columns=t.get_feature_names_out())"
      ]
    },
    {
      "cell_type": "code",
      "execution_count": 106,
      "metadata": {
        "colab": {
          "base_uri": "https://localhost:8080/",
          "height": 268
        },
        "id": "JflwIibuK8jN",
        "outputId": "db131d79-4495-4304-d592-d69b3d398b44"
      },
      "outputs": [
        {
          "data": {
            "text/plain": [
              "Index(['OneHot__hour_0', 'OneHot__hour_1', 'OneHot__hour_2', 'OneHot__hour_3',\n",
              "       'OneHot__hour_4', 'OneHot__hour_5', 'OneHot__hour_6', 'OneHot__hour_7',\n",
              "       'OneHot__hour_8', 'OneHot__hour_9', 'OneHot__hour_10',\n",
              "       'OneHot__hour_11', 'OneHot__hour_12', 'OneHot__hour_13',\n",
              "       'OneHot__hour_14', 'OneHot__hour_15', 'OneHot__hour_16',\n",
              "       'OneHot__hour_17', 'OneHot__hour_18', 'OneHot__hour_19',\n",
              "       'OneHot__hour_20', 'OneHot__hour_21', 'OneHot__hour_22',\n",
              "       'OneHot__hour_23', 'OneHot__month_1', 'OneHot__month_2',\n",
              "       'OneHot__month_3', 'OneHot__month_4', 'OneHot__month_5',\n",
              "       'OneHot__month_6', 'OneHot__month_7', 'OneHot__month_8',\n",
              "       'OneHot__month_9', 'OneHot__month_10', 'OneHot__month_11',\n",
              "       'OneHot__month_12', 'OneHot__weekday_Fri', 'OneHot__weekday_Mon',\n",
              "       'OneHot__weekday_Sat', 'OneHot__weekday_Sun', 'OneHot__weekday_Thu',\n",
              "       'OneHot__weekday_Tue', 'OneHot__weekday_Wed',\n",
              "       'StandardScaler__LC_HUMIDITY', 'StandardScaler__LC_DWPTEMP',\n",
              "       'StandardScaler__LC_RAD', 'StandardScaler__LC_RAININ',\n",
              "       'StandardScaler__LC_DAILYRAIN', 'StandardScaler__LC_WINDSPEED',\n",
              "       'StandardScaler__LC_RAD60', 'StandardScaler__LC_TEMP_QCL0',\n",
              "       'StandardScaler__LC_TEMP_QCL1', 'StandardScaler__LC_TEMP_QCL2',\n",
              "       'StandardScaler__LC_TEMP_QCL3'],\n",
              "      dtype='object')"
            ]
          },
          "execution_count": 106,
          "metadata": {},
          "output_type": "execute_result"
        }
      ],
      "source": [
        "X_train.columns"
      ]
    },
    {
      "cell_type": "code",
      "execution_count": 82,
      "metadata": {
        "colab": {
          "base_uri": "https://localhost:8080/"
        },
        "id": "LoGTcq8WLrwc",
        "outputId": "e1a6b049-d531-434b-df99-d185705727a3"
      },
      "outputs": [
        {
          "data": {
            "text/plain": [
              "Index(['laf005_per_hour', 'laf01_per_hour', 'laf05_per_hour', 'laf10_per_hour',\n",
              "       'laf25_per_hour', 'laf50_per_hour', 'laf75_per_hour', 'laf90_per_hour',\n",
              "       'laf95_per_hour', 'laf98_per_hour', 'laf99_per_hour',\n",
              "       'laf995_per_hour'],\n",
              "      dtype='object')"
            ]
          },
          "execution_count": 82,
          "metadata": {},
          "output_type": "execute_result"
        }
      ],
      "source": [
        "y_train.columns"
      ]
    },
    {
      "attachments": {},
      "cell_type": "markdown",
      "metadata": {},
      "source": [
        "## First Tree Model"
      ]
    },
    {
      "cell_type": "code",
      "execution_count": null,
      "metadata": {},
      "outputs": [],
      "source": [
        "## grid search cross validation\n",
        "\n",
        "from sklearn.ensemble import RandomForestRegressor\n",
        "from sklearn.model_selection import GridSearchCV, KFold\n",
        "\n",
        "# Define the parameter grid to search over\n",
        "param_grid = {\n",
        "    'n_estimators': [100, 200, 300],\n",
        "    'max_depth': [2, 5, 10, 30],\n",
        "    'min_samples_leaf': [10, 20, 30]\n",
        "}\n",
        "\n",
        "rf_model = RandomForestRegressor()\n",
        "\n",
        "kf = KFold(n_splits=5, shuffle=True, random_state=7 )\n",
        "\n",
        "grid_search = GridSearchCV(estimator=rf_model, param_grid=param_grid, cv=kf, scoring='neg_mean_squared_error')\n",
        "\n",
        "grid_search.fit(X_train, y_train[\"laf50_per_hour\"])\n",
        "\n",
        "# Print the best hyperparameters and corresponding mean score\n",
        "print(\"Best parameters:\", grid_search.best_params_)\n",
        "print(\"Best score:\", (-grid_search.best_score_)**0.5)\n",
        "\n",
        "'''\n",
        "Best parameters: {'max_depth': 30, 'min_samples_leaf': 10, 'n_estimators': 300}\n",
        "Best score: 3.289151450103886\n",
        "'''"
      ]
    },
    {
      "cell_type": "code",
      "execution_count": null,
      "metadata": {
        "colab": {
          "base_uri": "https://localhost:8080/",
          "height": 92
        },
        "id": "-1MwvZW1O784",
        "outputId": "d0bc2bd7-6329-41b0-c99b-de3e652376ea"
      },
      "outputs": [
        {
          "data": {
            "text/html": [
              "<style>#sk-container-id-3 {color: black;background-color: white;}#sk-container-id-3 pre{padding: 0;}#sk-container-id-3 div.sk-toggleable {background-color: white;}#sk-container-id-3 label.sk-toggleable__label {cursor: pointer;display: block;width: 100%;margin-bottom: 0;padding: 0.3em;box-sizing: border-box;text-align: center;}#sk-container-id-3 label.sk-toggleable__label-arrow:before {content: \"▸\";float: left;margin-right: 0.25em;color: #696969;}#sk-container-id-3 label.sk-toggleable__label-arrow:hover:before {color: black;}#sk-container-id-3 div.sk-estimator:hover label.sk-toggleable__label-arrow:before {color: black;}#sk-container-id-3 div.sk-toggleable__content {max-height: 0;max-width: 0;overflow: hidden;text-align: left;background-color: #f0f8ff;}#sk-container-id-3 div.sk-toggleable__content pre {margin: 0.2em;color: black;border-radius: 0.25em;background-color: #f0f8ff;}#sk-container-id-3 input.sk-toggleable__control:checked~div.sk-toggleable__content {max-height: 200px;max-width: 100%;overflow: auto;}#sk-container-id-3 input.sk-toggleable__control:checked~label.sk-toggleable__label-arrow:before {content: \"▾\";}#sk-container-id-3 div.sk-estimator input.sk-toggleable__control:checked~label.sk-toggleable__label {background-color: #d4ebff;}#sk-container-id-3 div.sk-label input.sk-toggleable__control:checked~label.sk-toggleable__label {background-color: #d4ebff;}#sk-container-id-3 input.sk-hidden--visually {border: 0;clip: rect(1px 1px 1px 1px);clip: rect(1px, 1px, 1px, 1px);height: 1px;margin: -1px;overflow: hidden;padding: 0;position: absolute;width: 1px;}#sk-container-id-3 div.sk-estimator {font-family: monospace;background-color: #f0f8ff;border: 1px dotted black;border-radius: 0.25em;box-sizing: border-box;margin-bottom: 0.5em;}#sk-container-id-3 div.sk-estimator:hover {background-color: #d4ebff;}#sk-container-id-3 div.sk-parallel-item::after {content: \"\";width: 100%;border-bottom: 1px solid gray;flex-grow: 1;}#sk-container-id-3 div.sk-label:hover label.sk-toggleable__label {background-color: #d4ebff;}#sk-container-id-3 div.sk-serial::before {content: \"\";position: absolute;border-left: 1px solid gray;box-sizing: border-box;top: 0;bottom: 0;left: 50%;z-index: 0;}#sk-container-id-3 div.sk-serial {display: flex;flex-direction: column;align-items: center;background-color: white;padding-right: 0.2em;padding-left: 0.2em;position: relative;}#sk-container-id-3 div.sk-item {position: relative;z-index: 1;}#sk-container-id-3 div.sk-parallel {display: flex;align-items: stretch;justify-content: center;background-color: white;position: relative;}#sk-container-id-3 div.sk-item::before, #sk-container-id-3 div.sk-parallel-item::before {content: \"\";position: absolute;border-left: 1px solid gray;box-sizing: border-box;top: 0;bottom: 0;left: 50%;z-index: -1;}#sk-container-id-3 div.sk-parallel-item {display: flex;flex-direction: column;z-index: 1;position: relative;background-color: white;}#sk-container-id-3 div.sk-parallel-item:first-child::after {align-self: flex-end;width: 50%;}#sk-container-id-3 div.sk-parallel-item:last-child::after {align-self: flex-start;width: 50%;}#sk-container-id-3 div.sk-parallel-item:only-child::after {width: 0;}#sk-container-id-3 div.sk-dashed-wrapped {border: 1px dashed gray;margin: 0 0.4em 0.5em 0.4em;box-sizing: border-box;padding-bottom: 0.4em;background-color: white;}#sk-container-id-3 div.sk-label label {font-family: monospace;font-weight: bold;display: inline-block;line-height: 1.2em;}#sk-container-id-3 div.sk-label-container {text-align: center;}#sk-container-id-3 div.sk-container {/* jupyter's `normalize.less` sets `[hidden] { display: none; }` but bootstrap.min.css set `[hidden] { display: none !important; }` so we also need the `!important` here to be able to override the default hidden behavior on the sphinx rendered scikit-learn.org. See: https://github.com/scikit-learn/scikit-learn/issues/21755 */display: inline-block !important;position: relative;}#sk-container-id-3 div.sk-text-repr-fallback {display: none;}</style><div id=\"sk-container-id-3\" class=\"sk-top-container\"><div class=\"sk-text-repr-fallback\"><pre>RandomForestRegressor(max_depth=30, min_samples_leaf=10, n_estimators=300,\n",
              "                      random_state=7)</pre><b>In a Jupyter environment, please rerun this cell to show the HTML representation or trust the notebook. <br />On GitHub, the HTML representation is unable to render, please try loading this page with nbviewer.org.</b></div><div class=\"sk-container\" hidden><div class=\"sk-item\"><div class=\"sk-estimator sk-toggleable\"><input class=\"sk-toggleable__control sk-hidden--visually\" id=\"sk-estimator-id-7\" type=\"checkbox\" checked><label for=\"sk-estimator-id-7\" class=\"sk-toggleable__label sk-toggleable__label-arrow\">RandomForestRegressor</label><div class=\"sk-toggleable__content\"><pre>RandomForestRegressor(max_depth=30, min_samples_leaf=10, n_estimators=300,\n",
              "                      random_state=7)</pre></div></div></div></div></div>"
            ],
            "text/plain": [
              "RandomForestRegressor(max_depth=30, min_samples_leaf=10, n_estimators=300,\n",
              "                      random_state=7)"
            ]
          },
          "execution_count": 24,
          "metadata": {},
          "output_type": "execute_result"
        }
      ],
      "source": [
        "from sklearn.ensemble import RandomForestRegressor\n",
        "tree_model = RandomForestRegressor(n_estimators=300, max_depth=30, criterion = \"squared_error\",\n",
        "                             min_samples_leaf = 10,\n",
        "                             random_state=7)\n",
        "tree_model.fit(X_train, y_train[\"laf50_per_hour\"])"
      ]
    },
    {
      "cell_type": "code",
      "execution_count": null,
      "metadata": {
        "id": "XE8E1LVIO-SV"
      },
      "outputs": [],
      "source": [
        "import math\n",
        "import sklearn.metrics\n",
        "pred_train_tree = tree_model.predict(X_val)\n",
        "\n"
      ]
    },
    {
      "cell_type": "code",
      "execution_count": null,
      "metadata": {
        "colab": {
          "base_uri": "https://localhost:8080/",
          "height": 467
        },
        "id": "6HDTPn6kPJi2",
        "outputId": "57c1fe0d-c2f0-4876-f9e1-b342a07594d3"
      },
      "outputs": [
        {
          "data": {
            "text/plain": [
              "Text(0, 0.5, 'y val')"
            ]
          },
          "execution_count": 29,
          "metadata": {},
          "output_type": "execute_result"
        },
        {
          "data": {
            "image/png": "[encoded data removed]",
            "text/plain": [
              "<Figure size 640x480 with 1 Axes>"
            ]
          },
          "metadata": {},
          "output_type": "display_data"
        }
      ],
      "source": [
        "plt.scatter(pred_train_tree, y_val[\"laf50_per_hour\"])\n",
        "plt.xlabel('y pred')\n",
        "plt.ylabel('y val')"
      ]
    },
    {
      "cell_type": "code",
      "execution_count": null,
      "metadata": {
        "colab": {
          "base_uri": "https://localhost:8080/"
        },
        "id": "U2DPGaz3MuCY",
        "outputId": "4f7844e4-002e-43d2-b41c-8f0bac223532"
      },
      "outputs": [
        {
          "data": {
            "text/plain": [
              "3.189054434621591"
            ]
          },
          "execution_count": 65,
          "metadata": {},
          "output_type": "execute_result"
        }
      ],
      "source": [
        "math.sqrt(sklearn.metrics.mean_squared_error(pred_train_tree, y_val[\"laf50_per_hour\"]))\n"
      ]
    },
    {
      "cell_type": "code",
      "execution_count": null,
      "metadata": {
        "colab": {
          "base_uri": "https://localhost:8080/"
        },
        "id": "glCmc8YahDuj",
        "outputId": "9e55e528-0947-41fb-af60-22ec2ef95ca8"
      },
      "outputs": [
        {
          "data": {
            "text/plain": [
              "(4083, 69)"
            ]
          },
          "execution_count": 30,
          "metadata": {},
          "output_type": "execute_result"
        }
      ],
      "source": [
        "X_val.shape"
      ]
    },
    {
      "cell_type": "code",
      "execution_count": null,
      "metadata": {
        "colab": {
          "base_uri": "https://localhost:8080/"
        },
        "id": "4XJ_CICLhIGY",
        "outputId": "a7b3288a-06e1-4399-f2f7-24232aedffa5"
      },
      "outputs": [
        {
          "data": {
            "text/plain": [
              "(16331, 69)"
            ]
          },
          "execution_count": 31,
          "metadata": {},
          "output_type": "execute_result"
        }
      ],
      "source": [
        "X_train.shape"
      ]
    },
    {
      "attachments": {},
      "cell_type": "markdown",
      "metadata": {
        "id": "obxGZL1nTMpL"
      },
      "source": [
        "## Predict laf_50"
      ]
    },
    {
      "cell_type": "code",
      "execution_count": 84,
      "metadata": {
        "id": "wBpTqv6ehfl_"
      },
      "outputs": [],
      "source": [
        "excluded_variable  = [ 'StandardScaler__HM_voice_shout',\n",
        " 'StandardScaler__HM_voice_sing',\n",
        " 'StandardScaler__MS_non_amplified',\n",
        " 'StandardScaler__NE_wind',\n",
        " 'StandardScaler__TR_passenger_car',\n",
        " 'StandardScaler__TR_siren', \"StandardScaler__LC_n\"]\n",
        "\n",
        "select_variable = [col for col in X_train.columns if col not in excluded_variable]"
      ]
    },
    {
      "cell_type": "code",
      "execution_count": 85,
      "metadata": {
        "colab": {
          "base_uri": "https://localhost:8080/"
        },
        "id": "Ww1l_LO7zu8b",
        "outputId": "27d917b8-c16b-4908-f1b3-1da8413b3fbe"
      },
      "outputs": [
        {
          "data": {
            "text/plain": [
              "['OneHot__hour_0',\n",
              " 'OneHot__hour_1',\n",
              " 'OneHot__hour_2',\n",
              " 'OneHot__hour_3',\n",
              " 'OneHot__hour_4',\n",
              " 'OneHot__hour_5',\n",
              " 'OneHot__hour_6',\n",
              " 'OneHot__hour_7',\n",
              " 'OneHot__hour_8',\n",
              " 'OneHot__hour_9',\n",
              " 'OneHot__hour_10',\n",
              " 'OneHot__hour_11',\n",
              " 'OneHot__hour_12',\n",
              " 'OneHot__hour_13',\n",
              " 'OneHot__hour_14',\n",
              " 'OneHot__hour_15',\n",
              " 'OneHot__hour_16',\n",
              " 'OneHot__hour_17',\n",
              " 'OneHot__hour_18',\n",
              " 'OneHot__hour_19',\n",
              " 'OneHot__hour_20',\n",
              " 'OneHot__hour_21',\n",
              " 'OneHot__hour_22',\n",
              " 'OneHot__hour_23',\n",
              " 'OneHot__month_1',\n",
              " 'OneHot__month_2',\n",
              " 'OneHot__month_3',\n",
              " 'OneHot__month_4',\n",
              " 'OneHot__month_5',\n",
              " 'OneHot__month_6',\n",
              " 'OneHot__month_7',\n",
              " 'OneHot__month_8',\n",
              " 'OneHot__month_9',\n",
              " 'OneHot__month_10',\n",
              " 'OneHot__month_11',\n",
              " 'OneHot__month_12',\n",
              " 'OneHot__weekday_Fri',\n",
              " 'OneHot__weekday_Mon',\n",
              " 'OneHot__weekday_Sat',\n",
              " 'OneHot__weekday_Sun',\n",
              " 'OneHot__weekday_Thu',\n",
              " 'OneHot__weekday_Tue',\n",
              " 'OneHot__weekday_Wed',\n",
              " 'StandardScaler__LC_HUMIDITY',\n",
              " 'StandardScaler__LC_DWPTEMP',\n",
              " 'StandardScaler__LC_RAD',\n",
              " 'StandardScaler__LC_RAININ',\n",
              " 'StandardScaler__LC_DAILYRAIN',\n",
              " 'StandardScaler__LC_WINDSPEED',\n",
              " 'StandardScaler__LC_RAD60',\n",
              " 'StandardScaler__LC_TEMP_QCL0',\n",
              " 'StandardScaler__LC_TEMP_QCL1',\n",
              " 'StandardScaler__LC_TEMP_QCL2',\n",
              " 'StandardScaler__LC_TEMP_QCL3']"
            ]
          },
          "execution_count": 85,
          "metadata": {},
          "output_type": "execute_result"
        }
      ],
      "source": [
        "select_variable"
      ]
    },
    {
      "cell_type": "code",
      "execution_count": 86,
      "metadata": {
        "colab": {
          "base_uri": "https://localhost:8080/",
          "height": 88
        },
        "id": "z0hsm_NJiSbe",
        "outputId": "6d3467b9-6448-4fc9-8967-3d15dc2c003d"
      },
      "outputs": [
        {
          "ename": "KeyboardInterrupt",
          "evalue": "",
          "output_type": "error",
          "traceback": [
            "\u001b[1;31m---------------------------------------------------------------------------\u001b[0m",
            "\u001b[1;31mKeyboardInterrupt\u001b[0m                         Traceback (most recent call last)",
            "Cell \u001b[1;32mIn[86], line 19\u001b[0m\n\u001b[0;32m     15\u001b[0m kf \u001b[39m=\u001b[39m KFold(n_splits\u001b[39m=\u001b[39m\u001b[39m5\u001b[39m, shuffle\u001b[39m=\u001b[39m\u001b[39mTrue\u001b[39;00m, random_state\u001b[39m=\u001b[39m\u001b[39m7\u001b[39m )\n\u001b[0;32m     17\u001b[0m grid_search \u001b[39m=\u001b[39m GridSearchCV(estimator\u001b[39m=\u001b[39mrf_model, param_grid\u001b[39m=\u001b[39mparam_grid, cv\u001b[39m=\u001b[39mkf, scoring\u001b[39m=\u001b[39m\u001b[39m'\u001b[39m\u001b[39mneg_mean_squared_error\u001b[39m\u001b[39m'\u001b[39m)\n\u001b[1;32m---> 19\u001b[0m grid_search\u001b[39m.\u001b[39;49mfit(X_train[select_variable], y_train[\u001b[39m\"\u001b[39;49m\u001b[39mlaf50_per_hour\u001b[39;49m\u001b[39m\"\u001b[39;49m])\n\u001b[0;32m     21\u001b[0m \u001b[39m# Print the best hyperparameters and corresponding mean score\u001b[39;00m\n\u001b[0;32m     22\u001b[0m \u001b[39mprint\u001b[39m(\u001b[39m\"\u001b[39m\u001b[39mBest parameters:\u001b[39m\u001b[39m\"\u001b[39m, grid_search\u001b[39m.\u001b[39mbest_params_)\n",
            "File \u001b[1;32mc:\\Users\\svnel\\AppData\\Local\\Programs\\Python\\Python39\\lib\\site-packages\\sklearn\\model_selection\\_search.py:891\u001b[0m, in \u001b[0;36mBaseSearchCV.fit\u001b[1;34m(self, X, y, groups, **fit_params)\u001b[0m\n\u001b[0;32m    885\u001b[0m     results \u001b[39m=\u001b[39m \u001b[39mself\u001b[39m\u001b[39m.\u001b[39m_format_results(\n\u001b[0;32m    886\u001b[0m         all_candidate_params, n_splits, all_out, all_more_results\n\u001b[0;32m    887\u001b[0m     )\n\u001b[0;32m    889\u001b[0m     \u001b[39mreturn\u001b[39;00m results\n\u001b[1;32m--> 891\u001b[0m \u001b[39mself\u001b[39;49m\u001b[39m.\u001b[39;49m_run_search(evaluate_candidates)\n\u001b[0;32m    893\u001b[0m \u001b[39m# multimetric is determined here because in the case of a callable\u001b[39;00m\n\u001b[0;32m    894\u001b[0m \u001b[39m# self.scoring the return type is only known after calling\u001b[39;00m\n\u001b[0;32m    895\u001b[0m first_test_score \u001b[39m=\u001b[39m all_out[\u001b[39m0\u001b[39m][\u001b[39m\"\u001b[39m\u001b[39mtest_scores\u001b[39m\u001b[39m\"\u001b[39m]\n",
            "File \u001b[1;32mc:\\Users\\svnel\\AppData\\Local\\Programs\\Python\\Python39\\lib\\site-packages\\sklearn\\model_selection\\_search.py:1392\u001b[0m, in \u001b[0;36mGridSearchCV._run_search\u001b[1;34m(self, evaluate_candidates)\u001b[0m\n\u001b[0;32m   1390\u001b[0m \u001b[39mdef\u001b[39;00m \u001b[39m_run_search\u001b[39m(\u001b[39mself\u001b[39m, evaluate_candidates):\n\u001b[0;32m   1391\u001b[0m \u001b[39m    \u001b[39m\u001b[39m\"\"\"Search all candidates in param_grid\"\"\"\u001b[39;00m\n\u001b[1;32m-> 1392\u001b[0m     evaluate_candidates(ParameterGrid(\u001b[39mself\u001b[39;49m\u001b[39m.\u001b[39;49mparam_grid))\n",
            "File \u001b[1;32mc:\\Users\\svnel\\AppData\\Local\\Programs\\Python\\Python39\\lib\\site-packages\\sklearn\\model_selection\\_search.py:838\u001b[0m, in \u001b[0;36mBaseSearchCV.fit.<locals>.evaluate_candidates\u001b[1;34m(candidate_params, cv, more_results)\u001b[0m\n\u001b[0;32m    830\u001b[0m \u001b[39mif\u001b[39;00m \u001b[39mself\u001b[39m\u001b[39m.\u001b[39mverbose \u001b[39m>\u001b[39m \u001b[39m0\u001b[39m:\n\u001b[0;32m    831\u001b[0m     \u001b[39mprint\u001b[39m(\n\u001b[0;32m    832\u001b[0m         \u001b[39m\"\u001b[39m\u001b[39mFitting \u001b[39m\u001b[39m{0}\u001b[39;00m\u001b[39m folds for each of \u001b[39m\u001b[39m{1}\u001b[39;00m\u001b[39m candidates,\u001b[39m\u001b[39m\"\u001b[39m\n\u001b[0;32m    833\u001b[0m         \u001b[39m\"\u001b[39m\u001b[39m totalling \u001b[39m\u001b[39m{2}\u001b[39;00m\u001b[39m fits\u001b[39m\u001b[39m\"\u001b[39m\u001b[39m.\u001b[39mformat(\n\u001b[0;32m    834\u001b[0m             n_splits, n_candidates, n_candidates \u001b[39m*\u001b[39m n_splits\n\u001b[0;32m    835\u001b[0m         )\n\u001b[0;32m    836\u001b[0m     )\n\u001b[1;32m--> 838\u001b[0m out \u001b[39m=\u001b[39m parallel(\n\u001b[0;32m    839\u001b[0m     delayed(_fit_and_score)(\n\u001b[0;32m    840\u001b[0m         clone(base_estimator),\n\u001b[0;32m    841\u001b[0m         X,\n\u001b[0;32m    842\u001b[0m         y,\n\u001b[0;32m    843\u001b[0m         train\u001b[39m=\u001b[39;49mtrain,\n\u001b[0;32m    844\u001b[0m         test\u001b[39m=\u001b[39;49mtest,\n\u001b[0;32m    845\u001b[0m         parameters\u001b[39m=\u001b[39;49mparameters,\n\u001b[0;32m    846\u001b[0m         split_progress\u001b[39m=\u001b[39;49m(split_idx, n_splits),\n\u001b[0;32m    847\u001b[0m         candidate_progress\u001b[39m=\u001b[39;49m(cand_idx, n_candidates),\n\u001b[0;32m    848\u001b[0m         \u001b[39m*\u001b[39;49m\u001b[39m*\u001b[39;49mfit_and_score_kwargs,\n\u001b[0;32m    849\u001b[0m     )\n\u001b[0;32m    850\u001b[0m     \u001b[39mfor\u001b[39;49;00m (cand_idx, parameters), (split_idx, (train, test)) \u001b[39min\u001b[39;49;00m product(\n\u001b[0;32m    851\u001b[0m         \u001b[39menumerate\u001b[39;49m(candidate_params), \u001b[39menumerate\u001b[39;49m(cv\u001b[39m.\u001b[39;49msplit(X, y, groups))\n\u001b[0;32m    852\u001b[0m     )\n\u001b[0;32m    853\u001b[0m )\n\u001b[0;32m    855\u001b[0m \u001b[39mif\u001b[39;00m \u001b[39mlen\u001b[39m(out) \u001b[39m<\u001b[39m \u001b[39m1\u001b[39m:\n\u001b[0;32m    856\u001b[0m     \u001b[39mraise\u001b[39;00m \u001b[39mValueError\u001b[39;00m(\n\u001b[0;32m    857\u001b[0m         \u001b[39m\"\u001b[39m\u001b[39mNo fits were performed. \u001b[39m\u001b[39m\"\u001b[39m\n\u001b[0;32m    858\u001b[0m         \u001b[39m\"\u001b[39m\u001b[39mWas the CV iterator empty? \u001b[39m\u001b[39m\"\u001b[39m\n\u001b[0;32m    859\u001b[0m         \u001b[39m\"\u001b[39m\u001b[39mWere there no candidates?\u001b[39m\u001b[39m\"\u001b[39m\n\u001b[0;32m    860\u001b[0m     )\n",
            "File \u001b[1;32mc:\\Users\\svnel\\AppData\\Local\\Programs\\Python\\Python39\\lib\\site-packages\\joblib\\parallel.py:1046\u001b[0m, in \u001b[0;36mParallel.__call__\u001b[1;34m(self, iterable)\u001b[0m\n\u001b[0;32m   1043\u001b[0m \u001b[39mif\u001b[39;00m \u001b[39mself\u001b[39m\u001b[39m.\u001b[39mdispatch_one_batch(iterator):\n\u001b[0;32m   1044\u001b[0m     \u001b[39mself\u001b[39m\u001b[39m.\u001b[39m_iterating \u001b[39m=\u001b[39m \u001b[39mself\u001b[39m\u001b[39m.\u001b[39m_original_iterator \u001b[39mis\u001b[39;00m \u001b[39mnot\u001b[39;00m \u001b[39mNone\u001b[39;00m\n\u001b[1;32m-> 1046\u001b[0m \u001b[39mwhile\u001b[39;00m \u001b[39mself\u001b[39;49m\u001b[39m.\u001b[39;49mdispatch_one_batch(iterator):\n\u001b[0;32m   1047\u001b[0m     \u001b[39mpass\u001b[39;00m\n\u001b[0;32m   1049\u001b[0m \u001b[39mif\u001b[39;00m pre_dispatch \u001b[39m==\u001b[39m \u001b[39m\"\u001b[39m\u001b[39mall\u001b[39m\u001b[39m\"\u001b[39m \u001b[39mor\u001b[39;00m n_jobs \u001b[39m==\u001b[39m \u001b[39m1\u001b[39m:\n\u001b[0;32m   1050\u001b[0m     \u001b[39m# The iterable was consumed all at once by the above for loop.\u001b[39;00m\n\u001b[0;32m   1051\u001b[0m     \u001b[39m# No need to wait for async callbacks to trigger to\u001b[39;00m\n\u001b[0;32m   1052\u001b[0m     \u001b[39m# consumption.\u001b[39;00m\n",
            "File \u001b[1;32mc:\\Users\\svnel\\AppData\\Local\\Programs\\Python\\Python39\\lib\\site-packages\\joblib\\parallel.py:861\u001b[0m, in \u001b[0;36mParallel.dispatch_one_batch\u001b[1;34m(self, iterator)\u001b[0m\n\u001b[0;32m    859\u001b[0m     \u001b[39mreturn\u001b[39;00m \u001b[39mFalse\u001b[39;00m\n\u001b[0;32m    860\u001b[0m \u001b[39melse\u001b[39;00m:\n\u001b[1;32m--> 861\u001b[0m     \u001b[39mself\u001b[39;49m\u001b[39m.\u001b[39;49m_dispatch(tasks)\n\u001b[0;32m    862\u001b[0m     \u001b[39mreturn\u001b[39;00m \u001b[39mTrue\u001b[39;00m\n",
            "File \u001b[1;32mc:\\Users\\svnel\\AppData\\Local\\Programs\\Python\\Python39\\lib\\site-packages\\joblib\\parallel.py:779\u001b[0m, in \u001b[0;36mParallel._dispatch\u001b[1;34m(self, batch)\u001b[0m\n\u001b[0;32m    777\u001b[0m \u001b[39mwith\u001b[39;00m \u001b[39mself\u001b[39m\u001b[39m.\u001b[39m_lock:\n\u001b[0;32m    778\u001b[0m     job_idx \u001b[39m=\u001b[39m \u001b[39mlen\u001b[39m(\u001b[39mself\u001b[39m\u001b[39m.\u001b[39m_jobs)\n\u001b[1;32m--> 779\u001b[0m     job \u001b[39m=\u001b[39m \u001b[39mself\u001b[39;49m\u001b[39m.\u001b[39;49m_backend\u001b[39m.\u001b[39;49mapply_async(batch, callback\u001b[39m=\u001b[39;49mcb)\n\u001b[0;32m    780\u001b[0m     \u001b[39m# A job can complete so quickly than its callback is\u001b[39;00m\n\u001b[0;32m    781\u001b[0m     \u001b[39m# called before we get here, causing self._jobs to\u001b[39;00m\n\u001b[0;32m    782\u001b[0m     \u001b[39m# grow. To ensure correct results ordering, .insert is\u001b[39;00m\n\u001b[0;32m    783\u001b[0m     \u001b[39m# used (rather than .append) in the following line\u001b[39;00m\n\u001b[0;32m    784\u001b[0m     \u001b[39mself\u001b[39m\u001b[39m.\u001b[39m_jobs\u001b[39m.\u001b[39minsert(job_idx, job)\n",
            "File \u001b[1;32mc:\\Users\\svnel\\AppData\\Local\\Programs\\Python\\Python39\\lib\\site-packages\\joblib\\_parallel_backends.py:208\u001b[0m, in \u001b[0;36mSequentialBackend.apply_async\u001b[1;34m(self, func, callback)\u001b[0m\n\u001b[0;32m    206\u001b[0m \u001b[39mdef\u001b[39;00m \u001b[39mapply_async\u001b[39m(\u001b[39mself\u001b[39m, func, callback\u001b[39m=\u001b[39m\u001b[39mNone\u001b[39;00m):\n\u001b[0;32m    207\u001b[0m \u001b[39m    \u001b[39m\u001b[39m\"\"\"Schedule a func to be run\"\"\"\u001b[39;00m\n\u001b[1;32m--> 208\u001b[0m     result \u001b[39m=\u001b[39m ImmediateResult(func)\n\u001b[0;32m    209\u001b[0m     \u001b[39mif\u001b[39;00m callback:\n\u001b[0;32m    210\u001b[0m         callback(result)\n",
            "File \u001b[1;32mc:\\Users\\svnel\\AppData\\Local\\Programs\\Python\\Python39\\lib\\site-packages\\joblib\\_parallel_backends.py:572\u001b[0m, in \u001b[0;36mImmediateResult.__init__\u001b[1;34m(self, batch)\u001b[0m\n\u001b[0;32m    569\u001b[0m \u001b[39mdef\u001b[39;00m \u001b[39m__init__\u001b[39m(\u001b[39mself\u001b[39m, batch):\n\u001b[0;32m    570\u001b[0m     \u001b[39m# Don't delay the application, to avoid keeping the input\u001b[39;00m\n\u001b[0;32m    571\u001b[0m     \u001b[39m# arguments in memory\u001b[39;00m\n\u001b[1;32m--> 572\u001b[0m     \u001b[39mself\u001b[39m\u001b[39m.\u001b[39mresults \u001b[39m=\u001b[39m batch()\n",
            "File \u001b[1;32mc:\\Users\\svnel\\AppData\\Local\\Programs\\Python\\Python39\\lib\\site-packages\\joblib\\parallel.py:262\u001b[0m, in \u001b[0;36mBatchedCalls.__call__\u001b[1;34m(self)\u001b[0m\n\u001b[0;32m    258\u001b[0m \u001b[39mdef\u001b[39;00m \u001b[39m__call__\u001b[39m(\u001b[39mself\u001b[39m):\n\u001b[0;32m    259\u001b[0m     \u001b[39m# Set the default nested backend to self._backend but do not set the\u001b[39;00m\n\u001b[0;32m    260\u001b[0m     \u001b[39m# change the default number of processes to -1\u001b[39;00m\n\u001b[0;32m    261\u001b[0m     \u001b[39mwith\u001b[39;00m parallel_backend(\u001b[39mself\u001b[39m\u001b[39m.\u001b[39m_backend, n_jobs\u001b[39m=\u001b[39m\u001b[39mself\u001b[39m\u001b[39m.\u001b[39m_n_jobs):\n\u001b[1;32m--> 262\u001b[0m         \u001b[39mreturn\u001b[39;00m [func(\u001b[39m*\u001b[39margs, \u001b[39m*\u001b[39m\u001b[39m*\u001b[39mkwargs)\n\u001b[0;32m    263\u001b[0m                 \u001b[39mfor\u001b[39;00m func, args, kwargs \u001b[39min\u001b[39;00m \u001b[39mself\u001b[39m\u001b[39m.\u001b[39mitems]\n",
            "File \u001b[1;32mc:\\Users\\svnel\\AppData\\Local\\Programs\\Python\\Python39\\lib\\site-packages\\joblib\\parallel.py:262\u001b[0m, in \u001b[0;36m<listcomp>\u001b[1;34m(.0)\u001b[0m\n\u001b[0;32m    258\u001b[0m \u001b[39mdef\u001b[39;00m \u001b[39m__call__\u001b[39m(\u001b[39mself\u001b[39m):\n\u001b[0;32m    259\u001b[0m     \u001b[39m# Set the default nested backend to self._backend but do not set the\u001b[39;00m\n\u001b[0;32m    260\u001b[0m     \u001b[39m# change the default number of processes to -1\u001b[39;00m\n\u001b[0;32m    261\u001b[0m     \u001b[39mwith\u001b[39;00m parallel_backend(\u001b[39mself\u001b[39m\u001b[39m.\u001b[39m_backend, n_jobs\u001b[39m=\u001b[39m\u001b[39mself\u001b[39m\u001b[39m.\u001b[39m_n_jobs):\n\u001b[1;32m--> 262\u001b[0m         \u001b[39mreturn\u001b[39;00m [func(\u001b[39m*\u001b[39margs, \u001b[39m*\u001b[39m\u001b[39m*\u001b[39mkwargs)\n\u001b[0;32m    263\u001b[0m                 \u001b[39mfor\u001b[39;00m func, args, kwargs \u001b[39min\u001b[39;00m \u001b[39mself\u001b[39m\u001b[39m.\u001b[39mitems]\n",
            "File \u001b[1;32mc:\\Users\\svnel\\AppData\\Local\\Programs\\Python\\Python39\\lib\\site-packages\\sklearn\\utils\\fixes.py:211\u001b[0m, in \u001b[0;36m_FuncWrapper.__call__\u001b[1;34m(self, *args, **kwargs)\u001b[0m\n\u001b[0;32m    209\u001b[0m \u001b[39mdef\u001b[39;00m \u001b[39m__call__\u001b[39m(\u001b[39mself\u001b[39m, \u001b[39m*\u001b[39margs, \u001b[39m*\u001b[39m\u001b[39m*\u001b[39mkwargs):\n\u001b[0;32m    210\u001b[0m     \u001b[39mwith\u001b[39;00m config_context(\u001b[39m*\u001b[39m\u001b[39m*\u001b[39m\u001b[39mself\u001b[39m\u001b[39m.\u001b[39mconfig):\n\u001b[1;32m--> 211\u001b[0m         \u001b[39mreturn\u001b[39;00m \u001b[39mself\u001b[39m\u001b[39m.\u001b[39mfunction(\u001b[39m*\u001b[39margs, \u001b[39m*\u001b[39m\u001b[39m*\u001b[39mkwargs)\n",
            "File \u001b[1;32mc:\\Users\\svnel\\AppData\\Local\\Programs\\Python\\Python39\\lib\\site-packages\\sklearn\\model_selection\\_validation.py:681\u001b[0m, in \u001b[0;36m_fit_and_score\u001b[1;34m(estimator, X, y, scorer, train, test, verbose, parameters, fit_params, return_train_score, return_parameters, return_n_test_samples, return_times, return_estimator, split_progress, candidate_progress, error_score)\u001b[0m\n\u001b[0;32m    679\u001b[0m         estimator\u001b[39m.\u001b[39mfit(X_train, \u001b[39m*\u001b[39m\u001b[39m*\u001b[39mfit_params)\n\u001b[0;32m    680\u001b[0m     \u001b[39melse\u001b[39;00m:\n\u001b[1;32m--> 681\u001b[0m         estimator\u001b[39m.\u001b[39mfit(X_train, y_train, \u001b[39m*\u001b[39m\u001b[39m*\u001b[39mfit_params)\n\u001b[0;32m    683\u001b[0m \u001b[39mexcept\u001b[39;00m \u001b[39mException\u001b[39;00m:\n\u001b[0;32m    684\u001b[0m     \u001b[39m# Note fit time as time until error\u001b[39;00m\n\u001b[0;32m    685\u001b[0m     fit_time \u001b[39m=\u001b[39m time\u001b[39m.\u001b[39mtime() \u001b[39m-\u001b[39m start_time\n",
            "File \u001b[1;32mc:\\Users\\svnel\\AppData\\Local\\Programs\\Python\\Python39\\lib\\site-packages\\sklearn\\ensemble\\_forest.py:442\u001b[0m, in \u001b[0;36mBaseForest.fit\u001b[1;34m(self, X, y, sample_weight)\u001b[0m\n\u001b[0;32m    431\u001b[0m trees \u001b[39m=\u001b[39m [\n\u001b[0;32m    432\u001b[0m     \u001b[39mself\u001b[39m\u001b[39m.\u001b[39m_make_estimator(append\u001b[39m=\u001b[39m\u001b[39mFalse\u001b[39;00m, random_state\u001b[39m=\u001b[39mrandom_state)\n\u001b[0;32m    433\u001b[0m     \u001b[39mfor\u001b[39;00m i \u001b[39min\u001b[39;00m \u001b[39mrange\u001b[39m(n_more_estimators)\n\u001b[0;32m    434\u001b[0m ]\n\u001b[0;32m    436\u001b[0m \u001b[39m# Parallel loop: we prefer the threading backend as the Cython code\u001b[39;00m\n\u001b[0;32m    437\u001b[0m \u001b[39m# for fitting the trees is internally releasing the Python GIL\u001b[39;00m\n\u001b[0;32m    438\u001b[0m \u001b[39m# making threading more efficient than multiprocessing in\u001b[39;00m\n\u001b[0;32m    439\u001b[0m \u001b[39m# that case. However, for joblib 0.12+ we respect any\u001b[39;00m\n\u001b[0;32m    440\u001b[0m \u001b[39m# parallel_backend contexts set at a higher level,\u001b[39;00m\n\u001b[0;32m    441\u001b[0m \u001b[39m# since correctness does not rely on using threads.\u001b[39;00m\n\u001b[1;32m--> 442\u001b[0m trees \u001b[39m=\u001b[39m Parallel(\n\u001b[0;32m    443\u001b[0m     n_jobs\u001b[39m=\u001b[39;49m\u001b[39mself\u001b[39;49m\u001b[39m.\u001b[39;49mn_jobs,\n\u001b[0;32m    444\u001b[0m     verbose\u001b[39m=\u001b[39;49m\u001b[39mself\u001b[39;49m\u001b[39m.\u001b[39;49mverbose,\n\u001b[0;32m    445\u001b[0m     \u001b[39m*\u001b[39;49m\u001b[39m*\u001b[39;49m_joblib_parallel_args(prefer\u001b[39m=\u001b[39;49m\u001b[39m\"\u001b[39;49m\u001b[39mthreads\u001b[39;49m\u001b[39m\"\u001b[39;49m),\n\u001b[0;32m    446\u001b[0m )(\n\u001b[0;32m    447\u001b[0m     delayed(_parallel_build_trees)(\n\u001b[0;32m    448\u001b[0m         t,\n\u001b[0;32m    449\u001b[0m         \u001b[39mself\u001b[39;49m,\n\u001b[0;32m    450\u001b[0m         X,\n\u001b[0;32m    451\u001b[0m         y,\n\u001b[0;32m    452\u001b[0m         sample_weight,\n\u001b[0;32m    453\u001b[0m         i,\n\u001b[0;32m    454\u001b[0m         \u001b[39mlen\u001b[39;49m(trees),\n\u001b[0;32m    455\u001b[0m         verbose\u001b[39m=\u001b[39;49m\u001b[39mself\u001b[39;49m\u001b[39m.\u001b[39;49mverbose,\n\u001b[0;32m    456\u001b[0m         class_weight\u001b[39m=\u001b[39;49m\u001b[39mself\u001b[39;49m\u001b[39m.\u001b[39;49mclass_weight,\n\u001b[0;32m    457\u001b[0m         n_samples_bootstrap\u001b[39m=\u001b[39;49mn_samples_bootstrap,\n\u001b[0;32m    458\u001b[0m     )\n\u001b[0;32m    459\u001b[0m     \u001b[39mfor\u001b[39;49;00m i, t \u001b[39min\u001b[39;49;00m \u001b[39menumerate\u001b[39;49m(trees)\n\u001b[0;32m    460\u001b[0m )\n\u001b[0;32m    462\u001b[0m \u001b[39m# Collect newly grown trees\u001b[39;00m\n\u001b[0;32m    463\u001b[0m \u001b[39mself\u001b[39m\u001b[39m.\u001b[39mestimators_\u001b[39m.\u001b[39mextend(trees)\n",
            "File \u001b[1;32mc:\\Users\\svnel\\AppData\\Local\\Programs\\Python\\Python39\\lib\\site-packages\\joblib\\parallel.py:1046\u001b[0m, in \u001b[0;36mParallel.__call__\u001b[1;34m(self, iterable)\u001b[0m\n\u001b[0;32m   1043\u001b[0m \u001b[39mif\u001b[39;00m \u001b[39mself\u001b[39m\u001b[39m.\u001b[39mdispatch_one_batch(iterator):\n\u001b[0;32m   1044\u001b[0m     \u001b[39mself\u001b[39m\u001b[39m.\u001b[39m_iterating \u001b[39m=\u001b[39m \u001b[39mself\u001b[39m\u001b[39m.\u001b[39m_original_iterator \u001b[39mis\u001b[39;00m \u001b[39mnot\u001b[39;00m \u001b[39mNone\u001b[39;00m\n\u001b[1;32m-> 1046\u001b[0m \u001b[39mwhile\u001b[39;00m \u001b[39mself\u001b[39;49m\u001b[39m.\u001b[39;49mdispatch_one_batch(iterator):\n\u001b[0;32m   1047\u001b[0m     \u001b[39mpass\u001b[39;00m\n\u001b[0;32m   1049\u001b[0m \u001b[39mif\u001b[39;00m pre_dispatch \u001b[39m==\u001b[39m \u001b[39m\"\u001b[39m\u001b[39mall\u001b[39m\u001b[39m\"\u001b[39m \u001b[39mor\u001b[39;00m n_jobs \u001b[39m==\u001b[39m \u001b[39m1\u001b[39m:\n\u001b[0;32m   1050\u001b[0m     \u001b[39m# The iterable was consumed all at once by the above for loop.\u001b[39;00m\n\u001b[0;32m   1051\u001b[0m     \u001b[39m# No need to wait for async callbacks to trigger to\u001b[39;00m\n\u001b[0;32m   1052\u001b[0m     \u001b[39m# consumption.\u001b[39;00m\n",
            "File \u001b[1;32mc:\\Users\\svnel\\AppData\\Local\\Programs\\Python\\Python39\\lib\\site-packages\\joblib\\parallel.py:861\u001b[0m, in \u001b[0;36mParallel.dispatch_one_batch\u001b[1;34m(self, iterator)\u001b[0m\n\u001b[0;32m    859\u001b[0m     \u001b[39mreturn\u001b[39;00m \u001b[39mFalse\u001b[39;00m\n\u001b[0;32m    860\u001b[0m \u001b[39melse\u001b[39;00m:\n\u001b[1;32m--> 861\u001b[0m     \u001b[39mself\u001b[39;49m\u001b[39m.\u001b[39;49m_dispatch(tasks)\n\u001b[0;32m    862\u001b[0m     \u001b[39mreturn\u001b[39;00m \u001b[39mTrue\u001b[39;00m\n",
            "File \u001b[1;32mc:\\Users\\svnel\\AppData\\Local\\Programs\\Python\\Python39\\lib\\site-packages\\joblib\\parallel.py:779\u001b[0m, in \u001b[0;36mParallel._dispatch\u001b[1;34m(self, batch)\u001b[0m\n\u001b[0;32m    777\u001b[0m \u001b[39mwith\u001b[39;00m \u001b[39mself\u001b[39m\u001b[39m.\u001b[39m_lock:\n\u001b[0;32m    778\u001b[0m     job_idx \u001b[39m=\u001b[39m \u001b[39mlen\u001b[39m(\u001b[39mself\u001b[39m\u001b[39m.\u001b[39m_jobs)\n\u001b[1;32m--> 779\u001b[0m     job \u001b[39m=\u001b[39m \u001b[39mself\u001b[39;49m\u001b[39m.\u001b[39;49m_backend\u001b[39m.\u001b[39;49mapply_async(batch, callback\u001b[39m=\u001b[39;49mcb)\n\u001b[0;32m    780\u001b[0m     \u001b[39m# A job can complete so quickly than its callback is\u001b[39;00m\n\u001b[0;32m    781\u001b[0m     \u001b[39m# called before we get here, causing self._jobs to\u001b[39;00m\n\u001b[0;32m    782\u001b[0m     \u001b[39m# grow. To ensure correct results ordering, .insert is\u001b[39;00m\n\u001b[0;32m    783\u001b[0m     \u001b[39m# used (rather than .append) in the following line\u001b[39;00m\n\u001b[0;32m    784\u001b[0m     \u001b[39mself\u001b[39m\u001b[39m.\u001b[39m_jobs\u001b[39m.\u001b[39minsert(job_idx, job)\n",
            "File \u001b[1;32mc:\\Users\\svnel\\AppData\\Local\\Programs\\Python\\Python39\\lib\\site-packages\\joblib\\_parallel_backends.py:208\u001b[0m, in \u001b[0;36mSequentialBackend.apply_async\u001b[1;34m(self, func, callback)\u001b[0m\n\u001b[0;32m    206\u001b[0m \u001b[39mdef\u001b[39;00m \u001b[39mapply_async\u001b[39m(\u001b[39mself\u001b[39m, func, callback\u001b[39m=\u001b[39m\u001b[39mNone\u001b[39;00m):\n\u001b[0;32m    207\u001b[0m \u001b[39m    \u001b[39m\u001b[39m\"\"\"Schedule a func to be run\"\"\"\u001b[39;00m\n\u001b[1;32m--> 208\u001b[0m     result \u001b[39m=\u001b[39m ImmediateResult(func)\n\u001b[0;32m    209\u001b[0m     \u001b[39mif\u001b[39;00m callback:\n\u001b[0;32m    210\u001b[0m         callback(result)\n",
            "File \u001b[1;32mc:\\Users\\svnel\\AppData\\Local\\Programs\\Python\\Python39\\lib\\site-packages\\joblib\\_parallel_backends.py:572\u001b[0m, in \u001b[0;36mImmediateResult.__init__\u001b[1;34m(self, batch)\u001b[0m\n\u001b[0;32m    569\u001b[0m \u001b[39mdef\u001b[39;00m \u001b[39m__init__\u001b[39m(\u001b[39mself\u001b[39m, batch):\n\u001b[0;32m    570\u001b[0m     \u001b[39m# Don't delay the application, to avoid keeping the input\u001b[39;00m\n\u001b[0;32m    571\u001b[0m     \u001b[39m# arguments in memory\u001b[39;00m\n\u001b[1;32m--> 572\u001b[0m     \u001b[39mself\u001b[39m\u001b[39m.\u001b[39mresults \u001b[39m=\u001b[39m batch()\n",
            "File \u001b[1;32mc:\\Users\\svnel\\AppData\\Local\\Programs\\Python\\Python39\\lib\\site-packages\\joblib\\parallel.py:262\u001b[0m, in \u001b[0;36mBatchedCalls.__call__\u001b[1;34m(self)\u001b[0m\n\u001b[0;32m    258\u001b[0m \u001b[39mdef\u001b[39;00m \u001b[39m__call__\u001b[39m(\u001b[39mself\u001b[39m):\n\u001b[0;32m    259\u001b[0m     \u001b[39m# Set the default nested backend to self._backend but do not set the\u001b[39;00m\n\u001b[0;32m    260\u001b[0m     \u001b[39m# change the default number of processes to -1\u001b[39;00m\n\u001b[0;32m    261\u001b[0m     \u001b[39mwith\u001b[39;00m parallel_backend(\u001b[39mself\u001b[39m\u001b[39m.\u001b[39m_backend, n_jobs\u001b[39m=\u001b[39m\u001b[39mself\u001b[39m\u001b[39m.\u001b[39m_n_jobs):\n\u001b[1;32m--> 262\u001b[0m         \u001b[39mreturn\u001b[39;00m [func(\u001b[39m*\u001b[39margs, \u001b[39m*\u001b[39m\u001b[39m*\u001b[39mkwargs)\n\u001b[0;32m    263\u001b[0m                 \u001b[39mfor\u001b[39;00m func, args, kwargs \u001b[39min\u001b[39;00m \u001b[39mself\u001b[39m\u001b[39m.\u001b[39mitems]\n",
            "File \u001b[1;32mc:\\Users\\svnel\\AppData\\Local\\Programs\\Python\\Python39\\lib\\site-packages\\joblib\\parallel.py:262\u001b[0m, in \u001b[0;36m<listcomp>\u001b[1;34m(.0)\u001b[0m\n\u001b[0;32m    258\u001b[0m \u001b[39mdef\u001b[39;00m \u001b[39m__call__\u001b[39m(\u001b[39mself\u001b[39m):\n\u001b[0;32m    259\u001b[0m     \u001b[39m# Set the default nested backend to self._backend but do not set the\u001b[39;00m\n\u001b[0;32m    260\u001b[0m     \u001b[39m# change the default number of processes to -1\u001b[39;00m\n\u001b[0;32m    261\u001b[0m     \u001b[39mwith\u001b[39;00m parallel_backend(\u001b[39mself\u001b[39m\u001b[39m.\u001b[39m_backend, n_jobs\u001b[39m=\u001b[39m\u001b[39mself\u001b[39m\u001b[39m.\u001b[39m_n_jobs):\n\u001b[1;32m--> 262\u001b[0m         \u001b[39mreturn\u001b[39;00m [func(\u001b[39m*\u001b[39margs, \u001b[39m*\u001b[39m\u001b[39m*\u001b[39mkwargs)\n\u001b[0;32m    263\u001b[0m                 \u001b[39mfor\u001b[39;00m func, args, kwargs \u001b[39min\u001b[39;00m \u001b[39mself\u001b[39m\u001b[39m.\u001b[39mitems]\n",
            "File \u001b[1;32mc:\\Users\\svnel\\AppData\\Local\\Programs\\Python\\Python39\\lib\\site-packages\\sklearn\\utils\\fixes.py:211\u001b[0m, in \u001b[0;36m_FuncWrapper.__call__\u001b[1;34m(self, *args, **kwargs)\u001b[0m\n\u001b[0;32m    209\u001b[0m \u001b[39mdef\u001b[39;00m \u001b[39m__call__\u001b[39m(\u001b[39mself\u001b[39m, \u001b[39m*\u001b[39margs, \u001b[39m*\u001b[39m\u001b[39m*\u001b[39mkwargs):\n\u001b[0;32m    210\u001b[0m     \u001b[39mwith\u001b[39;00m config_context(\u001b[39m*\u001b[39m\u001b[39m*\u001b[39m\u001b[39mself\u001b[39m\u001b[39m.\u001b[39mconfig):\n\u001b[1;32m--> 211\u001b[0m         \u001b[39mreturn\u001b[39;00m \u001b[39mself\u001b[39m\u001b[39m.\u001b[39mfunction(\u001b[39m*\u001b[39margs, \u001b[39m*\u001b[39m\u001b[39m*\u001b[39mkwargs)\n",
            "File \u001b[1;32mc:\\Users\\svnel\\AppData\\Local\\Programs\\Python\\Python39\\lib\\site-packages\\sklearn\\ensemble\\_forest.py:185\u001b[0m, in \u001b[0;36m_parallel_build_trees\u001b[1;34m(tree, forest, X, y, sample_weight, tree_idx, n_trees, verbose, class_weight, n_samples_bootstrap)\u001b[0m\n\u001b[0;32m    182\u001b[0m     \u001b[39melif\u001b[39;00m class_weight \u001b[39m==\u001b[39m \u001b[39m\"\u001b[39m\u001b[39mbalanced_subsample\u001b[39m\u001b[39m\"\u001b[39m:\n\u001b[0;32m    183\u001b[0m         curr_sample_weight \u001b[39m*\u001b[39m\u001b[39m=\u001b[39m compute_sample_weight(\u001b[39m\"\u001b[39m\u001b[39mbalanced\u001b[39m\u001b[39m\"\u001b[39m, y, indices\u001b[39m=\u001b[39mindices)\n\u001b[1;32m--> 185\u001b[0m     tree\u001b[39m.\u001b[39;49mfit(X, y, sample_weight\u001b[39m=\u001b[39;49mcurr_sample_weight, check_input\u001b[39m=\u001b[39;49m\u001b[39mFalse\u001b[39;49;00m)\n\u001b[0;32m    186\u001b[0m \u001b[39melse\u001b[39;00m:\n\u001b[0;32m    187\u001b[0m     tree\u001b[39m.\u001b[39mfit(X, y, sample_weight\u001b[39m=\u001b[39msample_weight, check_input\u001b[39m=\u001b[39m\u001b[39mFalse\u001b[39;00m)\n",
            "File \u001b[1;32mc:\\Users\\svnel\\AppData\\Local\\Programs\\Python\\Python39\\lib\\site-packages\\sklearn\\tree\\_classes.py:1315\u001b[0m, in \u001b[0;36mDecisionTreeRegressor.fit\u001b[1;34m(self, X, y, sample_weight, check_input, X_idx_sorted)\u001b[0m\n\u001b[0;32m   1278\u001b[0m \u001b[39mdef\u001b[39;00m \u001b[39mfit\u001b[39m(\n\u001b[0;32m   1279\u001b[0m     \u001b[39mself\u001b[39m, X, y, sample_weight\u001b[39m=\u001b[39m\u001b[39mNone\u001b[39;00m, check_input\u001b[39m=\u001b[39m\u001b[39mTrue\u001b[39;00m, X_idx_sorted\u001b[39m=\u001b[39m\u001b[39m\"\u001b[39m\u001b[39mdeprecated\u001b[39m\u001b[39m\"\u001b[39m\n\u001b[0;32m   1280\u001b[0m ):\n\u001b[0;32m   1281\u001b[0m \u001b[39m    \u001b[39m\u001b[39m\"\"\"Build a decision tree regressor from the training set (X, y).\u001b[39;00m\n\u001b[0;32m   1282\u001b[0m \n\u001b[0;32m   1283\u001b[0m \u001b[39m    Parameters\u001b[39;00m\n\u001b[1;32m   (...)\u001b[0m\n\u001b[0;32m   1312\u001b[0m \u001b[39m        Fitted estimator.\u001b[39;00m\n\u001b[0;32m   1313\u001b[0m \u001b[39m    \"\"\"\u001b[39;00m\n\u001b[1;32m-> 1315\u001b[0m     \u001b[39msuper\u001b[39;49m()\u001b[39m.\u001b[39;49mfit(\n\u001b[0;32m   1316\u001b[0m         X,\n\u001b[0;32m   1317\u001b[0m         y,\n\u001b[0;32m   1318\u001b[0m         sample_weight\u001b[39m=\u001b[39;49msample_weight,\n\u001b[0;32m   1319\u001b[0m         check_input\u001b[39m=\u001b[39;49mcheck_input,\n\u001b[0;32m   1320\u001b[0m         X_idx_sorted\u001b[39m=\u001b[39;49mX_idx_sorted,\n\u001b[0;32m   1321\u001b[0m     )\n\u001b[0;32m   1322\u001b[0m     \u001b[39mreturn\u001b[39;00m \u001b[39mself\u001b[39m\n",
            "File \u001b[1;32mc:\\Users\\svnel\\AppData\\Local\\Programs\\Python\\Python39\\lib\\site-packages\\sklearn\\tree\\_classes.py:420\u001b[0m, in \u001b[0;36mBaseDecisionTree.fit\u001b[1;34m(self, X, y, sample_weight, check_input, X_idx_sorted)\u001b[0m\n\u001b[0;32m    409\u001b[0m \u001b[39melse\u001b[39;00m:\n\u001b[0;32m    410\u001b[0m     builder \u001b[39m=\u001b[39m BestFirstTreeBuilder(\n\u001b[0;32m    411\u001b[0m         splitter,\n\u001b[0;32m    412\u001b[0m         min_samples_split,\n\u001b[1;32m   (...)\u001b[0m\n\u001b[0;32m    417\u001b[0m         \u001b[39mself\u001b[39m\u001b[39m.\u001b[39mmin_impurity_decrease,\n\u001b[0;32m    418\u001b[0m     )\n\u001b[1;32m--> 420\u001b[0m builder\u001b[39m.\u001b[39;49mbuild(\u001b[39mself\u001b[39;49m\u001b[39m.\u001b[39;49mtree_, X, y, sample_weight)\n\u001b[0;32m    422\u001b[0m \u001b[39mif\u001b[39;00m \u001b[39mself\u001b[39m\u001b[39m.\u001b[39mn_outputs_ \u001b[39m==\u001b[39m \u001b[39m1\u001b[39m \u001b[39mand\u001b[39;00m is_classifier(\u001b[39mself\u001b[39m):\n\u001b[0;32m    423\u001b[0m     \u001b[39mself\u001b[39m\u001b[39m.\u001b[39mn_classes_ \u001b[39m=\u001b[39m \u001b[39mself\u001b[39m\u001b[39m.\u001b[39mn_classes_[\u001b[39m0\u001b[39m]\n",
            "\u001b[1;31mKeyboardInterrupt\u001b[0m: "
          ]
        }
      ],
      "source": [
        "## grid search cross validation (excluding sound variables)\n",
        "\n",
        "from sklearn.ensemble import RandomForestRegressor\n",
        "from sklearn.model_selection import GridSearchCV, KFold\n",
        "\n",
        "# Define the parameter grid to search over\n",
        "param_grid = {\n",
        "    'n_estimators': [100, 200, 300],\n",
        "    'max_depth': [2, 5, 10, 30],\n",
        "    'min_samples_leaf': [10, 20, 30]\n",
        "}\n",
        "\n",
        "rf_model = RandomForestRegressor()\n",
        "\n",
        "kf = KFold(n_splits=5, shuffle=True, random_state=7 )\n",
        "\n",
        "grid_search = GridSearchCV(estimator=rf_model, param_grid=param_grid, cv=kf, scoring='neg_mean_squared_error')\n",
        "\n",
        "grid_search.fit(X_train[select_variable], y_train[\"laf50_per_hour\"])\n",
        "\n",
        "# Print the best hyperparameters and corresponding mean score\n",
        "print(\"Best parameters:\", grid_search.best_params_)\n",
        "print(\"Best score:\", (-grid_search.best_score_)**0.5)\n",
        "\n",
        "'''\n",
        "Best parameters: {'max_depth': 30, 'min_samples_leaf': 10, 'n_estimators': 300}\n",
        "Best score: 3.6002069030220243\n",
        "\\nBest parameters: {'max_depth': 30, 'min_samples_leaf': 10, 'n_estimators': 300}\\nBest score: 3.2866983117233812\\n\\nBest parameters: {'max_depth': 30, 'min_samples_leaf': 10, 'n_estimators': 300}\\nBest score: 3.289151450103886\\n\\n\n",
        "'''"
      ]
    },
    {
      "cell_type": "code",
      "execution_count": 87,
      "metadata": {
        "colab": {
          "base_uri": "https://localhost:8080/",
          "height": 487
        },
        "id": "CeryiiNtFskf",
        "outputId": "b353c5c3-c72c-424b-d123-3e3534c1482a"
      },
      "outputs": [
        {
          "data": {
            "text/html": [
              "<div>\n",
              "<style scoped>\n",
              "    .dataframe tbody tr th:only-of-type {\n",
              "        vertical-align: middle;\n",
              "    }\n",
              "\n",
              "    .dataframe tbody tr th {\n",
              "        vertical-align: top;\n",
              "    }\n",
              "\n",
              "    .dataframe thead th {\n",
              "        text-align: right;\n",
              "    }\n",
              "</style>\n",
              "<table border=\"1\" class=\"dataframe\">\n",
              "  <thead>\n",
              "    <tr style=\"text-align: right;\">\n",
              "      <th></th>\n",
              "      <th>OneHot__hour_0</th>\n",
              "      <th>OneHot__hour_1</th>\n",
              "      <th>OneHot__hour_2</th>\n",
              "      <th>OneHot__hour_3</th>\n",
              "      <th>OneHot__hour_4</th>\n",
              "      <th>OneHot__hour_5</th>\n",
              "      <th>OneHot__hour_6</th>\n",
              "      <th>OneHot__hour_7</th>\n",
              "      <th>OneHot__hour_8</th>\n",
              "      <th>OneHot__hour_9</th>\n",
              "      <th>...</th>\n",
              "      <th>StandardScaler__LC_DWPTEMP</th>\n",
              "      <th>StandardScaler__LC_RAD</th>\n",
              "      <th>StandardScaler__LC_RAININ</th>\n",
              "      <th>StandardScaler__LC_DAILYRAIN</th>\n",
              "      <th>StandardScaler__LC_WINDSPEED</th>\n",
              "      <th>StandardScaler__LC_RAD60</th>\n",
              "      <th>StandardScaler__LC_TEMP_QCL0</th>\n",
              "      <th>StandardScaler__LC_TEMP_QCL1</th>\n",
              "      <th>StandardScaler__LC_TEMP_QCL2</th>\n",
              "      <th>StandardScaler__LC_TEMP_QCL3</th>\n",
              "    </tr>\n",
              "  </thead>\n",
              "  <tbody>\n",
              "    <tr>\n",
              "      <th>0</th>\n",
              "      <td>0.0</td>\n",
              "      <td>0.0</td>\n",
              "      <td>0.0</td>\n",
              "      <td>0.0</td>\n",
              "      <td>0.0</td>\n",
              "      <td>0.0</td>\n",
              "      <td>0.0</td>\n",
              "      <td>1.0</td>\n",
              "      <td>0.0</td>\n",
              "      <td>0.0</td>\n",
              "      <td>...</td>\n",
              "      <td>0.371451</td>\n",
              "      <td>0.298191</td>\n",
              "      <td>-0.165229</td>\n",
              "      <td>-0.195511</td>\n",
              "      <td>-0.653386</td>\n",
              "      <td>0.054244</td>\n",
              "      <td>-0.050247</td>\n",
              "      <td>-0.049607</td>\n",
              "      <td>-0.051128</td>\n",
              "      <td>-0.054367</td>\n",
              "    </tr>\n",
              "    <tr>\n",
              "      <th>1</th>\n",
              "      <td>0.0</td>\n",
              "      <td>0.0</td>\n",
              "      <td>0.0</td>\n",
              "      <td>0.0</td>\n",
              "      <td>0.0</td>\n",
              "      <td>0.0</td>\n",
              "      <td>0.0</td>\n",
              "      <td>0.0</td>\n",
              "      <td>0.0</td>\n",
              "      <td>0.0</td>\n",
              "      <td>...</td>\n",
              "      <td>-1.098942</td>\n",
              "      <td>-0.743654</td>\n",
              "      <td>-0.070931</td>\n",
              "      <td>2.186042</td>\n",
              "      <td>-0.885570</td>\n",
              "      <td>-0.741668</td>\n",
              "      <td>-1.399241</td>\n",
              "      <td>-1.399244</td>\n",
              "      <td>-1.398033</td>\n",
              "      <td>-1.417263</td>\n",
              "    </tr>\n",
              "    <tr>\n",
              "      <th>2</th>\n",
              "      <td>0.0</td>\n",
              "      <td>0.0</td>\n",
              "      <td>0.0</td>\n",
              "      <td>0.0</td>\n",
              "      <td>0.0</td>\n",
              "      <td>0.0</td>\n",
              "      <td>0.0</td>\n",
              "      <td>0.0</td>\n",
              "      <td>0.0</td>\n",
              "      <td>0.0</td>\n",
              "      <td>...</td>\n",
              "      <td>0.274476</td>\n",
              "      <td>-0.742694</td>\n",
              "      <td>-0.170399</td>\n",
              "      <td>-0.123560</td>\n",
              "      <td>-0.779704</td>\n",
              "      <td>-0.672331</td>\n",
              "      <td>0.299963</td>\n",
              "      <td>0.300399</td>\n",
              "      <td>0.300636</td>\n",
              "      <td>0.321706</td>\n",
              "    </tr>\n",
              "    <tr>\n",
              "      <th>3</th>\n",
              "      <td>0.0</td>\n",
              "      <td>0.0</td>\n",
              "      <td>0.0</td>\n",
              "      <td>0.0</td>\n",
              "      <td>0.0</td>\n",
              "      <td>0.0</td>\n",
              "      <td>0.0</td>\n",
              "      <td>0.0</td>\n",
              "      <td>0.0</td>\n",
              "      <td>0.0</td>\n",
              "      <td>...</td>\n",
              "      <td>0.370736</td>\n",
              "      <td>-0.743373</td>\n",
              "      <td>-0.170399</td>\n",
              "      <td>-0.355547</td>\n",
              "      <td>-0.594279</td>\n",
              "      <td>-0.742117</td>\n",
              "      <td>-0.310654</td>\n",
              "      <td>-0.311074</td>\n",
              "      <td>-0.309907</td>\n",
              "      <td>-0.287871</td>\n",
              "    </tr>\n",
              "    <tr>\n",
              "      <th>4</th>\n",
              "      <td>0.0</td>\n",
              "      <td>0.0</td>\n",
              "      <td>0.0</td>\n",
              "      <td>0.0</td>\n",
              "      <td>0.0</td>\n",
              "      <td>0.0</td>\n",
              "      <td>0.0</td>\n",
              "      <td>0.0</td>\n",
              "      <td>0.0</td>\n",
              "      <td>0.0</td>\n",
              "      <td>...</td>\n",
              "      <td>-0.296508</td>\n",
              "      <td>-0.743559</td>\n",
              "      <td>-0.170399</td>\n",
              "      <td>-0.345487</td>\n",
              "      <td>-0.911924</td>\n",
              "      <td>-0.742270</td>\n",
              "      <td>-0.788365</td>\n",
              "      <td>-0.788259</td>\n",
              "      <td>-0.786665</td>\n",
              "      <td>-0.771995</td>\n",
              "    </tr>\n",
              "    <tr>\n",
              "      <th>...</th>\n",
              "      <td>...</td>\n",
              "      <td>...</td>\n",
              "      <td>...</td>\n",
              "      <td>...</td>\n",
              "      <td>...</td>\n",
              "      <td>...</td>\n",
              "      <td>...</td>\n",
              "      <td>...</td>\n",
              "      <td>...</td>\n",
              "      <td>...</td>\n",
              "      <td>...</td>\n",
              "      <td>...</td>\n",
              "      <td>...</td>\n",
              "      <td>...</td>\n",
              "      <td>...</td>\n",
              "      <td>...</td>\n",
              "      <td>...</td>\n",
              "      <td>...</td>\n",
              "      <td>...</td>\n",
              "      <td>...</td>\n",
              "      <td>...</td>\n",
              "    </tr>\n",
              "    <tr>\n",
              "      <th>16326</th>\n",
              "      <td>0.0</td>\n",
              "      <td>0.0</td>\n",
              "      <td>0.0</td>\n",
              "      <td>0.0</td>\n",
              "      <td>0.0</td>\n",
              "      <td>0.0</td>\n",
              "      <td>0.0</td>\n",
              "      <td>0.0</td>\n",
              "      <td>0.0</td>\n",
              "      <td>0.0</td>\n",
              "      <td>...</td>\n",
              "      <td>0.893999</td>\n",
              "      <td>0.090527</td>\n",
              "      <td>-0.170399</td>\n",
              "      <td>-0.352986</td>\n",
              "      <td>-0.043427</td>\n",
              "      <td>0.446469</td>\n",
              "      <td>0.681738</td>\n",
              "      <td>0.679602</td>\n",
              "      <td>0.680559</td>\n",
              "      <td>0.688344</td>\n",
              "    </tr>\n",
              "    <tr>\n",
              "      <th>16327</th>\n",
              "      <td>0.0</td>\n",
              "      <td>0.0</td>\n",
              "      <td>0.0</td>\n",
              "      <td>0.0</td>\n",
              "      <td>0.0</td>\n",
              "      <td>0.0</td>\n",
              "      <td>0.0</td>\n",
              "      <td>0.0</td>\n",
              "      <td>0.0</td>\n",
              "      <td>0.0</td>\n",
              "      <td>...</td>\n",
              "      <td>-1.320259</td>\n",
              "      <td>-0.029517</td>\n",
              "      <td>-0.170399</td>\n",
              "      <td>-0.338873</td>\n",
              "      <td>0.234888</td>\n",
              "      <td>0.505829</td>\n",
              "      <td>-0.859404</td>\n",
              "      <td>-0.860929</td>\n",
              "      <td>-0.862518</td>\n",
              "      <td>-0.899033</td>\n",
              "    </tr>\n",
              "    <tr>\n",
              "      <th>16328</th>\n",
              "      <td>1.0</td>\n",
              "      <td>0.0</td>\n",
              "      <td>0.0</td>\n",
              "      <td>0.0</td>\n",
              "      <td>0.0</td>\n",
              "      <td>0.0</td>\n",
              "      <td>0.0</td>\n",
              "      <td>0.0</td>\n",
              "      <td>0.0</td>\n",
              "      <td>0.0</td>\n",
              "      <td>...</td>\n",
              "      <td>0.980319</td>\n",
              "      <td>-0.743540</td>\n",
              "      <td>-0.170399</td>\n",
              "      <td>-0.355547</td>\n",
              "      <td>-0.890860</td>\n",
              "      <td>-0.742296</td>\n",
              "      <td>0.178241</td>\n",
              "      <td>0.178641</td>\n",
              "      <td>0.178900</td>\n",
              "      <td>0.235621</td>\n",
              "    </tr>\n",
              "    <tr>\n",
              "      <th>16329</th>\n",
              "      <td>0.0</td>\n",
              "      <td>0.0</td>\n",
              "      <td>0.0</td>\n",
              "      <td>0.0</td>\n",
              "      <td>0.0</td>\n",
              "      <td>0.0</td>\n",
              "      <td>0.0</td>\n",
              "      <td>0.0</td>\n",
              "      <td>0.0</td>\n",
              "      <td>0.0</td>\n",
              "      <td>...</td>\n",
              "      <td>0.986453</td>\n",
              "      <td>1.554361</td>\n",
              "      <td>-0.170399</td>\n",
              "      <td>-0.355547</td>\n",
              "      <td>0.785747</td>\n",
              "      <td>2.001434</td>\n",
              "      <td>1.688960</td>\n",
              "      <td>1.687347</td>\n",
              "      <td>1.687319</td>\n",
              "      <td>1.659991</td>\n",
              "    </tr>\n",
              "    <tr>\n",
              "      <th>16330</th>\n",
              "      <td>0.0</td>\n",
              "      <td>0.0</td>\n",
              "      <td>0.0</td>\n",
              "      <td>0.0</td>\n",
              "      <td>0.0</td>\n",
              "      <td>0.0</td>\n",
              "      <td>0.0</td>\n",
              "      <td>0.0</td>\n",
              "      <td>0.0</td>\n",
              "      <td>0.0</td>\n",
              "      <td>...</td>\n",
              "      <td>-0.060453</td>\n",
              "      <td>-0.286916</td>\n",
              "      <td>-0.170399</td>\n",
              "      <td>-0.318185</td>\n",
              "      <td>0.515924</td>\n",
              "      <td>-0.087053</td>\n",
              "      <td>-0.250578</td>\n",
              "      <td>-0.250471</td>\n",
              "      <td>-0.249296</td>\n",
              "      <td>-0.250182</td>\n",
              "    </tr>\n",
              "  </tbody>\n",
              "</table>\n",
              "<p>16331 rows × 54 columns</p>\n",
              "</div>"
            ],
            "text/plain": [
              "       OneHot__hour_0  OneHot__hour_1  OneHot__hour_2  OneHot__hour_3  \\\n",
              "0                 0.0             0.0             0.0             0.0   \n",
              "1                 0.0             0.0             0.0             0.0   \n",
              "2                 0.0             0.0             0.0             0.0   \n",
              "3                 0.0             0.0             0.0             0.0   \n",
              "4                 0.0             0.0             0.0             0.0   \n",
              "...               ...             ...             ...             ...   \n",
              "16326             0.0             0.0             0.0             0.0   \n",
              "16327             0.0             0.0             0.0             0.0   \n",
              "16328             1.0             0.0             0.0             0.0   \n",
              "16329             0.0             0.0             0.0             0.0   \n",
              "16330             0.0             0.0             0.0             0.0   \n",
              "\n",
              "       OneHot__hour_4  OneHot__hour_5  OneHot__hour_6  OneHot__hour_7  \\\n",
              "0                 0.0             0.0             0.0             1.0   \n",
              "1                 0.0             0.0             0.0             0.0   \n",
              "2                 0.0             0.0             0.0             0.0   \n",
              "3                 0.0             0.0             0.0             0.0   \n",
              "4                 0.0             0.0             0.0             0.0   \n",
              "...               ...             ...             ...             ...   \n",
              "16326             0.0             0.0             0.0             0.0   \n",
              "16327             0.0             0.0             0.0             0.0   \n",
              "16328             0.0             0.0             0.0             0.0   \n",
              "16329             0.0             0.0             0.0             0.0   \n",
              "16330             0.0             0.0             0.0             0.0   \n",
              "\n",
              "       OneHot__hour_8  OneHot__hour_9  ...  StandardScaler__LC_DWPTEMP  \\\n",
              "0                 0.0             0.0  ...                    0.371451   \n",
              "1                 0.0             0.0  ...                   -1.098942   \n",
              "2                 0.0             0.0  ...                    0.274476   \n",
              "3                 0.0             0.0  ...                    0.370736   \n",
              "4                 0.0             0.0  ...                   -0.296508   \n",
              "...               ...             ...  ...                         ...   \n",
              "16326             0.0             0.0  ...                    0.893999   \n",
              "16327             0.0             0.0  ...                   -1.320259   \n",
              "16328             0.0             0.0  ...                    0.980319   \n",
              "16329             0.0             0.0  ...                    0.986453   \n",
              "16330             0.0             0.0  ...                   -0.060453   \n",
              "\n",
              "       StandardScaler__LC_RAD  StandardScaler__LC_RAININ  \\\n",
              "0                    0.298191                  -0.165229   \n",
              "1                   -0.743654                  -0.070931   \n",
              "2                   -0.742694                  -0.170399   \n",
              "3                   -0.743373                  -0.170399   \n",
              "4                   -0.743559                  -0.170399   \n",
              "...                       ...                        ...   \n",
              "16326                0.090527                  -0.170399   \n",
              "16327               -0.029517                  -0.170399   \n",
              "16328               -0.743540                  -0.170399   \n",
              "16329                1.554361                  -0.170399   \n",
              "16330               -0.286916                  -0.170399   \n",
              "\n",
              "       StandardScaler__LC_DAILYRAIN  StandardScaler__LC_WINDSPEED  \\\n",
              "0                         -0.195511                     -0.653386   \n",
              "1                          2.186042                     -0.885570   \n",
              "2                         -0.123560                     -0.779704   \n",
              "3                         -0.355547                     -0.594279   \n",
              "4                         -0.345487                     -0.911924   \n",
              "...                             ...                           ...   \n",
              "16326                     -0.352986                     -0.043427   \n",
              "16327                     -0.338873                      0.234888   \n",
              "16328                     -0.355547                     -0.890860   \n",
              "16329                     -0.355547                      0.785747   \n",
              "16330                     -0.318185                      0.515924   \n",
              "\n",
              "       StandardScaler__LC_RAD60  StandardScaler__LC_TEMP_QCL0  \\\n",
              "0                      0.054244                     -0.050247   \n",
              "1                     -0.741668                     -1.399241   \n",
              "2                     -0.672331                      0.299963   \n",
              "3                     -0.742117                     -0.310654   \n",
              "4                     -0.742270                     -0.788365   \n",
              "...                         ...                           ...   \n",
              "16326                  0.446469                      0.681738   \n",
              "16327                  0.505829                     -0.859404   \n",
              "16328                 -0.742296                      0.178241   \n",
              "16329                  2.001434                      1.688960   \n",
              "16330                 -0.087053                     -0.250578   \n",
              "\n",
              "       StandardScaler__LC_TEMP_QCL1  StandardScaler__LC_TEMP_QCL2  \\\n",
              "0                         -0.049607                     -0.051128   \n",
              "1                         -1.399244                     -1.398033   \n",
              "2                          0.300399                      0.300636   \n",
              "3                         -0.311074                     -0.309907   \n",
              "4                         -0.788259                     -0.786665   \n",
              "...                             ...                           ...   \n",
              "16326                      0.679602                      0.680559   \n",
              "16327                     -0.860929                     -0.862518   \n",
              "16328                      0.178641                      0.178900   \n",
              "16329                      1.687347                      1.687319   \n",
              "16330                     -0.250471                     -0.249296   \n",
              "\n",
              "       StandardScaler__LC_TEMP_QCL3  \n",
              "0                         -0.054367  \n",
              "1                         -1.417263  \n",
              "2                          0.321706  \n",
              "3                         -0.287871  \n",
              "4                         -0.771995  \n",
              "...                             ...  \n",
              "16326                      0.688344  \n",
              "16327                     -0.899033  \n",
              "16328                      0.235621  \n",
              "16329                      1.659991  \n",
              "16330                     -0.250182  \n",
              "\n",
              "[16331 rows x 54 columns]"
            ]
          },
          "execution_count": 87,
          "metadata": {},
          "output_type": "execute_result"
        }
      ],
      "source": [
        "X_train[select_variable]"
      ]
    },
    {
      "cell_type": "code",
      "execution_count": null,
      "metadata": {
        "colab": {
          "base_uri": "https://localhost:8080/",
          "height": 92
        },
        "id": "ax4rhbVAiF9V",
        "outputId": "c28b2c4f-e8c0-4d84-dfaf-6e1e378aa841"
      },
      "outputs": [
        {
          "data": {
            "text/html": [
              "<style>#sk-container-id-8 {color: black;background-color: white;}#sk-container-id-8 pre{padding: 0;}#sk-container-id-8 div.sk-toggleable {background-color: white;}#sk-container-id-8 label.sk-toggleable__label {cursor: pointer;display: block;width: 100%;margin-bottom: 0;padding: 0.3em;box-sizing: border-box;text-align: center;}#sk-container-id-8 label.sk-toggleable__label-arrow:before {content: \"▸\";float: left;margin-right: 0.25em;color: #696969;}#sk-container-id-8 label.sk-toggleable__label-arrow:hover:before {color: black;}#sk-container-id-8 div.sk-estimator:hover label.sk-toggleable__label-arrow:before {color: black;}#sk-container-id-8 div.sk-toggleable__content {max-height: 0;max-width: 0;overflow: hidden;text-align: left;background-color: #f0f8ff;}#sk-container-id-8 div.sk-toggleable__content pre {margin: 0.2em;color: black;border-radius: 0.25em;background-color: #f0f8ff;}#sk-container-id-8 input.sk-toggleable__control:checked~div.sk-toggleable__content {max-height: 200px;max-width: 100%;overflow: auto;}#sk-container-id-8 input.sk-toggleable__control:checked~label.sk-toggleable__label-arrow:before {content: \"▾\";}#sk-container-id-8 div.sk-estimator input.sk-toggleable__control:checked~label.sk-toggleable__label {background-color: #d4ebff;}#sk-container-id-8 div.sk-label input.sk-toggleable__control:checked~label.sk-toggleable__label {background-color: #d4ebff;}#sk-container-id-8 input.sk-hidden--visually {border: 0;clip: rect(1px 1px 1px 1px);clip: rect(1px, 1px, 1px, 1px);height: 1px;margin: -1px;overflow: hidden;padding: 0;position: absolute;width: 1px;}#sk-container-id-8 div.sk-estimator {font-family: monospace;background-color: #f0f8ff;border: 1px dotted black;border-radius: 0.25em;box-sizing: border-box;margin-bottom: 0.5em;}#sk-container-id-8 div.sk-estimator:hover {background-color: #d4ebff;}#sk-container-id-8 div.sk-parallel-item::after {content: \"\";width: 100%;border-bottom: 1px solid gray;flex-grow: 1;}#sk-container-id-8 div.sk-label:hover label.sk-toggleable__label {background-color: #d4ebff;}#sk-container-id-8 div.sk-serial::before {content: \"\";position: absolute;border-left: 1px solid gray;box-sizing: border-box;top: 0;bottom: 0;left: 50%;z-index: 0;}#sk-container-id-8 div.sk-serial {display: flex;flex-direction: column;align-items: center;background-color: white;padding-right: 0.2em;padding-left: 0.2em;position: relative;}#sk-container-id-8 div.sk-item {position: relative;z-index: 1;}#sk-container-id-8 div.sk-parallel {display: flex;align-items: stretch;justify-content: center;background-color: white;position: relative;}#sk-container-id-8 div.sk-item::before, #sk-container-id-8 div.sk-parallel-item::before {content: \"\";position: absolute;border-left: 1px solid gray;box-sizing: border-box;top: 0;bottom: 0;left: 50%;z-index: -1;}#sk-container-id-8 div.sk-parallel-item {display: flex;flex-direction: column;z-index: 1;position: relative;background-color: white;}#sk-container-id-8 div.sk-parallel-item:first-child::after {align-self: flex-end;width: 50%;}#sk-container-id-8 div.sk-parallel-item:last-child::after {align-self: flex-start;width: 50%;}#sk-container-id-8 div.sk-parallel-item:only-child::after {width: 0;}#sk-container-id-8 div.sk-dashed-wrapped {border: 1px dashed gray;margin: 0 0.4em 0.5em 0.4em;box-sizing: border-box;padding-bottom: 0.4em;background-color: white;}#sk-container-id-8 div.sk-label label {font-family: monospace;font-weight: bold;display: inline-block;line-height: 1.2em;}#sk-container-id-8 div.sk-label-container {text-align: center;}#sk-container-id-8 div.sk-container {/* jupyter's `normalize.less` sets `[hidden] { display: none; }` but bootstrap.min.css set `[hidden] { display: none !important; }` so we also need the `!important` here to be able to override the default hidden behavior on the sphinx rendered scikit-learn.org. See: https://github.com/scikit-learn/scikit-learn/issues/21755 */display: inline-block !important;position: relative;}#sk-container-id-8 div.sk-text-repr-fallback {display: none;}</style><div id=\"sk-container-id-8\" class=\"sk-top-container\"><div class=\"sk-text-repr-fallback\"><pre>RandomForestRegressor(max_depth=30, min_samples_leaf=10, n_estimators=300,\n",
              "                      random_state=7)</pre><b>In a Jupyter environment, please rerun this cell to show the HTML representation or trust the notebook. <br />On GitHub, the HTML representation is unable to render, please try loading this page with nbviewer.org.</b></div><div class=\"sk-container\" hidden><div class=\"sk-item\"><div class=\"sk-estimator sk-toggleable\"><input class=\"sk-toggleable__control sk-hidden--visually\" id=\"sk-estimator-id-12\" type=\"checkbox\" checked><label for=\"sk-estimator-id-12\" class=\"sk-toggleable__label sk-toggleable__label-arrow\">RandomForestRegressor</label><div class=\"sk-toggleable__content\"><pre>RandomForestRegressor(max_depth=30, min_samples_leaf=10, n_estimators=300,\n",
              "                      random_state=7)</pre></div></div></div></div></div>"
            ],
            "text/plain": [
              "RandomForestRegressor(max_depth=30, min_samples_leaf=10, n_estimators=300,\n",
              "                      random_state=7)"
            ]
          },
          "execution_count": 68,
          "metadata": {},
          "output_type": "execute_result"
        }
      ],
      "source": [
        "from sklearn.ensemble import RandomForestRegressor\n",
        "tree_laf50 = RandomForestRegressor(n_estimators=300, max_depth=30, criterion = \"squared_error\",\n",
        "                             min_samples_leaf = 10,\n",
        "                             random_state=7)\n",
        "tree_laf50.fit(X_train[select_variable], y_train[\"laf50_per_hour\"])"
      ]
    },
    {
      "cell_type": "code",
      "execution_count": null,
      "metadata": {
        "id": "nxiAlwE7ybwu"
      },
      "outputs": [],
      "source": [
        "import math\n",
        "import sklearn.metrics\n",
        "pred_laf50 = tree_laf50.predict(X_val[select_variable])\n"
      ]
    },
    {
      "cell_type": "code",
      "execution_count": null,
      "metadata": {
        "colab": {
          "base_uri": "https://localhost:8080/",
          "height": 467
        },
        "id": "sm3DLD5lykIl",
        "outputId": "f935e377-b588-4f42-c8b4-bc977832342f"
      },
      "outputs": [
        {
          "data": {
            "text/plain": [
              "Text(0, 0.5, 'y val')"
            ]
          },
          "execution_count": 60,
          "metadata": {},
          "output_type": "execute_result"
        },
        {
          "data": {
            "image/png": "[encoded data removed]",
            "text/plain": [
              "<Figure size 640x480 with 1 Axes>"
            ]
          },
          "metadata": {},
          "output_type": "display_data"
        }
      ],
      "source": [
        "plt.scatter(pred_laf50, y_val[\"laf50_per_hour\"])\n",
        "plt.xlabel('y pred')\n",
        "plt.ylabel('y val')"
      ]
    },
    {
      "cell_type": "code",
      "execution_count": null,
      "metadata": {
        "colab": {
          "base_uri": "https://localhost:8080/"
        },
        "id": "xExTKGwGM7T4",
        "outputId": "039cd211-e100-4d20-a76b-2321c1a74e37"
      },
      "outputs": [
        {
          "data": {
            "text/plain": [
              "3.500027609151924"
            ]
          },
          "execution_count": 66,
          "metadata": {},
          "output_type": "execute_result"
        }
      ],
      "source": [
        "math.sqrt(sklearn.metrics.mean_squared_error(pred_laf50, y_val[\"laf50_per_hour\"]))\n"
      ]
    },
    {
      "cell_type": "code",
      "execution_count": null,
      "metadata": {
        "colab": {
          "base_uri": "https://localhost:8080/",
          "height": 448
        },
        "id": "oMvVf4CzzlDZ",
        "outputId": "a6682d58-0d27-41a3-82b1-593156c4a77a"
      },
      "outputs": [
        {
          "data": {
            "text/plain": [
              "<BarContainer object of 30 artists>"
            ]
          },
          "execution_count": 61,
          "metadata": {},
          "output_type": "execute_result"
        },
        {
          "data": {
            "image/png": "[encoded data removed]",
            "text/plain": [
              "<Figure size 640x480 with 1 Axes>"
            ]
          },
          "metadata": {},
          "output_type": "display_data"
        }
      ],
      "source": [
        "feature_importances = tree_laf50.feature_importances_\n",
        "sorted_idx = feature_importances.argsort()[::-1]\n",
        "sorted_importances = feature_importances[sorted_idx[0:30]]\n",
        "sorted_columns = list(X_train[select_variable].columns[sorted_idx[0:30]])\n",
        "plt.barh(sorted_columns, sorted_importances)"
      ]
    },
    {
      "cell_type": "code",
      "execution_count": 24,
      "metadata": {
        "colab": {
          "base_uri": "https://localhost:8080/"
        },
        "id": "W6TTEcJ0SnkP",
        "outputId": "5e8cfcd4-f33a-45f8-8b33-42ba926cb0c0"
      },
      "outputs": [
        {
          "data": {
            "text/plain": [
              "Index(['OneHot__hour_0', 'OneHot__hour_1', 'OneHot__hour_2', 'OneHot__hour_3',\n",
              "       'OneHot__hour_4', 'OneHot__hour_5', 'OneHot__hour_6', 'OneHot__hour_7',\n",
              "       'OneHot__hour_8', 'OneHot__hour_9', 'OneHot__hour_10',\n",
              "       'OneHot__hour_11', 'OneHot__hour_12', 'OneHot__hour_13',\n",
              "       'OneHot__hour_14', 'OneHot__hour_15', 'OneHot__hour_16',\n",
              "       'OneHot__hour_17', 'OneHot__hour_18', 'OneHot__hour_19',\n",
              "       'OneHot__hour_20', 'OneHot__hour_21', 'OneHot__hour_22',\n",
              "       'OneHot__hour_23', 'OneHot__month_1', 'OneHot__month_2',\n",
              "       'OneHot__month_3', 'OneHot__month_4', 'OneHot__month_5',\n",
              "       'OneHot__month_6', 'OneHot__month_7', 'OneHot__month_8',\n",
              "       'OneHot__month_9', 'OneHot__month_10', 'OneHot__month_11',\n",
              "       'OneHot__month_12', 'OneHot__weekday_Fri', 'OneHot__weekday_Mon',\n",
              "       'OneHot__weekday_Sat', 'OneHot__weekday_Sun', 'OneHot__weekday_Thu',\n",
              "       'OneHot__weekday_Tue', 'OneHot__weekday_Wed',\n",
              "       'StandardScaler__LC_HUMIDITY', 'StandardScaler__LC_DWPTEMP',\n",
              "       'StandardScaler__LC_RAD', 'StandardScaler__LC_RAININ',\n",
              "       'StandardScaler__LC_DAILYRAIN', 'StandardScaler__LC_WINDDIR',\n",
              "       'StandardScaler__LC_WINDSPEED', 'StandardScaler__LC_RAD60',\n",
              "       'StandardScaler__LC_TEMP_QCL0', 'StandardScaler__LC_TEMP_QCL1',\n",
              "       'StandardScaler__LC_TEMP_QCL2', 'StandardScaler__LC_TEMP_QCL3'],\n",
              "      dtype='object')"
            ]
          },
          "execution_count": 24,
          "metadata": {},
          "output_type": "execute_result"
        }
      ],
      "source": [
        "X_train[select_variable].columns"
      ]
    },
    {
      "cell_type": "code",
      "execution_count": 88,
      "metadata": {
        "colab": {
          "base_uri": "https://localhost:8080/"
        },
        "id": "sbptYXm4_q8v",
        "outputId": "b7cad07f-23d5-4b05-842a-3b517f5e42bc"
      },
      "outputs": [
        {
          "name": "stdout",
          "output_type": "stream",
          "text": [
            "Running RandomizedSearchCV for random_forest...\n",
            "Best parameters for random_forest:  {'bootstrap': False, 'max_depth': 26, 'max_features': 'sqrt', 'min_samples_leaf': 4, 'min_samples_split': 10, 'n_estimators': 69}\n",
            "Best score for random_forest:  0.5397290282132664\n",
            "\n",
            "\n",
            "Running RandomizedSearchCV for gradient_boosting...\n",
            "Best parameters for gradient_boosting:  {'learning_rate': 0.1442194900509356, 'max_depth': 8, 'min_samples_leaf': 7, 'min_samples_split': 6, 'n_estimators': 98}\n",
            "Best score for gradient_boosting:  0.5484848806126156\n",
            "\n",
            "\n",
            "Running RandomizedSearchCV for xgboost...\n",
            "Best parameters for xgboost:  {'gamma': 0.482636902412518, 'learning_rate': 0.3168517348631646, 'max_depth': 8, 'min_child_weight': 8, 'n_estimators': 60, 'reg_alpha': 0.27651470778821396, 'reg_lambda': 0.44650589502340177}\n",
            "Best score for xgboost:  0.5417342909167582\n",
            "\n",
            "\n"
          ]
        }
      ],
      "source": [
        "import xgboost\n",
        "\n",
        "# Define the model parameters\n",
        "model_params = {\n",
        "    'random_forest': {\n",
        "        'model': RandomForestRegressor(),\n",
        "        'params': {\n",
        "            'n_estimators': randint(50, 100),\n",
        "            'max_depth': randint(3, 50),\n",
        "            'max_features': ['auto', 'sqrt'],\n",
        "            'min_samples_split': randint(2, 20),\n",
        "            'min_samples_leaf': randint(1, 10),\n",
        "            'bootstrap': [True, False]\n",
        "        }\n",
        "    },\n",
        "    'gradient_boosting': {\n",
        "        'model': GradientBoostingRegressor(),\n",
        "        'params': {\n",
        "            'n_estimators': randint(50, 100),\n",
        "            'learning_rate': uniform(0.01, 0.5),\n",
        "            'max_depth': randint(1, 10),\n",
        "            'min_samples_split': randint(2, 20),\n",
        "            'min_samples_leaf': randint(1, 10)\n",
        "        }\n",
        "    },\n",
        "    \n",
        "    'xgboost': {\n",
        "        'model': xgboost.XGBRegressor(),\n",
        "        'params': {\n",
        "            'n_estimators': randint(50, 100),\n",
        "            'learning_rate': uniform(0.01, 0.5),\n",
        "            'max_depth': randint(1, 10),\n",
        "            'min_child_weight': randint(1, 10),\n",
        "            'gamma': uniform(0, 1),\n",
        "            'reg_alpha': uniform(0, 1),\n",
        "            'reg_lambda': uniform(0, 1),\n",
        "        }\n",
        "    }\n",
        "    \n",
        "}\n",
        "\n",
        "params_dict = {}\n",
        "\n",
        "# Loop through each model in model_params and run RandomizedSearchCV\n",
        "for model_name, model_info in model_params.items():\n",
        "    print(\"Running RandomizedSearchCV for {}...\".format(model_name))\n",
        "    \n",
        "    # Create a RandomizedSearchCV object for the current model\n",
        "    model = model_info['model']\n",
        "    param_dist = model_info['params']\n",
        "    random_search = RandomizedSearchCV(model, param_distributions=param_dist,\n",
        "                                       n_iter=10, cv=5, n_jobs=1, random_state=7)\n",
        "    \n",
        "    # Fit the RandomizedSearchCV object to the data\n",
        "    random_search.fit(X_train[select_variable], y_train[\"laf50_per_hour\"])\n",
        "    \n",
        "    # Print the best parameters and score\n",
        "    params_dict[model_name] = random_search.best_params_\n",
        "    print(\"Best parameters for {}: \".format(model_name), random_search.best_params_)\n",
        "    print(\"Best score for {}: \".format(model_name), random_search.best_score_)\n",
        "    print(\"\\n\")"
      ]
    },
    {
      "cell_type": "code",
      "execution_count": 89,
      "metadata": {
        "colab": {
          "base_uri": "https://localhost:8080/"
        },
        "id": "LarozTKTMr29",
        "outputId": "eb8f76c3-1b9f-4f80-8680-fe8ea1420dd1"
      },
      "outputs": [
        {
          "name": "stdout",
          "output_type": "stream",
          "text": [
            "Train RMSE: 2.875911088446612\n",
            "Val RMSE: 3.6074754843353434\n",
            "Train MAE: 1.9123372651832244\n",
            "Val MAE: 2.373380781162513\n"
          ]
        }
      ],
      "source": [
        "from sklearn.metrics import mean_absolute_error\n",
        "gb_params = params_dict['gradient_boosting']\n",
        "\n",
        "gb = GradientBoostingRegressor(**gb_params, random_state=7)\n",
        "\n",
        "gb.fit(X_train[select_variable], y_train[\"laf50_per_hour\"])\n",
        "\n",
        "train_preds = gb.predict(X_train[select_variable])\n",
        "val_preds = gb.predict(X_val[select_variable])\n",
        "\n",
        "print(\"Train RMSE:\", np.sqrt(mean_squared_error(train_preds, y_train[\"laf50_per_hour\"])))\n",
        "print(\"Val RMSE:\", np.sqrt(mean_squared_error(val_preds, y_val[\"laf50_per_hour\"])))\n",
        "print(\"Train MAE:\", mean_absolute_error(train_preds, y_train[\"laf50_per_hour\"]))\n",
        "print(\"Val MAE:\", mean_absolute_error(val_preds, y_val[\"laf50_per_hour\"]))\n"
      ]
    },
    {
      "cell_type": "code",
      "execution_count": 90,
      "metadata": {
        "colab": {
          "base_uri": "https://localhost:8080/"
        },
        "id": "J8t9Tuz2MsVe",
        "outputId": "e26dabc1-8ded-42a8-f571-7c72e7e95ff5"
      },
      "outputs": [
        {
          "name": "stdout",
          "output_type": "stream",
          "text": [
            "Train RMSE: 2.7870375091775745\n",
            "Val RMSE: 3.6056668628681843\n",
            "Train MAE: 1.8312082279249757\n",
            "Val MAE: 2.3562641992210787\n"
          ]
        }
      ],
      "source": [
        "rf_params = params_dict['random_forest']\n",
        "\n",
        "rf = RandomForestRegressor(**rf_params, random_state=7)\n",
        "\n",
        "rf.fit(X_train[select_variable], y_train[\"laf50_per_hour\"])\n",
        "\n",
        "train_preds = rf.predict(X_train[select_variable])\n",
        "val_preds = rf.predict(X_val[select_variable])\n",
        "\n",
        "print(\"Train RMSE:\", np.sqrt(mean_squared_error(train_preds, y_train[\"laf50_per_hour\"])))\n",
        "print(\"Val RMSE:\", np.sqrt(mean_squared_error(val_preds, y_val[\"laf50_per_hour\"])))\n",
        "print(\"Train MAE:\", mean_absolute_error(train_preds, y_train[\"laf50_per_hour\"]))\n",
        "print(\"Val MAE:\", mean_absolute_error(val_preds, y_val[\"laf50_per_hour\"]))"
      ]
    },
    {
      "cell_type": "code",
      "execution_count": 94,
      "metadata": {
        "colab": {
          "base_uri": "https://localhost:8080/"
        },
        "id": "D6kXVh9ZMvvL",
        "outputId": "a2dd7b3d-0568-4719-a402-4388a7865954"
      },
      "outputs": [
        {
          "name": "stdout",
          "output_type": "stream",
          "text": [
            "Train RMSE: 2.779932414889992\n",
            "Val RMSE: 3.594638945581137\n",
            "Train MAE: 1.850290582012279\n",
            "Val MAE: 2.37758618442854\n"
          ]
        }
      ],
      "source": [
        "import xgboost\n",
        "\n",
        "xgb_params = params_dict['xgboost']\n",
        "\n",
        "xgb = xgboost.XGBRegressor(**xgb_params, random_state=7)\n",
        "\n",
        "xgb.fit(X_train[select_variable], y_train[\"laf50_per_hour\"])\n",
        "\n",
        "train_preds = xgb.predict(X_train[select_variable])\n",
        "val_preds = xgb.predict(X_val[select_variable])\n",
        "\n",
        "\n",
        "print(\"Train RMSE:\", np.sqrt(mean_squared_error(train_preds, y_train[\"laf50_per_hour\"])))\n",
        "print(\"Val RMSE:\", np.sqrt(mean_squared_error(val_preds, y_val[\"laf50_per_hour\"])))\n",
        "print(\"Train MAE:\", mean_absolute_error(train_preds, y_train[\"laf50_per_hour\"]))\n",
        "print(\"Val MAE:\", mean_absolute_error(val_preds, y_val[\"laf50_per_hour\"]))\n"
      ]
    },
    {
      "cell_type": "code",
      "execution_count": 92,
      "metadata": {
        "id": "_Hb_gBZoPNQZ"
      },
      "outputs": [],
      "source": [
        "import pickle\n",
        "pickle.dump(xgb, open(\"xgb_50.sav\",\"wb\"))\n",
        "pickle.dump(rf,open(\"rf_50.sav\",\"wb\"))\n",
        "pickle.dump(gb,open(\"gb_50.sav\",\"wb\"))\n"
      ]
    },
    {
      "cell_type": "code",
      "execution_count": 93,
      "metadata": {},
      "outputs": [
        {
          "data": {
            "text/plain": [
              "Index(['OneHot__hour_0', 'OneHot__hour_1', 'OneHot__hour_2', 'OneHot__hour_3',\n",
              "       'OneHot__hour_4', 'OneHot__hour_5', 'OneHot__hour_6', 'OneHot__hour_7',\n",
              "       'OneHot__hour_8', 'OneHot__hour_9', 'OneHot__hour_10',\n",
              "       'OneHot__hour_11', 'OneHot__hour_12', 'OneHot__hour_13',\n",
              "       'OneHot__hour_14', 'OneHot__hour_15', 'OneHot__hour_16',\n",
              "       'OneHot__hour_17', 'OneHot__hour_18', 'OneHot__hour_19',\n",
              "       'OneHot__hour_20', 'OneHot__hour_21', 'OneHot__hour_22',\n",
              "       'OneHot__hour_23', 'OneHot__month_1', 'OneHot__month_2',\n",
              "       'OneHot__month_3', 'OneHot__month_4', 'OneHot__month_5',\n",
              "       'OneHot__month_6', 'OneHot__month_7', 'OneHot__month_8',\n",
              "       'OneHot__month_9', 'OneHot__month_10', 'OneHot__month_11',\n",
              "       'OneHot__month_12', 'OneHot__weekday_Fri', 'OneHot__weekday_Mon',\n",
              "       'OneHot__weekday_Sat', 'OneHot__weekday_Sun', 'OneHot__weekday_Thu',\n",
              "       'OneHot__weekday_Tue', 'OneHot__weekday_Wed',\n",
              "       'StandardScaler__LC_HUMIDITY', 'StandardScaler__LC_DWPTEMP',\n",
              "       'StandardScaler__LC_RAD', 'StandardScaler__LC_RAININ',\n",
              "       'StandardScaler__LC_DAILYRAIN', 'StandardScaler__LC_WINDSPEED',\n",
              "       'StandardScaler__LC_RAD60', 'StandardScaler__LC_TEMP_QCL0',\n",
              "       'StandardScaler__LC_TEMP_QCL1', 'StandardScaler__LC_TEMP_QCL2',\n",
              "       'StandardScaler__LC_TEMP_QCL3'],\n",
              "      dtype='object')"
            ]
          },
          "execution_count": 93,
          "metadata": {},
          "output_type": "execute_result"
        }
      ],
      "source": [
        "X_train.columns"
      ]
    },
    {
      "attachments": {},
      "cell_type": "markdown",
      "metadata": {
        "id": "WKRbVgMJPzcc"
      },
      "source": [
        "# Neuer Abschnitt"
      ]
    },
    {
      "cell_type": "code",
      "execution_count": 95,
      "metadata": {
        "colab": {
          "base_uri": "https://localhost:8080/",
          "height": 466
        },
        "id": "U-M9GYm5NkcG",
        "outputId": "e64d65cc-6003-4598-958a-6908ca1f165a"
      },
      "outputs": [
        {
          "data": {
            "text/plain": [
              "Text(0, 0.5, 'y val')"
            ]
          },
          "execution_count": 95,
          "metadata": {},
          "output_type": "execute_result"
        },
        {
          "data": {
            "image/png": "[encoded data removed]",
            "text/plain": [
              "<Figure size 640x480 with 1 Axes>"
            ]
          },
          "metadata": {},
          "output_type": "display_data"
        }
      ],
      "source": [
        "plt.scatter(val_preds, y_val[\"laf50_per_hour\"])\n",
        "plt.xlabel('y pred')\n",
        "plt.ylabel('y val')"
      ]
    },
    {
      "attachments": {},
      "cell_type": "markdown",
      "metadata": {
        "id": "W_ONG0soTTgc"
      },
      "source": [
        "## predict laf25"
      ]
    },
    {
      "cell_type": "code",
      "execution_count": null,
      "metadata": {
        "id": "2OKqHUDdTS7B"
      },
      "outputs": [],
      "source": [
        "## grid search cross validation (excluding sound variables)\n",
        "\n",
        "from sklearn.ensemble import RandomForestRegressor\n",
        "from sklearn.model_selection import GridSearchCV, KFold\n",
        "\n",
        "# Define the parameter grid to search over\n",
        "param_grid = {\n",
        "    'n_estimators': [100, 200, 300],\n",
        "    'max_depth': [2, 5, 10, 30],\n",
        "    'min_samples_leaf': [10, 20, 30]\n",
        "}\n",
        "\n",
        "rf_model = RandomForestRegressor()\n",
        "\n",
        "kf = KFold(n_splits=5, shuffle=True, random_state=7 )\n",
        "\n",
        "grid_search = GridSearchCV(estimator=rf_model, param_grid=param_grid, cv=kf, scoring='neg_mean_squared_error')\n",
        "\n",
        "grid_search.fit(X_train[select_variable], y_train[\"laf25_per_hour\"])\n",
        "\n",
        "# Print the best hyperparameters and corresponding mean score\n",
        "print(\"Best parameters:\", grid_search.best_params_)\n",
        "print(\"Best score:\", (-grid_search.best_score_)**0.5)\n"
      ]
    },
    {
      "cell_type": "code",
      "execution_count": null,
      "metadata": {
        "colab": {
          "base_uri": "https://localhost:8080/",
          "height": 92
        },
        "id": "NUnNQcuaT1Hj",
        "outputId": "a72c903c-124d-42dc-c61d-0c0f43bb6817"
      },
      "outputs": [
        {
          "data": {
            "text/html": [
              "<style>#sk-container-id-9 {color: black;background-color: white;}#sk-container-id-9 pre{padding: 0;}#sk-container-id-9 div.sk-toggleable {background-color: white;}#sk-container-id-9 label.sk-toggleable__label {cursor: pointer;display: block;width: 100%;margin-bottom: 0;padding: 0.3em;box-sizing: border-box;text-align: center;}#sk-container-id-9 label.sk-toggleable__label-arrow:before {content: \"▸\";float: left;margin-right: 0.25em;color: #696969;}#sk-container-id-9 label.sk-toggleable__label-arrow:hover:before {color: black;}#sk-container-id-9 div.sk-estimator:hover label.sk-toggleable__label-arrow:before {color: black;}#sk-container-id-9 div.sk-toggleable__content {max-height: 0;max-width: 0;overflow: hidden;text-align: left;background-color: #f0f8ff;}#sk-container-id-9 div.sk-toggleable__content pre {margin: 0.2em;color: black;border-radius: 0.25em;background-color: #f0f8ff;}#sk-container-id-9 input.sk-toggleable__control:checked~div.sk-toggleable__content {max-height: 200px;max-width: 100%;overflow: auto;}#sk-container-id-9 input.sk-toggleable__control:checked~label.sk-toggleable__label-arrow:before {content: \"▾\";}#sk-container-id-9 div.sk-estimator input.sk-toggleable__control:checked~label.sk-toggleable__label {background-color: #d4ebff;}#sk-container-id-9 div.sk-label input.sk-toggleable__control:checked~label.sk-toggleable__label {background-color: #d4ebff;}#sk-container-id-9 input.sk-hidden--visually {border: 0;clip: rect(1px 1px 1px 1px);clip: rect(1px, 1px, 1px, 1px);height: 1px;margin: -1px;overflow: hidden;padding: 0;position: absolute;width: 1px;}#sk-container-id-9 div.sk-estimator {font-family: monospace;background-color: #f0f8ff;border: 1px dotted black;border-radius: 0.25em;box-sizing: border-box;margin-bottom: 0.5em;}#sk-container-id-9 div.sk-estimator:hover {background-color: #d4ebff;}#sk-container-id-9 div.sk-parallel-item::after {content: \"\";width: 100%;border-bottom: 1px solid gray;flex-grow: 1;}#sk-container-id-9 div.sk-label:hover label.sk-toggleable__label {background-color: #d4ebff;}#sk-container-id-9 div.sk-serial::before {content: \"\";position: absolute;border-left: 1px solid gray;box-sizing: border-box;top: 0;bottom: 0;left: 50%;z-index: 0;}#sk-container-id-9 div.sk-serial {display: flex;flex-direction: column;align-items: center;background-color: white;padding-right: 0.2em;padding-left: 0.2em;position: relative;}#sk-container-id-9 div.sk-item {position: relative;z-index: 1;}#sk-container-id-9 div.sk-parallel {display: flex;align-items: stretch;justify-content: center;background-color: white;position: relative;}#sk-container-id-9 div.sk-item::before, #sk-container-id-9 div.sk-parallel-item::before {content: \"\";position: absolute;border-left: 1px solid gray;box-sizing: border-box;top: 0;bottom: 0;left: 50%;z-index: -1;}#sk-container-id-9 div.sk-parallel-item {display: flex;flex-direction: column;z-index: 1;position: relative;background-color: white;}#sk-container-id-9 div.sk-parallel-item:first-child::after {align-self: flex-end;width: 50%;}#sk-container-id-9 div.sk-parallel-item:last-child::after {align-self: flex-start;width: 50%;}#sk-container-id-9 div.sk-parallel-item:only-child::after {width: 0;}#sk-container-id-9 div.sk-dashed-wrapped {border: 1px dashed gray;margin: 0 0.4em 0.5em 0.4em;box-sizing: border-box;padding-bottom: 0.4em;background-color: white;}#sk-container-id-9 div.sk-label label {font-family: monospace;font-weight: bold;display: inline-block;line-height: 1.2em;}#sk-container-id-9 div.sk-label-container {text-align: center;}#sk-container-id-9 div.sk-container {/* jupyter's `normalize.less` sets `[hidden] { display: none; }` but bootstrap.min.css set `[hidden] { display: none !important; }` so we also need the `!important` here to be able to override the default hidden behavior on the sphinx rendered scikit-learn.org. See: https://github.com/scikit-learn/scikit-learn/issues/21755 */display: inline-block !important;position: relative;}#sk-container-id-9 div.sk-text-repr-fallback {display: none;}</style><div id=\"sk-container-id-9\" class=\"sk-top-container\"><div class=\"sk-text-repr-fallback\"><pre>RandomForestRegressor(max_depth=30, min_samples_leaf=10, n_estimators=300,\n",
              "                      random_state=7)</pre><b>In a Jupyter environment, please rerun this cell to show the HTML representation or trust the notebook. <br />On GitHub, the HTML representation is unable to render, please try loading this page with nbviewer.org.</b></div><div class=\"sk-container\" hidden><div class=\"sk-item\"><div class=\"sk-estimator sk-toggleable\"><input class=\"sk-toggleable__control sk-hidden--visually\" id=\"sk-estimator-id-13\" type=\"checkbox\" checked><label for=\"sk-estimator-id-13\" class=\"sk-toggleable__label sk-toggleable__label-arrow\">RandomForestRegressor</label><div class=\"sk-toggleable__content\"><pre>RandomForestRegressor(max_depth=30, min_samples_leaf=10, n_estimators=300,\n",
              "                      random_state=7)</pre></div></div></div></div></div>"
            ],
            "text/plain": [
              "RandomForestRegressor(max_depth=30, min_samples_leaf=10, n_estimators=300,\n",
              "                      random_state=7)"
            ]
          },
          "execution_count": 71,
          "metadata": {},
          "output_type": "execute_result"
        }
      ],
      "source": [
        "from sklearn.ensemble import RandomForestRegressor\n",
        "tree_laf25 = RandomForestRegressor(n_estimators=300, max_depth=30, criterion = \"squared_error\",\n",
        "                             min_samples_leaf = 10,\n",
        "                             random_state=7)\n",
        "tree_laf25.fit(X_train[select_variable], y_train[\"laf25_per_hour\"])"
      ]
    },
    {
      "cell_type": "code",
      "execution_count": null,
      "metadata": {
        "id": "-x-FnzqyT4uj"
      },
      "outputs": [],
      "source": [
        "import math\n",
        "import sklearn.metrics\n",
        "pred_laf25 = tree_laf25.predict(X_val[select_variable])"
      ]
    },
    {
      "cell_type": "code",
      "execution_count": null,
      "metadata": {
        "colab": {
          "base_uri": "https://localhost:8080/",
          "height": 467
        },
        "id": "5QiVfMQuT7NK",
        "outputId": "f78c57dd-8b41-4b20-d1ee-eea821cb44a8"
      },
      "outputs": [
        {
          "data": {
            "text/plain": [
              "Text(0, 0.5, 'y val')"
            ]
          },
          "execution_count": 73,
          "metadata": {},
          "output_type": "execute_result"
        },
        {
          "data": {
            "image/png": "[encoded data removed]",
            "text/plain": [
              "<Figure size 640x480 with 1 Axes>"
            ]
          },
          "metadata": {},
          "output_type": "display_data"
        }
      ],
      "source": [
        "plt.scatter(pred_laf25, y_val[\"laf25_per_hour\"])\n",
        "plt.xlabel('y pred')\n",
        "plt.ylabel('y val')"
      ]
    },
    {
      "cell_type": "code",
      "execution_count": null,
      "metadata": {
        "colab": {
          "base_uri": "https://localhost:8080/",
          "height": 448
        },
        "id": "lM1pDT6hUAWz",
        "outputId": "d060fd7d-6841-44ad-9fae-99f5afdb1370"
      },
      "outputs": [
        {
          "data": {
            "text/plain": [
              "<BarContainer object of 30 artists>"
            ]
          },
          "execution_count": 74,
          "metadata": {},
          "output_type": "execute_result"
        },
        {
          "data": {
            "image/png": "[encoded data removed]",
            "text/plain": [
              "<Figure size 640x480 with 1 Axes>"
            ]
          },
          "metadata": {},
          "output_type": "display_data"
        }
      ],
      "source": [
        "feature_importances = tree_laf25.feature_importances_\n",
        "sorted_idx = feature_importances.argsort()[::-1]\n",
        "sorted_importances = feature_importances[sorted_idx[0:30]]\n",
        "sorted_columns = list(X_train[select_variable].columns[sorted_idx[0:30]])\n",
        "plt.barh(sorted_columns, sorted_importances)"
      ]
    },
    {
      "cell_type": "code",
      "execution_count": null,
      "metadata": {
        "colab": {
          "base_uri": "https://localhost:8080/"
        },
        "id": "IVlgNQupVGub",
        "outputId": "34a3a15c-9a74-41c2-cc9b-b56abb7142a9"
      },
      "outputs": [
        {
          "data": {
            "text/plain": [
              "3.484457119039357"
            ]
          },
          "execution_count": 75,
          "metadata": {},
          "output_type": "execute_result"
        }
      ],
      "source": [
        "math.sqrt(sklearn.metrics.mean_squared_error(pred_laf25, y_val[\"laf25_per_hour\"]))\n"
      ]
    },
    {
      "attachments": {},
      "cell_type": "markdown",
      "metadata": {
        "id": "a0-LozPXWKNH"
      },
      "source": [
        "## predict laf75"
      ]
    },
    {
      "cell_type": "code",
      "execution_count": null,
      "metadata": {
        "id": "cEK6LV_FWOGp"
      },
      "outputs": [],
      "source": [
        "## grid search cross validation (excluding sound variables)\n",
        "\n",
        "from sklearn.ensemble import RandomForestRegressor\n",
        "from sklearn.model_selection import GridSearchCV, KFold\n",
        "\n",
        "# Define the parameter grid to search over\n",
        "param_grid = {\n",
        "    'n_estimators': [100, 200, 300],\n",
        "    'max_depth': [2, 5, 10, 30],\n",
        "    'min_samples_leaf': [10, 20, 30]\n",
        "}\n",
        "\n",
        "rf_model = RandomForestRegressor()\n",
        "\n",
        "kf = KFold(n_splits=5, shuffle=True, random_state=7 )\n",
        "\n",
        "grid_search = GridSearchCV(estimator=rf_model, param_grid=param_grid, cv=kf, scoring='neg_mean_squared_error')\n",
        "\n",
        "grid_search.fit(X_train[select_variable], y_train[\"laf75_per_hour\"])\n",
        "plt.scatter(pred_laf25, y_val[\"laf25_per_hour\"])\n",
        "plt.xlabel('y pred')\n",
        "plt.ylabel('y val')\n",
        "# Print the best hyperparameters and corresponding mean score\n",
        "print(\"Best parameters:\", grid_search.best_params_)\n",
        "print(\"Best score:\", (-grid_search.best_score_)**0.5)"
      ]
    },
    {
      "cell_type": "code",
      "execution_count": null,
      "metadata": {
        "colab": {
          "base_uri": "https://localhost:8080/",
          "height": 92
        },
        "id": "XogF5j-NWTW_",
        "outputId": "101d42c5-8883-4859-c86b-45b88736267d"
      },
      "outputs": [
        {
          "data": {
            "text/html": [
              "<style>#sk-container-id-10 {color: black;background-color: white;}#sk-container-id-10 pre{padding: 0;}#sk-container-id-10 div.sk-toggleable {background-color: white;}#sk-container-id-10 label.sk-toggleable__label {cursor: pointer;display: block;width: 100%;margin-bottom: 0;padding: 0.3em;box-sizing: border-box;text-align: center;}#sk-container-id-10 label.sk-toggleable__label-arrow:before {content: \"▸\";float: left;margin-right: 0.25em;color: #696969;}#sk-container-id-10 label.sk-toggleable__label-arrow:hover:before {color: black;}#sk-container-id-10 div.sk-estimator:hover label.sk-toggleable__label-arrow:before {color: black;}#sk-container-id-10 div.sk-toggleable__content {max-height: 0;max-width: 0;overflow: hidden;text-align: left;background-color: #f0f8ff;}#sk-container-id-10 div.sk-toggleable__content pre {margin: 0.2em;color: black;border-radius: 0.25em;background-color: #f0f8ff;}#sk-container-id-10 input.sk-toggleable__control:checked~div.sk-toggleable__content {max-height: 200px;max-width: 100%;overflow: auto;}#sk-container-id-10 input.sk-toggleable__control:checked~label.sk-toggleable__label-arrow:before {content: \"▾\";}#sk-container-id-10 div.sk-estimator input.sk-toggleable__control:checked~label.sk-toggleable__label {background-color: #d4ebff;}#sk-container-id-10 div.sk-label input.sk-toggleable__control:checked~label.sk-toggleable__label {background-color: #d4ebff;}#sk-container-id-10 input.sk-hidden--visually {border: 0;clip: rect(1px 1px 1px 1px);clip: rect(1px, 1px, 1px, 1px);height: 1px;margin: -1px;overflow: hidden;padding: 0;position: absolute;width: 1px;}#sk-container-id-10 div.sk-estimator {font-family: monospace;background-color: #f0f8ff;border: 1px dotted black;border-radius: 0.25em;box-sizing: border-box;margin-bottom: 0.5em;}#sk-container-id-10 div.sk-estimator:hover {background-color: #d4ebff;}#sk-container-id-10 div.sk-parallel-item::after {content: \"\";width: 100%;border-bottom: 1px solid gray;flex-grow: 1;}#sk-container-id-10 div.sk-label:hover label.sk-toggleable__label {background-color: #d4ebff;}#sk-container-id-10 div.sk-serial::before {content: \"\";position: absolute;border-left: 1px solid gray;box-sizing: border-box;top: 0;bottom: 0;left: 50%;z-index: 0;}#sk-container-id-10 div.sk-serial {display: flex;flex-direction: column;align-items: center;background-color: white;padding-right: 0.2em;padding-left: 0.2em;position: relative;}#sk-container-id-10 div.sk-item {position: relative;z-index: 1;}#sk-container-id-10 div.sk-parallel {display: flex;align-items: stretch;justify-content: center;background-color: white;position: relative;}#sk-container-id-10 div.sk-item::before, #sk-container-id-10 div.sk-parallel-item::before {content: \"\";position: absolute;border-left: 1px solid gray;box-sizing: border-box;top: 0;bottom: 0;left: 50%;z-index: -1;}#sk-container-id-10 div.sk-parallel-item {display: flex;flex-direction: column;z-index: 1;position: relative;background-color: white;}#sk-container-id-10 div.sk-parallel-item:first-child::after {align-self: flex-end;width: 50%;}#sk-container-id-10 div.sk-parallel-item:last-child::after {align-self: flex-start;width: 50%;}#sk-container-id-10 div.sk-parallel-item:only-child::after {width: 0;}#sk-container-id-10 div.sk-dashed-wrapped {border: 1px dashed gray;margin: 0 0.4em 0.5em 0.4em;box-sizing: border-box;padding-bottom: 0.4em;background-color: white;}#sk-container-id-10 div.sk-label label {font-family: monospace;font-weight: bold;display: inline-block;line-height: 1.2em;}#sk-container-id-10 div.sk-label-container {text-align: center;}#sk-container-id-10 div.sk-container {/* jupyter's `normalize.less` sets `[hidden] { display: none; }` but bootstrap.min.css set `[hidden] { display: none !important; }` so we also need the `!important` here to be able to override the default hidden behavior on the sphinx rendered scikit-learn.org. See: https://github.com/scikit-learn/scikit-learn/issues/21755 */display: inline-block !important;position: relative;}#sk-container-id-10 div.sk-text-repr-fallback {display: none;}</style><div id=\"sk-container-id-10\" class=\"sk-top-container\"><div class=\"sk-text-repr-fallback\"><pre>RandomForestRegressor(max_depth=30, min_samples_leaf=10, n_estimators=300,\n",
              "                      random_state=7)</pre><b>In a Jupyter environment, please rerun this cell to show the HTML representation or trust the notebook. <br />On GitHub, the HTML representation is unable to render, please try loading this page with nbviewer.org.</b></div><div class=\"sk-container\" hidden><div class=\"sk-item\"><div class=\"sk-estimator sk-toggleable\"><input class=\"sk-toggleable__control sk-hidden--visually\" id=\"sk-estimator-id-14\" type=\"checkbox\" checked><label for=\"sk-estimator-id-14\" class=\"sk-toggleable__label sk-toggleable__label-arrow\">RandomForestRegressor</label><div class=\"sk-toggleable__content\"><pre>RandomForestRegressor(max_depth=30, min_samples_leaf=10, n_estimators=300,\n",
              "                      random_state=7)</pre></div></div></div></div></div>"
            ],
            "text/plain": [
              "RandomForestRegressor(max_depth=30, min_samples_leaf=10, n_estimators=300,\n",
              "                      random_state=7)"
            ]
          },
          "execution_count": 76,
          "metadata": {},
          "output_type": "execute_result"
        }
      ],
      "source": [
        "from sklearn.ensemble import RandomForestRegressor\n",
        "tree_laf75 = RandomForestRegressor(n_estimators=300, max_depth=30, criterion = \"squared_error\",\n",
        "                             min_samples_leaf = 10,\n",
        "                             random_state=7)\n",
        "tree_laf75.fit(X_train[select_variable], y_train[\"laf75_per_hour\"])"
      ]
    },
    {
      "cell_type": "code",
      "execution_count": null,
      "metadata": {
        "id": "uG_X7fklWXis"
      },
      "outputs": [],
      "source": [
        "import math\n",
        "import sklearn.metrics\n",
        "pred_laf75 = tree_laf75.predict(X_val[select_variable])"
      ]
    },
    {
      "cell_type": "code",
      "execution_count": null,
      "metadata": {
        "colab": {
          "base_uri": "https://localhost:8080/",
          "height": 467
        },
        "id": "sCxJhCoeWk6X",
        "outputId": "6bde039d-2b70-458d-fe20-92c76e5bc78c"
      },
      "outputs": [
        {
          "data": {
            "text/plain": [
              "Text(0, 0.5, 'y val')"
            ]
          },
          "execution_count": 78,
          "metadata": {},
          "output_type": "execute_result"
        },
        {
          "data": {
            "image/png": "[encoded data removed]",
            "text/plain": [
              "<Figure size 640x480 with 1 Axes>"
            ]
          },
          "metadata": {},
          "output_type": "display_data"
        }
      ],
      "source": [
        "plt.scatter(pred_laf75, y_val[\"laf75_per_hour\"])\n",
        "plt.xlabel('y pred')\n",
        "plt.ylabel('y val')"
      ]
    },
    {
      "cell_type": "code",
      "execution_count": null,
      "metadata": {
        "colab": {
          "base_uri": "https://localhost:8080/"
        },
        "id": "ZlNA5AwYWnfV",
        "outputId": "2327774a-ffed-464a-9265-b9ba86f7fa35"
      },
      "outputs": [
        {
          "data": {
            "text/plain": [
              "3.41267507310803"
            ]
          },
          "execution_count": 79,
          "metadata": {},
          "output_type": "execute_result"
        }
      ],
      "source": [
        "math.sqrt(sklearn.metrics.mean_squared_error(pred_laf75, y_val[\"laf75_per_hour\"]))\n"
      ]
    },
    {
      "cell_type": "code",
      "execution_count": null,
      "metadata": {
        "colab": {
          "base_uri": "https://localhost:8080/",
          "height": 487
        },
        "id": "C-GPPpdCXp9Z",
        "outputId": "49ca1422-ed7f-4cef-8375-cbbed33ea1e7"
      },
      "outputs": [
        {
          "data": {
            "text/html": [
              "\n",
              "  <div id=\"df-8d522c88-f75a-463e-887a-402ea6164a52\">\n",
              "    <div class=\"colab-df-container\">\n",
              "      <div>\n",
              "<style scoped>\n",
              "    .dataframe tbody tr th:only-of-type {\n",
              "        vertical-align: middle;\n",
              "    }\n",
              "\n",
              "    .dataframe tbody tr th {\n",
              "        vertical-align: top;\n",
              "    }\n",
              "\n",
              "    .dataframe thead th {\n",
              "        text-align: right;\n",
              "    }\n",
              "</style>\n",
              "<table border=\"1\" class=\"dataframe\">\n",
              "  <thead>\n",
              "    <tr style=\"text-align: right;\">\n",
              "      <th></th>\n",
              "      <th>laf005_per_hour</th>\n",
              "      <th>laf01_per_hour</th>\n",
              "      <th>laf05_per_hour</th>\n",
              "      <th>laf10_per_hour</th>\n",
              "      <th>laf25_per_hour</th>\n",
              "      <th>laf50_per_hour</th>\n",
              "      <th>laf75_per_hour</th>\n",
              "      <th>laf90_per_hour</th>\n",
              "      <th>laf95_per_hour</th>\n",
              "      <th>laf98_per_hour</th>\n",
              "      <th>laf99_per_hour</th>\n",
              "      <th>laf995_per_hour</th>\n",
              "    </tr>\n",
              "  </thead>\n",
              "  <tbody>\n",
              "    <tr>\n",
              "      <th>17150</th>\n",
              "      <td>74.3</td>\n",
              "      <td>72.9</td>\n",
              "      <td>67.4</td>\n",
              "      <td>65.3</td>\n",
              "      <td>61.1</td>\n",
              "      <td>55.1</td>\n",
              "      <td>49.9</td>\n",
              "      <td>47.2</td>\n",
              "      <td>46.3</td>\n",
              "      <td>45.7</td>\n",
              "      <td>45.4</td>\n",
              "      <td>45.2</td>\n",
              "    </tr>\n",
              "    <tr>\n",
              "      <th>5955</th>\n",
              "      <td>74.1</td>\n",
              "      <td>72.8</td>\n",
              "      <td>67.6</td>\n",
              "      <td>64.5</td>\n",
              "      <td>59.0</td>\n",
              "      <td>54.2</td>\n",
              "      <td>50.8</td>\n",
              "      <td>48.2</td>\n",
              "      <td>46.8</td>\n",
              "      <td>45.6</td>\n",
              "      <td>44.7</td>\n",
              "      <td>43.8</td>\n",
              "    </tr>\n",
              "    <tr>\n",
              "      <th>18026</th>\n",
              "      <td>69.2</td>\n",
              "      <td>66.7</td>\n",
              "      <td>61.5</td>\n",
              "      <td>59.1</td>\n",
              "      <td>54.6</td>\n",
              "      <td>49.5</td>\n",
              "      <td>46.7</td>\n",
              "      <td>45.4</td>\n",
              "      <td>44.9</td>\n",
              "      <td>44.4</td>\n",
              "      <td>44.1</td>\n",
              "      <td>43.9</td>\n",
              "    </tr>\n",
              "    <tr>\n",
              "      <th>5524</th>\n",
              "      <td>72.6</td>\n",
              "      <td>70.3</td>\n",
              "      <td>64.0</td>\n",
              "      <td>61.5</td>\n",
              "      <td>56.8</td>\n",
              "      <td>51.7</td>\n",
              "      <td>47.9</td>\n",
              "      <td>45.2</td>\n",
              "      <td>43.9</td>\n",
              "      <td>42.5</td>\n",
              "      <td>41.7</td>\n",
              "      <td>40.8</td>\n",
              "    </tr>\n",
              "    <tr>\n",
              "      <th>1169</th>\n",
              "      <td>70.0</td>\n",
              "      <td>66.8</td>\n",
              "      <td>60.1</td>\n",
              "      <td>56.1</td>\n",
              "      <td>49.2</td>\n",
              "      <td>45.4</td>\n",
              "      <td>44.3</td>\n",
              "      <td>43.6</td>\n",
              "      <td>43.3</td>\n",
              "      <td>43.0</td>\n",
              "      <td>42.7</td>\n",
              "      <td>42.5</td>\n",
              "    </tr>\n",
              "    <tr>\n",
              "      <th>...</th>\n",
              "      <td>...</td>\n",
              "      <td>...</td>\n",
              "      <td>...</td>\n",
              "      <td>...</td>\n",
              "      <td>...</td>\n",
              "      <td>...</td>\n",
              "      <td>...</td>\n",
              "      <td>...</td>\n",
              "      <td>...</td>\n",
              "      <td>...</td>\n",
              "      <td>...</td>\n",
              "      <td>...</td>\n",
              "    </tr>\n",
              "    <tr>\n",
              "      <th>19031</th>\n",
              "      <td>68.6</td>\n",
              "      <td>66.7</td>\n",
              "      <td>60.3</td>\n",
              "      <td>56.5</td>\n",
              "      <td>50.4</td>\n",
              "      <td>46.1</td>\n",
              "      <td>44.9</td>\n",
              "      <td>44.1</td>\n",
              "      <td>43.8</td>\n",
              "      <td>43.4</td>\n",
              "      <td>43.2</td>\n",
              "      <td>43.0</td>\n",
              "    </tr>\n",
              "    <tr>\n",
              "      <th>12747</th>\n",
              "      <td>72.3</td>\n",
              "      <td>71.2</td>\n",
              "      <td>66.4</td>\n",
              "      <td>63.7</td>\n",
              "      <td>59.8</td>\n",
              "      <td>54.9</td>\n",
              "      <td>49.7</td>\n",
              "      <td>46.0</td>\n",
              "      <td>44.0</td>\n",
              "      <td>41.8</td>\n",
              "      <td>40.8</td>\n",
              "      <td>40.2</td>\n",
              "    </tr>\n",
              "    <tr>\n",
              "      <th>3214</th>\n",
              "      <td>68.9</td>\n",
              "      <td>67.1</td>\n",
              "      <td>62.6</td>\n",
              "      <td>60.5</td>\n",
              "      <td>56.6</td>\n",
              "      <td>51.2</td>\n",
              "      <td>46.2</td>\n",
              "      <td>41.8</td>\n",
              "      <td>39.6</td>\n",
              "      <td>37.7</td>\n",
              "      <td>36.7</td>\n",
              "      <td>36.0</td>\n",
              "    </tr>\n",
              "    <tr>\n",
              "      <th>962</th>\n",
              "      <td>74.4</td>\n",
              "      <td>71.4</td>\n",
              "      <td>64.8</td>\n",
              "      <td>61.4</td>\n",
              "      <td>55.2</td>\n",
              "      <td>49.3</td>\n",
              "      <td>44.2</td>\n",
              "      <td>40.6</td>\n",
              "      <td>38.9</td>\n",
              "      <td>37.4</td>\n",
              "      <td>36.7</td>\n",
              "      <td>36.0</td>\n",
              "    </tr>\n",
              "    <tr>\n",
              "      <th>12327</th>\n",
              "      <td>71.2</td>\n",
              "      <td>69.2</td>\n",
              "      <td>61.9</td>\n",
              "      <td>57.9</td>\n",
              "      <td>53.2</td>\n",
              "      <td>46.3</td>\n",
              "      <td>40.2</td>\n",
              "      <td>37.0</td>\n",
              "      <td>35.7</td>\n",
              "      <td>34.6</td>\n",
              "      <td>34.0</td>\n",
              "      <td>33.5</td>\n",
              "    </tr>\n",
              "  </tbody>\n",
              "</table>\n",
              "<p>4083 rows × 12 columns</p>\n",
              "</div>\n",
              "      <button class=\"colab-df-convert\" onclick=\"convertToInteractive('df-8d522c88-f75a-463e-887a-402ea6164a52')\"\n",
              "              title=\"Convert this dataframe to an interactive table.\"\n",
              "              style=\"display:none;\">\n",
              "        \n",
              "  <svg xmlns=\"http://www.w3.org/2000/svg\" height=\"24px\"viewBox=\"0 0 24 24\"\n",
              "       width=\"24px\">\n",
              "    <path d=\"M0 0h24v24H0V0z\" fill=\"none\"/>\n",
              "    <path d=\"M18.56 5.44l.94 2.06.94-2.06 2.06-.94-2.06-.94-.94-2.06-.94 2.06-2.06.94zm-11 1L8.5 8.5l.94-2.06 2.06-.94-2.06-.94L8.5 2.5l-.94 2.06-2.06.94zm10 10l.94 2.06.94-2.06 2.06-.94-2.06-.94-.94-2.06-.94 2.06-2.06.94z\"/><path d=\"M17.41 7.96l-1.37-1.37c-.4-.4-.92-.59-1.43-.59-.52 0-1.04.2-1.43.59L10.3 9.45l-7.72 7.72c-.78.78-.78 2.05 0 2.83L4 21.41c.39.39.9.59 1.41.59.51 0 1.02-.2 1.41-.59l7.78-7.78 2.81-2.81c.8-.78.8-2.07 0-2.86zM5.41 20L4 18.59l7.72-7.72 1.47 1.35L5.41 20z\"/>\n",
              "  </svg>\n",
              "      </button>\n",
              "      \n",
              "  <style>\n",
              "    .colab-df-container {\n",
              "      display:flex;\n",
              "      flex-wrap:wrap;\n",
              "      gap: 12px;\n",
              "    }\n",
              "\n",
              "    .colab-df-convert {\n",
              "      background-color: #E8F0FE;\n",
              "      border: none;\n",
              "      border-radius: 50%;\n",
              "      cursor: pointer;\n",
              "      display: none;\n",
              "      fill: #1967D2;\n",
              "      height: 32px;\n",
              "      padding: 0 0 0 0;\n",
              "      width: 32px;\n",
              "    }\n",
              "\n",
              "    .colab-df-convert:hover {\n",
              "      background-color: #E2EBFA;\n",
              "      box-shadow: 0px 1px 2px rgba(60, 64, 67, 0.3), 0px 1px 3px 1px rgba(60, 64, 67, 0.15);\n",
              "      fill: #174EA6;\n",
              "    }\n",
              "\n",
              "    [theme=dark] .colab-df-convert {\n",
              "      background-color: #3B4455;\n",
              "      fill: #D2E3FC;\n",
              "    }\n",
              "\n",
              "    [theme=dark] .colab-df-convert:hover {\n",
              "      background-color: #434B5C;\n",
              "      box-shadow: 0px 1px 3px 1px rgba(0, 0, 0, 0.15);\n",
              "      filter: drop-shadow(0px 1px 2px rgba(0, 0, 0, 0.3));\n",
              "      fill: #FFFFFF;\n",
              "    }\n",
              "  </style>\n",
              "\n",
              "      <script>\n",
              "        const buttonEl =\n",
              "          document.querySelector('#df-8d522c88-f75a-463e-887a-402ea6164a52 button.colab-df-convert');\n",
              "        buttonEl.style.display =\n",
              "          google.colab.kernel.accessAllowed ? 'block' : 'none';\n",
              "\n",
              "        async function convertToInteractive(key) {\n",
              "          const element = document.querySelector('#df-8d522c88-f75a-463e-887a-402ea6164a52');\n",
              "          const dataTable =\n",
              "            await google.colab.kernel.invokeFunction('convertToInteractive',\n",
              "                                                     [key], {});\n",
              "          if (!dataTable) return;\n",
              "\n",
              "          const docLinkHtml = 'Like what you see? Visit the ' +\n",
              "            '<a target=\"_blank\" href=https://colab.research.google.com/notebooks/data_table.ipynb>data table notebook</a>'\n",
              "            + ' to learn more about interactive tables.';\n",
              "          element.innerHTML = '';\n",
              "          dataTable['output_type'] = 'display_data';\n",
              "          await google.colab.output.renderOutput(dataTable, element);\n",
              "          const docLink = document.createElement('div');\n",
              "          docLink.innerHTML = docLinkHtml;\n",
              "          element.appendChild(docLink);\n",
              "        }\n",
              "      </script>\n",
              "    </div>\n",
              "  </div>\n",
              "  "
            ],
            "text/plain": [
              "       laf005_per_hour  laf01_per_hour  laf05_per_hour  laf10_per_hour  \\\n",
              "17150             74.3            72.9            67.4            65.3   \n",
              "5955              74.1            72.8            67.6            64.5   \n",
              "18026             69.2            66.7            61.5            59.1   \n",
              "5524              72.6            70.3            64.0            61.5   \n",
              "1169              70.0            66.8            60.1            56.1   \n",
              "...                ...             ...             ...             ...   \n",
              "19031             68.6            66.7            60.3            56.5   \n",
              "12747             72.3            71.2            66.4            63.7   \n",
              "3214              68.9            67.1            62.6            60.5   \n",
              "962               74.4            71.4            64.8            61.4   \n",
              "12327             71.2            69.2            61.9            57.9   \n",
              "\n",
              "       laf25_per_hour  laf50_per_hour  laf75_per_hour  laf90_per_hour  \\\n",
              "17150            61.1            55.1            49.9            47.2   \n",
              "5955             59.0            54.2            50.8            48.2   \n",
              "18026            54.6            49.5            46.7            45.4   \n",
              "5524             56.8            51.7            47.9            45.2   \n",
              "1169             49.2            45.4            44.3            43.6   \n",
              "...               ...             ...             ...             ...   \n",
              "19031            50.4            46.1            44.9            44.1   \n",
              "12747            59.8            54.9            49.7            46.0   \n",
              "3214             56.6            51.2            46.2            41.8   \n",
              "962              55.2            49.3            44.2            40.6   \n",
              "12327            53.2            46.3            40.2            37.0   \n",
              "\n",
              "       laf95_per_hour  laf98_per_hour  laf99_per_hour  laf995_per_hour  \n",
              "17150            46.3            45.7            45.4             45.2  \n",
              "5955             46.8            45.6            44.7             43.8  \n",
              "18026            44.9            44.4            44.1             43.9  \n",
              "5524             43.9            42.5            41.7             40.8  \n",
              "1169             43.3            43.0            42.7             42.5  \n",
              "...               ...             ...             ...              ...  \n",
              "19031            43.8            43.4            43.2             43.0  \n",
              "12747            44.0            41.8            40.8             40.2  \n",
              "3214             39.6            37.7            36.7             36.0  \n",
              "962              38.9            37.4            36.7             36.0  \n",
              "12327            35.7            34.6            34.0             33.5  \n",
              "\n",
              "[4083 rows x 12 columns]"
            ]
          },
          "execution_count": 81,
          "metadata": {},
          "output_type": "execute_result"
        }
      ],
      "source": [
        "y_val.loc[y_val.laf75_per_hour < y_val.laf25_per_hour]"
      ]
    }
  ],
  "metadata": {
    "colab": {
      "provenance": []
    },
    "kernelspec": {
      "display_name": "Python 3",
      "name": "python3"
    },
    "language_info": {
      "codemirror_mode": {
        "name": "ipython",
        "version": 3
      },
      "file_extension": ".py",
      "mimetype": "text/x-python",
      "name": "python",
      "nbconvert_exporter": "python",
      "pygments_lexer": "ipython3",
      "version": "3.9.1"
    }
  },
  "nbformat": 4,
  "nbformat_minor": 0
}
