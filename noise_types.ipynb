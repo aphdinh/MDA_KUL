{
 "cells": [
  {
   "cell_type": "code",
   "execution_count": 5,
   "metadata": {},
   "outputs": [],
   "source": [
    "import pandas as pd"
   ]
  },
  {
   "attachments": {},
   "cell_type": "markdown",
   "metadata": {},
   "source": [
    "## Data Processing"
   ]
  },
  {
   "cell_type": "code",
   "execution_count": 61,
   "metadata": {},
   "outputs": [
    {
     "data": {
      "text/plain": [
       "Index(['time', 'temperature_2m', 'relativehumidity_2m', 'dewpoint_2m',\n",
       "       'apparent_temperature', 'pressure_msl', 'surface_pressure',\n",
       "       'precipitation', 'rain', 'snowfall', 'weathercode', 'cloudcover',\n",
       "       'cloudcover_low', 'cloudcover_mid', 'cloudcover_high',\n",
       "       'shortwave_radiation', 'direct_radiation', 'diffuse_radiation',\n",
       "       'direct_normal_irradiance', 'windspeed_10m', 'winddirection_10m',\n",
       "       'windgusts_10m', 'date', 'hour', 'month', 'weekday', 'dt', 'pm2_5',\n",
       "       'pm10', 'co', 'no2', 'o3', 'so2', 'nh3', 'object_id', 'laf005_per_hour',\n",
       "       'laf01_per_hour', 'laf05_per_hour', 'laf10_per_hour', 'laf25_per_hour',\n",
       "       'laf50_per_hour', 'laf75_per_hour', 'laf90_per_hour', 'laf95_per_hour',\n",
       "       'laf98_per_hour', 'laf99_per_hour', 'laf995_per_hour', 'HM_voice_shout',\n",
       "       'HM_voice_sing', 'MS_non_amplified', 'NE_wind', 'TR_passenger_car',\n",
       "       'TR_siren'],\n",
       "      dtype='object')"
      ]
     },
     "execution_count": 61,
     "metadata": {},
     "output_type": "execute_result"
    }
   ],
   "source": [
    "### Merge data sets into one feature matrix\n",
    "\n",
    "air_data = pd.read_csv(\"data/processed_air_quality_data\")\n",
    "weather_data = pd.read_csv(\"data/processed_weather_data_leuven\")\n",
    "noise_data = pd.read_csv(\"model/data_model.csv\")\n",
    "\n",
    "# Dropping unncessary columns\n",
    "weather_data = weather_data.drop(\"Unnamed: 0\", axis=1)\n",
    "air_data = air_data.drop(\"Unnamed: 0\", axis=1)\n",
    "## Dropping old meteo data\n",
    "noise_data = noise_data.drop(['Month', 'Hour', 'LC_HUMIDITY', 'LC_DWPTEMP', 'LC_n',\n",
    "       'LC_RAD', 'LC_RAININ', 'LC_DAILYRAIN', 'LC_WINDDIR', 'LC_WINDSPEED',\n",
    "       'LC_RAD60', 'LC_TEMP_QCL0', 'LC_TEMP_QCL1', 'LC_TEMP_QCL2',\n",
    "       'LC_TEMP_QCL3'], axis = 1) \n",
    "\n",
    "full_df = weather_data.merge(air_data, on=[\"date\",\"hour\",\"month\",\"weekday\"])\n",
    "full_df = full_df.merge(noise_data, on=[\"date\",\"hour\",\"month\",\"weekday\"])\n",
    "\n",
    "full_df.columns\n"
   ]
  },
  {
   "cell_type": "code",
   "execution_count": null,
   "metadata": {},
   "outputs": [],
   "source": [
    "### Splitting into target_matrix and feature_matrix, train_set and test_set \n",
    "from sklearn.model_selection import train_test_split\n",
    "targets = full_df[['HM_voice_shout','HM_voice_sing', 'MS_non_amplified', 'NE_wind', \n",
    "                   'TR_passenger_car', 'TR_siren']]"
   ]
  }
 ],
 "metadata": {
  "kernelspec": {
   "display_name": "Python 3",
   "language": "python",
   "name": "python3"
  },
  "language_info": {
   "codemirror_mode": {
    "name": "ipython",
    "version": 3
   },
   "file_extension": ".py",
   "mimetype": "text/x-python",
   "name": "python",
   "nbconvert_exporter": "python",
   "pygments_lexer": "ipython3",
   "version": "3.9.1"
  },
  "orig_nbformat": 4
 },
 "nbformat": 4,
 "nbformat_minor": 2
}
